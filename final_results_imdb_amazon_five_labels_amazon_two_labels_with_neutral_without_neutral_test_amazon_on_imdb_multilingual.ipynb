{
  "cells": [
    {
      "cell_type": "code",
      "execution_count": null,
      "metadata": {
        "execution": {
          "iopub.execute_input": "2023-08-09T19:24:27.063678Z",
          "iopub.status.busy": "2023-08-09T19:24:27.062981Z",
          "iopub.status.idle": "2023-08-09T19:24:50.855431Z",
          "shell.execute_reply": "2023-08-09T19:24:50.854031Z",
          "shell.execute_reply.started": "2023-08-09T19:24:27.063643Z"
        },
        "id": "JEolPXIzuIIw",
        "trusted": true
      },
      "outputs": [],
      "source": [
        "!pip install --q transformers\n",
        "!pip install --q evaluate\n",
        "!pip install --q accelerate\n",
        "!pip install --q transformers[torch]"
      ]
    },
    {
      "cell_type": "code",
      "execution_count": null,
      "metadata": {
        "_cell_guid": "b1076dfc-b9ad-4769-8c92-a6c4dae69d19",
        "_uuid": "8f2839f25d086af736a60e9eeb907d3b93b6e0e5",
        "execution": {
          "iopub.execute_input": "2023-08-09T19:24:50.860077Z",
          "iopub.status.busy": "2023-08-09T19:24:50.859753Z",
          "iopub.status.idle": "2023-08-09T19:25:07.079454Z",
          "shell.execute_reply": "2023-08-09T19:25:07.078476Z",
          "shell.execute_reply.started": "2023-08-09T19:24:50.860048Z"
        },
        "id": "-oft7D9luIIx",
        "outputId": "aa99f71b-6901-4ee3-a565-adf363082196",
        "trusted": true
      },
      "outputs": [
        {
          "name": "stderr",
          "output_type": "stream",
          "text": [
            "/opt/conda/lib/python3.10/site-packages/scipy/__init__.py:146: UserWarning: A NumPy version >=1.16.5 and <1.23.0 is required for this version of SciPy (detected version 1.23.5\n",
            "  warnings.warn(f\"A NumPy version >={np_minversion} and <{np_maxversion}\"\n",
            "/opt/conda/lib/python3.10/site-packages/tensorflow_io/python/ops/__init__.py:98: UserWarning: unable to load libtensorflow_io_plugins.so: unable to open file: libtensorflow_io_plugins.so, from paths: ['/opt/conda/lib/python3.10/site-packages/tensorflow_io/python/ops/libtensorflow_io_plugins.so']\n",
            "caused by: ['/opt/conda/lib/python3.10/site-packages/tensorflow_io/python/ops/libtensorflow_io_plugins.so: undefined symbol: _ZN3tsl6StatusC1EN10tensorflow5error4CodeESt17basic_string_viewIcSt11char_traitsIcEENS_14SourceLocationE']\n",
            "  warnings.warn(f\"unable to load libtensorflow_io_plugins.so: {e}\")\n",
            "/opt/conda/lib/python3.10/site-packages/tensorflow_io/python/ops/__init__.py:104: UserWarning: file system plugins are not loaded: unable to open file: libtensorflow_io.so, from paths: ['/opt/conda/lib/python3.10/site-packages/tensorflow_io/python/ops/libtensorflow_io.so']\n",
            "caused by: ['/opt/conda/lib/python3.10/site-packages/tensorflow_io/python/ops/libtensorflow_io.so: undefined symbol: _ZTVN10tensorflow13GcsFileSystemE']\n",
            "  warnings.warn(f\"file system plugins are not loaded: {e}\")\n"
          ]
        }
      ],
      "source": [
        "import numpy as np # linear algebra\n",
        "import pandas as pd # data processing, CSV file I/O (e.g. pd.read_csv)\n",
        "import random\n",
        "import gensim\n",
        "import gensim.downloader\n",
        "from gensim.models import KeyedVectors\n",
        "import matplotlib.pyplot as plt\n",
        "from tqdm import tqdm\n",
        "from tabulate import tabulate\n",
        "\n",
        "#pytorch\n",
        "import torch\n",
        "import torch.nn as nn\n",
        "from torch.optim import Adam\n",
        "from torch.optim import AdamW\n",
        "\n",
        "#tf model\n",
        "import tensorflow_hub as hub\n",
        "\n",
        "#misc\n",
        "import datasets\n",
        "import evaluate\n",
        "from transformers import TrainingArguments, Trainer\n",
        "\n",
        "#transformers\n",
        "from transformers import BertForSequenceClassification, AutoModelForSeq2SeqLM, AutoTokenizer, AutoConfig, BertModel, XLNetForSequenceClassification,YosoForSequenceClassification\n",
        "\n",
        "\n",
        "#sklearn\n",
        "from sklearn.metrics import classification_report, confusion_matrix"
      ]
    },
    {
      "cell_type": "code",
      "execution_count": null,
      "metadata": {
        "execution": {
          "iopub.execute_input": "2023-08-09T19:25:07.083117Z",
          "iopub.status.busy": "2023-08-09T19:25:07.080728Z",
          "iopub.status.idle": "2023-08-09T19:25:07.119282Z",
          "shell.execute_reply": "2023-08-09T19:25:07.118117Z",
          "shell.execute_reply.started": "2023-08-09T19:25:07.083080Z"
        },
        "id": "CGPwjpjIuIIy",
        "outputId": "2e91deb9-4f53-4b86-cfc1-225c73d07d69",
        "trusted": true
      },
      "outputs": [
        {
          "data": {
            "text/plain": [
              "device(type='cuda')"
            ]
          },
          "execution_count": 7,
          "metadata": {},
          "output_type": "execute_result"
        }
      ],
      "source": [
        "DEVICE = torch.device(\"cuda\" if torch.cuda.is_available() else \"cpu\")\n",
        "DEVICE"
      ]
    },
    {
      "cell_type": "markdown",
      "metadata": {
        "id": "kwWq8FRwuII3"
      },
      "source": [
        "**Data Preparation**"
      ]
    },
    {
      "cell_type": "code",
      "execution_count": 3,
      "metadata": {
        "colab": {
          "base_uri": "https://localhost:8080/"
        },
        "id": "egCSaS0y9y3a",
        "outputId": "649f64d5-c23e-4284-b804-b29ed5de256e"
      },
      "outputs": [
        {
          "name": "stdout",
          "output_type": "stream",
          "text": [
            "--2023-08-16 10:53:37--  https://drive.google.com/uc?export=download&id=1MO1EYtIeCsJliaeCxrkqrIWKsowsd3X8&confirm=t&uuid=70bad3da-836c-43dd-90bc-c21da0dfb131&at=AB6BwCAx5FEYhB_nNxz511oJwkhT:1692183100774\n",
            "Resolving drive.google.com (drive.google.com)... 172.217.219.100, 172.217.219.113, 172.217.219.101, ...\n",
            "Connecting to drive.google.com (drive.google.com)|172.217.219.100|:443... connected.\n",
            "HTTP request sent, awaiting response... 303 See Other\n",
            "Location: https://doc-14-0g-docs.googleusercontent.com/docs/securesc/ha0ro937gcuc7l7deffksulhg5h7mbp1/fh2p171qci8rbr449ak7vk6bpsqg8o2g/1692183150000/16787182300288898320/*/1MO1EYtIeCsJliaeCxrkqrIWKsowsd3X8?e=download&uuid=70bad3da-836c-43dd-90bc-c21da0dfb131 [following]\n",
            "Warning: wildcards not supported in HTTP.\n",
            "--2023-08-16 10:53:37--  https://doc-14-0g-docs.googleusercontent.com/docs/securesc/ha0ro937gcuc7l7deffksulhg5h7mbp1/fh2p171qci8rbr449ak7vk6bpsqg8o2g/1692183150000/16787182300288898320/*/1MO1EYtIeCsJliaeCxrkqrIWKsowsd3X8?e=download&uuid=70bad3da-836c-43dd-90bc-c21da0dfb131\n",
            "Resolving doc-14-0g-docs.googleusercontent.com (doc-14-0g-docs.googleusercontent.com)... 74.125.126.132, 2607:f8b0:4001:c1d::84\n",
            "Connecting to doc-14-0g-docs.googleusercontent.com (doc-14-0g-docs.googleusercontent.com)|74.125.126.132|:443... connected.\n",
            "HTTP request sent, awaiting response... 200 OK\n",
            "Length: 138374267 (132M) [application/x-zip-compressed]\n",
            "Saving to: ‘amazon.zip’\n",
            "\n",
            "amazon.zip          100%[===================>] 131.96M   162MB/s    in 0.8s    \n",
            "\n",
            "2023-08-16 10:53:38 (162 MB/s) - ‘amazon.zip’ saved [138374267/138374267]\n",
            "\n"
          ]
        }
      ],
      "source": [
        "!wget -O \"amazon.zip\" \"https://drive.google.com/uc?export=download&id=1MO1EYtIeCsJliaeCxrkqrIWKsowsd3X8&confirm=t&uuid=70bad3da-836c-43dd-90bc-c21da0dfb131&at=AB6BwCAx5FEYhB_nNxz511oJwkhT:1692183100774\""
      ]
    },
    {
      "cell_type": "code",
      "execution_count": 4,
      "metadata": {
        "colab": {
          "base_uri": "https://localhost:8080/"
        },
        "id": "iMWVhdoo-uIh",
        "outputId": "7ff544c4-e143-4b25-cae1-9e552c74f0a9"
      },
      "outputs": [
        {
          "name": "stdout",
          "output_type": "stream",
          "text": [
            "Archive:  amazon.zip\n",
            "  inflating: test.csv                \n",
            "  inflating: train.csv               \n",
            "  inflating: validation.csv          \n",
            "  inflating: amazon_translated_body_and_title_with_originals.csv  \n",
            "  inflating: amazon_translated_body_and_title_with_originals_all_stars.csv  \n"
          ]
        }
      ],
      "source": [
        "!unzip \"amazon.zip\""
      ]
    },
    {
      "cell_type": "code",
      "execution_count": null,
      "metadata": {
        "execution": {
          "iopub.execute_input": "2023-08-09T19:25:07.142107Z",
          "iopub.status.busy": "2023-08-09T19:25:07.141698Z",
          "iopub.status.idle": "2023-08-09T19:25:07.154643Z",
          "shell.execute_reply": "2023-08-09T19:25:07.153687Z",
          "shell.execute_reply.started": "2023-08-09T19:25:07.142075Z"
        },
        "id": "xXWYwGkSuII3",
        "trusted": true
      },
      "outputs": [],
      "source": [
        "SEED = 111\n",
        "\n",
        "# Set the random seed for Python to SEED\n",
        "random.seed(SEED)\n",
        "\n",
        "# Set the random seed for numpy to SEED\n",
        "np.random.seed(SEED)\n",
        "\n",
        "# Set the random seed for torch to SEED\n",
        "torch.manual_seed(SEED)\n",
        "torch.cuda.manual_seed_all(SEED)"
      ]
    },
    {
      "cell_type": "code",
      "execution_count": null,
      "metadata": {
        "execution": {
          "iopub.execute_input": "2023-08-09T19:25:07.158088Z",
          "iopub.status.busy": "2023-08-09T19:25:07.157541Z",
          "iopub.status.idle": "2023-08-09T19:25:07.165328Z",
          "shell.execute_reply": "2023-08-09T19:25:07.164284Z",
          "shell.execute_reply.started": "2023-08-09T19:25:07.158055Z"
        },
        "id": "x_nVIrGOuII3",
        "trusted": true
      },
      "outputs": [],
      "source": [
        "def prepareData(sentences, labels, tokenizer, max_length=256, batch_size=32):\n",
        "    encoded_inputs = tokenizer(list(sentences), padding='max_length', truncation=True, max_length=max_length, return_tensors='pt')\n",
        "    input_ids = encoded_inputs['input_ids']\n",
        "    attention_mask = encoded_inputs['attention_mask']\n",
        "    dataset = torch.utils.data.TensorDataset(input_ids, attention_mask, torch.tensor(labels))\n",
        "    dataLoader = torch.utils.data.DataLoader(dataset, batch_size=batch_size, shuffle=True)\n",
        "    return dataLoader"
      ]
    },
    {
      "cell_type": "code",
      "execution_count": null,
      "metadata": {
        "execution": {
          "iopub.execute_input": "2023-08-09T19:25:07.167159Z",
          "iopub.status.busy": "2023-08-09T19:25:07.166744Z",
          "iopub.status.idle": "2023-08-09T19:25:07.178101Z",
          "shell.execute_reply": "2023-08-09T19:25:07.177035Z",
          "shell.execute_reply.started": "2023-08-09T19:25:07.167128Z"
        },
        "id": "1blkdgRvuII3",
        "trusted": true
      },
      "outputs": [],
      "source": [
        "def prepareDataTruncation(sentences, labels, tokenizer, N, M, max_length=256, batch_size=32):\n",
        "    tokenized_inputs = [tokenizer.tokenize(sentences[i]) for i in range(len(list(sentences)))]\n",
        "    for i in range(len(tokenized_inputs)):\n",
        "        if len(tokenized_inputs[i]) > max_length:\n",
        "            tokenized_inputs[i] = tokenized_inputs[i][:N] + tokenized_inputs[i][-M:]\n",
        "        tokenized_inputs[i] = tokenizer.convert_tokens_to_string(tokenized_inputs[i])\n",
        "    return prepareData(tokenized_inputs, labels, tokenizer, max_length=max_length, batch_size=batch_size)"
      ]
    },
    {
      "cell_type": "markdown",
      "metadata": {
        "id": "zCXG625quII3"
      },
      "source": [
        "**IMDB Dataset Training**"
      ]
    },
    {
      "cell_type": "markdown",
      "metadata": {
        "id": "8mkG9r-YuII4"
      },
      "source": [
        "**Dataset Evaluation**"
      ]
    },
    {
      "cell_type": "code",
      "execution_count": null,
      "metadata": {
        "execution": {
          "iopub.execute_input": "2023-08-09T19:25:07.181757Z",
          "iopub.status.busy": "2023-08-09T19:25:07.181325Z",
          "iopub.status.idle": "2023-08-09T19:25:07.189005Z",
          "shell.execute_reply": "2023-08-09T19:25:07.188090Z",
          "shell.execute_reply.started": "2023-08-09T19:25:07.181725Z"
        },
        "id": "zMLGBJbOuII4",
        "trusted": true
      },
      "outputs": [],
      "source": [
        "def compute_metrics(eval_pred):\n",
        "    logits, labels = eval_pred\n",
        "    predictions = np.argmax(logits, axis=-1)\n",
        "    return metric.compute(predictions=predictions, references=labels)"
      ]
    },
    {
      "cell_type": "code",
      "execution_count": null,
      "metadata": {
        "execution": {
          "iopub.execute_input": "2023-08-09T19:25:07.194986Z",
          "iopub.status.busy": "2023-08-09T19:25:07.194717Z",
          "iopub.status.idle": "2023-08-09T19:25:07.202651Z",
          "shell.execute_reply": "2023-08-09T19:25:07.201534Z",
          "shell.execute_reply.started": "2023-08-09T19:25:07.194963Z"
        },
        "id": "Znhxu9Y6uII4",
        "trusted": true
      },
      "outputs": [],
      "source": [
        "def tokenize_function(examples):\n",
        "    tokenized_inputs = [tokenizer.tokenize(examples[reviewType][i]) for i in range(len(list(examples[reviewType])))]\n",
        "    for i in range(len(tokenized_inputs)):\n",
        "        if len(tokenized_inputs[i]) > N+M:\n",
        "            tokenized_inputs[i] = tokenized_inputs[i][:N] + tokenized_inputs[i][-M:]\n",
        "        tokenized_inputs[i] = tokenizer.convert_tokens_to_string(tokenized_inputs[i])\n",
        "    tokenized_inputs = tokenizer(tokenized_inputs,padding=\"max_length\", truncation=True, max_length=N+M)\n",
        "    return tokenized_inputs"
      ]
    },
    {
      "cell_type": "code",
      "execution_count": null,
      "metadata": {
        "execution": {
          "iopub.execute_input": "2023-08-09T19:25:07.204599Z",
          "iopub.status.busy": "2023-08-09T19:25:07.204059Z",
          "iopub.status.idle": "2023-08-09T19:25:07.213817Z",
          "shell.execute_reply": "2023-08-09T19:25:07.212885Z",
          "shell.execute_reply.started": "2023-08-09T19:25:07.204565Z"
        },
        "id": "V-zfWHzCuII4",
        "trusted": true
      },
      "outputs": [],
      "source": [
        "def print_using_tabulate(data):\n",
        "    table_data = []\n",
        "    for key, values in data.items():\n",
        "        if key != 'macro avg' and key != 'weighted avg':\n",
        "            if isinstance(values, dict):\n",
        "                row = [key, values['precision'], values['recall'], values['f1-score'], values['support']]\n",
        "                table_data.append(row)\n",
        "\n",
        "    # Print the classification report using tabulate\n",
        "    headers = ['Class', 'Precision', 'Recall', 'F1-Score', 'Support']\n",
        "    m_table = tabulate(table_data, headers=headers, tablefmt='psql',floatfmt=\".4f\")\n",
        "    print(m_table)"
      ]
    },
    {
      "cell_type": "code",
      "execution_count": null,
      "metadata": {
        "execution": {
          "iopub.execute_input": "2023-08-09T19:25:07.215688Z",
          "iopub.status.busy": "2023-08-09T19:25:07.215209Z",
          "iopub.status.idle": "2023-08-09T19:25:07.225604Z",
          "shell.execute_reply": "2023-08-09T19:25:07.224853Z",
          "shell.execute_reply.started": "2023-08-09T19:25:07.215656Z"
        },
        "id": "_oSxzt5XuII4",
        "trusted": true
      },
      "outputs": [],
      "source": [
        "def evaluateModel(model, test_data, target_names):\n",
        "    classificationReports = []\n",
        "    model.eval()\n",
        "    np_predictions = []\n",
        "    np_y_eval = []\n",
        "    for batch in test_data:\n",
        "        input_ids, attention_mask, labels = batch\n",
        "        input_ids = input_ids.to(DEVICE)\n",
        "        attention_mask = attention_mask.to(DEVICE)\n",
        "        predictions = model(input_ids=input_ids, attention_mask=attention_mask)\n",
        "        _, outclass_predictions = torch.max(predictions.logits, 1)\n",
        "        np_predictions.extend(outclass_predictions.cpu().numpy())\n",
        "        np_y_eval.extend(labels.cpu().numpy())\n",
        "    np_predictions = np.array(np_predictions)\n",
        "    np_y_eval = np.array(np_y_eval)\n",
        "    classificationReports = classification_report(np_y_eval, np_predictions, target_names=target_names, output_dict=True)\n",
        "    # Confusion matrix for each label\n",
        "    return classificationReports"
      ]
    },
    {
      "cell_type": "code",
      "execution_count": null,
      "metadata": {
        "execution": {
          "iopub.execute_input": "2023-08-09T19:25:07.228944Z",
          "iopub.status.busy": "2023-08-09T19:25:07.226544Z",
          "iopub.status.idle": "2023-08-09T19:25:07.236551Z",
          "shell.execute_reply": "2023-08-09T19:25:07.235648Z",
          "shell.execute_reply.started": "2023-08-09T19:25:07.228917Z"
        },
        "id": "0hC7dzY2uII4",
        "trusted": true
      },
      "outputs": [],
      "source": [
        "def train(model, training_args, dataset, numOfExamples, imdbOrAmazon=\"imdb\"):\n",
        "    tokenized_datasets = dataset.map(tokenize_function, batched=True)\n",
        "    small_train_dataset = tokenized_datasets[\"train\"].shuffle(seed=SEED).select(range(numOfExamples))\n",
        "    if imdbOrAmazon == \"imdb\":\n",
        "        trainer = Trainer(\n",
        "        model=model,\n",
        "        args=training_args,\n",
        "        train_dataset=small_train_dataset,\n",
        "        eval_dataset=tokenized_datasets['test'],\n",
        "        compute_metrics=compute_metrics,\n",
        "        )\n",
        "    else:\n",
        "        trainer = Trainer(\n",
        "        model=model,\n",
        "        args=training_args,\n",
        "        train_dataset=small_train_dataset,\n",
        "        eval_dataset=tokenized_datasets['validation'],\n",
        "        compute_metrics=compute_metrics,\n",
        "        )\n",
        "    trainer.train()"
      ]
    },
    {
      "cell_type": "code",
      "execution_count": null,
      "metadata": {
        "execution": {
          "iopub.execute_input": "2023-08-09T19:25:07.238683Z",
          "iopub.status.busy": "2023-08-09T19:25:07.237889Z",
          "iopub.status.idle": "2023-08-09T19:25:07.250419Z",
          "shell.execute_reply": "2023-08-09T19:25:07.249434Z",
          "shell.execute_reply.started": "2023-08-09T19:25:07.238648Z"
        },
        "id": "oOwu7V5NuII4",
        "trusted": true
      },
      "outputs": [],
      "source": [
        "def evaluateTranslatedTestSetAndRegularTestSet(model, tokenizer, dataset, translatedDataset, targetNames, addedText, batch_size=8):\n",
        "    tranlsatedTestSetTrunc = prepareDataTruncation(translatedDataset['translated_body'], translatedDataset['labels'], tokenizer, N, M, max_length=N+M, batch_size=batch_size)\n",
        "    classificationReports = evaluateModel(model, tranlsatedTestSetTrunc, targetNames)\n",
        "    print(f\"\\033[1m{addedText}\\033[0m\")\n",
        "    print(\"Classification Report Translated Test Set\")\n",
        "    print_using_tabulate(classificationReports)\n",
        "    testSet = prepareDataTruncation(dataset['test'][reviewType], dataset['test']['labels'], tokenizer, N, M, max_length=N+M, batch_size=batch_size)\n",
        "    print(\"Classification Report Test Set\")\n",
        "    classificationReports = evaluateModel(model, testSet, targetNames)\n",
        "    print_using_tabulate(classificationReports)"
      ]
    },
    {
      "cell_type": "markdown",
      "metadata": {
        "id": "UoVEgKltuII4"
      },
      "source": [
        "**IMDB Dataset Start & End Only Trial**"
      ]
    },
    {
      "cell_type": "markdown",
      "metadata": {
        "id": "QQwGykMuuII4"
      },
      "source": [
        "Logically, when looking at reviews, most likely the sentiment will be at the start or the end (or both) of the review and the more in-depth details of the product/movie/etc will be in the middle.\n",
        "Ideally, we would have liked to process all the review, mark N start tokens with \"start_token ... \\start_token\" and mark M end tokens with \"end_token ... \\end_token\".\n",
        "Then, train bert while pooling out these indices from the last hidden layer. Then, through K fully connected layers, normalization, dropout, etc ...  and finally a classifier.\n",
        "This operation will be too expensive, practically infeasible in our case due to limited resources and very long reviews.\n",
        "Therefore, what we will do instead is preprocess the dataset such that the first N tokens are concatenated to the last M tokens to form a new review with the same sentiment as before."
      ]
    },
    {
      "cell_type": "code",
      "execution_count": null,
      "metadata": {
        "execution": {
          "iopub.execute_input": "2023-08-09T19:25:07.254423Z",
          "iopub.status.busy": "2023-08-09T19:25:07.253034Z",
          "iopub.status.idle": "2023-08-09T19:25:07.262264Z",
          "shell.execute_reply": "2023-08-09T19:25:07.260992Z",
          "shell.execute_reply.started": "2023-08-09T19:25:07.254389Z"
        },
        "id": "8L8SAMVluII_",
        "trusted": true
      },
      "outputs": [],
      "source": [
        "saveStrategy = \"no\"\n",
        "targetNames = ['negative', 'positive']"
      ]
    },
    {
      "cell_type": "code",
      "execution_count": null,
      "metadata": {
        "execution": {
          "iopub.execute_input": "2023-08-09T19:25:07.274491Z",
          "iopub.status.busy": "2023-08-09T19:25:07.273712Z",
          "iopub.status.idle": "2023-08-09T19:25:07.457372Z",
          "shell.execute_reply": "2023-08-09T19:25:07.456463Z",
          "shell.execute_reply.started": "2023-08-09T19:25:07.274457Z"
        },
        "id": "7cQAAXAauII_",
        "outputId": "e034dfe3-f21a-4667-9aea-9bdb31699417",
        "trusted": true
      },
      "outputs": [
        {
          "data": {
            "text/html": [
              "<div>\n",
              "<style scoped>\n",
              "    .dataframe tbody tr th:only-of-type {\n",
              "        vertical-align: middle;\n",
              "    }\n",
              "\n",
              "    .dataframe tbody tr th {\n",
              "        vertical-align: top;\n",
              "    }\n",
              "\n",
              "    .dataframe thead th {\n",
              "        text-align: right;\n",
              "    }\n",
              "</style>\n",
              "<table border=\"1\" class=\"dataframe\">\n",
              "  <thead>\n",
              "    <tr style=\"text-align: right;\">\n",
              "      <th></th>\n",
              "      <th>Unnamed: 0</th>\n",
              "      <th>stars</th>\n",
              "      <th>review_body</th>\n",
              "      <th>review_title</th>\n",
              "      <th>language</th>\n",
              "      <th>translated_title</th>\n",
              "      <th>translated_body</th>\n",
              "    </tr>\n",
              "  </thead>\n",
              "  <tbody>\n",
              "    <tr>\n",
              "      <th>0</th>\n",
              "      <td>0</td>\n",
              "      <td>0</td>\n",
              "      <td>Leider, leider nach einmal waschen ausgebliche...</td>\n",
              "      <td>Leider nicht zu empfehlen</td>\n",
              "      <td>de</td>\n",
              "      <td>Unfortunately not recommended</td>\n",
              "      <td>Unfortunately, unfortunately faded after one w...</td>\n",
              "    </tr>\n",
              "    <tr>\n",
              "      <th>1</th>\n",
              "      <td>1</td>\n",
              "      <td>0</td>\n",
              "      <td>zunächst macht der Anker Halter einen soliden ...</td>\n",
              "      <td>Gummierung nach 6 Monaten kaputt</td>\n",
              "      <td>de</td>\n",
              "      <td>Rubber broken after 6 months</td>\n",
              "      <td>first of all, the anchor holder makes a solid ...</td>\n",
              "    </tr>\n",
              "    <tr>\n",
              "      <th>2</th>\n",
              "      <td>2</td>\n",
              "      <td>0</td>\n",
              "      <td>Siegel sowie Verpackung war beschädigt und war...</td>\n",
              "      <td>Flohmarkt ware</td>\n",
              "      <td>de</td>\n",
              "      <td>flea market goods</td>\n",
              "      <td>Seal and packaging was damaged and item was us...</td>\n",
              "    </tr>\n",
              "    <tr>\n",
              "      <th>3</th>\n",
              "      <td>3</td>\n",
              "      <td>0</td>\n",
              "      <td>Habe dieses Produkt NIE erhalten und das Geld ...</td>\n",
              "      <td>Katastrophe</td>\n",
              "      <td>de</td>\n",
              "      <td>catastrophe</td>\n",
              "      <td>NEVER received this product and the money was ...</td>\n",
              "    </tr>\n",
              "    <tr>\n",
              "      <th>4</th>\n",
              "      <td>4</td>\n",
              "      <td>0</td>\n",
              "      <td>Die Träger sind schnell abgerissen</td>\n",
              "      <td>Reißverschluss klemmt</td>\n",
              "      <td>de</td>\n",
              "      <td>Zipper is stuck</td>\n",
              "      <td>The straps ripped off quickly</td>\n",
              "    </tr>\n",
              "  </tbody>\n",
              "</table>\n",
              "</div>"
            ],
            "text/plain": [
              "   Unnamed: 0  stars                                        review_body  \\\n",
              "0           0      0  Leider, leider nach einmal waschen ausgebliche...   \n",
              "1           1      0  zunächst macht der Anker Halter einen soliden ...   \n",
              "2           2      0  Siegel sowie Verpackung war beschädigt und war...   \n",
              "3           3      0  Habe dieses Produkt NIE erhalten und das Geld ...   \n",
              "4           4      0                 Die Träger sind schnell abgerissen   \n",
              "\n",
              "                       review_title language               translated_title  \\\n",
              "0         Leider nicht zu empfehlen       de  Unfortunately not recommended   \n",
              "1  Gummierung nach 6 Monaten kaputt       de   Rubber broken after 6 months   \n",
              "2                    Flohmarkt ware       de              flea market goods   \n",
              "3                       Katastrophe       de                    catastrophe   \n",
              "4             Reißverschluss klemmt       de                Zipper is stuck   \n",
              "\n",
              "                                     translated_body  \n",
              "0  Unfortunately, unfortunately faded after one w...  \n",
              "1  first of all, the anchor holder makes a solid ...  \n",
              "2  Seal and packaging was damaged and item was us...  \n",
              "3  NEVER received this product and the money was ...  \n",
              "4                      The straps ripped off quickly  "
            ]
          },
          "execution_count": 21,
          "metadata": {},
          "output_type": "execute_result"
        }
      ],
      "source": [
        "translatedTestSet = pd.read_csv('amazon_translated_body_and_title_with_originals.csv')\n",
        "translatedTestSet.head(5)"
      ]
    },
    {
      "cell_type": "code",
      "execution_count": null,
      "metadata": {
        "execution": {
          "iopub.execute_input": "2023-08-09T19:25:07.459170Z",
          "iopub.status.busy": "2023-08-09T19:25:07.458714Z",
          "iopub.status.idle": "2023-08-09T19:25:07.476891Z",
          "shell.execute_reply": "2023-08-09T19:25:07.475715Z",
          "shell.execute_reply.started": "2023-08-09T19:25:07.459132Z"
        },
        "id": "a6wNDcTnuIJA",
        "outputId": "9eb0002a-9c77-4aca-de7c-90ab2c88a908",
        "trusted": true
      },
      "outputs": [
        {
          "data": {
            "text/html": [
              "<div>\n",
              "<style scoped>\n",
              "    .dataframe tbody tr th:only-of-type {\n",
              "        vertical-align: middle;\n",
              "    }\n",
              "\n",
              "    .dataframe tbody tr th {\n",
              "        vertical-align: top;\n",
              "    }\n",
              "\n",
              "    .dataframe thead th {\n",
              "        text-align: right;\n",
              "    }\n",
              "</style>\n",
              "<table border=\"1\" class=\"dataframe\">\n",
              "  <thead>\n",
              "    <tr style=\"text-align: right;\">\n",
              "      <th></th>\n",
              "      <th>labels</th>\n",
              "      <th>review_body</th>\n",
              "      <th>review_title</th>\n",
              "      <th>language</th>\n",
              "      <th>translated_title</th>\n",
              "      <th>translated_body</th>\n",
              "    </tr>\n",
              "  </thead>\n",
              "  <tbody>\n",
              "    <tr>\n",
              "      <th>0</th>\n",
              "      <td>0</td>\n",
              "      <td>Leider, leider nach einmal waschen ausgebliche...</td>\n",
              "      <td>Leider nicht zu empfehlen</td>\n",
              "      <td>de</td>\n",
              "      <td>Unfortunately not recommended</td>\n",
              "      <td>Unfortunately, unfortunately faded after one w...</td>\n",
              "    </tr>\n",
              "    <tr>\n",
              "      <th>1</th>\n",
              "      <td>0</td>\n",
              "      <td>zunächst macht der Anker Halter einen soliden ...</td>\n",
              "      <td>Gummierung nach 6 Monaten kaputt</td>\n",
              "      <td>de</td>\n",
              "      <td>Rubber broken after 6 months</td>\n",
              "      <td>first of all, the anchor holder makes a solid ...</td>\n",
              "    </tr>\n",
              "    <tr>\n",
              "      <th>2</th>\n",
              "      <td>0</td>\n",
              "      <td>Siegel sowie Verpackung war beschädigt und war...</td>\n",
              "      <td>Flohmarkt ware</td>\n",
              "      <td>de</td>\n",
              "      <td>flea market goods</td>\n",
              "      <td>Seal and packaging was damaged and item was us...</td>\n",
              "    </tr>\n",
              "    <tr>\n",
              "      <th>3</th>\n",
              "      <td>0</td>\n",
              "      <td>Habe dieses Produkt NIE erhalten und das Geld ...</td>\n",
              "      <td>Katastrophe</td>\n",
              "      <td>de</td>\n",
              "      <td>catastrophe</td>\n",
              "      <td>NEVER received this product and the money was ...</td>\n",
              "    </tr>\n",
              "    <tr>\n",
              "      <th>4</th>\n",
              "      <td>0</td>\n",
              "      <td>Die Träger sind schnell abgerissen</td>\n",
              "      <td>Reißverschluss klemmt</td>\n",
              "      <td>de</td>\n",
              "      <td>Zipper is stuck</td>\n",
              "      <td>The straps ripped off quickly</td>\n",
              "    </tr>\n",
              "  </tbody>\n",
              "</table>\n",
              "</div>"
            ],
            "text/plain": [
              "   labels                                        review_body  \\\n",
              "0       0  Leider, leider nach einmal waschen ausgebliche...   \n",
              "1       0  zunächst macht der Anker Halter einen soliden ...   \n",
              "2       0  Siegel sowie Verpackung war beschädigt und war...   \n",
              "3       0  Habe dieses Produkt NIE erhalten und das Geld ...   \n",
              "4       0                 Die Träger sind schnell abgerissen   \n",
              "\n",
              "                       review_title language               translated_title  \\\n",
              "0         Leider nicht zu empfehlen       de  Unfortunately not recommended   \n",
              "1  Gummierung nach 6 Monaten kaputt       de   Rubber broken after 6 months   \n",
              "2                    Flohmarkt ware       de              flea market goods   \n",
              "3                       Katastrophe       de                    catastrophe   \n",
              "4             Reißverschluss klemmt       de                Zipper is stuck   \n",
              "\n",
              "                                     translated_body  \n",
              "0  Unfortunately, unfortunately faded after one w...  \n",
              "1  first of all, the anchor holder makes a solid ...  \n",
              "2  Seal and packaging was damaged and item was us...  \n",
              "3  NEVER received this product and the money was ...  \n",
              "4                      The straps ripped off quickly  "
            ]
          },
          "execution_count": 22,
          "metadata": {},
          "output_type": "execute_result"
        }
      ],
      "source": [
        "translatedTestSet.drop(columns=['Unnamed: 0'], axis=0, inplace=True)\n",
        "translatedTestSet.rename(columns={'stars':'labels'}, inplace=True)\n",
        "translatedTestSet.head(5)"
      ]
    },
    {
      "cell_type": "markdown",
      "metadata": {
        "id": "n_qmnJ-HuIJA"
      },
      "source": [
        "**BERT CASED**"
      ]
    },
    {
      "cell_type": "markdown",
      "metadata": {
        "id": "1wZRrlHIuIJA"
      },
      "source": [
        "****N = 128, M = 382; Overall 510 tokens****"
      ]
    },
    {
      "cell_type": "code",
      "execution_count": null,
      "metadata": {
        "execution": {
          "iopub.execute_input": "2023-08-09T19:25:07.264318Z",
          "iopub.status.busy": "2023-08-09T19:25:07.263756Z",
          "iopub.status.idle": "2023-08-09T19:25:07.272444Z",
          "shell.execute_reply": "2023-08-09T19:25:07.271444Z",
          "shell.execute_reply.started": "2023-08-09T19:25:07.264285Z"
        },
        "id": "PZY5bBF2uIJA",
        "trusted": true
      },
      "outputs": [],
      "source": [
        "N = 128\n",
        "M = 382\n",
        "reviewType = \"text\""
      ]
    },
    {
      "cell_type": "code",
      "execution_count": null,
      "metadata": {
        "colab": {
          "referenced_widgets": [
            "a5b20e3010ae478fb258dfb1936ca9bd",
            "cd41fcef6eee4c20905f092bc9657bfe",
            "e2e65242ff52475290878c3d595a53f7",
            "",
            "0d538ee9eafe4bf582e2679ad251806b"
          ]
        },
        "execution": {
          "iopub.execute_input": "2023-08-09T19:25:07.478910Z",
          "iopub.status.busy": "2023-08-09T19:25:07.478468Z",
          "iopub.status.idle": "2023-08-09T19:25:44.168604Z",
          "shell.execute_reply": "2023-08-09T19:25:44.167601Z",
          "shell.execute_reply.started": "2023-08-09T19:25:07.478875Z"
        },
        "id": "lZfBSqWDuIJA",
        "outputId": "4b6ffe8e-92a8-4164-f021-f01ac26e1def",
        "trusted": true
      },
      "outputs": [
        {
          "data": {
            "application/vnd.jupyter.widget-view+json": {
              "model_id": "a5b20e3010ae478fb258dfb1936ca9bd",
              "version_major": 2,
              "version_minor": 0
            },
            "text/plain": [
              "Downloading builder script:   0%|          | 0.00/1.79k [00:00<?, ?B/s]"
            ]
          },
          "metadata": {},
          "output_type": "display_data"
        },
        {
          "data": {
            "application/vnd.jupyter.widget-view+json": {
              "model_id": "cd41fcef6eee4c20905f092bc9657bfe",
              "version_major": 2,
              "version_minor": 0
            },
            "text/plain": [
              "Downloading metadata:   0%|          | 0.00/1.05k [00:00<?, ?B/s]"
            ]
          },
          "metadata": {},
          "output_type": "display_data"
        },
        {
          "name": "stdout",
          "output_type": "stream",
          "text": [
            "Downloading and preparing dataset imdb/plain_text (download: 80.23 MiB, generated: 127.02 MiB, post-processed: Unknown size, total: 207.25 MiB) to /root/.cache/huggingface/datasets/imdb/plain_text/1.0.0/2fdd8b9bcadd6e7055e742a706876ba43f19faee861df134affd7a3f60fc38a1...\n"
          ]
        },
        {
          "data": {
            "application/vnd.jupyter.widget-view+json": {
              "model_id": "e2e65242ff52475290878c3d595a53f7",
              "version_major": 2,
              "version_minor": 0
            },
            "text/plain": [
              "Downloading data:   0%|          | 0.00/84.1M [00:00<?, ?B/s]"
            ]
          },
          "metadata": {},
          "output_type": "display_data"
        },
        {
          "data": {
            "application/vnd.jupyter.widget-view+json": {
              "model_id": "",
              "version_major": 2,
              "version_minor": 0
            },
            "text/plain": [
              "Generating train split:   0%|          | 0/25000 [00:00<?, ? examples/s]"
            ]
          },
          "metadata": {},
          "output_type": "display_data"
        },
        {
          "data": {
            "application/vnd.jupyter.widget-view+json": {
              "model_id": "",
              "version_major": 2,
              "version_minor": 0
            },
            "text/plain": [
              "Generating test split:   0%|          | 0/25000 [00:00<?, ? examples/s]"
            ]
          },
          "metadata": {},
          "output_type": "display_data"
        },
        {
          "data": {
            "application/vnd.jupyter.widget-view+json": {
              "model_id": "",
              "version_major": 2,
              "version_minor": 0
            },
            "text/plain": [
              "Generating unsupervised split:   0%|          | 0/50000 [00:00<?, ? examples/s]"
            ]
          },
          "metadata": {},
          "output_type": "display_data"
        },
        {
          "name": "stdout",
          "output_type": "stream",
          "text": [
            "Dataset imdb downloaded and prepared to /root/.cache/huggingface/datasets/imdb/plain_text/1.0.0/2fdd8b9bcadd6e7055e742a706876ba43f19faee861df134affd7a3f60fc38a1. Subsequent calls will reuse this data.\n"
          ]
        },
        {
          "data": {
            "application/vnd.jupyter.widget-view+json": {
              "model_id": "0d538ee9eafe4bf582e2679ad251806b",
              "version_major": 2,
              "version_minor": 0
            },
            "text/plain": [
              "  0%|          | 0/3 [00:00<?, ?it/s]"
            ]
          },
          "metadata": {},
          "output_type": "display_data"
        }
      ],
      "source": [
        "from datasets import load_dataset\n",
        "imdbDataset = load_dataset('imdb')"
      ]
    },
    {
      "cell_type": "code",
      "execution_count": null,
      "metadata": {
        "execution": {
          "iopub.execute_input": "2023-08-09T19:25:44.171513Z",
          "iopub.status.busy": "2023-08-09T19:25:44.169988Z",
          "iopub.status.idle": "2023-08-09T19:25:44.178337Z",
          "shell.execute_reply": "2023-08-09T19:25:44.177387Z",
          "shell.execute_reply.started": "2023-08-09T19:25:44.171476Z"
        },
        "id": "4kikdbM2uIJA",
        "outputId": "39e9c848-2665-41ad-aa32-525387aa8238",
        "trusted": true
      },
      "outputs": [
        {
          "data": {
            "text/plain": [
              "DatasetDict({\n",
              "    train: Dataset({\n",
              "        features: ['text', 'label'],\n",
              "        num_rows: 25000\n",
              "    })\n",
              "    test: Dataset({\n",
              "        features: ['text', 'label'],\n",
              "        num_rows: 25000\n",
              "    })\n",
              "    unsupervised: Dataset({\n",
              "        features: ['text', 'label'],\n",
              "        num_rows: 50000\n",
              "    })\n",
              "})"
            ]
          },
          "execution_count": 24,
          "metadata": {},
          "output_type": "execute_result"
        }
      ],
      "source": [
        "imdbDataset"
      ]
    },
    {
      "cell_type": "code",
      "execution_count": null,
      "metadata": {
        "execution": {
          "iopub.execute_input": "2023-08-09T19:25:44.180541Z",
          "iopub.status.busy": "2023-08-09T19:25:44.179866Z",
          "iopub.status.idle": "2023-08-09T19:25:44.357119Z",
          "shell.execute_reply": "2023-08-09T19:25:44.356102Z",
          "shell.execute_reply.started": "2023-08-09T19:25:44.180506Z"
        },
        "id": "9nzWoNieuIJA",
        "trusted": true
      },
      "outputs": [],
      "source": [
        "imdbDataset = imdbDataset.rename_column(\"label\", \"labels\")"
      ]
    },
    {
      "cell_type": "code",
      "execution_count": null,
      "metadata": {
        "colab": {
          "referenced_widgets": [
            "d98257df279a4ac4adb07d81927c60d9"
          ]
        },
        "execution": {
          "iopub.execute_input": "2023-08-09T19:25:44.360016Z",
          "iopub.status.busy": "2023-08-09T19:25:44.359313Z",
          "iopub.status.idle": "2023-08-09T19:25:45.010358Z",
          "shell.execute_reply": "2023-08-09T19:25:45.009095Z",
          "shell.execute_reply.started": "2023-08-09T19:25:44.359979Z"
        },
        "id": "BLbhvnlbuIJA",
        "outputId": "0602d769-24e6-4610-c04c-85e68dd2478f",
        "trusted": true
      },
      "outputs": [
        {
          "data": {
            "application/vnd.jupyter.widget-view+json": {
              "model_id": "d98257df279a4ac4adb07d81927c60d9",
              "version_major": 2,
              "version_minor": 0
            },
            "text/plain": [
              "Downloading builder script:   0%|          | 0.00/4.20k [00:00<?, ?B/s]"
            ]
          },
          "metadata": {},
          "output_type": "display_data"
        }
      ],
      "source": [
        "metric = evaluate.load(\"accuracy\")\n",
        "training_args = TrainingArguments(output_dir=\"test_trainer\", optim=\"adamw_torch\", warmup_steps=10000, num_train_epochs=1, weight_decay=1e-1, evaluation_strategy=\"epoch\", save_strategy = saveStrategy)"
      ]
    },
    {
      "cell_type": "code",
      "execution_count": null,
      "metadata": {
        "execution": {
          "iopub.execute_input": "2023-08-08T11:41:19.532659Z",
          "iopub.status.busy": "2023-08-08T11:41:19.532299Z",
          "iopub.status.idle": "2023-08-08T11:41:20.843156Z",
          "shell.execute_reply": "2023-08-08T11:41:20.842055Z",
          "shell.execute_reply.started": "2023-08-08T11:41:19.532624Z"
        },
        "id": "ebWgtwi4uIJB",
        "trusted": true
      },
      "outputs": [],
      "source": [
        "tokenizer = AutoTokenizer.from_pretrained(\"bert-base-cased\")"
      ]
    },
    {
      "cell_type": "code",
      "execution_count": null,
      "metadata": {
        "execution": {
          "iopub.execute_input": "2023-08-08T11:41:20.845273Z",
          "iopub.status.busy": "2023-08-08T11:41:20.844871Z",
          "iopub.status.idle": "2023-08-08T11:41:23.684903Z",
          "shell.execute_reply": "2023-08-08T11:41:23.683999Z",
          "shell.execute_reply.started": "2023-08-08T11:41:20.845236Z"
        },
        "id": "yRNfC04AuIJB",
        "trusted": true
      },
      "outputs": [],
      "source": [
        "enLanguageModelStartEndTrial_N_128_M_382 = BertForSequenceClassification.from_pretrained(\"bert-base-cased\", num_labels=2)"
      ]
    },
    {
      "cell_type": "code",
      "execution_count": null,
      "metadata": {
        "colab": {
          "referenced_widgets": [
            "3b279b428e724e0bbc4e9181c689875a",
            "2e194042869a495d815e00786cb3977b",
            "9720f3c3eb2c41ae966d0e79c42114cc"
          ]
        },
        "execution": {
          "iopub.execute_input": "2023-08-08T11:41:23.686845Z",
          "iopub.status.busy": "2023-08-08T11:41:23.686491Z",
          "iopub.status.idle": "2023-08-08T12:28:00.351047Z",
          "shell.execute_reply": "2023-08-08T12:28:00.349993Z",
          "shell.execute_reply.started": "2023-08-08T11:41:23.686803Z"
        },
        "id": "FIQH5uEVuTii",
        "outputId": "0897f3c7-8e9b-46fa-8501-275baae2400b",
        "trusted": true
      },
      "outputs": [
        {
          "data": {
            "application/vnd.jupyter.widget-view+json": {
              "model_id": "3b279b428e724e0bbc4e9181c689875a",
              "version_major": 2,
              "version_minor": 0
            },
            "text/plain": [
              "  0%|          | 0/25 [00:00<?, ?ba/s]"
            ]
          },
          "metadata": {},
          "output_type": "display_data"
        },
        {
          "name": "stderr",
          "output_type": "stream",
          "text": [
            "Token indices sequence length is longer than the specified maximum sequence length for this model (519 > 512). Running this sequence through the model will result in indexing errors\n"
          ]
        },
        {
          "data": {
            "application/vnd.jupyter.widget-view+json": {
              "model_id": "2e194042869a495d815e00786cb3977b",
              "version_major": 2,
              "version_minor": 0
            },
            "text/plain": [
              "  0%|          | 0/25 [00:00<?, ?ba/s]"
            ]
          },
          "metadata": {},
          "output_type": "display_data"
        },
        {
          "data": {
            "application/vnd.jupyter.widget-view+json": {
              "model_id": "9720f3c3eb2c41ae966d0e79c42114cc",
              "version_major": 2,
              "version_minor": 0
            },
            "text/plain": [
              "  0%|          | 0/50 [00:00<?, ?ba/s]"
            ]
          },
          "metadata": {},
          "output_type": "display_data"
        },
        {
          "name": "stderr",
          "output_type": "stream",
          "text": [
            "\u001b[34m\u001b[1mwandb\u001b[0m: Logging into wandb.ai. (Learn how to deploy a W&B server locally: https://wandb.me/wandb-server)\n",
            "\u001b[34m\u001b[1mwandb\u001b[0m: You can find your API key in your browser here: https://wandb.ai/authorize\n",
            "\u001b[34m\u001b[1mwandb\u001b[0m: Paste an API key from your profile and hit enter, or press ctrl+c to quit:"
          ]
        },
        {
          "name": "stdout",
          "output_type": "stream",
          "text": [
            "  ········································\n"
          ]
        },
        {
          "name": "stderr",
          "output_type": "stream",
          "text": [
            "\u001b[34m\u001b[1mwandb\u001b[0m: Appending key for api.wandb.ai to your netrc file: /root/.netrc\n"
          ]
        },
        {
          "data": {
            "text/html": [
              "wandb version 0.15.8 is available!  To upgrade, please run:\n",
              " $ pip install wandb --upgrade"
            ],
            "text/plain": [
              "<IPython.core.display.HTML object>"
            ]
          },
          "metadata": {},
          "output_type": "display_data"
        },
        {
          "data": {
            "text/html": [
              "Tracking run with wandb version 0.15.5"
            ],
            "text/plain": [
              "<IPython.core.display.HTML object>"
            ]
          },
          "metadata": {},
          "output_type": "display_data"
        },
        {
          "data": {
            "text/html": [
              "Run data is saved locally in <code>/kaggle/working/wandb/run-20230808_115709-r3tidifb</code>"
            ],
            "text/plain": [
              "<IPython.core.display.HTML object>"
            ]
          },
          "metadata": {},
          "output_type": "display_data"
        },
        {
          "data": {
            "text/html": [
              "Syncing run <strong><a href='https://wandb.ai/nadav_igor/huggingface/runs/r3tidifb' target=\"_blank\">lucky-feather-24</a></strong> to <a href='https://wandb.ai/nadav_igor/huggingface' target=\"_blank\">Weights & Biases</a> (<a href='https://wandb.me/run' target=\"_blank\">docs</a>)<br/>"
            ],
            "text/plain": [
              "<IPython.core.display.HTML object>"
            ]
          },
          "metadata": {},
          "output_type": "display_data"
        },
        {
          "data": {
            "text/html": [
              " View project at <a href='https://wandb.ai/nadav_igor/huggingface' target=\"_blank\">https://wandb.ai/nadav_igor/huggingface</a>"
            ],
            "text/plain": [
              "<IPython.core.display.HTML object>"
            ]
          },
          "metadata": {},
          "output_type": "display_data"
        },
        {
          "data": {
            "text/html": [
              " View run at <a href='https://wandb.ai/nadav_igor/huggingface/runs/r3tidifb' target=\"_blank\">https://wandb.ai/nadav_igor/huggingface/runs/r3tidifb</a>"
            ],
            "text/plain": [
              "<IPython.core.display.HTML object>"
            ]
          },
          "metadata": {},
          "output_type": "display_data"
        },
        {
          "data": {
            "text/html": [
              "\n",
              "    <div>\n",
              "      \n",
              "      <progress value='3125' max='3125' style='width:300px; height:20px; vertical-align: middle;'></progress>\n",
              "      [3125/3125 30:16, Epoch 1/1]\n",
              "    </div>\n",
              "    <table border=\"1\" class=\"dataframe\">\n",
              "  <thead>\n",
              " <tr style=\"text-align: left;\">\n",
              "      <th>Epoch</th>\n",
              "      <th>Training Loss</th>\n",
              "      <th>Validation Loss</th>\n",
              "      <th>Accuracy</th>\n",
              "    </tr>\n",
              "  </thead>\n",
              "  <tbody>\n",
              "    <tr>\n",
              "      <td>1</td>\n",
              "      <td>0.312400</td>\n",
              "      <td>0.253203</td>\n",
              "      <td>0.911360</td>\n",
              "    </tr>\n",
              "  </tbody>\n",
              "</table><p>"
            ],
            "text/plain": [
              "<IPython.core.display.HTML object>"
            ]
          },
          "metadata": {},
          "output_type": "display_data"
        }
      ],
      "source": [
        "train(enLanguageModelStartEndTrial_N_128_M_382, training_args, imdbDataset, imdbDataset['train'].num_rows)"
      ]
    },
    {
      "cell_type": "code",
      "execution_count": null,
      "metadata": {
        "execution": {
          "iopub.execute_input": "2023-08-08T12:31:15.130992Z",
          "iopub.status.busy": "2023-08-08T12:31:15.130621Z",
          "iopub.status.idle": "2023-08-08T12:42:49.615231Z",
          "shell.execute_reply": "2023-08-08T12:42:49.614055Z",
          "shell.execute_reply.started": "2023-08-08T12:31:15.130960Z"
        },
        "id": "I9JPZ8J2uTii",
        "outputId": "1ba2f9e0-0146-4e41-d08c-a759b8542d4a",
        "trusted": true
      },
      "outputs": [
        {
          "name": "stdout",
          "output_type": "stream",
          "text": [
            "\u001b[1mbert-base-cased-2-labels-510-tokens-head+tail\u001b[0m\n",
            "Classification Report Translated Test Set\n",
            "+----------+-------------+----------+------------+-----------+\n",
            "| Class    |   Precision |   Recall |   F1-Score |   Support |\n",
            "|----------+-------------+----------+------------+-----------|\n",
            "| negative |      0.7753 |   0.9565 |     0.8564 |      6000 |\n",
            "| positive |      0.9432 |   0.7228 |     0.8185 |      6000 |\n",
            "+----------+-------------+----------+------------+-----------+\n",
            "Classification Report Test Set\n",
            "+----------+-------------+----------+------------+-----------+\n",
            "| Class    |   Precision |   Recall |   F1-Score |   Support |\n",
            "|----------+-------------+----------+------------+-----------|\n",
            "| negative |      0.8732 |   0.9625 |     0.9157 |     12500 |\n",
            "| positive |      0.9582 |   0.8602 |     0.9066 |     12500 |\n",
            "+----------+-------------+----------+------------+-----------+\n"
          ]
        }
      ],
      "source": [
        "evaluateTranslatedTestSetAndRegularTestSet(enLanguageModelStartEndTrial_N_128_M_382, tokenizer, imdbDataset, targetNames, \"bert-base-cased-2-labels-510-tokens-head+tail\", batch_size=8)"
      ]
    },
    {
      "cell_type": "markdown",
      "metadata": {
        "id": "N9D1EgrduIJB"
      },
      "source": [
        "****repeat with N=M=64; overall 128 tokens****"
      ]
    },
    {
      "cell_type": "code",
      "execution_count": null,
      "metadata": {
        "execution": {
          "iopub.execute_input": "2023-08-08T12:42:49.618363Z",
          "iopub.status.busy": "2023-08-08T12:42:49.617588Z",
          "iopub.status.idle": "2023-08-08T12:42:49.625457Z",
          "shell.execute_reply": "2023-08-08T12:42:49.624451Z",
          "shell.execute_reply.started": "2023-08-08T12:42:49.618322Z"
        },
        "id": "U18xVDyOuIJB",
        "trusted": true
      },
      "outputs": [],
      "source": [
        "N = 64\n",
        "M = 64\n",
        "reviewType = \"text\""
      ]
    },
    {
      "cell_type": "code",
      "execution_count": null,
      "metadata": {
        "execution": {
          "iopub.execute_input": "2023-08-08T12:42:49.627879Z",
          "iopub.status.busy": "2023-08-08T12:42:49.627201Z",
          "iopub.status.idle": "2023-08-08T12:42:50.883449Z",
          "shell.execute_reply": "2023-08-08T12:42:50.879753Z",
          "shell.execute_reply.started": "2023-08-08T12:42:49.627845Z"
        },
        "id": "cvy1iMb7uIJB",
        "trusted": true
      },
      "outputs": [],
      "source": [
        "enLanguageModelStartEndTrial_N_64_M_64 = BertForSequenceClassification.from_pretrained(\"bert-base-cased\", num_labels=2)"
      ]
    },
    {
      "cell_type": "code",
      "execution_count": null,
      "metadata": {
        "execution": {
          "iopub.execute_input": "2023-08-08T12:42:50.889400Z",
          "iopub.status.busy": "2023-08-08T12:42:50.889117Z",
          "iopub.status.idle": "2023-08-08T12:42:50.898104Z",
          "shell.execute_reply": "2023-08-08T12:42:50.896844Z",
          "shell.execute_reply.started": "2023-08-08T12:42:50.889374Z"
        },
        "id": "ksTg2SQhuIJB",
        "trusted": true
      },
      "outputs": [],
      "source": [
        "training_args = TrainingArguments(output_dir=\"test_trainer\", optim=\"adamw_torch\", warmup_steps=10000, num_train_epochs=1, weight_decay=1e-1, evaluation_strategy=\"epoch\", save_strategy = saveStrategy)"
      ]
    },
    {
      "cell_type": "code",
      "execution_count": null,
      "metadata": {
        "colab": {
          "referenced_widgets": [
            "a7b056a04d79423baa3f03df37d0c101",
            "dd1cb0a8df1d46e2ab3f7bd6816c0ea9",
            "aa08a2dfae8248de96d81ac171933d21"
          ]
        },
        "execution": {
          "iopub.execute_input": "2023-08-08T12:42:50.899889Z",
          "iopub.status.busy": "2023-08-08T12:42:50.899543Z",
          "iopub.status.idle": "2023-08-08T12:53:40.956022Z",
          "shell.execute_reply": "2023-08-08T12:53:40.954923Z",
          "shell.execute_reply.started": "2023-08-08T12:42:50.899857Z"
        },
        "id": "Wig6ih_1uTii",
        "outputId": "239e9f48-ef77-4cd1-8d39-c3a4b8133780",
        "trusted": true
      },
      "outputs": [
        {
          "data": {
            "application/vnd.jupyter.widget-view+json": {
              "model_id": "a7b056a04d79423baa3f03df37d0c101",
              "version_major": 2,
              "version_minor": 0
            },
            "text/plain": [
              "  0%|          | 0/25 [00:00<?, ?ba/s]"
            ]
          },
          "metadata": {},
          "output_type": "display_data"
        },
        {
          "data": {
            "application/vnd.jupyter.widget-view+json": {
              "model_id": "dd1cb0a8df1d46e2ab3f7bd6816c0ea9",
              "version_major": 2,
              "version_minor": 0
            },
            "text/plain": [
              "  0%|          | 0/25 [00:00<?, ?ba/s]"
            ]
          },
          "metadata": {},
          "output_type": "display_data"
        },
        {
          "data": {
            "application/vnd.jupyter.widget-view+json": {
              "model_id": "aa08a2dfae8248de96d81ac171933d21",
              "version_major": 2,
              "version_minor": 0
            },
            "text/plain": [
              "  0%|          | 0/50 [00:00<?, ?ba/s]"
            ]
          },
          "metadata": {},
          "output_type": "display_data"
        },
        {
          "data": {
            "text/html": [
              "\n",
              "    <div>\n",
              "      \n",
              "      <progress value='3125' max='3125' style='width:300px; height:20px; vertical-align: middle;'></progress>\n",
              "      [3125/3125 08:09, Epoch 1/1]\n",
              "    </div>\n",
              "    <table border=\"1\" class=\"dataframe\">\n",
              "  <thead>\n",
              " <tr style=\"text-align: left;\">\n",
              "      <th>Epoch</th>\n",
              "      <th>Training Loss</th>\n",
              "      <th>Validation Loss</th>\n",
              "      <th>Accuracy</th>\n",
              "    </tr>\n",
              "  </thead>\n",
              "  <tbody>\n",
              "    <tr>\n",
              "      <td>1</td>\n",
              "      <td>0.342900</td>\n",
              "      <td>0.262426</td>\n",
              "      <td>0.898200</td>\n",
              "    </tr>\n",
              "  </tbody>\n",
              "</table><p>"
            ],
            "text/plain": [
              "<IPython.core.display.HTML object>"
            ]
          },
          "metadata": {},
          "output_type": "display_data"
        }
      ],
      "source": [
        "train(enLanguageModelStartEndTrial_N_64_M_64, training_args, imdbDataset, imdbDataset['train'].num_rows)"
      ]
    },
    {
      "cell_type": "code",
      "execution_count": null,
      "metadata": {
        "execution": {
          "iopub.execute_input": "2023-08-08T12:53:40.958460Z",
          "iopub.status.busy": "2023-08-08T12:53:40.957795Z",
          "iopub.status.idle": "2023-08-08T12:56:59.803660Z",
          "shell.execute_reply": "2023-08-08T12:56:59.802274Z",
          "shell.execute_reply.started": "2023-08-08T12:53:40.958422Z"
        },
        "id": "HjAjibr6uTij",
        "outputId": "3689a7b7-2bf5-4e1e-83e5-dfac1566218a",
        "trusted": true
      },
      "outputs": [
        {
          "name": "stdout",
          "output_type": "stream",
          "text": [
            "\u001b[1mbert-base-cased-2-labels-N-64-M-64-head+tail\u001b[0m\n",
            "Classification Report Translated Test Set\n",
            "+----------+-------------+----------+------------+-----------+\n",
            "| Class    |   Precision |   Recall |   F1-Score |   Support |\n",
            "|----------+-------------+----------+------------+-----------|\n",
            "| negative |      0.8283 |   0.8925 |     0.8592 |      6000 |\n",
            "| positive |      0.8835 |   0.8150 |     0.8479 |      6000 |\n",
            "+----------+-------------+----------+------------+-----------+\n",
            "Classification Report Test Set\n",
            "+----------+-------------+----------+------------+-----------+\n",
            "| Class    |   Precision |   Recall |   F1-Score |   Support |\n",
            "|----------+-------------+----------+------------+-----------|\n",
            "| negative |      0.8899 |   0.9088 |     0.8993 |     12500 |\n",
            "| positive |      0.9068 |   0.8876 |     0.8971 |     12500 |\n",
            "+----------+-------------+----------+------------+-----------+\n"
          ]
        }
      ],
      "source": [
        "evaluateTranslatedTestSetAndRegularTestSet(enLanguageModelStartEndTrial_N_64_M_64, tokenizer, imdbDataset, translatedTestSet, targetNames, \"bert-base-cased-2-labels-N-64-M-64-head+tail\", batch_size=8)"
      ]
    },
    {
      "cell_type": "markdown",
      "metadata": {
        "id": "vK3_SsfDuIJC"
      },
      "source": [
        "****repeat with N=510, M=0; overall 510 tokens****"
      ]
    },
    {
      "cell_type": "code",
      "execution_count": null,
      "metadata": {
        "execution": {
          "iopub.execute_input": "2023-08-08T13:12:23.442053Z",
          "iopub.status.busy": "2023-08-08T13:12:23.441606Z",
          "iopub.status.idle": "2023-08-08T13:12:23.451864Z",
          "shell.execute_reply": "2023-08-08T13:12:23.450886Z",
          "shell.execute_reply.started": "2023-08-08T13:12:23.442016Z"
        },
        "id": "zzd9cDxvuIJC",
        "trusted": true
      },
      "outputs": [],
      "source": [
        "N = 510\n",
        "M = 0\n",
        "reviewType = \"text\""
      ]
    },
    {
      "cell_type": "code",
      "execution_count": null,
      "metadata": {
        "execution": {
          "iopub.execute_input": "2023-08-08T13:12:44.823545Z",
          "iopub.status.busy": "2023-08-08T13:12:44.823166Z",
          "iopub.status.idle": "2023-08-08T13:12:45.849542Z",
          "shell.execute_reply": "2023-08-08T13:12:45.848516Z",
          "shell.execute_reply.started": "2023-08-08T13:12:44.823514Z"
        },
        "id": "TytAPm8CuIJC",
        "trusted": true
      },
      "outputs": [],
      "source": [
        "enLanguageModelStartEndTrial_N_510_M_0 = BertForSequenceClassification.from_pretrained(\"bert-base-cased\", num_labels=2)"
      ]
    },
    {
      "cell_type": "code",
      "execution_count": null,
      "metadata": {
        "execution": {
          "iopub.execute_input": "2023-08-08T13:10:18.877473Z",
          "iopub.status.busy": "2023-08-08T13:10:18.877122Z",
          "iopub.status.idle": "2023-08-08T13:10:18.886879Z",
          "shell.execute_reply": "2023-08-08T13:10:18.885844Z",
          "shell.execute_reply.started": "2023-08-08T13:10:18.877444Z"
        },
        "id": "LmLLgc_nuIJC",
        "trusted": true
      },
      "outputs": [],
      "source": [
        "training_args = TrainingArguments(output_dir=\"test_trainer\", optim=\"adamw_torch\", warmup_steps=10000, num_train_epochs=1, weight_decay=1e-1, evaluation_strategy=\"epoch\", save_strategy = saveStrategy)"
      ]
    },
    {
      "cell_type": "code",
      "execution_count": null,
      "metadata": {
        "colab": {
          "referenced_widgets": [
            "4427e65be7b3458ebfeadd2575063aef",
            "22cc9d6b99bd4c45b8a8d7e07786c61c",
            "e3fc41032d044f17bc033ba8845cd36b"
          ]
        },
        "execution": {
          "iopub.execute_input": "2023-08-08T13:12:49.559098Z",
          "iopub.status.busy": "2023-08-08T13:12:49.558699Z",
          "iopub.status.idle": "2023-08-08T13:48:00.815333Z",
          "shell.execute_reply": "2023-08-08T13:48:00.814228Z",
          "shell.execute_reply.started": "2023-08-08T13:12:49.559067Z"
        },
        "id": "ppiGqc0JuTij",
        "outputId": "b7a63878-4ec6-4e5c-8a0c-7c755ac6f641",
        "trusted": true
      },
      "outputs": [
        {
          "data": {
            "application/vnd.jupyter.widget-view+json": {
              "model_id": "4427e65be7b3458ebfeadd2575063aef",
              "version_major": 2,
              "version_minor": 0
            },
            "text/plain": [
              "  0%|          | 0/25 [00:00<?, ?ba/s]"
            ]
          },
          "metadata": {},
          "output_type": "display_data"
        },
        {
          "data": {
            "application/vnd.jupyter.widget-view+json": {
              "model_id": "22cc9d6b99bd4c45b8a8d7e07786c61c",
              "version_major": 2,
              "version_minor": 0
            },
            "text/plain": [
              "  0%|          | 0/25 [00:00<?, ?ba/s]"
            ]
          },
          "metadata": {},
          "output_type": "display_data"
        },
        {
          "data": {
            "application/vnd.jupyter.widget-view+json": {
              "model_id": "e3fc41032d044f17bc033ba8845cd36b",
              "version_major": 2,
              "version_minor": 0
            },
            "text/plain": [
              "  0%|          | 0/50 [00:00<?, ?ba/s]"
            ]
          },
          "metadata": {},
          "output_type": "display_data"
        },
        {
          "data": {
            "text/html": [
              "\n",
              "    <div>\n",
              "      \n",
              "      <progress value='3125' max='3125' style='width:300px; height:20px; vertical-align: middle;'></progress>\n",
              "      [3125/3125 30:26, Epoch 1/1]\n",
              "    </div>\n",
              "    <table border=\"1\" class=\"dataframe\">\n",
              "  <thead>\n",
              " <tr style=\"text-align: left;\">\n",
              "      <th>Epoch</th>\n",
              "      <th>Training Loss</th>\n",
              "      <th>Validation Loss</th>\n",
              "      <th>Accuracy</th>\n",
              "    </tr>\n",
              "  </thead>\n",
              "  <tbody>\n",
              "    <tr>\n",
              "      <td>1</td>\n",
              "      <td>0.309300</td>\n",
              "      <td>0.268560</td>\n",
              "      <td>0.902880</td>\n",
              "    </tr>\n",
              "  </tbody>\n",
              "</table><p>"
            ],
            "text/plain": [
              "<IPython.core.display.HTML object>"
            ]
          },
          "metadata": {},
          "output_type": "display_data"
        }
      ],
      "source": [
        "train(enLanguageModelStartEndTrial_N_510_M_0, training_args, imdbDataset, imdbDataset['train'].num_rows)"
      ]
    },
    {
      "cell_type": "code",
      "execution_count": null,
      "metadata": {
        "execution": {
          "iopub.execute_input": "2023-08-08T13:48:00.822439Z",
          "iopub.status.busy": "2023-08-08T13:48:00.821743Z",
          "iopub.status.idle": "2023-08-08T13:59:50.512889Z",
          "shell.execute_reply": "2023-08-08T13:59:50.511869Z",
          "shell.execute_reply.started": "2023-08-08T13:48:00.822401Z"
        },
        "id": "Iv_eRlsZuTij",
        "outputId": "6d3f0370-219e-4990-a4ae-63659a6f6ee8",
        "trusted": true
      },
      "outputs": [
        {
          "name": "stdout",
          "output_type": "stream",
          "text": [
            "\u001b[1mbert-base-cased-2-labels-N-510-M-0-head-only\u001b[0m\n",
            "Classification Report Translated Test Set\n",
            "+----------+-------------+----------+------------+-----------+\n",
            "| Class    |   Precision |   Recall |   F1-Score |   Support |\n",
            "|----------+-------------+----------+------------+-----------|\n",
            "| negative |      0.7999 |   0.9517 |     0.8692 |      6000 |\n",
            "| positive |      0.9404 |   0.7620 |     0.8418 |      6000 |\n",
            "+----------+-------------+----------+------------+-----------+\n",
            "Classification Report Test Set\n",
            "+----------+-------------+----------+------------+-----------+\n",
            "| Class    |   Precision |   Recall |   F1-Score |   Support |\n",
            "|----------+-------------+----------+------------+-----------|\n",
            "| negative |      0.8611 |   0.9608 |     0.9082 |     12500 |\n",
            "| positive |      0.9557 |   0.8450 |     0.8969 |     12500 |\n",
            "+----------+-------------+----------+------------+-----------+\n"
          ]
        }
      ],
      "source": [
        "evaluateTranslatedTestSetAndRegularTestSet(enLanguageModelStartEndTrial_N_510_M_0, tokenizer, imdbDataset, translatedTestSet, targetNames, \"bert-base-cased-2-labels-N-510-M-0-head-only\", batch_size=8)"
      ]
    },
    {
      "cell_type": "markdown",
      "metadata": {
        "id": "4bdOZf6CuIJC"
      },
      "source": [
        "****repeat with N=0, M=510; overall 510 tokens****"
      ]
    },
    {
      "cell_type": "code",
      "execution_count": null,
      "metadata": {
        "execution": {
          "iopub.execute_input": "2023-08-08T15:19:53.150240Z",
          "iopub.status.busy": "2023-08-08T15:19:53.149883Z",
          "iopub.status.idle": "2023-08-08T15:19:53.158052Z",
          "shell.execute_reply": "2023-08-08T15:19:53.155628Z",
          "shell.execute_reply.started": "2023-08-08T15:19:53.150209Z"
        },
        "id": "ezUKLxLauIJC",
        "trusted": true
      },
      "outputs": [],
      "source": [
        "N = 0\n",
        "M = 510\n",
        "reviewType = \"text\""
      ]
    },
    {
      "cell_type": "code",
      "execution_count": null,
      "metadata": {
        "execution": {
          "iopub.execute_input": "2023-08-08T15:34:46.469372Z",
          "iopub.status.busy": "2023-08-08T15:34:46.469008Z",
          "iopub.status.idle": "2023-08-08T15:34:47.557168Z",
          "shell.execute_reply": "2023-08-08T15:34:47.556012Z",
          "shell.execute_reply.started": "2023-08-08T15:34:46.469342Z"
        },
        "id": "v0D95AO5uIJC",
        "trusted": true
      },
      "outputs": [],
      "source": [
        "enLanguageModelStartEndTrial_N_0_M_510 = BertForSequenceClassification.from_pretrained(\"bert-base-cased\", num_labels=2)"
      ]
    },
    {
      "cell_type": "code",
      "execution_count": null,
      "metadata": {
        "execution": {
          "iopub.execute_input": "2023-08-08T14:04:05.074556Z",
          "iopub.status.busy": "2023-08-08T14:04:05.073567Z",
          "iopub.status.idle": "2023-08-08T14:04:05.085377Z",
          "shell.execute_reply": "2023-08-08T14:04:05.084067Z",
          "shell.execute_reply.started": "2023-08-08T14:04:05.074520Z"
        },
        "id": "wVGv_x4TuIJC",
        "trusted": true
      },
      "outputs": [],
      "source": [
        "training_args = TrainingArguments(output_dir=\"test_trainer\", optim=\"adamw_torch\", warmup_steps=10000, num_train_epochs=1, weight_decay=1e-1, evaluation_strategy=\"epoch\", save_strategy = saveStrategy)"
      ]
    },
    {
      "cell_type": "code",
      "execution_count": null,
      "metadata": {
        "colab": {
          "referenced_widgets": [
            "14c41ebd02f046f7b9911f4cd4a1c1cb",
            "07e828133c7a47788d1fcde37f95c05f",
            "e1d87d460cd6446c826516862e33b1b9"
          ]
        },
        "execution": {
          "iopub.execute_input": "2023-08-08T15:34:49.484406Z",
          "iopub.status.busy": "2023-08-08T15:34:49.484038Z",
          "iopub.status.idle": "2023-08-08T16:09:12.162976Z",
          "shell.execute_reply": "2023-08-08T16:09:12.161975Z",
          "shell.execute_reply.started": "2023-08-08T15:34:49.484373Z"
        },
        "id": "8V8XJv2BuTik",
        "outputId": "c832a2ac-515b-4dcf-b1d3-94b474a90d58",
        "trusted": true
      },
      "outputs": [
        {
          "data": {
            "application/vnd.jupyter.widget-view+json": {
              "model_id": "14c41ebd02f046f7b9911f4cd4a1c1cb",
              "version_major": 2,
              "version_minor": 0
            },
            "text/plain": [
              "  0%|          | 0/25 [00:00<?, ?ba/s]"
            ]
          },
          "metadata": {},
          "output_type": "display_data"
        },
        {
          "data": {
            "application/vnd.jupyter.widget-view+json": {
              "model_id": "07e828133c7a47788d1fcde37f95c05f",
              "version_major": 2,
              "version_minor": 0
            },
            "text/plain": [
              "  0%|          | 0/25 [00:00<?, ?ba/s]"
            ]
          },
          "metadata": {},
          "output_type": "display_data"
        },
        {
          "data": {
            "application/vnd.jupyter.widget-view+json": {
              "model_id": "e1d87d460cd6446c826516862e33b1b9",
              "version_major": 2,
              "version_minor": 0
            },
            "text/plain": [
              "  0%|          | 0/50 [00:00<?, ?ba/s]"
            ]
          },
          "metadata": {},
          "output_type": "display_data"
        },
        {
          "data": {
            "text/html": [
              "\n",
              "    <div>\n",
              "      \n",
              "      <progress value='3125' max='3125' style='width:300px; height:20px; vertical-align: middle;'></progress>\n",
              "      [3125/3125 30:21, Epoch 1/1]\n",
              "    </div>\n",
              "    <table border=\"1\" class=\"dataframe\">\n",
              "  <thead>\n",
              " <tr style=\"text-align: left;\">\n",
              "      <th>Epoch</th>\n",
              "      <th>Training Loss</th>\n",
              "      <th>Validation Loss</th>\n",
              "      <th>Accuracy</th>\n",
              "    </tr>\n",
              "  </thead>\n",
              "  <tbody>\n",
              "    <tr>\n",
              "      <td>1</td>\n",
              "      <td>0.310500</td>\n",
              "      <td>0.319470</td>\n",
              "      <td>0.907520</td>\n",
              "    </tr>\n",
              "  </tbody>\n",
              "</table><p>"
            ],
            "text/plain": [
              "<IPython.core.display.HTML object>"
            ]
          },
          "metadata": {},
          "output_type": "display_data"
        }
      ],
      "source": [
        "train(enLanguageModelStartEndTrial_N_0_M_510, training_args, imdbDataset, imdbDataset['train'].num_rows)"
      ]
    },
    {
      "cell_type": "code",
      "execution_count": null,
      "metadata": {
        "execution": {
          "iopub.execute_input": "2023-08-08T16:09:12.165763Z",
          "iopub.status.busy": "2023-08-08T16:09:12.164983Z",
          "iopub.status.idle": "2023-08-08T16:20:46.746214Z",
          "shell.execute_reply": "2023-08-08T16:20:46.745069Z",
          "shell.execute_reply.started": "2023-08-08T16:09:12.165724Z"
        },
        "id": "jKGrMI_MuTik",
        "outputId": "daab209c-a0d0-4d48-9037-5d333d424a22",
        "trusted": true
      },
      "outputs": [
        {
          "name": "stdout",
          "output_type": "stream",
          "text": [
            "\u001b[1mbert-base-cased-2-labels-N-0-M-510-tail-only\u001b[0m\n",
            "Classification Report Translated Test Set\n",
            "+----------+-------------+----------+------------+-----------+\n",
            "| Class    |   Precision |   Recall |   F1-Score |   Support |\n",
            "|----------+-------------+----------+------------+-----------|\n",
            "| negative |      0.8453 |   0.8678 |     0.8564 |      6000 |\n",
            "| positive |      0.8642 |   0.8412 |     0.8525 |      6000 |\n",
            "+----------+-------------+----------+------------+-----------+\n",
            "Classification Report Test Set\n",
            "+----------+-------------+----------+------------+-----------+\n",
            "| Class    |   Precision |   Recall |   F1-Score |   Support |\n",
            "|----------+-------------+----------+------------+-----------|\n",
            "| negative |      0.8700 |   0.9582 |     0.9120 |     12500 |\n",
            "| positive |      0.9535 |   0.8568 |     0.9026 |     12500 |\n",
            "+----------+-------------+----------+------------+-----------+\n"
          ]
        }
      ],
      "source": [
        "evaluateTranslatedTestSetAndRegularTestSet(enLanguageModelStartEndTrial_N_0_M_510, tokenizer, imdbDataset, translatedTestSet, targetNames, \"bert-base-cased-2-labels-N-0-M-510-tail-only\", batch_size=8)"
      ]
    },
    {
      "cell_type": "markdown",
      "metadata": {
        "id": "qdqBkBFtuIJD"
      },
      "source": [
        "**BERT UNCASED**"
      ]
    },
    {
      "cell_type": "markdown",
      "metadata": {
        "id": "TUFTyurHuIJD"
      },
      "source": [
        "****N = 128, M = 382; Overall 510 tokens****"
      ]
    },
    {
      "cell_type": "code",
      "execution_count": null,
      "metadata": {
        "execution": {
          "iopub.execute_input": "2023-08-08T16:47:45.613326Z",
          "iopub.status.busy": "2023-08-08T16:47:45.612640Z",
          "iopub.status.idle": "2023-08-08T16:47:45.620189Z",
          "shell.execute_reply": "2023-08-08T16:47:45.618627Z",
          "shell.execute_reply.started": "2023-08-08T16:47:45.613290Z"
        },
        "id": "kJ0WpbvluIJD",
        "trusted": true
      },
      "outputs": [],
      "source": [
        "N = 128\n",
        "M = 382\n",
        "reviewType = \"text\""
      ]
    },
    {
      "cell_type": "code",
      "execution_count": null,
      "metadata": {
        "execution": {
          "iopub.execute_input": "2023-08-08T16:32:50.816321Z",
          "iopub.status.busy": "2023-08-08T16:32:50.815957Z",
          "iopub.status.idle": "2023-08-08T16:32:51.069151Z",
          "shell.execute_reply": "2023-08-08T16:32:51.067547Z",
          "shell.execute_reply.started": "2023-08-08T16:32:50.816290Z"
        },
        "id": "QBvLjvx5uIJD",
        "trusted": true
      },
      "outputs": [],
      "source": [
        "tokenizer = AutoTokenizer.from_pretrained(\"bert-base-uncased\")"
      ]
    },
    {
      "cell_type": "code",
      "execution_count": null,
      "metadata": {
        "execution": {
          "iopub.execute_input": "2023-08-08T16:52:12.199371Z",
          "iopub.status.busy": "2023-08-08T16:52:12.198648Z",
          "iopub.status.idle": "2023-08-08T16:52:13.309974Z",
          "shell.execute_reply": "2023-08-08T16:52:13.308848Z",
          "shell.execute_reply.started": "2023-08-08T16:52:12.199334Z"
        },
        "id": "lECdKclYuIJD",
        "trusted": true
      },
      "outputs": [],
      "source": [
        "enLanguageModelStartEndTrial_N_128_M_382 = BertForSequenceClassification.from_pretrained(\"bert-base-uncased\", num_labels=2)"
      ]
    },
    {
      "cell_type": "code",
      "execution_count": null,
      "metadata": {
        "execution": {
          "iopub.execute_input": "2023-08-08T16:32:52.702018Z",
          "iopub.status.busy": "2023-08-08T16:32:52.701384Z",
          "iopub.status.idle": "2023-08-08T16:32:52.710719Z",
          "shell.execute_reply": "2023-08-08T16:32:52.709684Z",
          "shell.execute_reply.started": "2023-08-08T16:32:52.701977Z"
        },
        "id": "I-CHMj0HuIJD",
        "trusted": true
      },
      "outputs": [],
      "source": [
        "training_args = TrainingArguments(output_dir=\"test_trainer\", optim=\"adamw_torch\", warmup_steps=10000, num_train_epochs=1, weight_decay=1e-1, evaluation_strategy=\"epoch\", save_strategy = saveStrategy)"
      ]
    },
    {
      "cell_type": "code",
      "execution_count": null,
      "metadata": {
        "colab": {
          "referenced_widgets": [
            "ed13d4bdae3641b5a02428423477909d",
            "011a7619c898481b804a36c287a24e88",
            "3cccf3134457449b80bf76fb91ced7fb"
          ]
        },
        "execution": {
          "iopub.execute_input": "2023-08-08T16:52:13.312194Z",
          "iopub.status.busy": "2023-08-08T16:52:13.311544Z",
          "iopub.status.idle": "2023-08-08T17:26:59.181823Z",
          "shell.execute_reply": "2023-08-08T17:26:59.180799Z",
          "shell.execute_reply.started": "2023-08-08T16:52:13.312153Z"
        },
        "id": "qafCv0WSuTil",
        "outputId": "0e54e5e1-9c93-4700-dea1-f4e14fb7902b",
        "trusted": true
      },
      "outputs": [
        {
          "data": {
            "application/vnd.jupyter.widget-view+json": {
              "model_id": "ed13d4bdae3641b5a02428423477909d",
              "version_major": 2,
              "version_minor": 0
            },
            "text/plain": [
              "  0%|          | 0/25 [00:00<?, ?ba/s]"
            ]
          },
          "metadata": {},
          "output_type": "display_data"
        },
        {
          "data": {
            "application/vnd.jupyter.widget-view+json": {
              "model_id": "011a7619c898481b804a36c287a24e88",
              "version_major": 2,
              "version_minor": 0
            },
            "text/plain": [
              "  0%|          | 0/25 [00:00<?, ?ba/s]"
            ]
          },
          "metadata": {},
          "output_type": "display_data"
        },
        {
          "data": {
            "application/vnd.jupyter.widget-view+json": {
              "model_id": "3cccf3134457449b80bf76fb91ced7fb",
              "version_major": 2,
              "version_minor": 0
            },
            "text/plain": [
              "  0%|          | 0/50 [00:00<?, ?ba/s]"
            ]
          },
          "metadata": {},
          "output_type": "display_data"
        },
        {
          "data": {
            "text/html": [
              "\n",
              "    <div>\n",
              "      \n",
              "      <progress value='3125' max='3125' style='width:300px; height:20px; vertical-align: middle;'></progress>\n",
              "      [3125/3125 30:20, Epoch 1/1]\n",
              "    </div>\n",
              "    <table border=\"1\" class=\"dataframe\">\n",
              "  <thead>\n",
              " <tr style=\"text-align: left;\">\n",
              "      <th>Epoch</th>\n",
              "      <th>Training Loss</th>\n",
              "      <th>Validation Loss</th>\n",
              "      <th>Accuracy</th>\n",
              "    </tr>\n",
              "  </thead>\n",
              "  <tbody>\n",
              "    <tr>\n",
              "      <td>1</td>\n",
              "      <td>0.275700</td>\n",
              "      <td>0.237274</td>\n",
              "      <td>0.930000</td>\n",
              "    </tr>\n",
              "  </tbody>\n",
              "</table><p>"
            ],
            "text/plain": [
              "<IPython.core.display.HTML object>"
            ]
          },
          "metadata": {},
          "output_type": "display_data"
        }
      ],
      "source": [
        "train(enLanguageModelStartEndTrial_N_128_M_382, training_args, imdbDataset, imdbDataset['train'].num_rows)"
      ]
    },
    {
      "cell_type": "code",
      "execution_count": null,
      "metadata": {
        "execution": {
          "iopub.execute_input": "2023-08-08T17:26:59.184697Z",
          "iopub.status.busy": "2023-08-08T17:26:59.184072Z",
          "iopub.status.idle": "2023-08-08T17:38:40.236974Z",
          "shell.execute_reply": "2023-08-08T17:38:40.235813Z",
          "shell.execute_reply.started": "2023-08-08T17:26:59.184660Z"
        },
        "id": "yQtBBIncuTil",
        "outputId": "470c6aab-898f-4c8e-c54a-4e66369636b9",
        "trusted": true
      },
      "outputs": [
        {
          "name": "stdout",
          "output_type": "stream",
          "text": [
            "\u001b[1mbert-base-uncased-2-labels-N-128-M-382-head+tail\u001b[0m\n",
            "Classification Report Translated Test Set\n",
            "+----------+-------------+----------+------------+-----------+\n",
            "| Class    |   Precision |   Recall |   F1-Score |   Support |\n",
            "|----------+-------------+----------+------------+-----------|\n",
            "| negative |      0.9038 |   0.8193 |     0.8595 |      6000 |\n",
            "| positive |      0.8348 |   0.9128 |     0.8721 |      6000 |\n",
            "+----------+-------------+----------+------------+-----------+\n",
            "Classification Report Test Set\n",
            "+----------+-------------+----------+------------+-----------+\n",
            "| Class    |   Precision |   Recall |   F1-Score |   Support |\n",
            "|----------+-------------+----------+------------+-----------|\n",
            "| negative |      0.9201 |   0.9418 |     0.9308 |     12500 |\n",
            "| positive |      0.9404 |   0.9182 |     0.9292 |     12500 |\n",
            "+----------+-------------+----------+------------+-----------+\n"
          ]
        }
      ],
      "source": [
        "evaluateTranslatedTestSetAndRegularTestSet(enLanguageModelStartEndTrial_N_128_M_382, tokenizer, imdbDataset, translatedTestSet, targetNames, \"bert-base-uncased-2-labels-N-128-M-382-head+tail\", batch_size=8)"
      ]
    },
    {
      "cell_type": "markdown",
      "metadata": {
        "id": "F0Ak5-9SuIJE"
      },
      "source": [
        "**N=64, M=64; overall 128 tokens**"
      ]
    },
    {
      "cell_type": "code",
      "execution_count": null,
      "metadata": {
        "execution": {
          "iopub.execute_input": "2023-08-08T17:59:14.910073Z",
          "iopub.status.busy": "2023-08-08T17:59:14.908693Z",
          "iopub.status.idle": "2023-08-08T17:59:14.916252Z",
          "shell.execute_reply": "2023-08-08T17:59:14.915169Z",
          "shell.execute_reply.started": "2023-08-08T17:59:14.910030Z"
        },
        "id": "2KvzBhdjuIJE",
        "trusted": true
      },
      "outputs": [],
      "source": [
        "N = 64\n",
        "M = 64\n",
        "reviewType = \"text\""
      ]
    },
    {
      "cell_type": "code",
      "execution_count": null,
      "metadata": {
        "execution": {
          "iopub.execute_input": "2023-08-08T18:02:58.463057Z",
          "iopub.status.busy": "2023-08-08T18:02:58.462653Z",
          "iopub.status.idle": "2023-08-08T18:03:00.170058Z",
          "shell.execute_reply": "2023-08-08T18:03:00.169041Z",
          "shell.execute_reply.started": "2023-08-08T18:02:58.463023Z"
        },
        "id": "oWFc_RzzuIJE",
        "trusted": true
      },
      "outputs": [],
      "source": [
        "enLanguageModelStartEndTrial_N_64_M_64 = BertForSequenceClassification.from_pretrained(\"bert-base-uncased\", num_labels=2)"
      ]
    },
    {
      "cell_type": "code",
      "execution_count": null,
      "metadata": {
        "execution": {
          "iopub.execute_input": "2023-08-08T18:03:00.247236Z",
          "iopub.status.busy": "2023-08-08T18:03:00.246945Z",
          "iopub.status.idle": "2023-08-08T18:03:00.258069Z",
          "shell.execute_reply": "2023-08-08T18:03:00.257135Z",
          "shell.execute_reply.started": "2023-08-08T18:03:00.247209Z"
        },
        "id": "t4o1b_CIuIJF",
        "trusted": true
      },
      "outputs": [],
      "source": [
        "training_args = TrainingArguments(output_dir=\"test_trainer\", optim=\"adamw_torch\", warmup_steps=10000, num_train_epochs=1, weight_decay=1e-1, evaluation_strategy=\"epoch\", save_strategy = saveStrategy)"
      ]
    },
    {
      "cell_type": "code",
      "execution_count": null,
      "metadata": {
        "execution": {
          "iopub.execute_input": "2023-08-08T18:03:00.459270Z",
          "iopub.status.busy": "2023-08-08T18:03:00.458115Z",
          "iopub.status.idle": "2023-08-08T18:14:11.274658Z",
          "shell.execute_reply": "2023-08-08T18:14:11.273789Z",
          "shell.execute_reply.started": "2023-08-08T18:03:00.459218Z"
        },
        "id": "g1AjHp9GuIJF",
        "trusted": true
      },
      "outputs": [],
      "source": [
        "train(enLanguageModelStartEndTrial_N_64_M_64, training_args, imdbDataset, imdbDataset['train'].num_rows)"
      ]
    },
    {
      "cell_type": "code",
      "execution_count": null,
      "metadata": {
        "colab": {
          "referenced_widgets": [
            "8279f0739eee4ba781303c0847014ab2",
            "6669782a24754301a2991c81dc1b07e2",
            "efa5790dfcfd4bac9e5ef6d274d5368d"
          ]
        },
        "execution": {
          "iopub.execute_input": "2023-08-08T18:03:00.459270Z",
          "iopub.status.busy": "2023-08-08T18:03:00.458115Z",
          "iopub.status.idle": "2023-08-08T18:14:11.274658Z",
          "shell.execute_reply": "2023-08-08T18:14:11.273789Z",
          "shell.execute_reply.started": "2023-08-08T18:03:00.459218Z"
        },
        "id": "RBKFMSEwzRJb",
        "outputId": "9190743f-f048-4b59-ba28-3303378bebf8",
        "trusted": true
      },
      "outputs": [
        {
          "data": {
            "application/vnd.jupyter.widget-view+json": {
              "model_id": "8279f0739eee4ba781303c0847014ab2",
              "version_major": 2,
              "version_minor": 0
            },
            "text/plain": [
              "  0%|          | 0/25 [00:00<?, ?ba/s]"
            ]
          },
          "metadata": {},
          "output_type": "display_data"
        },
        {
          "data": {
            "application/vnd.jupyter.widget-view+json": {
              "model_id": "6669782a24754301a2991c81dc1b07e2",
              "version_major": 2,
              "version_minor": 0
            },
            "text/plain": [
              "  0%|          | 0/25 [00:00<?, ?ba/s]"
            ]
          },
          "metadata": {},
          "output_type": "display_data"
        },
        {
          "data": {
            "application/vnd.jupyter.widget-view+json": {
              "model_id": "efa5790dfcfd4bac9e5ef6d274d5368d",
              "version_major": 2,
              "version_minor": 0
            },
            "text/plain": [
              "  0%|          | 0/50 [00:00<?, ?ba/s]"
            ]
          },
          "metadata": {},
          "output_type": "display_data"
        },
        {
          "data": {
            "text/html": [
              "\n",
              "    <div>\n",
              "      \n",
              "      <progress value='3125' max='3125' style='width:300px; height:20px; vertical-align: middle;'></progress>\n",
              "      [3125/3125 08:09, Epoch 1/1]\n",
              "    </div>\n",
              "    <table border=\"1\" class=\"dataframe\">\n",
              "  <thead>\n",
              " <tr style=\"text-align: left;\">\n",
              "      <th>Epoch</th>\n",
              "      <th>Training Loss</th>\n",
              "      <th>Validation Loss</th>\n",
              "      <th>Accuracy</th>\n",
              "    </tr>\n",
              "  </thead>\n",
              "  <tbody>\n",
              "    <tr>\n",
              "      <td>1</td>\n",
              "      <td>0.320500</td>\n",
              "      <td>0.283606</td>\n",
              "      <td>0.894080</td>\n",
              "    </tr>\n",
              "  </tbody>\n",
              "</table><p>"
            ],
            "text/plain": [
              "<IPython.core.display.HTML object>"
            ]
          },
          "metadata": {},
          "output_type": "display_data"
        }
      ],
      "source": [
        "train(enLanguageModelStartEndTrial_N_64_M_64, training_args, imdbDataset, imdbDataset['train'].num_rows)"
      ]
    },
    {
      "cell_type": "code",
      "execution_count": null,
      "metadata": {
        "execution": {
          "iopub.execute_input": "2023-08-08T18:14:11.281270Z",
          "iopub.status.busy": "2023-08-08T18:14:11.280527Z",
          "iopub.status.idle": "2023-08-08T18:17:35.464818Z",
          "shell.execute_reply": "2023-08-08T18:17:35.463655Z",
          "shell.execute_reply.started": "2023-08-08T18:14:11.281226Z"
        },
        "id": "ZLsI9_UHuTil",
        "outputId": "ea339727-7750-4363-e56b-70be95e9686b",
        "trusted": true
      },
      "outputs": [
        {
          "name": "stdout",
          "output_type": "stream",
          "text": [
            "\u001b[1mbert-base-uncased-2-labels-N-64-M-64-head+tail\u001b[0m\n",
            "Classification Report Translated Test Set\n",
            "+----------+-------------+----------+------------+-----------+\n",
            "| Class    |   Precision |   Recall |   F1-Score |   Support |\n",
            "|----------+-------------+----------+------------+-----------|\n",
            "| negative |      0.8246 |   0.9112 |     0.8657 |      6000 |\n",
            "| positive |      0.9007 |   0.8062 |     0.8508 |      6000 |\n",
            "+----------+-------------+----------+------------+-----------+\n",
            "Classification Report Test Set\n",
            "+----------+-------------+----------+------------+-----------+\n",
            "| Class    |   Precision |   Recall |   F1-Score |   Support |\n",
            "|----------+-------------+----------+------------+-----------|\n",
            "| negative |      0.8560 |   0.9476 |     0.8995 |     12500 |\n",
            "| positive |      0.9413 |   0.8406 |     0.8881 |     12500 |\n",
            "+----------+-------------+----------+------------+-----------+\n"
          ]
        }
      ],
      "source": [
        "evaluateTranslatedTestSetAndRegularTestSet(enLanguageModelStartEndTrial_N_64_M_64, tokenizer, imdbDataset, translatedTestSet, targetNames, \"bert-base-uncased-2-labels-N-64-M-64-head+tail\", batch_size=8)"
      ]
    },
    {
      "cell_type": "markdown",
      "metadata": {
        "id": "kmxWcwUduIJF"
      },
      "source": [
        "**N=510, M=0; overall 510 tokens**"
      ]
    },
    {
      "cell_type": "code",
      "execution_count": null,
      "metadata": {
        "execution": {
          "iopub.execute_input": "2023-08-08T18:18:54.016871Z",
          "iopub.status.busy": "2023-08-08T18:18:54.015815Z",
          "iopub.status.idle": "2023-08-08T18:18:54.023113Z",
          "shell.execute_reply": "2023-08-08T18:18:54.022229Z",
          "shell.execute_reply.started": "2023-08-08T18:18:54.016827Z"
        },
        "id": "Vp018MxpuIJF",
        "trusted": true
      },
      "outputs": [],
      "source": [
        "N = 510\n",
        "M = 0\n",
        "reviewType = \"text\""
      ]
    },
    {
      "cell_type": "code",
      "execution_count": null,
      "metadata": {
        "execution": {
          "iopub.execute_input": "2023-08-08T18:24:14.017890Z",
          "iopub.status.busy": "2023-08-08T18:24:14.017470Z",
          "iopub.status.idle": "2023-08-08T18:24:15.155479Z",
          "shell.execute_reply": "2023-08-08T18:24:15.154448Z",
          "shell.execute_reply.started": "2023-08-08T18:24:14.017856Z"
        },
        "id": "8rZiH6xCuIJF",
        "trusted": true
      },
      "outputs": [],
      "source": [
        "enLanguageModelStartEndTrial_N_510_M_0 = BertForSequenceClassification.from_pretrained(\"bert-base-uncased\", num_labels=2)"
      ]
    },
    {
      "cell_type": "code",
      "execution_count": null,
      "metadata": {
        "execution": {
          "iopub.execute_input": "2023-08-08T18:24:15.158433Z",
          "iopub.status.busy": "2023-08-08T18:24:15.157705Z",
          "iopub.status.idle": "2023-08-08T18:24:15.168529Z",
          "shell.execute_reply": "2023-08-08T18:24:15.166639Z",
          "shell.execute_reply.started": "2023-08-08T18:24:15.158394Z"
        },
        "id": "Wfd3Z7gYuIJF",
        "trusted": true
      },
      "outputs": [],
      "source": [
        "training_args = TrainingArguments(output_dir=\"test_trainer\", optim=\"adamw_torch\", warmup_steps=10000, num_train_epochs=1, weight_decay=1e-1, evaluation_strategy=\"epoch\", save_strategy = saveStrategy)"
      ]
    },
    {
      "cell_type": "code",
      "execution_count": null,
      "metadata": {
        "colab": {
          "referenced_widgets": [
            "9e4a4900696f4c828c80ee4f3e654afe",
            "da18c60b17874dbba3d62ee51087cb28",
            "dcb96838f61c4368b7780f1ce2f13964"
          ]
        },
        "execution": {
          "iopub.execute_input": "2023-08-08T18:24:15.719730Z",
          "iopub.status.busy": "2023-08-08T18:24:15.718663Z",
          "iopub.status.idle": "2023-08-08T18:59:55.477504Z",
          "shell.execute_reply": "2023-08-08T18:59:55.476378Z",
          "shell.execute_reply.started": "2023-08-08T18:24:15.719696Z"
        },
        "id": "5KyEmv3yz3T8",
        "outputId": "8c4556d7-0db6-4d9b-8204-12efd360972f",
        "trusted": true
      },
      "outputs": [
        {
          "data": {
            "application/vnd.jupyter.widget-view+json": {
              "model_id": "9e4a4900696f4c828c80ee4f3e654afe",
              "version_major": 2,
              "version_minor": 0
            },
            "text/plain": [
              "  0%|          | 0/25 [00:00<?, ?ba/s]"
            ]
          },
          "metadata": {},
          "output_type": "display_data"
        },
        {
          "data": {
            "application/vnd.jupyter.widget-view+json": {
              "model_id": "da18c60b17874dbba3d62ee51087cb28",
              "version_major": 2,
              "version_minor": 0
            },
            "text/plain": [
              "  0%|          | 0/25 [00:00<?, ?ba/s]"
            ]
          },
          "metadata": {},
          "output_type": "display_data"
        },
        {
          "data": {
            "application/vnd.jupyter.widget-view+json": {
              "model_id": "dcb96838f61c4368b7780f1ce2f13964",
              "version_major": 2,
              "version_minor": 0
            },
            "text/plain": [
              "  0%|          | 0/50 [00:00<?, ?ba/s]"
            ]
          },
          "metadata": {},
          "output_type": "display_data"
        },
        {
          "data": {
            "text/html": [
              "\n",
              "    <div>\n",
              "      \n",
              "      <progress value='3125' max='3125' style='width:300px; height:20px; vertical-align: middle;'></progress>\n",
              "      [3125/3125 30:23, Epoch 1/1]\n",
              "    </div>\n",
              "    <table border=\"1\" class=\"dataframe\">\n",
              "  <thead>\n",
              " <tr style=\"text-align: left;\">\n",
              "      <th>Epoch</th>\n",
              "      <th>Training Loss</th>\n",
              "      <th>Validation Loss</th>\n",
              "      <th>Accuracy</th>\n",
              "    </tr>\n",
              "  </thead>\n",
              "  <tbody>\n",
              "    <tr>\n",
              "      <td>1</td>\n",
              "      <td>0.290300</td>\n",
              "      <td>0.242058</td>\n",
              "      <td>0.927320</td>\n",
              "    </tr>\n",
              "  </tbody>\n",
              "</table><p>"
            ],
            "text/plain": [
              "<IPython.core.display.HTML object>"
            ]
          },
          "metadata": {},
          "output_type": "display_data"
        }
      ],
      "source": [
        "train(enLanguageModelStartEndTrial_N_510_M_0, training_args, imdbDataset, imdbDataset['train'].num_rows)"
      ]
    },
    {
      "cell_type": "code",
      "execution_count": null,
      "metadata": {
        "execution": {
          "iopub.execute_input": "2023-08-08T18:59:55.485943Z",
          "iopub.status.busy": "2023-08-08T18:59:55.481717Z",
          "iopub.status.idle": "2023-08-08T19:11:50.812328Z",
          "shell.execute_reply": "2023-08-08T19:11:50.811146Z",
          "shell.execute_reply.started": "2023-08-08T18:59:55.485883Z"
        },
        "id": "niSuORIrz7F9",
        "outputId": "bd16dfc8-1285-43dd-e59c-e476fbade1e2",
        "trusted": true
      },
      "outputs": [
        {
          "name": "stdout",
          "output_type": "stream",
          "text": [
            "\u001b[1mbert-base-uncased-2-labels-N-510-M-0-head-only\u001b[0m\n",
            "Classification Report Translated Test Set\n",
            "+----------+-------------+----------+------------+-----------+\n",
            "| Class    |   Precision |   Recall |   F1-Score |   Support |\n",
            "|----------+-------------+----------+------------+-----------|\n",
            "| negative |      0.9049 |   0.8307 |     0.8662 |      6000 |\n",
            "| positive |      0.8435 |   0.9127 |     0.8767 |      6000 |\n",
            "+----------+-------------+----------+------------+-----------+\n",
            "Classification Report Test Set\n",
            "+----------+-------------+----------+------------+-----------+\n",
            "| Class    |   Precision |   Recall |   F1-Score |   Support |\n",
            "|----------+-------------+----------+------------+-----------|\n",
            "| negative |      0.9402 |   0.9127 |     0.9262 |     12500 |\n",
            "| positive |      0.9152 |   0.9419 |     0.9284 |     12500 |\n",
            "+----------+-------------+----------+------------+-----------+\n"
          ]
        }
      ],
      "source": [
        "evaluateTranslatedTestSetAndRegularTestSet(enLanguageModelStartEndTrial_N_510_M_0, tokenizer, imdbDataset, translatedTestSet, targetNames, \"bert-base-uncased-2-labels-N-510-M-0-head-only\", batch_size=8)"
      ]
    },
    {
      "cell_type": "markdown",
      "metadata": {
        "id": "KTt5I_0VuIJG"
      },
      "source": [
        "**N=0, M=510; overall 510 tokens**"
      ]
    },
    {
      "cell_type": "code",
      "execution_count": null,
      "metadata": {
        "execution": {
          "iopub.execute_input": "2023-08-08T19:14:17.821953Z",
          "iopub.status.busy": "2023-08-08T19:14:17.820753Z",
          "iopub.status.idle": "2023-08-08T19:14:17.829578Z",
          "shell.execute_reply": "2023-08-08T19:14:17.828609Z",
          "shell.execute_reply.started": "2023-08-08T19:14:17.821911Z"
        },
        "id": "eMqNBUVAuIJI",
        "trusted": true
      },
      "outputs": [],
      "source": [
        "N = 0\n",
        "M = 510\n",
        "reviewType = \"text\""
      ]
    },
    {
      "cell_type": "code",
      "execution_count": null,
      "metadata": {
        "execution": {
          "iopub.execute_input": "2023-08-08T19:20:13.362671Z",
          "iopub.status.busy": "2023-08-08T19:20:13.361673Z",
          "iopub.status.idle": "2023-08-08T19:20:14.409497Z",
          "shell.execute_reply": "2023-08-08T19:20:14.408085Z",
          "shell.execute_reply.started": "2023-08-08T19:20:13.362637Z"
        },
        "id": "ILtyjuxiuIJI",
        "trusted": true
      },
      "outputs": [],
      "source": [
        "enLanguageModelStartEndTrial_N_0_M_510 = BertForSequenceClassification.from_pretrained(\"bert-base-uncased\", num_labels=2)"
      ]
    },
    {
      "cell_type": "code",
      "execution_count": null,
      "metadata": {
        "execution": {
          "iopub.execute_input": "2023-08-08T19:20:14.418184Z",
          "iopub.status.busy": "2023-08-08T19:20:14.415305Z",
          "iopub.status.idle": "2023-08-08T19:20:14.427120Z",
          "shell.execute_reply": "2023-08-08T19:20:14.426113Z",
          "shell.execute_reply.started": "2023-08-08T19:20:14.418146Z"
        },
        "id": "nHsPKrLmuIJI",
        "trusted": true
      },
      "outputs": [],
      "source": [
        "training_args = TrainingArguments(output_dir=\"test_trainer\", optim=\"adamw_torch\", warmup_steps=10000, num_train_epochs=1, weight_decay=1e-1, evaluation_strategy=\"epoch\", save_strategy = saveStrategy)"
      ]
    },
    {
      "cell_type": "code",
      "execution_count": null,
      "metadata": {
        "colab": {
          "referenced_widgets": [
            "4444c4b700d641f58ca01a6096254bad",
            "1af202d1575e4307b7a60073438d6c28",
            "755efa903eb54fd89bd361601ff5f439"
          ]
        },
        "execution": {
          "iopub.execute_input": "2023-08-08T19:20:16.220381Z",
          "iopub.status.busy": "2023-08-08T19:20:16.219577Z",
          "iopub.status.idle": "2023-08-08T19:55:01.488151Z",
          "shell.execute_reply": "2023-08-08T19:55:01.484084Z",
          "shell.execute_reply.started": "2023-08-08T19:20:16.220336Z"
        },
        "id": "KXBDs006uTim",
        "outputId": "e521f043-7ae7-45d5-f35d-c8064637bfd7",
        "trusted": true
      },
      "outputs": [
        {
          "data": {
            "application/vnd.jupyter.widget-view+json": {
              "model_id": "4444c4b700d641f58ca01a6096254bad",
              "version_major": 2,
              "version_minor": 0
            },
            "text/plain": [
              "  0%|          | 0/25 [00:00<?, ?ba/s]"
            ]
          },
          "metadata": {},
          "output_type": "display_data"
        },
        {
          "data": {
            "application/vnd.jupyter.widget-view+json": {
              "model_id": "1af202d1575e4307b7a60073438d6c28",
              "version_major": 2,
              "version_minor": 0
            },
            "text/plain": [
              "  0%|          | 0/25 [00:00<?, ?ba/s]"
            ]
          },
          "metadata": {},
          "output_type": "display_data"
        },
        {
          "data": {
            "application/vnd.jupyter.widget-view+json": {
              "model_id": "755efa903eb54fd89bd361601ff5f439",
              "version_major": 2,
              "version_minor": 0
            },
            "text/plain": [
              "  0%|          | 0/50 [00:00<?, ?ba/s]"
            ]
          },
          "metadata": {},
          "output_type": "display_data"
        },
        {
          "data": {
            "text/html": [
              "\n",
              "    <div>\n",
              "      \n",
              "      <progress value='3125' max='3125' style='width:300px; height:20px; vertical-align: middle;'></progress>\n",
              "      [3125/3125 30:19, Epoch 1/1]\n",
              "    </div>\n",
              "    <table border=\"1\" class=\"dataframe\">\n",
              "  <thead>\n",
              " <tr style=\"text-align: left;\">\n",
              "      <th>Epoch</th>\n",
              "      <th>Training Loss</th>\n",
              "      <th>Validation Loss</th>\n",
              "      <th>Accuracy</th>\n",
              "    </tr>\n",
              "  </thead>\n",
              "  <tbody>\n",
              "    <tr>\n",
              "      <td>1</td>\n",
              "      <td>0.290100</td>\n",
              "      <td>0.255441</td>\n",
              "      <td>0.929000</td>\n",
              "    </tr>\n",
              "  </tbody>\n",
              "</table><p>"
            ],
            "text/plain": [
              "<IPython.core.display.HTML object>"
            ]
          },
          "metadata": {},
          "output_type": "display_data"
        }
      ],
      "source": [
        "train(enLanguageModelStartEndTrial_N_0_M_510, training_args, imdbDataset, imdbDataset['train'].num_rows)"
      ]
    },
    {
      "cell_type": "code",
      "execution_count": null,
      "metadata": {
        "execution": {
          "iopub.execute_input": "2023-08-08T19:55:01.490978Z",
          "iopub.status.busy": "2023-08-08T19:55:01.490355Z",
          "iopub.status.idle": "2023-08-08T20:06:42.609238Z",
          "shell.execute_reply": "2023-08-08T20:06:42.608118Z",
          "shell.execute_reply.started": "2023-08-08T19:55:01.490944Z"
        },
        "id": "hK5SadBZuTin",
        "outputId": "d6fba277-6697-4a40-b541-4e59fbc9b816",
        "trusted": true
      },
      "outputs": [
        {
          "name": "stdout",
          "output_type": "stream",
          "text": [
            "\u001b[1mbert-base-uncased-2-labels-N-0-M-510-tail-only\u001b[0m\n",
            "Classification Report Translated Test Set\n",
            "+----------+-------------+----------+------------+-----------+\n",
            "| Class    |   Precision |   Recall |   F1-Score |   Support |\n",
            "|----------+-------------+----------+------------+-----------|\n",
            "| negative |      0.9006 |   0.8498 |     0.8745 |      6000 |\n",
            "| positive |      0.8578 |   0.9062 |     0.8813 |      6000 |\n",
            "+----------+-------------+----------+------------+-----------+\n",
            "Classification Report Test Set\n",
            "+----------+-------------+----------+------------+-----------+\n",
            "| Class    |   Precision |   Recall |   F1-Score |   Support |\n",
            "|----------+-------------+----------+------------+-----------|\n",
            "| negative |      0.9247 |   0.9341 |     0.9294 |     12500 |\n",
            "| positive |      0.9334 |   0.9239 |     0.9286 |     12500 |\n",
            "+----------+-------------+----------+------------+-----------+\n"
          ]
        }
      ],
      "source": [
        "evaluateTranslatedTestSetAndRegularTestSet(enLanguageModelStartEndTrial_N_0_M_510, tokenizer, imdbDataset, translatedTestSet, targetNames, \"bert-base-uncased-2-labels-N-0-M-510-tail-only\", batch_size=8)"
      ]
    },
    {
      "cell_type": "markdown",
      "metadata": {
        "id": "VR_aqapiuIJI"
      },
      "source": [
        "**XLNET IMDB**"
      ]
    },
    {
      "cell_type": "markdown",
      "metadata": {
        "id": "QnihgUu9uIJI"
      },
      "source": [
        "**N=128, M=382; overall 510 tokens**"
      ]
    },
    {
      "cell_type": "code",
      "execution_count": null,
      "metadata": {
        "execution": {
          "iopub.execute_input": "2023-08-09T19:26:04.062538Z",
          "iopub.status.busy": "2023-08-09T19:26:04.062125Z",
          "iopub.status.idle": "2023-08-09T19:26:04.067701Z",
          "shell.execute_reply": "2023-08-09T19:26:04.066600Z",
          "shell.execute_reply.started": "2023-08-09T19:26:04.062505Z"
        },
        "id": "BAFqieu5uIJI",
        "trusted": true
      },
      "outputs": [],
      "source": [
        "N = 128\n",
        "M = 382\n",
        "reviewType = \"text\""
      ]
    },
    {
      "cell_type": "code",
      "execution_count": null,
      "metadata": {
        "colab": {
          "referenced_widgets": [
            "a99e82db6f4b4f1bb4e6a07225cc275c",
            "cc52c26332794615b445f25f57f5e8dc",
            "2103f0440bbf4030842d4aeb2539053b",
            "5f865e2477ae40e28bf66511d38de11d"
          ]
        },
        "execution": {
          "iopub.execute_input": "2023-08-09T19:26:04.426395Z",
          "iopub.status.busy": "2023-08-09T19:26:04.425608Z",
          "iopub.status.idle": "2023-08-09T19:26:09.031172Z",
          "shell.execute_reply": "2023-08-09T19:26:09.030206Z",
          "shell.execute_reply.started": "2023-08-09T19:26:04.426354Z"
        },
        "id": "SWkcvgSpuIJI",
        "outputId": "8c69b45a-858b-4bee-a401-bcbe0818378b",
        "trusted": true
      },
      "outputs": [
        {
          "data": {
            "application/vnd.jupyter.widget-view+json": {
              "model_id": "a99e82db6f4b4f1bb4e6a07225cc275c",
              "version_major": 2,
              "version_minor": 0
            },
            "text/plain": [
              "Downloading (…)lve/main/config.json:   0%|          | 0.00/760 [00:00<?, ?B/s]"
            ]
          },
          "metadata": {},
          "output_type": "display_data"
        },
        {
          "data": {
            "application/vnd.jupyter.widget-view+json": {
              "model_id": "cc52c26332794615b445f25f57f5e8dc",
              "version_major": 2,
              "version_minor": 0
            },
            "text/plain": [
              "Downloading (…)ve/main/spiece.model:   0%|          | 0.00/798k [00:00<?, ?B/s]"
            ]
          },
          "metadata": {},
          "output_type": "display_data"
        },
        {
          "data": {
            "application/vnd.jupyter.widget-view+json": {
              "model_id": "2103f0440bbf4030842d4aeb2539053b",
              "version_major": 2,
              "version_minor": 0
            },
            "text/plain": [
              "Downloading (…)/main/tokenizer.json:   0%|          | 0.00/1.38M [00:00<?, ?B/s]"
            ]
          },
          "metadata": {},
          "output_type": "display_data"
        },
        {
          "data": {
            "application/vnd.jupyter.widget-view+json": {
              "model_id": "5f865e2477ae40e28bf66511d38de11d",
              "version_major": 2,
              "version_minor": 0
            },
            "text/plain": [
              "Downloading pytorch_model.bin:   0%|          | 0.00/467M [00:00<?, ?B/s]"
            ]
          },
          "metadata": {},
          "output_type": "display_data"
        },
        {
          "name": "stderr",
          "output_type": "stream",
          "text": [
            "Some weights of the model checkpoint at xlnet-base-cased were not used when initializing XLNetForSequenceClassification: ['lm_loss.weight', 'lm_loss.bias']\n",
            "- This IS expected if you are initializing XLNetForSequenceClassification from the checkpoint of a model trained on another task or with another architecture (e.g. initializing a BertForSequenceClassification model from a BertForPreTraining model).\n",
            "- This IS NOT expected if you are initializing XLNetForSequenceClassification from the checkpoint of a model that you expect to be exactly identical (initializing a BertForSequenceClassification model from a BertForSequenceClassification model).\n",
            "Some weights of XLNetForSequenceClassification were not initialized from the model checkpoint at xlnet-base-cased and are newly initialized: ['logits_proj.weight', 'sequence_summary.summary.bias', 'logits_proj.bias', 'sequence_summary.summary.weight']\n",
            "You should probably TRAIN this model on a down-stream task to be able to use it for predictions and inference.\n"
          ]
        }
      ],
      "source": [
        "tokenizer = AutoTokenizer.from_pretrained(\"xlnet-base-cased\")\n",
        "XLNETModel_N_128_M_382 = XLNetForSequenceClassification.from_pretrained(\"xlnet-base-cased\", num_labels=2)"
      ]
    },
    {
      "cell_type": "code",
      "execution_count": null,
      "metadata": {
        "execution": {
          "iopub.execute_input": "2023-08-09T19:26:19.139015Z",
          "iopub.status.busy": "2023-08-09T19:26:19.138646Z",
          "iopub.status.idle": "2023-08-09T19:26:19.149499Z",
          "shell.execute_reply": "2023-08-09T19:26:19.148256Z",
          "shell.execute_reply.started": "2023-08-09T19:26:19.138984Z"
        },
        "id": "uLipxMduuIJJ",
        "trusted": true
      },
      "outputs": [],
      "source": [
        "training_args = TrainingArguments(output_dir=\"test_trainer\", optim=\"adamw_torch\", warmup_steps=10000, num_train_epochs=1, weight_decay=1e-1, evaluation_strategy=\"epoch\", save_strategy = saveStrategy)"
      ]
    },
    {
      "cell_type": "code",
      "execution_count": null,
      "metadata": {
        "colab": {
          "referenced_widgets": [
            "ccc421e507bb4ba5956c6306bd9b80ed",
            "8053f98a9e3a43f7aff38d6323f64546",
            "d1d3a9c5ef0f4ecaa94769e03e91c1c7"
          ]
        },
        "execution": {
          "iopub.execute_input": "2023-08-09T19:26:19.338365Z",
          "iopub.status.busy": "2023-08-09T19:26:19.337970Z",
          "iopub.status.idle": "2023-08-09T20:41:28.509529Z",
          "shell.execute_reply": "2023-08-09T20:41:28.508478Z",
          "shell.execute_reply.started": "2023-08-09T19:26:19.338334Z"
        },
        "id": "vkRHmYTFuIJJ",
        "outputId": "01a58d48-4be0-404f-912c-04273fbb479c",
        "trusted": true
      },
      "outputs": [
        {
          "data": {
            "application/vnd.jupyter.widget-view+json": {
              "model_id": "ccc421e507bb4ba5956c6306bd9b80ed",
              "version_major": 2,
              "version_minor": 0
            },
            "text/plain": [
              "  0%|          | 0/25 [00:00<?, ?ba/s]"
            ]
          },
          "metadata": {},
          "output_type": "display_data"
        },
        {
          "data": {
            "application/vnd.jupyter.widget-view+json": {
              "model_id": "8053f98a9e3a43f7aff38d6323f64546",
              "version_major": 2,
              "version_minor": 0
            },
            "text/plain": [
              "  0%|          | 0/25 [00:00<?, ?ba/s]"
            ]
          },
          "metadata": {},
          "output_type": "display_data"
        },
        {
          "data": {
            "application/vnd.jupyter.widget-view+json": {
              "model_id": "d1d3a9c5ef0f4ecaa94769e03e91c1c7",
              "version_major": 2,
              "version_minor": 0
            },
            "text/plain": [
              "  0%|          | 0/50 [00:00<?, ?ba/s]"
            ]
          },
          "metadata": {},
          "output_type": "display_data"
        },
        {
          "name": "stderr",
          "output_type": "stream",
          "text": [
            "\u001b[34m\u001b[1mwandb\u001b[0m: Logging into wandb.ai. (Learn how to deploy a W&B server locally: https://wandb.me/wandb-server)\n",
            "\u001b[34m\u001b[1mwandb\u001b[0m: You can find your API key in your browser here: https://wandb.ai/authorize\n",
            "\u001b[34m\u001b[1mwandb\u001b[0m: Paste an API key from your profile and hit enter, or press ctrl+c to quit:"
          ]
        },
        {
          "name": "stdout",
          "output_type": "stream",
          "text": [
            "  ········································\n"
          ]
        },
        {
          "name": "stderr",
          "output_type": "stream",
          "text": [
            "\u001b[34m\u001b[1mwandb\u001b[0m: Appending key for api.wandb.ai to your netrc file: /root/.netrc\n"
          ]
        },
        {
          "data": {
            "text/html": [
              "wandb version 0.15.8 is available!  To upgrade, please run:\n",
              " $ pip install wandb --upgrade"
            ],
            "text/plain": [
              "<IPython.core.display.HTML object>"
            ]
          },
          "metadata": {},
          "output_type": "display_data"
        },
        {
          "data": {
            "text/html": [
              "Tracking run with wandb version 0.15.5"
            ],
            "text/plain": [
              "<IPython.core.display.HTML object>"
            ]
          },
          "metadata": {},
          "output_type": "display_data"
        },
        {
          "data": {
            "text/html": [
              "Run data is saved locally in <code>/kaggle/working/wandb/run-20230809_193349-ksxbh7v0</code>"
            ],
            "text/plain": [
              "<IPython.core.display.HTML object>"
            ]
          },
          "metadata": {},
          "output_type": "display_data"
        },
        {
          "data": {
            "text/html": [
              "Syncing run <strong><a href='https://wandb.ai/nadav_igor/huggingface/runs/ksxbh7v0' target=\"_blank\">fallen-night-27</a></strong> to <a href='https://wandb.ai/nadav_igor/huggingface' target=\"_blank\">Weights & Biases</a> (<a href='https://wandb.me/run' target=\"_blank\">docs</a>)<br/>"
            ],
            "text/plain": [
              "<IPython.core.display.HTML object>"
            ]
          },
          "metadata": {},
          "output_type": "display_data"
        },
        {
          "data": {
            "text/html": [
              " View project at <a href='https://wandb.ai/nadav_igor/huggingface' target=\"_blank\">https://wandb.ai/nadav_igor/huggingface</a>"
            ],
            "text/plain": [
              "<IPython.core.display.HTML object>"
            ]
          },
          "metadata": {},
          "output_type": "display_data"
        },
        {
          "data": {
            "text/html": [
              " View run at <a href='https://wandb.ai/nadav_igor/huggingface/runs/ksxbh7v0' target=\"_blank\">https://wandb.ai/nadav_igor/huggingface/runs/ksxbh7v0</a>"
            ],
            "text/plain": [
              "<IPython.core.display.HTML object>"
            ]
          },
          "metadata": {},
          "output_type": "display_data"
        },
        {
          "data": {
            "text/html": [
              "\n",
              "    <div>\n",
              "      \n",
              "      <progress value='3125' max='3125' style='width:300px; height:20px; vertical-align: middle;'></progress>\n",
              "      [3125/3125 1:07:04, Epoch 1/1]\n",
              "    </div>\n",
              "    <table border=\"1\" class=\"dataframe\">\n",
              "  <thead>\n",
              " <tr style=\"text-align: left;\">\n",
              "      <th>Epoch</th>\n",
              "      <th>Training Loss</th>\n",
              "      <th>Validation Loss</th>\n",
              "      <th>Accuracy</th>\n",
              "    </tr>\n",
              "  </thead>\n",
              "  <tbody>\n",
              "    <tr>\n",
              "      <td>1</td>\n",
              "      <td>0.274500</td>\n",
              "      <td>0.290929</td>\n",
              "      <td>0.941920</td>\n",
              "    </tr>\n",
              "  </tbody>\n",
              "</table><p>"
            ],
            "text/plain": [
              "<IPython.core.display.HTML object>"
            ]
          },
          "metadata": {},
          "output_type": "display_data"
        }
      ],
      "source": [
        "train(XLNETModel_N_128_M_382, training_args, imdbDataset, imdbDataset['train'].num_rows)"
      ]
    },
    {
      "cell_type": "code",
      "execution_count": null,
      "metadata": {
        "execution": {
          "iopub.execute_input": "2023-08-09T20:41:28.516147Z",
          "iopub.status.busy": "2023-08-09T20:41:28.514899Z",
          "iopub.status.idle": "2023-08-09T21:10:19.347685Z",
          "shell.execute_reply": "2023-08-09T21:10:19.346553Z",
          "shell.execute_reply.started": "2023-08-09T20:41:28.516107Z"
        },
        "id": "FcB0g-S6uIJJ",
        "outputId": "e2947a09-26ad-4e1a-87c9-1582e8011c6f",
        "trusted": true
      },
      "outputs": [
        {
          "name": "stdout",
          "output_type": "stream",
          "text": [
            "\u001b[1mxlnet-base-cased-2-labels-N-128-M-382-head+tail\u001b[0m\n",
            "Classification Report Translated Test Set\n",
            "+----------+-------------+----------+------------+-----------+\n",
            "| Class    |   Precision |   Recall |   F1-Score |   Support |\n",
            "|----------+-------------+----------+------------+-----------|\n",
            "| negative |      0.8253 |   0.8875 |     0.8553 |      6000 |\n",
            "| positive |      0.8783 |   0.8122 |     0.8440 |      6000 |\n",
            "+----------+-------------+----------+------------+-----------+\n",
            "Classification Report Test Set\n",
            "+----------+-------------+----------+------------+-----------+\n",
            "| Class    |   Precision |   Recall |   F1-Score |   Support |\n",
            "|----------+-------------+----------+------------+-----------|\n",
            "| negative |      0.9231 |   0.9636 |     0.9429 |     12500 |\n",
            "| positive |      0.9619 |   0.9198 |     0.9404 |     12500 |\n",
            "+----------+-------------+----------+------------+-----------+\n"
          ]
        }
      ],
      "source": [
        "evaluateTranslatedTestSetAndRegularTestSet(XLNETModel_N_128_M_382, tokenizer, imdbDataset, translatedTestSet, targetNames, \"xlnet-base-cased-2-labels-N-128-M-382-head+tail\", batch_size=8)"
      ]
    },
    {
      "cell_type": "markdown",
      "metadata": {
        "id": "jdgmU6EouIJJ"
      },
      "source": [
        "**N=64, M=64, overall 128 tokens**"
      ]
    },
    {
      "cell_type": "code",
      "execution_count": null,
      "metadata": {
        "execution": {
          "iopub.execute_input": "2023-08-09T21:10:19.349892Z",
          "iopub.status.busy": "2023-08-09T21:10:19.349307Z",
          "iopub.status.idle": "2023-08-09T21:10:19.356874Z",
          "shell.execute_reply": "2023-08-09T21:10:19.355692Z",
          "shell.execute_reply.started": "2023-08-09T21:10:19.349854Z"
        },
        "id": "EfCJEeKBuIJJ",
        "trusted": true
      },
      "outputs": [],
      "source": [
        "N = 64\n",
        "M = 64\n",
        "reviewType = \"text\""
      ]
    },
    {
      "cell_type": "code",
      "execution_count": null,
      "metadata": {
        "execution": {
          "iopub.execute_input": "2023-08-09T21:10:19.361033Z",
          "iopub.status.busy": "2023-08-09T21:10:19.360283Z",
          "iopub.status.idle": "2023-08-09T21:10:20.761422Z",
          "shell.execute_reply": "2023-08-09T21:10:20.760294Z",
          "shell.execute_reply.started": "2023-08-09T21:10:19.360997Z"
        },
        "id": "zXHKKR-AuIJJ",
        "outputId": "f7b5e0b1-e8fa-4f4d-ecff-d5ec671d248d",
        "trusted": true
      },
      "outputs": [
        {
          "name": "stderr",
          "output_type": "stream",
          "text": [
            "Some weights of the model checkpoint at xlnet-base-cased were not used when initializing XLNetForSequenceClassification: ['lm_loss.weight', 'lm_loss.bias']\n",
            "- This IS expected if you are initializing XLNetForSequenceClassification from the checkpoint of a model trained on another task or with another architecture (e.g. initializing a BertForSequenceClassification model from a BertForPreTraining model).\n",
            "- This IS NOT expected if you are initializing XLNetForSequenceClassification from the checkpoint of a model that you expect to be exactly identical (initializing a BertForSequenceClassification model from a BertForSequenceClassification model).\n",
            "Some weights of XLNetForSequenceClassification were not initialized from the model checkpoint at xlnet-base-cased and are newly initialized: ['logits_proj.weight', 'sequence_summary.summary.bias', 'logits_proj.bias', 'sequence_summary.summary.weight']\n",
            "You should probably TRAIN this model on a down-stream task to be able to use it for predictions and inference.\n"
          ]
        }
      ],
      "source": [
        "XLNETModel_N_64_M_64 = XLNetForSequenceClassification.from_pretrained(\"xlnet-base-cased\", num_labels=2)"
      ]
    },
    {
      "cell_type": "code",
      "execution_count": null,
      "metadata": {
        "execution": {
          "iopub.execute_input": "2023-08-09T21:10:20.763600Z",
          "iopub.status.busy": "2023-08-09T21:10:20.762980Z",
          "iopub.status.idle": "2023-08-09T21:10:20.773644Z",
          "shell.execute_reply": "2023-08-09T21:10:20.772445Z",
          "shell.execute_reply.started": "2023-08-09T21:10:20.763561Z"
        },
        "id": "B27NOh3puIJJ",
        "trusted": true
      },
      "outputs": [],
      "source": [
        "training_args = TrainingArguments(output_dir=\"test_trainer\", optim=\"adamw_torch\", warmup_steps=10000, num_train_epochs=1, weight_decay=1e-1, evaluation_strategy=\"epoch\", save_strategy = saveStrategy)"
      ]
    },
    {
      "cell_type": "code",
      "execution_count": null,
      "metadata": {
        "colab": {
          "referenced_widgets": [
            "10d7ea45d23a411382344b475a4013d1",
            "e8c00f8cbcad4b6982e64da86207d92b",
            "ef9e37f83adf4cd084e44d92d537bcd0"
          ]
        },
        "execution": {
          "iopub.execute_input": "2023-08-09T21:10:20.775885Z",
          "iopub.status.busy": "2023-08-09T21:10:20.775268Z",
          "iopub.status.idle": "2023-08-09T21:24:21.525819Z",
          "shell.execute_reply": "2023-08-09T21:24:21.524527Z",
          "shell.execute_reply.started": "2023-08-09T21:10:20.775844Z"
        },
        "id": "ZziRF-R_uIJJ",
        "outputId": "a38da1bb-dec4-4c9f-d806-5abe463b2491",
        "trusted": true
      },
      "outputs": [
        {
          "data": {
            "application/vnd.jupyter.widget-view+json": {
              "model_id": "10d7ea45d23a411382344b475a4013d1",
              "version_major": 2,
              "version_minor": 0
            },
            "text/plain": [
              "  0%|          | 0/25 [00:00<?, ?ba/s]"
            ]
          },
          "metadata": {},
          "output_type": "display_data"
        },
        {
          "data": {
            "application/vnd.jupyter.widget-view+json": {
              "model_id": "e8c00f8cbcad4b6982e64da86207d92b",
              "version_major": 2,
              "version_minor": 0
            },
            "text/plain": [
              "  0%|          | 0/25 [00:00<?, ?ba/s]"
            ]
          },
          "metadata": {},
          "output_type": "display_data"
        },
        {
          "data": {
            "application/vnd.jupyter.widget-view+json": {
              "model_id": "ef9e37f83adf4cd084e44d92d537bcd0",
              "version_major": 2,
              "version_minor": 0
            },
            "text/plain": [
              "  0%|          | 0/50 [00:00<?, ?ba/s]"
            ]
          },
          "metadata": {},
          "output_type": "display_data"
        },
        {
          "data": {
            "text/html": [
              "\n",
              "    <div>\n",
              "      \n",
              "      <progress value='3125' max='3125' style='width:300px; height:20px; vertical-align: middle;'></progress>\n",
              "      [3125/3125 10:39, Epoch 1/1]\n",
              "    </div>\n",
              "    <table border=\"1\" class=\"dataframe\">\n",
              "  <thead>\n",
              " <tr style=\"text-align: left;\">\n",
              "      <th>Epoch</th>\n",
              "      <th>Training Loss</th>\n",
              "      <th>Validation Loss</th>\n",
              "      <th>Accuracy</th>\n",
              "    </tr>\n",
              "  </thead>\n",
              "  <tbody>\n",
              "    <tr>\n",
              "      <td>1</td>\n",
              "      <td>0.325400</td>\n",
              "      <td>0.306570</td>\n",
              "      <td>0.914360</td>\n",
              "    </tr>\n",
              "  </tbody>\n",
              "</table><p>"
            ],
            "text/plain": [
              "<IPython.core.display.HTML object>"
            ]
          },
          "metadata": {},
          "output_type": "display_data"
        }
      ],
      "source": [
        "train(XLNETModel_N_64_M_64, training_args, imdbDataset, imdbDataset['train'].num_rows)"
      ]
    },
    {
      "cell_type": "code",
      "execution_count": null,
      "metadata": {
        "execution": {
          "iopub.execute_input": "2023-08-09T21:24:21.528307Z",
          "iopub.status.busy": "2023-08-09T21:24:21.527585Z",
          "iopub.status.idle": "2023-08-09T21:28:41.151316Z",
          "shell.execute_reply": "2023-08-09T21:28:41.150312Z",
          "shell.execute_reply.started": "2023-08-09T21:24:21.528263Z"
        },
        "id": "k_v3mzj0uIJJ",
        "outputId": "442b4c9b-bdcc-4a74-d525-a7e587586cab",
        "trusted": true
      },
      "outputs": [
        {
          "name": "stdout",
          "output_type": "stream",
          "text": [
            "\u001b[1mxlnet-base-cased-2-labels-N-64-M-64-head+tail\u001b[0m\n",
            "Classification Report Translated Test Set\n",
            "+----------+-------------+----------+------------+-----------+\n",
            "| Class    |   Precision |   Recall |   F1-Score |   Support |\n",
            "|----------+-------------+----------+------------+-----------|\n",
            "| negative |      0.8829 |   0.8800 |     0.8815 |      6000 |\n",
            "| positive |      0.8804 |   0.8833 |     0.8819 |      6000 |\n",
            "+----------+-------------+----------+------------+-----------+\n",
            "Classification Report Test Set\n",
            "+----------+-------------+----------+------------+-----------+\n",
            "| Class    |   Precision |   Recall |   F1-Score |   Support |\n",
            "|----------+-------------+----------+------------+-----------|\n",
            "| negative |      0.8892 |   0.9465 |     0.9170 |     12500 |\n",
            "| positive |      0.9428 |   0.8821 |     0.9114 |     12500 |\n",
            "+----------+-------------+----------+------------+-----------+\n"
          ]
        }
      ],
      "source": [
        "evaluateTranslatedTestSetAndRegularTestSet(XLNETModel_N_64_M_64, tokenizer, imdbDataset, translatedTestSet, targetNames, \"xlnet-base-cased-2-labels-N-64-M-64-head+tail\", batch_size=8)"
      ]
    },
    {
      "cell_type": "markdown",
      "metadata": {
        "id": "xz02XXu7uIJK"
      },
      "source": [
        "**N=510, M=0; overall 510 tokens**"
      ]
    },
    {
      "cell_type": "code",
      "execution_count": null,
      "metadata": {
        "execution": {
          "iopub.execute_input": "2023-08-09T21:28:41.153787Z",
          "iopub.status.busy": "2023-08-09T21:28:41.153086Z",
          "iopub.status.idle": "2023-08-09T21:28:41.159615Z",
          "shell.execute_reply": "2023-08-09T21:28:41.158540Z",
          "shell.execute_reply.started": "2023-08-09T21:28:41.153749Z"
        },
        "id": "X0iJQ8YbuIJK",
        "trusted": true
      },
      "outputs": [],
      "source": [
        "N = 510\n",
        "M = 0\n",
        "reviewType = \"text\""
      ]
    },
    {
      "cell_type": "code",
      "execution_count": null,
      "metadata": {
        "execution": {
          "iopub.execute_input": "2023-08-09T21:28:41.162007Z",
          "iopub.status.busy": "2023-08-09T21:28:41.161280Z",
          "iopub.status.idle": "2023-08-09T21:28:42.596329Z",
          "shell.execute_reply": "2023-08-09T21:28:42.595306Z",
          "shell.execute_reply.started": "2023-08-09T21:28:41.161969Z"
        },
        "id": "yBcY7w1YuIJK",
        "outputId": "a0eb1729-7705-4bd1-916b-fcc1d3db5662",
        "trusted": true
      },
      "outputs": [
        {
          "name": "stderr",
          "output_type": "stream",
          "text": [
            "Some weights of the model checkpoint at xlnet-base-cased were not used when initializing XLNetForSequenceClassification: ['lm_loss.weight', 'lm_loss.bias']\n",
            "- This IS expected if you are initializing XLNetForSequenceClassification from the checkpoint of a model trained on another task or with another architecture (e.g. initializing a BertForSequenceClassification model from a BertForPreTraining model).\n",
            "- This IS NOT expected if you are initializing XLNetForSequenceClassification from the checkpoint of a model that you expect to be exactly identical (initializing a BertForSequenceClassification model from a BertForSequenceClassification model).\n",
            "Some weights of XLNetForSequenceClassification were not initialized from the model checkpoint at xlnet-base-cased and are newly initialized: ['logits_proj.weight', 'sequence_summary.summary.bias', 'logits_proj.bias', 'sequence_summary.summary.weight']\n",
            "You should probably TRAIN this model on a down-stream task to be able to use it for predictions and inference.\n"
          ]
        }
      ],
      "source": [
        "XLNETModel_N_510_M_0 = XLNetForSequenceClassification.from_pretrained(\"xlnet-base-cased\", num_labels=2)"
      ]
    },
    {
      "cell_type": "code",
      "execution_count": null,
      "metadata": {
        "execution": {
          "iopub.execute_input": "2023-08-09T21:28:42.601343Z",
          "iopub.status.busy": "2023-08-09T21:28:42.600674Z",
          "iopub.status.idle": "2023-08-09T21:28:42.612524Z",
          "shell.execute_reply": "2023-08-09T21:28:42.609357Z",
          "shell.execute_reply.started": "2023-08-09T21:28:42.601307Z"
        },
        "id": "PGsdscxwuIJK",
        "trusted": true
      },
      "outputs": [],
      "source": [
        "training_args = TrainingArguments(output_dir=\"test_trainer\", optim=\"adamw_torch\", warmup_steps=10000, num_train_epochs=1, weight_decay=1e-1, evaluation_strategy=\"epoch\", save_strategy = saveStrategy)"
      ]
    },
    {
      "cell_type": "code",
      "execution_count": null,
      "metadata": {
        "execution": {
          "iopub.execute_input": "2023-08-09T21:28:42.615437Z",
          "iopub.status.busy": "2023-08-09T21:28:42.614753Z",
          "iopub.status.idle": "2023-08-09T21:39:23.214266Z",
          "shell.execute_reply": "2023-08-09T21:39:23.211297Z",
          "shell.execute_reply.started": "2023-08-09T21:28:42.615403Z"
        },
        "id": "-p1fX7DnuIJK",
        "outputId": "35503962-10ff-4fcb-bc64-fc0027aa7d53",
        "trusted": true
      },
      "outputs": [
        {
          "data": {
            "text/html": [
              "\n",
              "    <div>\n",
              "      \n",
              "      <progress value='3125' max='3125' style='width:300px; height:20px; vertical-align: middle;'></progress>\n",
              "      [3125/3125 10:39, Epoch 1/1]\n",
              "    </div>\n",
              "    <table border=\"1\" class=\"dataframe\">\n",
              "  <thead>\n",
              " <tr style=\"text-align: left;\">\n",
              "      <th>Epoch</th>\n",
              "      <th>Training Loss</th>\n",
              "      <th>Validation Loss</th>\n",
              "      <th>Accuracy</th>\n",
              "    </tr>\n",
              "  </thead>\n",
              "  <tbody>\n",
              "    <tr>\n",
              "      <td>1</td>\n",
              "      <td>0.325400</td>\n",
              "      <td>0.306570</td>\n",
              "      <td>0.914360</td>\n",
              "    </tr>\n",
              "  </tbody>\n",
              "</table><p>"
            ],
            "text/plain": [
              "<IPython.core.display.HTML object>"
            ]
          },
          "metadata": {},
          "output_type": "display_data"
        }
      ],
      "source": [
        "train(XLNETModel_N_510_M_0, training_args, imdbDataset, imdbDataset['train'].num_rows)"
      ]
    },
    {
      "cell_type": "code",
      "execution_count": null,
      "metadata": {
        "execution": {
          "iopub.execute_input": "2023-08-09T21:59:26.254181Z",
          "iopub.status.busy": "2023-08-09T21:59:26.253481Z",
          "iopub.status.idle": "2023-08-09T22:28:25.236756Z",
          "shell.execute_reply": "2023-08-09T22:28:25.235635Z",
          "shell.execute_reply.started": "2023-08-09T21:59:26.254138Z"
        },
        "id": "DSqG-f0WuIJK",
        "outputId": "939e0d34-1dd6-4a7e-9bbe-d615ada73f19",
        "trusted": true
      },
      "outputs": [
        {
          "name": "stdout",
          "output_type": "stream",
          "text": [
            "\u001b[1mxlnet-base-cased-2-labels-N-510-M-0-head-only\u001b[0m\n",
            "Classification Report Translated Test Set\n",
            "+----------+-------------+----------+------------+-----------+\n",
            "| Class    |   Precision |   Recall |   F1-Score |   Support |\n",
            "|----------+-------------+----------+------------+-----------|\n",
            "| negative |      0.8821 |   0.8800 |     0.8810 |      6000 |\n",
            "| positive |      0.8803 |   0.8823 |     0.8813 |      6000 |\n",
            "+----------+-------------+----------+------------+-----------+\n",
            "Classification Report Test Set\n",
            "+----------+-------------+----------+------------+-----------+\n",
            "| Class    |   Precision |   Recall |   F1-Score |   Support |\n",
            "|----------+-------------+----------+------------+-----------|\n",
            "| negative |      0.8878 |   0.9755 |     0.9296 |     12500 |\n",
            "| positive |      0.9728 |   0.8767 |     0.9223 |     12500 |\n",
            "+----------+-------------+----------+------------+-----------+\n"
          ]
        }
      ],
      "source": [
        "evaluateTranslatedTestSetAndRegularTestSet(XLNETModel_N_510_M_0, tokenizer, imdbDataset, translatedTestSet, targetNames, \"xlnet-base-cased-2-labels-N-510-M-0-head-only\", batch_size=8)"
      ]
    },
    {
      "cell_type": "markdown",
      "metadata": {
        "id": "W3zyCUDJuIJK"
      },
      "source": [
        "**N=0, M=510; overall 510 tokens**"
      ]
    },
    {
      "cell_type": "code",
      "execution_count": null,
      "metadata": {
        "execution": {
          "iopub.execute_input": "2023-08-09T22:28:25.242019Z",
          "iopub.status.busy": "2023-08-09T22:28:25.241674Z",
          "iopub.status.idle": "2023-08-09T22:28:25.252143Z",
          "shell.execute_reply": "2023-08-09T22:28:25.251084Z",
          "shell.execute_reply.started": "2023-08-09T22:28:25.241991Z"
        },
        "id": "6bD6Fji8uIJK",
        "trusted": true
      },
      "outputs": [],
      "source": [
        "N = 0\n",
        "M = 510\n",
        "reviewType = \"text\""
      ]
    },
    {
      "cell_type": "code",
      "execution_count": null,
      "metadata": {
        "execution": {
          "iopub.execute_input": "2023-08-09T22:28:25.254698Z",
          "iopub.status.busy": "2023-08-09T22:28:25.253903Z",
          "iopub.status.idle": "2023-08-09T22:28:26.811635Z",
          "shell.execute_reply": "2023-08-09T22:28:26.810215Z",
          "shell.execute_reply.started": "2023-08-09T22:28:25.254664Z"
        },
        "id": "WQArTHPGuIJK",
        "outputId": "286b0739-4b1b-4f07-bc96-72fe2d2c48ad",
        "trusted": true
      },
      "outputs": [
        {
          "name": "stderr",
          "output_type": "stream",
          "text": [
            "Some weights of the model checkpoint at xlnet-base-cased were not used when initializing XLNetForSequenceClassification: ['lm_loss.weight', 'lm_loss.bias']\n",
            "- This IS expected if you are initializing XLNetForSequenceClassification from the checkpoint of a model trained on another task or with another architecture (e.g. initializing a BertForSequenceClassification model from a BertForPreTraining model).\n",
            "- This IS NOT expected if you are initializing XLNetForSequenceClassification from the checkpoint of a model that you expect to be exactly identical (initializing a BertForSequenceClassification model from a BertForSequenceClassification model).\n",
            "Some weights of XLNetForSequenceClassification were not initialized from the model checkpoint at xlnet-base-cased and are newly initialized: ['logits_proj.weight', 'sequence_summary.summary.bias', 'logits_proj.bias', 'sequence_summary.summary.weight']\n",
            "You should probably TRAIN this model on a down-stream task to be able to use it for predictions and inference.\n"
          ]
        }
      ],
      "source": [
        "XLNETModel_N_0_M_510 = XLNetForSequenceClassification.from_pretrained(\"xlnet-base-cased\", num_labels=2)"
      ]
    },
    {
      "cell_type": "code",
      "execution_count": null,
      "metadata": {
        "execution": {
          "iopub.execute_input": "2023-08-09T22:28:26.819141Z",
          "iopub.status.busy": "2023-08-09T22:28:26.816875Z",
          "iopub.status.idle": "2023-08-09T22:28:26.828851Z",
          "shell.execute_reply": "2023-08-09T22:28:26.828014Z",
          "shell.execute_reply.started": "2023-08-09T22:28:26.819105Z"
        },
        "id": "StnZtzRSuIJK",
        "trusted": true
      },
      "outputs": [],
      "source": [
        "training_args = TrainingArguments(output_dir=\"test_trainer\", optim=\"adamw_torch\", warmup_steps=10000, num_train_epochs=1, weight_decay=1e-1, evaluation_strategy=\"epoch\", save_strategy = saveStrategy)"
      ]
    },
    {
      "cell_type": "code",
      "execution_count": null,
      "metadata": {
        "execution": {
          "iopub.execute_input": "2023-08-09T22:28:26.835306Z",
          "iopub.status.busy": "2023-08-09T22:28:26.832930Z",
          "iopub.status.idle": "2023-08-09T22:39:10.337910Z",
          "shell.execute_reply": "2023-08-09T22:39:10.336259Z",
          "shell.execute_reply.started": "2023-08-09T22:28:26.835253Z"
        },
        "id": "Uo6mhG17uIJK",
        "outputId": "a77441cb-d04f-43d6-9e23-284ad6e6709f",
        "trusted": true
      },
      "outputs": [
        {
          "data": {
            "text/html": [
              "\n",
              "    <div>\n",
              "      \n",
              "      <progress value='3125' max='3125' style='width:300px; height:20px; vertical-align: middle;'></progress>\n",
              "      [3125/3125 10:42, Epoch 1/1]\n",
              "    </div>\n",
              "    <table border=\"1\" class=\"dataframe\">\n",
              "  <thead>\n",
              " <tr style=\"text-align: left;\">\n",
              "      <th>Epoch</th>\n",
              "      <th>Training Loss</th>\n",
              "      <th>Validation Loss</th>\n",
              "      <th>Accuracy</th>\n",
              "    </tr>\n",
              "  </thead>\n",
              "  <tbody>\n",
              "    <tr>\n",
              "      <td>1</td>\n",
              "      <td>0.329900</td>\n",
              "      <td>0.242945</td>\n",
              "      <td>0.918080</td>\n",
              "    </tr>\n",
              "  </tbody>\n",
              "</table><p>"
            ],
            "text/plain": [
              "<IPython.core.display.HTML object>"
            ]
          },
          "metadata": {},
          "output_type": "display_data"
        }
      ],
      "source": [
        "train(XLNETModel_N_0_M_510, training_args, imdbDataset, imdbDataset['train'].num_rows)"
      ]
    },
    {
      "cell_type": "code",
      "execution_count": null,
      "metadata": {
        "execution": {
          "iopub.execute_input": "2023-08-09T22:39:10.340194Z",
          "iopub.status.busy": "2023-08-09T22:39:10.339578Z",
          "iopub.status.idle": "2023-08-09T23:07:55.464899Z",
          "shell.execute_reply": "2023-08-09T23:07:55.463753Z",
          "shell.execute_reply.started": "2023-08-09T22:39:10.340157Z"
        },
        "id": "44feUHHLuIJK",
        "outputId": "e6333f4d-aca3-412a-9f5c-ff88a4676521",
        "trusted": true
      },
      "outputs": [
        {
          "name": "stdout",
          "output_type": "stream",
          "text": [
            "\u001b[1mxlnet-base-cased-2-labels-N-0-M-510-tail-only\u001b[0m\n",
            "Classification Report Translated Test Set\n",
            "+----------+-------------+----------+------------+-----------+\n",
            "| Class    |   Precision |   Recall |   F1-Score |   Support |\n",
            "|----------+-------------+----------+------------+-----------|\n",
            "| negative |      0.9089 |   0.8217 |     0.8631 |      6000 |\n",
            "| positive |      0.8373 |   0.9177 |     0.8756 |      6000 |\n",
            "+----------+-------------+----------+------------+-----------+\n",
            "Classification Report Test Set\n",
            "+----------+-------------+----------+------------+-----------+\n",
            "| Class    |   Precision |   Recall |   F1-Score |   Support |\n",
            "|----------+-------------+----------+------------+-----------|\n",
            "| negative |      0.9446 |   0.9526 |     0.9486 |     12500 |\n",
            "| positive |      0.9522 |   0.9442 |     0.9481 |     12500 |\n",
            "+----------+-------------+----------+------------+-----------+\n"
          ]
        }
      ],
      "source": [
        "evaluateTranslatedTestSetAndRegularTestSet(XLNETModel_N_0_M_510, tokenizer, imdbDataset, translatedTestSet, targetNames, \"xlnet-base-cased-2-labels-N-0-M-510-tail-only\", batch_size=8)"
      ]
    },
    {
      "cell_type": "markdown",
      "metadata": {
        "id": "YhJtJrz-uIJL"
      },
      "source": [
        "**Amazon En Dataset**"
      ]
    },
    {
      "cell_type": "code",
      "execution_count": null,
      "metadata": {
        "execution": {
          "iopub.execute_input": "2023-08-09T06:03:33.716175Z",
          "iopub.status.busy": "2023-08-09T06:03:33.715793Z",
          "iopub.status.idle": "2023-08-09T06:03:33.721097Z",
          "shell.execute_reply": "2023-08-09T06:03:33.720022Z",
          "shell.execute_reply.started": "2023-08-09T06:03:33.716140Z"
        },
        "id": "xcLi041XuIJL",
        "trusted": true
      },
      "outputs": [],
      "source": [
        "def dropColumns(df):\n",
        "    df.drop(columnsToDrop, axis=1, inplace=True)\n",
        "    return df"
      ]
    },
    {
      "cell_type": "code",
      "execution_count": null,
      "metadata": {
        "execution": {
          "iopub.execute_input": "2023-08-09T06:03:34.315343Z",
          "iopub.status.busy": "2023-08-09T06:03:34.314982Z",
          "iopub.status.idle": "2023-08-09T06:03:34.522597Z",
          "shell.execute_reply": "2023-08-09T06:03:34.521607Z",
          "shell.execute_reply.started": "2023-08-09T06:03:34.315312Z"
        },
        "id": "71sP9A55uIJL",
        "trusted": true
      },
      "outputs": [],
      "source": [
        "translatedTestSetAllStars = pd.read_csv('amazon_translated_body_and_title_with_originals_all_stars.csv')\n",
        "translatedTestSetAllStars.head(5)"
      ]
    },
    {
      "cell_type": "code",
      "execution_count": null,
      "metadata": {
        "execution": {
          "iopub.execute_input": "2023-08-09T06:03:34.745110Z",
          "iopub.status.busy": "2023-08-09T06:03:34.744765Z",
          "iopub.status.idle": "2023-08-09T06:03:34.755792Z",
          "shell.execute_reply": "2023-08-09T06:03:34.754597Z",
          "shell.execute_reply.started": "2023-08-09T06:03:34.745080Z"
        },
        "id": "KVI1tiJJuIJL",
        "trusted": true
      },
      "outputs": [],
      "source": [
        "translatedTestSetAllStars.drop(columns=['Unnamed: 0'], axis=0, inplace=True)\n",
        "translatedTestSetAllStars.rename(columns={'stars':'labels'}, inplace=True)"
      ]
    },
    {
      "cell_type": "code",
      "execution_count": null,
      "metadata": {
        "execution": {
          "iopub.execute_input": "2023-08-09T06:03:35.009148Z",
          "iopub.status.busy": "2023-08-09T06:03:35.008247Z",
          "iopub.status.idle": "2023-08-09T06:03:46.368416Z",
          "shell.execute_reply": "2023-08-09T06:03:46.367362Z",
          "shell.execute_reply.started": "2023-08-09T06:03:35.009104Z"
        },
        "id": "khlru-pGuIJL",
        "trusted": true
      },
      "outputs": [],
      "source": [
        "trainingSetAmazon = pd.read_csv('train.csv')\n",
        "validationSetAmazon = pd.read_csv('validation.csv')\n",
        "testSetAmazon = pd.read_csv('test.csv')"
      ]
    },
    {
      "cell_type": "code",
      "execution_count": null,
      "metadata": {
        "execution": {
          "iopub.execute_input": "2023-08-09T06:03:46.370734Z",
          "iopub.status.busy": "2023-08-09T06:03:46.370327Z",
          "iopub.status.idle": "2023-08-09T06:03:46.581901Z",
          "shell.execute_reply": "2023-08-09T06:03:46.580846Z",
          "shell.execute_reply.started": "2023-08-09T06:03:46.370698Z"
        },
        "id": "a-1vW3m2uIJL",
        "trusted": true
      },
      "outputs": [],
      "source": [
        "columnsToDrop = ['Unnamed: 0', 'review_id', 'product_id', 'reviewer_id', 'product_category']\n",
        "trainingSetAmazon = dropColumns(trainingSetAmazon)\n",
        "validationSetAmazon = dropColumns(validationSetAmazon)\n",
        "testSetAmazon = dropColumns(testSetAmazon)"
      ]
    },
    {
      "cell_type": "code",
      "execution_count": null,
      "metadata": {
        "execution": {
          "iopub.execute_input": "2023-08-09T06:03:46.584118Z",
          "iopub.status.busy": "2023-08-09T06:03:46.583280Z",
          "iopub.status.idle": "2023-08-09T06:03:46.945198Z",
          "shell.execute_reply": "2023-08-09T06:03:46.944133Z",
          "shell.execute_reply.started": "2023-08-09T06:03:46.584083Z"
        },
        "id": "JUYl9866uIJL",
        "trusted": true
      },
      "outputs": [],
      "source": [
        "def extractLanguage(language, df):\n",
        "    new_df = df.copy()\n",
        "    exclude = np.where(new_df['language'] != language)\n",
        "    new_df.drop(exclude[0],axis=0, inplace=True)\n",
        "    return new_df\n",
        "enOnlyTrain = extractLanguage('en', trainingSetAmazon)\n",
        "enOnlyDev = extractLanguage('en', validationSetAmazon)\n",
        "enOnlyTest = extractLanguage('en', testSetAmazon)"
      ]
    },
    {
      "cell_type": "code",
      "execution_count": null,
      "metadata": {
        "execution": {
          "iopub.execute_input": "2023-08-09T06:03:46.949042Z",
          "iopub.status.busy": "2023-08-09T06:03:46.948142Z",
          "iopub.status.idle": "2023-08-09T06:03:46.962060Z",
          "shell.execute_reply": "2023-08-09T06:03:46.960381Z",
          "shell.execute_reply.started": "2023-08-09T06:03:46.949009Z"
        },
        "id": "Z6O9VJyquIJL",
        "trusted": true
      },
      "outputs": [],
      "source": [
        "enOnlyTrain.head(5)"
      ]
    },
    {
      "cell_type": "code",
      "execution_count": null,
      "metadata": {
        "execution": {
          "iopub.execute_input": "2023-08-09T06:03:46.964802Z",
          "iopub.status.busy": "2023-08-09T06:03:46.964293Z",
          "iopub.status.idle": "2023-08-09T06:03:47.110768Z",
          "shell.execute_reply": "2023-08-09T06:03:47.109783Z",
          "shell.execute_reply.started": "2023-08-09T06:03:46.964754Z"
        },
        "id": "21-KUUo3uIJL",
        "trusted": true
      },
      "outputs": [],
      "source": [
        "enOnlyTrain = datasets.Dataset.from_pandas(enOnlyTrain)\n",
        "enOnlyDev = datasets.Dataset.from_pandas(enOnlyDev)\n",
        "enOnlyTest = datasets.Dataset.from_pandas(enOnlyTest)"
      ]
    },
    {
      "cell_type": "code",
      "execution_count": null,
      "metadata": {
        "execution": {
          "iopub.execute_input": "2023-08-09T06:03:47.112722Z",
          "iopub.status.busy": "2023-08-09T06:03:47.112386Z",
          "iopub.status.idle": "2023-08-09T06:03:47.120556Z",
          "shell.execute_reply": "2023-08-09T06:03:47.119392Z",
          "shell.execute_reply.started": "2023-08-09T06:03:47.112689Z"
        },
        "id": "UaxZWpKYuIJL",
        "trusted": true
      },
      "outputs": [],
      "source": [
        "en_only_dataset = datasets.DatasetDict({\"train\": enOnlyTrain, 'validation': enOnlyDev, 'test': enOnlyTest})\n",
        "en_only_dataset"
      ]
    },
    {
      "cell_type": "code",
      "execution_count": null,
      "metadata": {
        "execution": {
          "iopub.execute_input": "2023-08-09T06:03:47.123479Z",
          "iopub.status.busy": "2023-08-09T06:03:47.122643Z",
          "iopub.status.idle": "2023-08-09T06:03:47.133986Z",
          "shell.execute_reply": "2023-08-09T06:03:47.133007Z",
          "shell.execute_reply.started": "2023-08-09T06:03:47.123443Z"
        },
        "id": "r53b9tIQuIJL",
        "trusted": true
      },
      "outputs": [],
      "source": [
        "en_only_dataset = en_only_dataset.rename_column('stars', 'labels')"
      ]
    },
    {
      "cell_type": "code",
      "execution_count": null,
      "metadata": {
        "execution": {
          "iopub.execute_input": "2023-08-09T06:03:47.136366Z",
          "iopub.status.busy": "2023-08-09T06:03:47.135920Z",
          "iopub.status.idle": "2023-08-09T06:03:47.145958Z",
          "shell.execute_reply": "2023-08-09T06:03:47.144880Z",
          "shell.execute_reply.started": "2023-08-09T06:03:47.136313Z"
        },
        "id": "PsshVDtUuIJL",
        "trusted": true
      },
      "outputs": [],
      "source": [
        "en_only_dataset = en_only_dataset.remove_columns('__index_level_0__')"
      ]
    },
    {
      "cell_type": "code",
      "execution_count": null,
      "metadata": {
        "execution": {
          "iopub.execute_input": "2023-08-09T06:03:47.149767Z",
          "iopub.status.busy": "2023-08-09T06:03:47.149496Z",
          "iopub.status.idle": "2023-08-09T06:03:47.154305Z",
          "shell.execute_reply": "2023-08-09T06:03:47.153373Z",
          "shell.execute_reply.started": "2023-08-09T06:03:47.149743Z"
        },
        "id": "5004c0fjuIJM",
        "trusted": true
      },
      "outputs": [],
      "source": [
        "def reduceOne(examples):\n",
        "    examples['labels'] = examples['labels'] - 1\n",
        "    return examples"
      ]
    },
    {
      "cell_type": "code",
      "execution_count": null,
      "metadata": {
        "execution": {
          "iopub.execute_input": "2023-08-09T06:03:47.158613Z",
          "iopub.status.busy": "2023-08-09T06:03:47.157890Z",
          "iopub.status.idle": "2023-08-09T06:04:08.481430Z",
          "shell.execute_reply": "2023-08-09T06:04:08.480428Z",
          "shell.execute_reply.started": "2023-08-09T06:03:47.158576Z"
        },
        "id": "j_zfM-yUuIJM",
        "trusted": true
      },
      "outputs": [],
      "source": [
        "en_only_dataset = en_only_dataset.map(reduceOne)"
      ]
    },
    {
      "cell_type": "code",
      "execution_count": null,
      "metadata": {
        "execution": {
          "iopub.execute_input": "2023-08-09T06:04:08.483855Z",
          "iopub.status.busy": "2023-08-09T06:04:08.483165Z",
          "iopub.status.idle": "2023-08-09T06:04:08.489704Z",
          "shell.execute_reply": "2023-08-09T06:04:08.488755Z",
          "shell.execute_reply.started": "2023-08-09T06:04:08.483819Z"
        },
        "id": "u4r79YlJuIJM",
        "trusted": true
      },
      "outputs": [],
      "source": [
        "translatedTestSetAllStars['labels'] = translatedTestSetAllStars['labels'] - 1"
      ]
    },
    {
      "cell_type": "markdown",
      "metadata": {
        "id": "FKUsLlyCuIJM"
      },
      "source": [
        "**Amazon Dataset English Only Model**"
      ]
    },
    {
      "cell_type": "markdown",
      "metadata": {
        "id": "YWUisxBvuIJM"
      },
      "source": [
        "**BERT CASED**"
      ]
    },
    {
      "cell_type": "markdown",
      "metadata": {
        "id": "dlJpQBJguIJM"
      },
      "source": [
        "**Five labels; N=128, M=382; overall 510 tokens**"
      ]
    },
    {
      "cell_type": "code",
      "execution_count": null,
      "metadata": {
        "execution": {
          "iopub.execute_input": "2023-08-09T08:10:20.591290Z",
          "iopub.status.busy": "2023-08-09T08:10:20.590897Z",
          "iopub.status.idle": "2023-08-09T08:10:22.072422Z",
          "shell.execute_reply": "2023-08-09T08:10:22.071199Z",
          "shell.execute_reply.started": "2023-08-09T08:10:20.591256Z"
        },
        "id": "Xvg9IFIZuIJM",
        "trusted": true
      },
      "outputs": [],
      "source": [
        "metric = evaluate.load(\"accuracy\")\n",
        "numLabels = 5\n",
        "targetNames = ['Negative', 'Somewhat Negative', 'Neutral', 'Somewhat Positive', 'Positive']"
      ]
    },
    {
      "cell_type": "code",
      "execution_count": null,
      "metadata": {
        "execution": {
          "iopub.execute_input": "2023-08-09T06:04:08.503491Z",
          "iopub.status.busy": "2023-08-09T06:04:08.502855Z",
          "iopub.status.idle": "2023-08-09T06:04:08.509112Z",
          "shell.execute_reply": "2023-08-09T06:04:08.508079Z",
          "shell.execute_reply.started": "2023-08-09T06:04:08.503463Z"
        },
        "id": "ECMcr7URuIJM",
        "trusted": true
      },
      "outputs": [],
      "source": [
        "N = 128\n",
        "M = 382\n",
        "reviewType = \"review_body\""
      ]
    },
    {
      "cell_type": "code",
      "execution_count": null,
      "metadata": {
        "execution": {
          "iopub.execute_input": "2023-08-09T06:04:08.511140Z",
          "iopub.status.busy": "2023-08-09T06:04:08.510638Z",
          "iopub.status.idle": "2023-08-09T06:04:10.954667Z",
          "shell.execute_reply": "2023-08-09T06:04:10.953663Z",
          "shell.execute_reply.started": "2023-08-09T06:04:08.511105Z"
        },
        "id": "VP7J-KxruIJM",
        "trusted": true
      },
      "outputs": [],
      "source": [
        "tokenizer = AutoTokenizer.from_pretrained(\"bert-base-cased\", num_labels=numLabels)"
      ]
    },
    {
      "cell_type": "code",
      "execution_count": null,
      "metadata": {
        "execution": {
          "iopub.execute_input": "2023-08-09T09:48:27.451857Z",
          "iopub.status.busy": "2023-08-09T09:48:27.451321Z",
          "iopub.status.idle": "2023-08-09T09:48:28.873892Z",
          "shell.execute_reply": "2023-08-09T09:48:28.872660Z",
          "shell.execute_reply.started": "2023-08-09T09:48:27.451815Z"
        },
        "id": "KCukuJjXuIJM",
        "trusted": true
      },
      "outputs": [],
      "source": [
        "amazonEnLanguageModel_five_labels_N_128_M_382 = BertForSequenceClassification.from_pretrained(\"bert-base-cased\", num_labels=numLabels)"
      ]
    },
    {
      "cell_type": "code",
      "execution_count": null,
      "metadata": {
        "execution": {
          "iopub.execute_input": "2023-08-09T09:48:29.894893Z",
          "iopub.status.busy": "2023-08-09T09:48:29.894205Z",
          "iopub.status.idle": "2023-08-09T09:48:29.910166Z",
          "shell.execute_reply": "2023-08-09T09:48:29.908966Z",
          "shell.execute_reply.started": "2023-08-09T09:48:29.894856Z"
        },
        "id": "rX4oCOdVuIJM",
        "trusted": true
      },
      "outputs": [],
      "source": [
        "training_args = TrainingArguments(output_dir=\"test_trainer\", optim=\"adamw_torch\", warmup_steps=10000, num_train_epochs=1, weight_decay=1e-4, evaluation_strategy=\"epoch\", save_strategy = saveStrategy)"
      ]
    },
    {
      "cell_type": "code",
      "execution_count": null,
      "metadata": {
        "colab": {
          "referenced_widgets": [
            "628cf14190df467395c90b5c7a363a15",
            "3ccba7c019b641ea826d40c291fd4f78",
            "89939b68b7274dfb8aa9bfa162a3c7e1"
          ]
        },
        "execution": {
          "iopub.execute_input": "2023-08-09T09:48:30.064821Z",
          "iopub.status.busy": "2023-08-09T09:48:30.064522Z",
          "iopub.status.idle": "2023-08-09T10:19:49.101810Z",
          "shell.execute_reply": "2023-08-09T10:19:49.097681Z",
          "shell.execute_reply.started": "2023-08-09T09:48:30.064794Z"
        },
        "id": "2I2sX7vk598s",
        "outputId": "a3641790-5a51-4f97-f728-6e1edbf5f1bc",
        "trusted": true
      },
      "outputs": [
        {
          "data": {
            "application/vnd.jupyter.widget-view+json": {
              "model_id": "628cf14190df467395c90b5c7a363a15",
              "version_major": 2,
              "version_minor": 0
            },
            "text/plain": [
              "  0%|          | 0/200 [00:00<?, ?ba/s]"
            ]
          },
          "metadata": {},
          "output_type": "display_data"
        },
        {
          "data": {
            "application/vnd.jupyter.widget-view+json": {
              "model_id": "3ccba7c019b641ea826d40c291fd4f78",
              "version_major": 2,
              "version_minor": 0
            },
            "text/plain": [
              "  0%|          | 0/5 [00:00<?, ?ba/s]"
            ]
          },
          "metadata": {},
          "output_type": "display_data"
        },
        {
          "data": {
            "application/vnd.jupyter.widget-view+json": {
              "model_id": "89939b68b7274dfb8aa9bfa162a3c7e1",
              "version_major": 2,
              "version_minor": 0
            },
            "text/plain": [
              "  0%|          | 0/5 [00:00<?, ?ba/s]"
            ]
          },
          "metadata": {},
          "output_type": "display_data"
        },
        {
          "data": {
            "text/html": [
              "\n",
              "    <div>\n",
              "      \n",
              "      <progress value='3750' max='3750' style='width:300px; height:20px; vertical-align: middle;'></progress>\n",
              "      [3750/3750 28:43, Epoch 1/1]\n",
              "    </div>\n",
              "    <table border=\"1\" class=\"dataframe\">\n",
              "  <thead>\n",
              " <tr style=\"text-align: left;\">\n",
              "      <th>Epoch</th>\n",
              "      <th>Training Loss</th>\n",
              "      <th>Validation Loss</th>\n",
              "      <th>Accuracy</th>\n",
              "    </tr>\n",
              "  </thead>\n",
              "  <tbody>\n",
              "    <tr>\n",
              "      <td>1</td>\n",
              "      <td>1.044700</td>\n",
              "      <td>1.036176</td>\n",
              "      <td>0.543600</td>\n",
              "    </tr>\n",
              "  </tbody>\n",
              "</table><p>"
            ],
            "text/plain": [
              "<IPython.core.display.HTML object>"
            ]
          },
          "metadata": {},
          "output_type": "display_data"
        }
      ],
      "source": [
        "train(amazonEnLanguageModel_five_labels_N_128_M_382, training_args, en_only_dataset, 30000, \"amazon\")"
      ]
    },
    {
      "cell_type": "code",
      "execution_count": null,
      "metadata": {
        "execution": {
          "iopub.execute_input": "2023-08-09T10:19:49.107705Z",
          "iopub.status.busy": "2023-08-09T10:19:49.107107Z",
          "iopub.status.idle": "2023-08-09T10:25:42.497593Z",
          "shell.execute_reply": "2023-08-09T10:25:42.496643Z",
          "shell.execute_reply.started": "2023-08-09T10:19:49.107665Z"
        },
        "id": "hEj7r29P598s",
        "outputId": "74c89271-e65c-45d9-c391-d4b5fa9da527",
        "trusted": true
      },
      "outputs": [
        {
          "name": "stdout",
          "output_type": "stream",
          "text": [
            "\u001b[1mbert-base-cased-5-labels-N-128-M-382-head+tail\u001b[0m\n",
            "Classification Report Translated Test Set\n",
            "+-------------------+-------------+----------+------------+-----------+\n",
            "| Class             |   Precision |   Recall |   F1-Score |   Support |\n",
            "|-------------------+-------------+----------+------------+-----------|\n",
            "| Negative          |      0.5956 |   0.7550 |     0.6659 |      3000 |\n",
            "| Somewhat Negative |      0.4342 |   0.4330 |     0.4336 |      3000 |\n",
            "| Neutral           |      0.4614 |   0.3343 |     0.3877 |      3000 |\n",
            "| Somewhat Positive |      0.4706 |   0.3917 |     0.4275 |      3000 |\n",
            "| Positive          |      0.6188 |   0.7290 |     0.6694 |      3000 |\n",
            "+-------------------+-------------+----------+------------+-----------+\n",
            "Classification Report Test Set\n",
            "+-------------------+-------------+----------+------------+-----------+\n",
            "| Class             |   Precision |   Recall |   F1-Score |   Support |\n",
            "|-------------------+-------------+----------+------------+-----------|\n",
            "| Negative          |      0.5725 |   0.7900 |     0.6639 |      1000 |\n",
            "| Somewhat Negative |      0.4287 |   0.4420 |     0.4353 |      1000 |\n",
            "| Neutral           |      0.4345 |   0.3050 |     0.3584 |      1000 |\n",
            "| Somewhat Positive |      0.5562 |   0.4500 |     0.4975 |      1000 |\n",
            "| Positive          |      0.7217 |   0.7780 |     0.7488 |      1000 |\n",
            "+-------------------+-------------+----------+------------+-----------+\n"
          ]
        }
      ],
      "source": [
        "evaluateTranslatedTestSetAndRegularTestSet(amazonEnLanguageModel_five_labels_N_128_M_382, tokenizer, en_only_dataset, translatedTestSetAllStars, targetNames, \"bert-base-cased-5-labels-N-128-M-382-head+tail\", batch_size=8)"
      ]
    },
    {
      "cell_type": "markdown",
      "metadata": {
        "id": "FXhuXqDHuIJN"
      },
      "source": [
        "**Five labels; N=64, M=64; overall 128 tokens**"
      ]
    },
    {
      "cell_type": "code",
      "execution_count": null,
      "metadata": {
        "execution": {
          "iopub.execute_input": "2023-08-09T10:25:42.499738Z",
          "iopub.status.busy": "2023-08-09T10:25:42.499040Z",
          "iopub.status.idle": "2023-08-09T10:25:42.510810Z",
          "shell.execute_reply": "2023-08-09T10:25:42.509566Z",
          "shell.execute_reply.started": "2023-08-09T10:25:42.499702Z"
        },
        "id": "3ETlIEuPuIJN",
        "trusted": true
      },
      "outputs": [],
      "source": [
        "N = 64\n",
        "M = 64\n",
        "reviewType = \"review_body\""
      ]
    },
    {
      "cell_type": "code",
      "execution_count": null,
      "metadata": {
        "execution": {
          "iopub.execute_input": "2023-08-09T10:25:42.516457Z",
          "iopub.status.busy": "2023-08-09T10:25:42.515798Z",
          "iopub.status.idle": "2023-08-09T10:25:43.846409Z",
          "shell.execute_reply": "2023-08-09T10:25:43.845291Z",
          "shell.execute_reply.started": "2023-08-09T10:25:42.516430Z"
        },
        "id": "gQcgmHG0uIJN",
        "trusted": true
      },
      "outputs": [],
      "source": [
        "amazonEnLanguageModel_five_labels_N_64_M_64 = BertForSequenceClassification.from_pretrained(\"bert-base-cased\", num_labels=numLabels)"
      ]
    },
    {
      "cell_type": "code",
      "execution_count": null,
      "metadata": {
        "execution": {
          "iopub.execute_input": "2023-08-09T10:25:43.848867Z",
          "iopub.status.busy": "2023-08-09T10:25:43.848118Z",
          "iopub.status.idle": "2023-08-09T10:25:43.858310Z",
          "shell.execute_reply": "2023-08-09T10:25:43.857335Z",
          "shell.execute_reply.started": "2023-08-09T10:25:43.848822Z"
        },
        "id": "OIKsFAgHuIJN",
        "trusted": true
      },
      "outputs": [],
      "source": [
        "training_args = TrainingArguments(output_dir=\"test_trainer\", optim=\"adamw_torch\", warmup_steps=10000, num_train_epochs=1, weight_decay=1e-1, evaluation_strategy=\"epoch\", save_strategy = saveStrategy)"
      ]
    },
    {
      "cell_type": "code",
      "execution_count": null,
      "metadata": {
        "colab": {
          "referenced_widgets": [
            "c2a6d8a32112458dbd10ef6448542c87",
            "204d07c322a04a778b785e31f3e117df",
            "ce22b70225a641c797028af7c0f47251"
          ]
        },
        "execution": {
          "iopub.execute_input": "2023-08-09T10:25:43.860586Z",
          "iopub.status.busy": "2023-08-09T10:25:43.859995Z",
          "iopub.status.idle": "2023-08-09T10:35:22.214112Z",
          "shell.execute_reply": "2023-08-09T10:35:22.213074Z",
          "shell.execute_reply.started": "2023-08-09T10:25:43.860552Z"
        },
        "id": "xfXoBu_V598s",
        "outputId": "197ea985-7ce2-421c-bbb8-da85f678f293",
        "trusted": true
      },
      "outputs": [
        {
          "data": {
            "application/vnd.jupyter.widget-view+json": {
              "model_id": "c2a6d8a32112458dbd10ef6448542c87",
              "version_major": 2,
              "version_minor": 0
            },
            "text/plain": [
              "  0%|          | 0/200 [00:00<?, ?ba/s]"
            ]
          },
          "metadata": {},
          "output_type": "display_data"
        },
        {
          "data": {
            "application/vnd.jupyter.widget-view+json": {
              "model_id": "204d07c322a04a778b785e31f3e117df",
              "version_major": 2,
              "version_minor": 0
            },
            "text/plain": [
              "  0%|          | 0/5 [00:00<?, ?ba/s]"
            ]
          },
          "metadata": {},
          "output_type": "display_data"
        },
        {
          "data": {
            "application/vnd.jupyter.widget-view+json": {
              "model_id": "ce22b70225a641c797028af7c0f47251",
              "version_major": 2,
              "version_minor": 0
            },
            "text/plain": [
              "  0%|          | 0/5 [00:00<?, ?ba/s]"
            ]
          },
          "metadata": {},
          "output_type": "display_data"
        },
        {
          "data": {
            "text/html": [
              "\n",
              "    <div>\n",
              "      \n",
              "      <progress value='3750' max='3750' style='width:300px; height:20px; vertical-align: middle;'></progress>\n",
              "      [3750/3750 07:54, Epoch 1/1]\n",
              "    </div>\n",
              "    <table border=\"1\" class=\"dataframe\">\n",
              "  <thead>\n",
              " <tr style=\"text-align: left;\">\n",
              "      <th>Epoch</th>\n",
              "      <th>Training Loss</th>\n",
              "      <th>Validation Loss</th>\n",
              "      <th>Accuracy</th>\n",
              "    </tr>\n",
              "  </thead>\n",
              "  <tbody>\n",
              "    <tr>\n",
              "      <td>1</td>\n",
              "      <td>1.044300</td>\n",
              "      <td>1.051336</td>\n",
              "      <td>0.547400</td>\n",
              "    </tr>\n",
              "  </tbody>\n",
              "</table><p>"
            ],
            "text/plain": [
              "<IPython.core.display.HTML object>"
            ]
          },
          "metadata": {},
          "output_type": "display_data"
        }
      ],
      "source": [
        "train(amazonEnLanguageModel_five_labels_N_64_M_64, training_args, en_only_dataset, 30000, \"amazon\")"
      ]
    },
    {
      "cell_type": "code",
      "execution_count": null,
      "metadata": {
        "execution": {
          "iopub.execute_input": "2023-08-09T10:35:22.216715Z",
          "iopub.status.busy": "2023-08-09T10:35:22.215573Z",
          "iopub.status.idle": "2023-08-09T10:36:54.810077Z",
          "shell.execute_reply": "2023-08-09T10:36:54.808620Z",
          "shell.execute_reply.started": "2023-08-09T10:35:22.216675Z"
        },
        "id": "zLrh_yG6598s",
        "outputId": "013df9ce-c315-41d2-e1c7-1ed4fb254469",
        "trusted": true
      },
      "outputs": [
        {
          "name": "stdout",
          "output_type": "stream",
          "text": [
            "\u001b[1mbert-base-cased-5-labels-N-64-M-64-head+tail\u001b[0m\n",
            "Classification Report Translated Test Set\n",
            "+-------------------+-------------+----------+------------+-----------+\n",
            "| Class             |   Precision |   Recall |   F1-Score |   Support |\n",
            "|-------------------+-------------+----------+------------+-----------|\n",
            "| Negative          |      0.6153 |   0.7310 |     0.6682 |      3000 |\n",
            "| Somewhat Negative |      0.4284 |   0.5133 |     0.4670 |      3000 |\n",
            "| Neutral           |      0.4371 |   0.3267 |     0.3739 |      3000 |\n",
            "| Somewhat Positive |      0.4677 |   0.3590 |     0.4062 |      3000 |\n",
            "| Positive          |      0.6292 |   0.6913 |     0.6588 |      3000 |\n",
            "+-------------------+-------------+----------+------------+-----------+\n",
            "Classification Report Test Set\n",
            "+-------------------+-------------+----------+------------+-----------+\n",
            "| Class             |   Precision |   Recall |   F1-Score |   Support |\n",
            "|-------------------+-------------+----------+------------+-----------|\n",
            "| Negative          |      0.5767 |   0.7520 |     0.6528 |      1000 |\n",
            "| Somewhat Negative |      0.4228 |   0.4960 |     0.4565 |      1000 |\n",
            "| Neutral           |      0.4223 |   0.3180 |     0.3628 |      1000 |\n",
            "| Somewhat Positive |      0.5631 |   0.4240 |     0.4837 |      1000 |\n",
            "| Positive          |      0.7296 |   0.7420 |     0.7357 |      1000 |\n",
            "+-------------------+-------------+----------+------------+-----------+\n"
          ]
        }
      ],
      "source": [
        "evaluateTranslatedTestSetAndRegularTestSet(amazonEnLanguageModel_five_labels_N_64_M_64, tokenizer, en_only_dataset, translatedTestSetAllStars, targetNames, \"bert-base-cased-5-labels-N-64-M-64-head+tail\", batch_size=8)"
      ]
    },
    {
      "cell_type": "markdown",
      "metadata": {
        "id": "3uxnuGVCuIJN"
      },
      "source": [
        "**Five labels; N=510, M=0; overall 510 tokens**"
      ]
    },
    {
      "cell_type": "code",
      "execution_count": null,
      "metadata": {
        "execution": {
          "iopub.execute_input": "2023-08-09T10:36:54.812579Z",
          "iopub.status.busy": "2023-08-09T10:36:54.811902Z",
          "iopub.status.idle": "2023-08-09T10:36:54.820250Z",
          "shell.execute_reply": "2023-08-09T10:36:54.818378Z",
          "shell.execute_reply.started": "2023-08-09T10:36:54.812535Z"
        },
        "id": "sJVicS_wuIJN",
        "trusted": true
      },
      "outputs": [],
      "source": [
        "N = 510\n",
        "M = 0\n",
        "reviewType = \"review_body\""
      ]
    },
    {
      "cell_type": "code",
      "execution_count": null,
      "metadata": {
        "execution": {
          "iopub.execute_input": "2023-08-09T10:36:54.822852Z",
          "iopub.status.busy": "2023-08-09T10:36:54.822435Z",
          "iopub.status.idle": "2023-08-09T10:36:56.117815Z",
          "shell.execute_reply": "2023-08-09T10:36:56.113803Z",
          "shell.execute_reply.started": "2023-08-09T10:36:54.822816Z"
        },
        "id": "GYKXpuBOuIJN",
        "trusted": true
      },
      "outputs": [],
      "source": [
        "amazonEnLanguageModel_five_labels_N_510_M_0 = BertForSequenceClassification.from_pretrained(\"bert-base-cased\", num_labels=numLabels)"
      ]
    },
    {
      "cell_type": "code",
      "execution_count": null,
      "metadata": {
        "execution": {
          "iopub.execute_input": "2023-08-09T10:36:56.125788Z",
          "iopub.status.busy": "2023-08-09T10:36:56.124939Z",
          "iopub.status.idle": "2023-08-09T10:36:56.135557Z",
          "shell.execute_reply": "2023-08-09T10:36:56.134565Z",
          "shell.execute_reply.started": "2023-08-09T10:36:56.125740Z"
        },
        "id": "DFKKVoSOuIJN",
        "trusted": true
      },
      "outputs": [],
      "source": [
        "training_args = TrainingArguments(output_dir=\"test_trainer\", optim=\"adamw_torch\", warmup_steps=10000, num_train_epochs=1, weight_decay=1e-1, evaluation_strategy=\"epoch\", save_strategy = saveStrategy)"
      ]
    },
    {
      "cell_type": "code",
      "execution_count": null,
      "metadata": {
        "colab": {
          "referenced_widgets": [
            "49e5bf66a8484175afe7dbe09a7addb9",
            "2f6635c1d6904328804b340886b0fd6a",
            "1544079cac22428dbae3164f6ef3f1b3"
          ]
        },
        "execution": {
          "iopub.execute_input": "2023-08-09T10:36:56.143186Z",
          "iopub.status.busy": "2023-08-09T10:36:56.139992Z",
          "iopub.status.idle": "2023-08-09T11:08:15.768017Z",
          "shell.execute_reply": "2023-08-09T11:08:15.766039Z",
          "shell.execute_reply.started": "2023-08-09T10:36:56.143149Z"
        },
        "id": "tCgYhfiW598t",
        "outputId": "926ac8b0-565b-48e8-d8af-d286ee0d16ae",
        "trusted": true
      },
      "outputs": [
        {
          "data": {
            "application/vnd.jupyter.widget-view+json": {
              "model_id": "49e5bf66a8484175afe7dbe09a7addb9",
              "version_major": 2,
              "version_minor": 0
            },
            "text/plain": [
              "  0%|          | 0/200 [00:00<?, ?ba/s]"
            ]
          },
          "metadata": {},
          "output_type": "display_data"
        },
        {
          "data": {
            "application/vnd.jupyter.widget-view+json": {
              "model_id": "2f6635c1d6904328804b340886b0fd6a",
              "version_major": 2,
              "version_minor": 0
            },
            "text/plain": [
              "  0%|          | 0/5 [00:00<?, ?ba/s]"
            ]
          },
          "metadata": {},
          "output_type": "display_data"
        },
        {
          "data": {
            "application/vnd.jupyter.widget-view+json": {
              "model_id": "1544079cac22428dbae3164f6ef3f1b3",
              "version_major": 2,
              "version_minor": 0
            },
            "text/plain": [
              "  0%|          | 0/5 [00:00<?, ?ba/s]"
            ]
          },
          "metadata": {},
          "output_type": "display_data"
        },
        {
          "data": {
            "text/html": [
              "\n",
              "    <div>\n",
              "      \n",
              "      <progress value='3750' max='3750' style='width:300px; height:20px; vertical-align: middle;'></progress>\n",
              "      [3750/3750 28:44, Epoch 1/1]\n",
              "    </div>\n",
              "    <table border=\"1\" class=\"dataframe\">\n",
              "  <thead>\n",
              " <tr style=\"text-align: left;\">\n",
              "      <th>Epoch</th>\n",
              "      <th>Training Loss</th>\n",
              "      <th>Validation Loss</th>\n",
              "      <th>Accuracy</th>\n",
              "    </tr>\n",
              "  </thead>\n",
              "  <tbody>\n",
              "    <tr>\n",
              "      <td>1</td>\n",
              "      <td>1.041200</td>\n",
              "      <td>1.032473</td>\n",
              "      <td>0.550400</td>\n",
              "    </tr>\n",
              "  </tbody>\n",
              "</table><p>"
            ],
            "text/plain": [
              "<IPython.core.display.HTML object>"
            ]
          },
          "metadata": {},
          "output_type": "display_data"
        }
      ],
      "source": [
        "train(amazonEnLanguageModel_five_labels_N_510_M_0, training_args, en_only_dataset, 30000, \"amazon\")"
      ]
    },
    {
      "cell_type": "code",
      "execution_count": null,
      "metadata": {
        "execution": {
          "iopub.execute_input": "2023-08-09T11:08:15.776101Z",
          "iopub.status.busy": "2023-08-09T11:08:15.773257Z",
          "iopub.status.idle": "2023-08-09T11:14:10.117399Z",
          "shell.execute_reply": "2023-08-09T11:14:10.116443Z",
          "shell.execute_reply.started": "2023-08-09T11:08:15.776062Z"
        },
        "id": "IuWDdpCr598t",
        "outputId": "9d2b87f9-f776-41ed-874a-67fcc8f61c05",
        "trusted": true
      },
      "outputs": [
        {
          "name": "stdout",
          "output_type": "stream",
          "text": [
            "\u001b[1mbert-base-cased-5-labels-N-510-M-0-head-only\u001b[0m\n",
            "Classification Report Translated Test Set\n",
            "+-------------------+-------------+----------+------------+-----------+\n",
            "| Class             |   Precision |   Recall |   F1-Score |   Support |\n",
            "|-------------------+-------------+----------+------------+-----------|\n",
            "| Negative          |      0.6126 |   0.7373 |     0.6692 |      3000 |\n",
            "| Somewhat Negative |      0.4390 |   0.4270 |     0.4329 |      3000 |\n",
            "| Neutral           |      0.4577 |   0.3657 |     0.4065 |      3000 |\n",
            "| Somewhat Positive |      0.4590 |   0.4033 |     0.4294 |      3000 |\n",
            "| Positive          |      0.6248 |   0.7160 |     0.6673 |      3000 |\n",
            "+-------------------+-------------+----------+------------+-----------+\n",
            "Classification Report Test Set\n",
            "+-------------------+-------------+----------+------------+-----------+\n",
            "| Class             |   Precision |   Recall |   F1-Score |   Support |\n",
            "|-------------------+-------------+----------+------------+-----------|\n",
            "| Negative          |      0.5881 |   0.7710 |     0.6672 |      1000 |\n",
            "| Somewhat Negative |      0.4357 |   0.4270 |     0.4313 |      1000 |\n",
            "| Neutral           |      0.4301 |   0.3510 |     0.3866 |      1000 |\n",
            "| Somewhat Positive |      0.5430 |   0.4480 |     0.4910 |      1000 |\n",
            "| Positive          |      0.7257 |   0.7750 |     0.7495 |      1000 |\n",
            "+-------------------+-------------+----------+------------+-----------+\n"
          ]
        }
      ],
      "source": [
        "evaluateTranslatedTestSetAndRegularTestSet(amazonEnLanguageModel_five_labels_N_510_M_0, tokenizer, en_only_dataset, translatedTestSetAllStars, targetNames, \"bert-base-cased-5-labels-N-510-M-0-head-only\", batch_size=8)"
      ]
    },
    {
      "cell_type": "markdown",
      "metadata": {
        "id": "9ypCyylsuIJN"
      },
      "source": [
        "**Five labels; N=0, M=510; overall 510 tokens**"
      ]
    },
    {
      "cell_type": "code",
      "execution_count": null,
      "metadata": {
        "execution": {
          "iopub.execute_input": "2023-08-09T11:14:10.120223Z",
          "iopub.status.busy": "2023-08-09T11:14:10.119498Z",
          "iopub.status.idle": "2023-08-09T11:14:10.132568Z",
          "shell.execute_reply": "2023-08-09T11:14:10.131426Z",
          "shell.execute_reply.started": "2023-08-09T11:14:10.120182Z"
        },
        "id": "ttsV0eBJuIJO",
        "trusted": true
      },
      "outputs": [],
      "source": [
        "N = 0\n",
        "M = 510\n",
        "reviewType = \"review_body\""
      ]
    },
    {
      "cell_type": "code",
      "execution_count": null,
      "metadata": {
        "execution": {
          "iopub.execute_input": "2023-08-09T11:14:10.134713Z",
          "iopub.status.busy": "2023-08-09T11:14:10.134078Z",
          "iopub.status.idle": "2023-08-09T11:14:12.138483Z",
          "shell.execute_reply": "2023-08-09T11:14:12.137387Z",
          "shell.execute_reply.started": "2023-08-09T11:14:10.134679Z"
        },
        "id": "mNBi5ir2uIJO",
        "trusted": true
      },
      "outputs": [],
      "source": [
        "amazonEnLanguageModel_five_labels_N_0_M_510 = BertForSequenceClassification.from_pretrained(\"bert-base-cased\", num_labels=numLabels)"
      ]
    },
    {
      "cell_type": "code",
      "execution_count": null,
      "metadata": {
        "execution": {
          "iopub.execute_input": "2023-08-09T11:14:12.140398Z",
          "iopub.status.busy": "2023-08-09T11:14:12.139798Z",
          "iopub.status.idle": "2023-08-09T11:14:12.151374Z",
          "shell.execute_reply": "2023-08-09T11:14:12.150174Z",
          "shell.execute_reply.started": "2023-08-09T11:14:12.140341Z"
        },
        "id": "cKZVb2lXuIJO",
        "trusted": true
      },
      "outputs": [],
      "source": [
        "training_args = TrainingArguments(output_dir=\"test_trainer\", optim=\"adamw_torch\", warmup_steps=10000, num_train_epochs=1, weight_decay=1e-1, evaluation_strategy=\"epoch\", save_strategy = saveStrategy)"
      ]
    },
    {
      "cell_type": "code",
      "execution_count": null,
      "metadata": {
        "colab": {
          "referenced_widgets": [
            "b71481ed35cc4f8688e89ce35532627a",
            "7215e99dfae84a0aa2877736bf76d530",
            "5d37d97766b644d0a10b41e418e77903"
          ]
        },
        "execution": {
          "iopub.execute_input": "2023-08-09T11:14:12.153536Z",
          "iopub.status.busy": "2023-08-09T11:14:12.152910Z",
          "iopub.status.idle": "2023-08-09T11:45:36.024361Z",
          "shell.execute_reply": "2023-08-09T11:45:36.022111Z",
          "shell.execute_reply.started": "2023-08-09T11:14:12.153494Z"
        },
        "id": "kYheSFe9598t",
        "outputId": "7737e1c0-cbd2-47ca-d9a8-d20b0259236f",
        "trusted": true
      },
      "outputs": [
        {
          "data": {
            "application/vnd.jupyter.widget-view+json": {
              "model_id": "b71481ed35cc4f8688e89ce35532627a",
              "version_major": 2,
              "version_minor": 0
            },
            "text/plain": [
              "  0%|          | 0/200 [00:00<?, ?ba/s]"
            ]
          },
          "metadata": {},
          "output_type": "display_data"
        },
        {
          "data": {
            "application/vnd.jupyter.widget-view+json": {
              "model_id": "7215e99dfae84a0aa2877736bf76d530",
              "version_major": 2,
              "version_minor": 0
            },
            "text/plain": [
              "  0%|          | 0/5 [00:00<?, ?ba/s]"
            ]
          },
          "metadata": {},
          "output_type": "display_data"
        },
        {
          "data": {
            "application/vnd.jupyter.widget-view+json": {
              "model_id": "5d37d97766b644d0a10b41e418e77903",
              "version_major": 2,
              "version_minor": 0
            },
            "text/plain": [
              "  0%|          | 0/5 [00:00<?, ?ba/s]"
            ]
          },
          "metadata": {},
          "output_type": "display_data"
        },
        {
          "data": {
            "text/html": [
              "\n",
              "    <div>\n",
              "      \n",
              "      <progress value='3750' max='3750' style='width:300px; height:20px; vertical-align: middle;'></progress>\n",
              "      [3750/3750 28:45, Epoch 1/1]\n",
              "    </div>\n",
              "    <table border=\"1\" class=\"dataframe\">\n",
              "  <thead>\n",
              " <tr style=\"text-align: left;\">\n",
              "      <th>Epoch</th>\n",
              "      <th>Training Loss</th>\n",
              "      <th>Validation Loss</th>\n",
              "      <th>Accuracy</th>\n",
              "    </tr>\n",
              "  </thead>\n",
              "  <tbody>\n",
              "    <tr>\n",
              "      <td>1</td>\n",
              "      <td>1.039900</td>\n",
              "      <td>1.031578</td>\n",
              "      <td>0.552200</td>\n",
              "    </tr>\n",
              "  </tbody>\n",
              "</table><p>"
            ],
            "text/plain": [
              "<IPython.core.display.HTML object>"
            ]
          },
          "metadata": {},
          "output_type": "display_data"
        }
      ],
      "source": [
        "train(amazonEnLanguageModel_five_labels_N_0_M_510, training_args, en_only_dataset, 30000, \"amazon\")"
      ]
    },
    {
      "cell_type": "code",
      "execution_count": null,
      "metadata": {
        "execution": {
          "iopub.execute_input": "2023-08-09T11:45:36.026633Z",
          "iopub.status.busy": "2023-08-09T11:45:36.026008Z",
          "iopub.status.idle": "2023-08-09T11:51:29.972920Z",
          "shell.execute_reply": "2023-08-09T11:51:29.971847Z",
          "shell.execute_reply.started": "2023-08-09T11:45:36.026591Z"
        },
        "id": "eUV0v2si598t",
        "outputId": "45230ad2-2c05-4f5a-9fdb-12cba4c9ba62",
        "trusted": true
      },
      "outputs": [
        {
          "name": "stdout",
          "output_type": "stream",
          "text": [
            "\u001b[1mbert-base-cased-5-labels-N-0-M-510-tail-only\u001b[0m\n",
            "Classification Report Translated Test Set\n",
            "+-------------------+-------------+----------+------------+-----------+\n",
            "| Class             |   Precision |   Recall |   F1-Score |   Support |\n",
            "|-------------------+-------------+----------+------------+-----------|\n",
            "| Negative          |      0.6030 |   0.7433 |     0.6659 |      3000 |\n",
            "| Somewhat Negative |      0.4382 |   0.4407 |     0.4394 |      3000 |\n",
            "| Neutral           |      0.4645 |   0.3553 |     0.4026 |      3000 |\n",
            "| Somewhat Positive |      0.4602 |   0.4050 |     0.4309 |      3000 |\n",
            "| Positive          |      0.6290 |   0.7023 |     0.6636 |      3000 |\n",
            "+-------------------+-------------+----------+------------+-----------+\n",
            "Classification Report Test Set\n",
            "+-------------------+-------------+----------+------------+-----------+\n",
            "| Class             |   Precision |   Recall |   F1-Score |   Support |\n",
            "|-------------------+-------------+----------+------------+-----------|\n",
            "| Negative          |      0.5772 |   0.7780 |     0.6627 |      1000 |\n",
            "| Somewhat Negative |      0.4260 |   0.4290 |     0.4275 |      1000 |\n",
            "| Neutral           |      0.4282 |   0.3310 |     0.3734 |      1000 |\n",
            "| Somewhat Positive |      0.5507 |   0.4510 |     0.4959 |      1000 |\n",
            "| Positive          |      0.7293 |   0.7680 |     0.7482 |      1000 |\n",
            "+-------------------+-------------+----------+------------+-----------+\n"
          ]
        }
      ],
      "source": [
        "evaluateTranslatedTestSetAndRegularTestSet(amazonEnLanguageModel_five_labels_N_0_M_510, tokenizer, en_only_dataset, translatedTestSetAllStars, targetNames, \"bert-base-cased-5-labels-N-0-M-510-tail-only\", batch_size=8)"
      ]
    },
    {
      "cell_type": "markdown",
      "metadata": {
        "id": "BAmdnz8ZuIJO"
      },
      "source": [
        "**BERT UNCASED**"
      ]
    },
    {
      "cell_type": "code",
      "execution_count": null,
      "metadata": {
        "execution": {
          "iopub.execute_input": "2023-08-09T11:51:29.979730Z",
          "iopub.status.busy": "2023-08-09T11:51:29.977970Z",
          "iopub.status.idle": "2023-08-09T11:51:33.345742Z",
          "shell.execute_reply": "2023-08-09T11:51:33.344531Z",
          "shell.execute_reply.started": "2023-08-09T11:51:29.979692Z"
        },
        "id": "_JGFYfEouIJO",
        "trusted": true
      },
      "outputs": [],
      "source": [
        "tokenizer = AutoTokenizer.from_pretrained(\"bert-base-uncased\", num_labels=numLabels)"
      ]
    },
    {
      "cell_type": "markdown",
      "metadata": {
        "id": "dcDXL6BBuIJO"
      },
      "source": [
        "**Five labels; N=128, M=382; overall 510 tokens**"
      ]
    },
    {
      "cell_type": "code",
      "execution_count": null,
      "metadata": {
        "execution": {
          "iopub.execute_input": "2023-08-09T11:51:33.352068Z",
          "iopub.status.busy": "2023-08-09T11:51:33.347343Z",
          "iopub.status.idle": "2023-08-09T11:51:33.358376Z",
          "shell.execute_reply": "2023-08-09T11:51:33.357175Z",
          "shell.execute_reply.started": "2023-08-09T11:51:33.352016Z"
        },
        "id": "nNoYYwGBuIJO",
        "trusted": true
      },
      "outputs": [],
      "source": [
        "N = 128\n",
        "M = 382\n",
        "reviewType = \"review_body\""
      ]
    },
    {
      "cell_type": "code",
      "execution_count": null,
      "metadata": {
        "execution": {
          "iopub.execute_input": "2023-08-09T11:51:33.362870Z",
          "iopub.status.busy": "2023-08-09T11:51:33.361847Z",
          "iopub.status.idle": "2023-08-09T11:51:49.244655Z",
          "shell.execute_reply": "2023-08-09T11:51:49.240767Z",
          "shell.execute_reply.started": "2023-08-09T11:51:33.362833Z"
        },
        "id": "Py9-kuSauIJO",
        "trusted": true
      },
      "outputs": [],
      "source": [
        "amazonEnLanguageModel_five_labels_N_128_M_382 = BertForSequenceClassification.from_pretrained(\"bert-base-uncased\", num_labels=numLabels)"
      ]
    },
    {
      "cell_type": "code",
      "execution_count": null,
      "metadata": {
        "execution": {
          "iopub.execute_input": "2023-08-09T11:51:49.247302Z",
          "iopub.status.busy": "2023-08-09T11:51:49.246191Z",
          "iopub.status.idle": "2023-08-09T11:51:49.259073Z",
          "shell.execute_reply": "2023-08-09T11:51:49.256785Z",
          "shell.execute_reply.started": "2023-08-09T11:51:49.247249Z"
        },
        "id": "Jjr1I92HuIJO",
        "trusted": true
      },
      "outputs": [],
      "source": [
        "training_args = TrainingArguments(output_dir=\"test_trainer\", optim=\"adamw_torch\", warmup_steps=10000, num_train_epochs=1, weight_decay=1e-1, evaluation_strategy=\"epoch\", save_strategy = saveStrategy)"
      ]
    },
    {
      "cell_type": "code",
      "execution_count": null,
      "metadata": {
        "colab": {
          "referenced_widgets": [
            "7469c44a700d407fac27e954c5374d5c",
            "b46b40f65de7459ebdfcd8e1eb1b7eb4",
            "ebc7d4e15d8e4cc1a4226fb60d7399a6"
          ]
        },
        "execution": {
          "iopub.execute_input": "2023-08-09T11:51:49.261241Z",
          "iopub.status.busy": "2023-08-09T11:51:49.260612Z",
          "iopub.status.idle": "2023-08-09T12:23:22.128281Z",
          "shell.execute_reply": "2023-08-09T12:23:22.127142Z",
          "shell.execute_reply.started": "2023-08-09T11:51:49.261207Z"
        },
        "id": "1GGZtOS-598u",
        "outputId": "c4e286db-762c-47d8-8cea-d81dcfc1fd47",
        "trusted": true
      },
      "outputs": [
        {
          "data": {
            "application/vnd.jupyter.widget-view+json": {
              "model_id": "7469c44a700d407fac27e954c5374d5c",
              "version_major": 2,
              "version_minor": 0
            },
            "text/plain": [
              "  0%|          | 0/200 [00:00<?, ?ba/s]"
            ]
          },
          "metadata": {},
          "output_type": "display_data"
        },
        {
          "name": "stderr",
          "output_type": "stream",
          "text": [
            "Token indices sequence length is longer than the specified maximum sequence length for this model (520 > 512). Running this sequence through the model will result in indexing errors\n"
          ]
        },
        {
          "data": {
            "application/vnd.jupyter.widget-view+json": {
              "model_id": "b46b40f65de7459ebdfcd8e1eb1b7eb4",
              "version_major": 2,
              "version_minor": 0
            },
            "text/plain": [
              "  0%|          | 0/5 [00:00<?, ?ba/s]"
            ]
          },
          "metadata": {},
          "output_type": "display_data"
        },
        {
          "data": {
            "application/vnd.jupyter.widget-view+json": {
              "model_id": "ebc7d4e15d8e4cc1a4226fb60d7399a6",
              "version_major": 2,
              "version_minor": 0
            },
            "text/plain": [
              "  0%|          | 0/5 [00:00<?, ?ba/s]"
            ]
          },
          "metadata": {},
          "output_type": "display_data"
        },
        {
          "data": {
            "text/html": [
              "\n",
              "    <div>\n",
              "      \n",
              "      <progress value='3750' max='3750' style='width:300px; height:20px; vertical-align: middle;'></progress>\n",
              "      [3750/3750 28:46, Epoch 1/1]\n",
              "    </div>\n",
              "    <table border=\"1\" class=\"dataframe\">\n",
              "  <thead>\n",
              " <tr style=\"text-align: left;\">\n",
              "      <th>Epoch</th>\n",
              "      <th>Training Loss</th>\n",
              "      <th>Validation Loss</th>\n",
              "      <th>Accuracy</th>\n",
              "    </tr>\n",
              "  </thead>\n",
              "  <tbody>\n",
              "    <tr>\n",
              "      <td>1</td>\n",
              "      <td>1.036500</td>\n",
              "      <td>1.091112</td>\n",
              "      <td>0.532600</td>\n",
              "    </tr>\n",
              "  </tbody>\n",
              "</table><p>"
            ],
            "text/plain": [
              "<IPython.core.display.HTML object>"
            ]
          },
          "metadata": {},
          "output_type": "display_data"
        }
      ],
      "source": [
        "train(amazonEnLanguageModel_five_labels_N_128_M_382, training_args, en_only_dataset, 30000, \"amazon\")"
      ]
    },
    {
      "cell_type": "code",
      "execution_count": null,
      "metadata": {
        "execution": {
          "iopub.execute_input": "2023-08-09T12:23:22.134597Z",
          "iopub.status.busy": "2023-08-09T12:23:22.131768Z",
          "iopub.status.idle": "2023-08-09T12:29:17.241389Z",
          "shell.execute_reply": "2023-08-09T12:29:17.240304Z",
          "shell.execute_reply.started": "2023-08-09T12:23:22.134555Z"
        },
        "id": "p6N5UU5O598u",
        "outputId": "5931709c-694c-429d-93c8-4d425469986c",
        "trusted": true
      },
      "outputs": [
        {
          "name": "stdout",
          "output_type": "stream",
          "text": [
            "\u001b[1mbert-base-uncased-5-labels-N-128-M-382-head+tail\u001b[0m\n",
            "Classification Report Translated Test Set\n",
            "+-------------------+-------------+----------+------------+-----------+\n",
            "| Class             |   Precision |   Recall |   F1-Score |   Support |\n",
            "|-------------------+-------------+----------+------------+-----------|\n",
            "| Negative          |      0.5702 |   0.7960 |     0.6644 |      3000 |\n",
            "| Somewhat Negative |      0.4091 |   0.4657 |     0.4355 |      3000 |\n",
            "| Neutral           |      0.4553 |   0.2493 |     0.3222 |      3000 |\n",
            "| Somewhat Positive |      0.4785 |   0.3563 |     0.4085 |      3000 |\n",
            "| Positive          |      0.6315 |   0.7410 |     0.6819 |      3000 |\n",
            "+-------------------+-------------+----------+------------+-----------+\n",
            "Classification Report Test Set\n",
            "+-------------------+-------------+----------+------------+-----------+\n",
            "| Class             |   Precision |   Recall |   F1-Score |   Support |\n",
            "|-------------------+-------------+----------+------------+-----------|\n",
            "| Negative          |      0.5440 |   0.8220 |     0.6547 |      1000 |\n",
            "| Somewhat Negative |      0.3864 |   0.4420 |     0.4123 |      1000 |\n",
            "| Neutral           |      0.4186 |   0.2340 |     0.3002 |      1000 |\n",
            "| Somewhat Positive |      0.5617 |   0.3960 |     0.4645 |      1000 |\n",
            "| Positive          |      0.7253 |   0.7840 |     0.7535 |      1000 |\n",
            "+-------------------+-------------+----------+------------+-----------+\n"
          ]
        }
      ],
      "source": [
        "evaluateTranslatedTestSetAndRegularTestSet(amazonEnLanguageModel_five_labels_N_128_M_382, tokenizer, en_only_dataset, translatedTestSetAllStars, targetNames, \"bert-base-uncased-5-labels-N-128-M-382-head+tail\", batch_size=8)"
      ]
    },
    {
      "cell_type": "markdown",
      "metadata": {
        "id": "T7A11r8kuIJP"
      },
      "source": [
        "**Five labels; N=64, M=64; overall 128 tokens**"
      ]
    },
    {
      "cell_type": "code",
      "execution_count": null,
      "metadata": {
        "execution": {
          "iopub.execute_input": "2023-08-09T12:29:17.246795Z",
          "iopub.status.busy": "2023-08-09T12:29:17.246072Z",
          "iopub.status.idle": "2023-08-09T12:29:17.252043Z",
          "shell.execute_reply": "2023-08-09T12:29:17.251083Z",
          "shell.execute_reply.started": "2023-08-09T12:29:17.246740Z"
        },
        "id": "h7Z6CrLKuIJP",
        "trusted": true
      },
      "outputs": [],
      "source": [
        "N = 64\n",
        "M = 64\n",
        "reviewType = \"review_body\""
      ]
    },
    {
      "cell_type": "code",
      "execution_count": null,
      "metadata": {
        "execution": {
          "iopub.execute_input": "2023-08-09T12:29:17.254559Z",
          "iopub.status.busy": "2023-08-09T12:29:17.253799Z",
          "iopub.status.idle": "2023-08-09T12:29:18.787498Z",
          "shell.execute_reply": "2023-08-09T12:29:18.786410Z",
          "shell.execute_reply.started": "2023-08-09T12:29:17.254523Z"
        },
        "id": "v3Gw4RLUuIJP",
        "trusted": true
      },
      "outputs": [],
      "source": [
        "amazonEnLanguageModel_five_labels_N_64_M_64 = BertForSequenceClassification.from_pretrained(\"bert-base-uncased\", num_labels=numLabels)"
      ]
    },
    {
      "cell_type": "code",
      "execution_count": null,
      "metadata": {
        "execution": {
          "iopub.execute_input": "2023-08-09T12:29:18.790049Z",
          "iopub.status.busy": "2023-08-09T12:29:18.789311Z",
          "iopub.status.idle": "2023-08-09T12:29:18.801321Z",
          "shell.execute_reply": "2023-08-09T12:29:18.800380Z",
          "shell.execute_reply.started": "2023-08-09T12:29:18.790010Z"
        },
        "id": "weL0Z9tFuIJP",
        "trusted": true
      },
      "outputs": [],
      "source": [
        "training_args = TrainingArguments(output_dir=\"test_trainer\", optim=\"adamw_torch\", warmup_steps=10000, num_train_epochs=1, weight_decay=1e-1, evaluation_strategy=\"epoch\", save_strategy = saveStrategy)"
      ]
    },
    {
      "cell_type": "code",
      "execution_count": null,
      "metadata": {
        "colab": {
          "referenced_widgets": [
            "711dcfb9fa124e8bac9fd5256c242528",
            "2e925cd5eac341778157284b469f601d",
            "74a6c0e27c704f58ae28ccc42d3d9476"
          ]
        },
        "execution": {
          "iopub.execute_input": "2023-08-09T12:29:18.804114Z",
          "iopub.status.busy": "2023-08-09T12:29:18.803161Z",
          "iopub.status.idle": "2023-08-09T12:39:14.631594Z",
          "shell.execute_reply": "2023-08-09T12:39:14.630592Z",
          "shell.execute_reply.started": "2023-08-09T12:29:18.804080Z"
        },
        "id": "sA31U-oQ598v",
        "outputId": "cdba3e8b-91c5-4066-b181-102dff3cd7f1",
        "trusted": true
      },
      "outputs": [
        {
          "data": {
            "application/vnd.jupyter.widget-view+json": {
              "model_id": "711dcfb9fa124e8bac9fd5256c242528",
              "version_major": 2,
              "version_minor": 0
            },
            "text/plain": [
              "  0%|          | 0/200 [00:00<?, ?ba/s]"
            ]
          },
          "metadata": {},
          "output_type": "display_data"
        },
        {
          "data": {
            "application/vnd.jupyter.widget-view+json": {
              "model_id": "2e925cd5eac341778157284b469f601d",
              "version_major": 2,
              "version_minor": 0
            },
            "text/plain": [
              "  0%|          | 0/5 [00:00<?, ?ba/s]"
            ]
          },
          "metadata": {},
          "output_type": "display_data"
        },
        {
          "data": {
            "application/vnd.jupyter.widget-view+json": {
              "model_id": "74a6c0e27c704f58ae28ccc42d3d9476",
              "version_major": 2,
              "version_minor": 0
            },
            "text/plain": [
              "  0%|          | 0/5 [00:00<?, ?ba/s]"
            ]
          },
          "metadata": {},
          "output_type": "display_data"
        },
        {
          "data": {
            "text/html": [
              "\n",
              "    <div>\n",
              "      \n",
              "      <progress value='3750' max='3750' style='width:300px; height:20px; vertical-align: middle;'></progress>\n",
              "      [3750/3750 07:58, Epoch 1/1]\n",
              "    </div>\n",
              "    <table border=\"1\" class=\"dataframe\">\n",
              "  <thead>\n",
              " <tr style=\"text-align: left;\">\n",
              "      <th>Epoch</th>\n",
              "      <th>Training Loss</th>\n",
              "      <th>Validation Loss</th>\n",
              "      <th>Accuracy</th>\n",
              "    </tr>\n",
              "  </thead>\n",
              "  <tbody>\n",
              "    <tr>\n",
              "      <td>1</td>\n",
              "      <td>1.031400</td>\n",
              "      <td>1.040522</td>\n",
              "      <td>0.554000</td>\n",
              "    </tr>\n",
              "  </tbody>\n",
              "</table><p>"
            ],
            "text/plain": [
              "<IPython.core.display.HTML object>"
            ]
          },
          "metadata": {},
          "output_type": "display_data"
        }
      ],
      "source": [
        "train(amazonEnLanguageModel_five_labels_N_64_M_64, training_args, en_only_dataset, 30000, \"amazon\")"
      ]
    },
    {
      "cell_type": "code",
      "execution_count": null,
      "metadata": {
        "execution": {
          "iopub.execute_input": "2023-08-09T12:39:14.639939Z",
          "iopub.status.busy": "2023-08-09T12:39:14.639016Z",
          "iopub.status.idle": "2023-08-09T12:40:46.880521Z",
          "shell.execute_reply": "2023-08-09T12:40:46.879418Z",
          "shell.execute_reply.started": "2023-08-09T12:39:14.639903Z"
        },
        "id": "z3c5ZPV3598v",
        "outputId": "8b45db04-a4b3-40e7-fce2-8f974d9eb0e0",
        "trusted": true
      },
      "outputs": [
        {
          "name": "stdout",
          "output_type": "stream",
          "text": [
            "\u001b[1mbert-base-uncased-5-labels-N-64-M-64-head+tail\u001b[0m\n",
            "Classification Report Translated Test Set\n",
            "+-------------------+-------------+----------+------------+-----------+\n",
            "| Class             |   Precision |   Recall |   F1-Score |   Support |\n",
            "|-------------------+-------------+----------+------------+-----------|\n",
            "| Negative          |      0.6293 |   0.7107 |     0.6675 |      3000 |\n",
            "| Somewhat Negative |      0.4371 |   0.4840 |     0.4593 |      3000 |\n",
            "| Neutral           |      0.4600 |   0.3473 |     0.3958 |      3000 |\n",
            "| Somewhat Positive |      0.4650 |   0.3920 |     0.4254 |      3000 |\n",
            "| Positive          |      0.6293 |   0.7333 |     0.6773 |      3000 |\n",
            "+-------------------+-------------+----------+------------+-----------+\n",
            "Classification Report Test Set\n",
            "+-------------------+-------------+----------+------------+-----------+\n",
            "| Class             |   Precision |   Recall |   F1-Score |   Support |\n",
            "|-------------------+-------------+----------+------------+-----------|\n",
            "| Negative          |      0.6032 |   0.7450 |     0.6667 |      1000 |\n",
            "| Somewhat Negative |      0.4216 |   0.4650 |     0.4422 |      1000 |\n",
            "| Neutral           |      0.4293 |   0.3460 |     0.3832 |      1000 |\n",
            "| Somewhat Positive |      0.5417 |   0.4350 |     0.4825 |      1000 |\n",
            "| Positive          |      0.7255 |   0.7640 |     0.7443 |      1000 |\n",
            "+-------------------+-------------+----------+------------+-----------+\n"
          ]
        }
      ],
      "source": [
        "evaluateTranslatedTestSetAndRegularTestSet(amazonEnLanguageModel_five_labels_N_64_M_64, tokenizer, en_only_dataset, translatedTestSetAllStars, targetNames, \"bert-base-uncased-5-labels-N-64-M-64-head+tail\", batch_size=8)"
      ]
    },
    {
      "cell_type": "markdown",
      "metadata": {
        "id": "oFjk4OTcuIJP"
      },
      "source": [
        "**Five labels; N=510, M=0; overall 510 tokens**"
      ]
    },
    {
      "cell_type": "code",
      "execution_count": null,
      "metadata": {
        "execution": {
          "iopub.execute_input": "2023-08-09T12:40:46.886229Z",
          "iopub.status.busy": "2023-08-09T12:40:46.885564Z",
          "iopub.status.idle": "2023-08-09T12:40:46.892857Z",
          "shell.execute_reply": "2023-08-09T12:40:46.891921Z",
          "shell.execute_reply.started": "2023-08-09T12:40:46.886191Z"
        },
        "id": "Teo3vnXVuIJP",
        "trusted": true
      },
      "outputs": [],
      "source": [
        "N = 510\n",
        "M = 0\n",
        "reviewType = \"review_body\""
      ]
    },
    {
      "cell_type": "code",
      "execution_count": null,
      "metadata": {
        "execution": {
          "iopub.execute_input": "2023-08-09T12:40:46.894946Z",
          "iopub.status.busy": "2023-08-09T12:40:46.894337Z",
          "iopub.status.idle": "2023-08-09T12:40:48.186580Z",
          "shell.execute_reply": "2023-08-09T12:40:48.185391Z",
          "shell.execute_reply.started": "2023-08-09T12:40:46.894911Z"
        },
        "id": "gvTMCbQWuIJP",
        "trusted": true
      },
      "outputs": [],
      "source": [
        "amazonEnLanguageModel_five_labels_N_510_M_0 = BertForSequenceClassification.from_pretrained(\"bert-base-uncased\", num_labels=numLabels)"
      ]
    },
    {
      "cell_type": "code",
      "execution_count": null,
      "metadata": {
        "execution": {
          "iopub.execute_input": "2023-08-09T12:40:48.193982Z",
          "iopub.status.busy": "2023-08-09T12:40:48.190018Z",
          "iopub.status.idle": "2023-08-09T12:40:48.204727Z",
          "shell.execute_reply": "2023-08-09T12:40:48.203614Z",
          "shell.execute_reply.started": "2023-08-09T12:40:48.193939Z"
        },
        "id": "qyOlZO5MuIJP",
        "trusted": true
      },
      "outputs": [],
      "source": [
        "training_args = TrainingArguments(output_dir=\"test_trainer\", optim=\"adamw_torch\", warmup_steps=10000, num_train_epochs=1, weight_decay=1e-1, evaluation_strategy=\"epoch\", save_strategy = saveStrategy)"
      ]
    },
    {
      "cell_type": "code",
      "execution_count": null,
      "metadata": {
        "colab": {
          "referenced_widgets": [
            "5f8a069bea21408589ca909b8254b984",
            "544f01f088aa45deb3fc4d5fdcffdbf3",
            "26f06ef1874343c38d1b024c9c75848b"
          ]
        },
        "execution": {
          "iopub.execute_input": "2023-08-09T12:40:48.207162Z",
          "iopub.status.busy": "2023-08-09T12:40:48.206508Z",
          "iopub.status.idle": "2023-08-09T13:12:09.591020Z",
          "shell.execute_reply": "2023-08-09T13:12:09.586567Z",
          "shell.execute_reply.started": "2023-08-09T12:40:48.207128Z"
        },
        "id": "ndV_g6z9598v",
        "outputId": "370f0a8e-52f4-4d82-b1a4-8ed2e67c41d4",
        "trusted": true
      },
      "outputs": [
        {
          "data": {
            "application/vnd.jupyter.widget-view+json": {
              "model_id": "5f8a069bea21408589ca909b8254b984",
              "version_major": 2,
              "version_minor": 0
            },
            "text/plain": [
              "  0%|          | 0/200 [00:00<?, ?ba/s]"
            ]
          },
          "metadata": {},
          "output_type": "display_data"
        },
        {
          "data": {
            "application/vnd.jupyter.widget-view+json": {
              "model_id": "544f01f088aa45deb3fc4d5fdcffdbf3",
              "version_major": 2,
              "version_minor": 0
            },
            "text/plain": [
              "  0%|          | 0/5 [00:00<?, ?ba/s]"
            ]
          },
          "metadata": {},
          "output_type": "display_data"
        },
        {
          "data": {
            "application/vnd.jupyter.widget-view+json": {
              "model_id": "26f06ef1874343c38d1b024c9c75848b",
              "version_major": 2,
              "version_minor": 0
            },
            "text/plain": [
              "  0%|          | 0/5 [00:00<?, ?ba/s]"
            ]
          },
          "metadata": {},
          "output_type": "display_data"
        },
        {
          "data": {
            "text/html": [
              "\n",
              "    <div>\n",
              "      \n",
              "      <progress value='3750' max='3750' style='width:300px; height:20px; vertical-align: middle;'></progress>\n",
              "      [3750/3750 28:43, Epoch 1/1]\n",
              "    </div>\n",
              "    <table border=\"1\" class=\"dataframe\">\n",
              "  <thead>\n",
              " <tr style=\"text-align: left;\">\n",
              "      <th>Epoch</th>\n",
              "      <th>Training Loss</th>\n",
              "      <th>Validation Loss</th>\n",
              "      <th>Accuracy</th>\n",
              "    </tr>\n",
              "  </thead>\n",
              "  <tbody>\n",
              "    <tr>\n",
              "      <td>1</td>\n",
              "      <td>1.036300</td>\n",
              "      <td>1.065287</td>\n",
              "      <td>0.538400</td>\n",
              "    </tr>\n",
              "  </tbody>\n",
              "</table><p>"
            ],
            "text/plain": [
              "<IPython.core.display.HTML object>"
            ]
          },
          "metadata": {},
          "output_type": "display_data"
        }
      ],
      "source": [
        "train(amazonEnLanguageModel_five_labels_N_510_M_0, training_args, en_only_dataset, 30000, \"amazon\")"
      ]
    },
    {
      "cell_type": "code",
      "execution_count": null,
      "metadata": {
        "execution": {
          "iopub.execute_input": "2023-08-09T13:12:09.593552Z",
          "iopub.status.busy": "2023-08-09T13:12:09.592561Z",
          "iopub.status.idle": "2023-08-09T13:18:03.724387Z",
          "shell.execute_reply": "2023-08-09T13:18:03.723312Z",
          "shell.execute_reply.started": "2023-08-09T13:12:09.593516Z"
        },
        "id": "jK39LXcI598w",
        "outputId": "c502fd50-ba47-4af0-b991-e00cd7b00960",
        "trusted": true
      },
      "outputs": [
        {
          "name": "stdout",
          "output_type": "stream",
          "text": [
            "\u001b[1mbert-base-uncased-5-labels-N-510-M-0-head-only\u001b[0m\n",
            "Classification Report Translated Test Set\n",
            "+-------------------+-------------+----------+------------+-----------+\n",
            "| Class             |   Precision |   Recall |   F1-Score |   Support |\n",
            "|-------------------+-------------+----------+------------+-----------|\n",
            "| Negative          |      0.5932 |   0.7613 |     0.6669 |      3000 |\n",
            "| Somewhat Negative |      0.4270 |   0.4907 |     0.4566 |      3000 |\n",
            "| Neutral           |      0.4665 |   0.2580 |     0.3323 |      3000 |\n",
            "| Somewhat Positive |      0.4736 |   0.3920 |     0.4290 |      3000 |\n",
            "| Positive          |      0.6310 |   0.7490 |     0.6850 |      3000 |\n",
            "+-------------------+-------------+----------+------------+-----------+\n",
            "Classification Report Test Set\n",
            "+-------------------+-------------+----------+------------+-----------+\n",
            "| Class             |   Precision |   Recall |   F1-Score |   Support |\n",
            "|-------------------+-------------+----------+------------+-----------|\n",
            "| Negative          |      0.5592 |   0.7930 |     0.6559 |      1000 |\n",
            "| Somewhat Negative |      0.4017 |   0.4700 |     0.4332 |      1000 |\n",
            "| Neutral           |      0.4425 |   0.2310 |     0.3035 |      1000 |\n",
            "| Somewhat Positive |      0.5513 |   0.4460 |     0.4931 |      1000 |\n",
            "| Positive          |      0.7234 |   0.7820 |     0.7516 |      1000 |\n",
            "+-------------------+-------------+----------+------------+-----------+\n"
          ]
        }
      ],
      "source": [
        "evaluateTranslatedTestSetAndRegularTestSet(amazonEnLanguageModel_five_labels_N_510_M_0, tokenizer, en_only_dataset, translatedTestSetAllStars, targetNames, \"bert-base-uncased-5-labels-N-510-M-0-head-only\", batch_size=8)"
      ]
    },
    {
      "cell_type": "markdown",
      "metadata": {
        "id": "oC6uI7YRuIJQ"
      },
      "source": [
        "**At this point we got discoureged to keep going as the accuracy is really low**"
      ]
    },
    {
      "cell_type": "code",
      "execution_count": null,
      "metadata": {
        "execution": {
          "iopub.execute_input": "2023-08-11T14:30:31.732723Z",
          "iopub.status.busy": "2023-08-11T14:30:31.731684Z",
          "iopub.status.idle": "2023-08-11T14:30:31.739367Z",
          "shell.execute_reply": "2023-08-11T14:30:31.738377Z",
          "shell.execute_reply.started": "2023-08-11T14:30:31.732689Z"
        },
        "id": "yxbRaP_09-Pp",
        "trusted": true
      },
      "outputs": [],
      "source": [
        "def dropColumns(df):\n",
        "    df.drop(columnsToDrop, axis=1, inplace=True)\n",
        "    return df"
      ]
    },
    {
      "cell_type": "code",
      "execution_count": null,
      "metadata": {
        "execution": {
          "iopub.execute_input": "2023-08-11T14:30:31.741870Z",
          "iopub.status.busy": "2023-08-11T14:30:31.740687Z",
          "iopub.status.idle": "2023-08-11T14:30:32.034344Z",
          "shell.execute_reply": "2023-08-11T14:30:32.033431Z",
          "shell.execute_reply.started": "2023-08-11T14:30:31.741836Z"
        },
        "id": "R-bGTtzH9-Pp",
        "outputId": "4535b0a4-aab1-4345-87c1-fbdd2f1ac061",
        "trusted": true
      },
      "outputs": [
        {
          "data": {
            "text/html": [
              "<div>\n",
              "<style scoped>\n",
              "    .dataframe tbody tr th:only-of-type {\n",
              "        vertical-align: middle;\n",
              "    }\n",
              "\n",
              "    .dataframe tbody tr th {\n",
              "        vertical-align: top;\n",
              "    }\n",
              "\n",
              "    .dataframe thead th {\n",
              "        text-align: right;\n",
              "    }\n",
              "</style>\n",
              "<table border=\"1\" class=\"dataframe\">\n",
              "  <thead>\n",
              "    <tr style=\"text-align: right;\">\n",
              "      <th></th>\n",
              "      <th>Unnamed: 0</th>\n",
              "      <th>stars</th>\n",
              "      <th>review_body</th>\n",
              "      <th>review_title</th>\n",
              "      <th>language</th>\n",
              "      <th>translated_title</th>\n",
              "      <th>translated_body</th>\n",
              "    </tr>\n",
              "  </thead>\n",
              "  <tbody>\n",
              "    <tr>\n",
              "      <th>0</th>\n",
              "      <td>0</td>\n",
              "      <td>1</td>\n",
              "      <td>Leider, leider nach einmal waschen ausgebliche...</td>\n",
              "      <td>Leider nicht zu empfehlen</td>\n",
              "      <td>de</td>\n",
              "      <td>Unfortunately not recommended</td>\n",
              "      <td>Unfortunately, unfortunately faded after one w...</td>\n",
              "    </tr>\n",
              "    <tr>\n",
              "      <th>1</th>\n",
              "      <td>1</td>\n",
              "      <td>1</td>\n",
              "      <td>zunächst macht der Anker Halter einen soliden ...</td>\n",
              "      <td>Gummierung nach 6 Monaten kaputt</td>\n",
              "      <td>de</td>\n",
              "      <td>Rubber broken after 6 months</td>\n",
              "      <td>first of all, the anchor holder makes a solid ...</td>\n",
              "    </tr>\n",
              "    <tr>\n",
              "      <th>2</th>\n",
              "      <td>2</td>\n",
              "      <td>1</td>\n",
              "      <td>Siegel sowie Verpackung war beschädigt und war...</td>\n",
              "      <td>Flohmarkt ware</td>\n",
              "      <td>de</td>\n",
              "      <td>flea market goods</td>\n",
              "      <td>Seal and packaging was damaged and item was us...</td>\n",
              "    </tr>\n",
              "    <tr>\n",
              "      <th>3</th>\n",
              "      <td>3</td>\n",
              "      <td>1</td>\n",
              "      <td>Habe dieses Produkt NIE erhalten und das Geld ...</td>\n",
              "      <td>Katastrophe</td>\n",
              "      <td>de</td>\n",
              "      <td>catastrophe</td>\n",
              "      <td>NEVER received this product and the money was ...</td>\n",
              "    </tr>\n",
              "    <tr>\n",
              "      <th>4</th>\n",
              "      <td>4</td>\n",
              "      <td>1</td>\n",
              "      <td>Die Träger sind schnell abgerissen</td>\n",
              "      <td>Reißverschluss klemmt</td>\n",
              "      <td>de</td>\n",
              "      <td>Zipper is stuck</td>\n",
              "      <td>The straps ripped off quickly</td>\n",
              "    </tr>\n",
              "  </tbody>\n",
              "</table>\n",
              "</div>"
            ],
            "text/plain": [
              "   Unnamed: 0  stars                                        review_body  \\\n",
              "0           0      1  Leider, leider nach einmal waschen ausgebliche...   \n",
              "1           1      1  zunächst macht der Anker Halter einen soliden ...   \n",
              "2           2      1  Siegel sowie Verpackung war beschädigt und war...   \n",
              "3           3      1  Habe dieses Produkt NIE erhalten und das Geld ...   \n",
              "4           4      1                 Die Träger sind schnell abgerissen   \n",
              "\n",
              "                       review_title language               translated_title  \\\n",
              "0         Leider nicht zu empfehlen       de  Unfortunately not recommended   \n",
              "1  Gummierung nach 6 Monaten kaputt       de   Rubber broken after 6 months   \n",
              "2                    Flohmarkt ware       de              flea market goods   \n",
              "3                       Katastrophe       de                    catastrophe   \n",
              "4             Reißverschluss klemmt       de                Zipper is stuck   \n",
              "\n",
              "                                     translated_body  \n",
              "0  Unfortunately, unfortunately faded after one w...  \n",
              "1  first of all, the anchor holder makes a solid ...  \n",
              "2  Seal and packaging was damaged and item was us...  \n",
              "3  NEVER received this product and the money was ...  \n",
              "4                      The straps ripped off quickly  "
            ]
          },
          "execution_count": 18,
          "metadata": {},
          "output_type": "execute_result"
        }
      ],
      "source": [
        "translatedTestSetAllStars = pd.read_csv('amazon_translated_body_and_title_with_originals_all_stars.csv')\n",
        "translatedTestSetAllStars.head(5)"
      ]
    },
    {
      "cell_type": "code",
      "execution_count": null,
      "metadata": {
        "execution": {
          "iopub.execute_input": "2023-08-11T14:30:32.038168Z",
          "iopub.status.busy": "2023-08-11T14:30:32.035685Z",
          "iopub.status.idle": "2023-08-11T14:30:32.045761Z",
          "shell.execute_reply": "2023-08-11T14:30:32.044601Z",
          "shell.execute_reply.started": "2023-08-11T14:30:32.038132Z"
        },
        "id": "Bi31woUc9-Pp",
        "trusted": true
      },
      "outputs": [],
      "source": [
        "translatedTestSetAllStars.drop(columns=['Unnamed: 0'], axis=0, inplace=True)\n",
        "translatedTestSetAllStars.rename(columns={'stars':'labels'}, inplace=True)"
      ]
    },
    {
      "cell_type": "code",
      "execution_count": null,
      "metadata": {
        "execution": {
          "iopub.execute_input": "2023-08-11T14:30:32.047663Z",
          "iopub.status.busy": "2023-08-11T14:30:32.047115Z",
          "iopub.status.idle": "2023-08-11T14:30:43.887667Z",
          "shell.execute_reply": "2023-08-11T14:30:43.886690Z",
          "shell.execute_reply.started": "2023-08-11T14:30:32.047628Z"
        },
        "id": "F2MgGHCX9-Pp",
        "trusted": true
      },
      "outputs": [],
      "source": [
        "trainingSetAmazon = pd.read_csv('train.csv')\n",
        "validationSetAmazon = pd.read_csv('validation.csv')\n",
        "testSetAmazon = pd.read_csv('test.csv')"
      ]
    },
    {
      "cell_type": "code",
      "execution_count": null,
      "metadata": {
        "execution": {
          "iopub.execute_input": "2023-08-11T14:30:43.889571Z",
          "iopub.status.busy": "2023-08-11T14:30:43.889218Z",
          "iopub.status.idle": "2023-08-11T14:30:44.095115Z",
          "shell.execute_reply": "2023-08-11T14:30:44.094132Z",
          "shell.execute_reply.started": "2023-08-11T14:30:43.889537Z"
        },
        "id": "8jbR83_k9-Pp",
        "trusted": true
      },
      "outputs": [],
      "source": [
        "columnsToDrop = ['Unnamed: 0', 'review_id', 'product_id', 'reviewer_id', 'product_category']\n",
        "trainingSetAmazon = dropColumns(trainingSetAmazon)\n",
        "validationSetAmazon = dropColumns(validationSetAmazon)\n",
        "testSetAmazon = dropColumns(testSetAmazon)"
      ]
    },
    {
      "cell_type": "code",
      "execution_count": null,
      "metadata": {
        "execution": {
          "iopub.execute_input": "2023-08-11T14:30:44.097090Z",
          "iopub.status.busy": "2023-08-11T14:30:44.096711Z",
          "iopub.status.idle": "2023-08-11T14:30:44.435476Z",
          "shell.execute_reply": "2023-08-11T14:30:44.434391Z",
          "shell.execute_reply.started": "2023-08-11T14:30:44.097055Z"
        },
        "id": "Metu73PY9-Pp",
        "trusted": true
      },
      "outputs": [],
      "source": [
        "def extractLanguage(language, df):\n",
        "    new_df = df.copy()\n",
        "    exclude = np.where(new_df['language'] != language)\n",
        "    new_df.drop(exclude[0],axis=0, inplace=True)\n",
        "    return new_df\n",
        "enOnlyTrain = extractLanguage('en', trainingSetAmazon)\n",
        "enOnlyDev = extractLanguage('en', validationSetAmazon)\n",
        "enOnlyTest = extractLanguage('en', testSetAmazon)"
      ]
    },
    {
      "cell_type": "code",
      "execution_count": null,
      "metadata": {
        "execution": {
          "iopub.execute_input": "2023-08-08T20:28:37.248164Z",
          "iopub.status.busy": "2023-08-08T20:28:37.245565Z",
          "iopub.status.idle": "2023-08-08T20:28:37.256199Z",
          "shell.execute_reply": "2023-08-08T20:28:37.254823Z",
          "shell.execute_reply.started": "2023-08-08T20:28:37.248126Z"
        },
        "id": "CuEOcXTxuIJS",
        "trusted": true
      },
      "outputs": [],
      "source": [
        "def changeToBinary(example):\n",
        "    if example['labels'] >= threshold:\n",
        "        example['labels'] = 1\n",
        "    else:\n",
        "        example['labels'] = 0\n",
        "    return example"
      ]
    },
    {
      "cell_type": "code",
      "execution_count": null,
      "metadata": {
        "execution": {
          "iopub.execute_input": "2023-08-03T14:32:07.401646Z",
          "iopub.status.busy": "2023-08-03T14:32:07.401221Z",
          "iopub.status.idle": "2023-08-03T14:32:07.408054Z",
          "shell.execute_reply": "2023-08-03T14:32:07.407132Z",
          "shell.execute_reply.started": "2023-08-03T14:32:07.401613Z"
        },
        "id": "bDg9KDrcuIJa",
        "trusted": true
      },
      "outputs": [],
      "source": [
        "def removeNeutrals(examples):\n",
        "    df = pd.DataFrame(examples)\n",
        "    exclude = np.where(df['labels'] == 3)\n",
        "    df.drop(exclude[0],axis=0, inplace=True)\n",
        "    return df"
      ]
    },
    {
      "cell_type": "markdown",
      "metadata": {
        "id": "FpLM5a-77hwn"
      },
      "source": [
        "**Train on Amazon, Test on IMDB**"
      ]
    },
    {
      "cell_type": "code",
      "execution_count": null,
      "metadata": {
        "execution": {
          "iopub.execute_input": "2023-08-15T11:34:10.596141Z",
          "iopub.status.busy": "2023-08-15T11:34:10.595793Z",
          "iopub.status.idle": "2023-08-15T11:34:11.695160Z",
          "shell.execute_reply": "2023-08-15T11:34:11.694212Z",
          "shell.execute_reply.started": "2023-08-15T11:34:10.596115Z"
        },
        "id": "ClakwX2z6uGo",
        "trusted": true
      },
      "outputs": [],
      "source": [
        "threshold = 3 # neutrals are included\n",
        "numLabels = 2\n",
        "targetNames = ['Negative', 'Positive']\n",
        "metric = evaluate.load(\"accuracy\")"
      ]
    },
    {
      "cell_type": "code",
      "execution_count": null,
      "metadata": {
        "colab": {
          "referenced_widgets": [
            "5a0828ed1cc243caa71eaa676cdb810c",
            "4c154ed601eb45c8813dca661ad7ef42",
            "0cb97bd4c0d04d3f80e66f91cb89dc45"
          ]
        },
        "execution": {
          "iopub.execute_input": "2023-08-14T10:13:39.388014Z",
          "iopub.status.busy": "2023-08-14T10:13:39.387685Z",
          "iopub.status.idle": "2023-08-14T10:13:56.771562Z",
          "shell.execute_reply": "2023-08-14T10:13:56.770606Z",
          "shell.execute_reply.started": "2023-08-14T10:13:39.387985Z"
        },
        "id": "aQOsSKNH6uGo",
        "outputId": "f2b1501e-505a-42f5-f7ef-4d072ad7be47",
        "trusted": true
      },
      "outputs": [
        {
          "data": {
            "application/vnd.jupyter.widget-view+json": {
              "model_id": "5a0828ed1cc243caa71eaa676cdb810c",
              "version_major": 2,
              "version_minor": 0
            },
            "text/plain": [
              "  0%|          | 0/200000 [00:00<?, ?ex/s]"
            ]
          },
          "metadata": {},
          "output_type": "display_data"
        },
        {
          "data": {
            "application/vnd.jupyter.widget-view+json": {
              "model_id": "4c154ed601eb45c8813dca661ad7ef42",
              "version_major": 2,
              "version_minor": 0
            },
            "text/plain": [
              "  0%|          | 0/5000 [00:00<?, ?ex/s]"
            ]
          },
          "metadata": {},
          "output_type": "display_data"
        },
        {
          "data": {
            "application/vnd.jupyter.widget-view+json": {
              "model_id": "0cb97bd4c0d04d3f80e66f91cb89dc45",
              "version_major": 2,
              "version_minor": 0
            },
            "text/plain": [
              "  0%|          | 0/5000 [00:00<?, ?ex/s]"
            ]
          },
          "metadata": {},
          "output_type": "display_data"
        }
      ],
      "source": [
        "updatedDataset = en_only_dataset.map(changeToBinary)"
      ]
    },
    {
      "cell_type": "markdown",
      "metadata": {
        "id": "adon3f3h6uGo"
      },
      "source": [
        "**BERT CASED**"
      ]
    },
    {
      "cell_type": "code",
      "execution_count": null,
      "metadata": {
        "colab": {
          "referenced_widgets": [
            "23a43d1d162a4062a17451d51d134c6f",
            "4f4719d1d554459589fde0cc5c73f782",
            "8adcd170eb6b48eca1e6dfe1741a4d3b",
            "019e9c94ad4c41649a3c7f28bbdda53c"
          ]
        },
        "execution": {
          "iopub.execute_input": "2023-08-14T10:13:56.774398Z",
          "iopub.status.busy": "2023-08-14T10:13:56.773725Z",
          "iopub.status.idle": "2023-08-14T10:13:58.293103Z",
          "shell.execute_reply": "2023-08-14T10:13:58.292139Z",
          "shell.execute_reply.started": "2023-08-14T10:13:56.774363Z"
        },
        "id": "iFbbSY4o6uGp",
        "outputId": "736d3992-ea52-420d-afc0-e668d0395b80",
        "trusted": true
      },
      "outputs": [
        {
          "data": {
            "application/vnd.jupyter.widget-view+json": {
              "model_id": "23a43d1d162a4062a17451d51d134c6f",
              "version_major": 2,
              "version_minor": 0
            },
            "text/plain": [
              "Downloading (…)okenizer_config.json:   0%|          | 0.00/29.0 [00:00<?, ?B/s]"
            ]
          },
          "metadata": {},
          "output_type": "display_data"
        },
        {
          "data": {
            "application/vnd.jupyter.widget-view+json": {
              "model_id": "4f4719d1d554459589fde0cc5c73f782",
              "version_major": 2,
              "version_minor": 0
            },
            "text/plain": [
              "Downloading (…)lve/main/config.json:   0%|          | 0.00/570 [00:00<?, ?B/s]"
            ]
          },
          "metadata": {},
          "output_type": "display_data"
        },
        {
          "data": {
            "application/vnd.jupyter.widget-view+json": {
              "model_id": "8adcd170eb6b48eca1e6dfe1741a4d3b",
              "version_major": 2,
              "version_minor": 0
            },
            "text/plain": [
              "Downloading (…)solve/main/vocab.txt:   0%|          | 0.00/213k [00:00<?, ?B/s]"
            ]
          },
          "metadata": {},
          "output_type": "display_data"
        },
        {
          "data": {
            "application/vnd.jupyter.widget-view+json": {
              "model_id": "019e9c94ad4c41649a3c7f28bbdda53c",
              "version_major": 2,
              "version_minor": 0
            },
            "text/plain": [
              "Downloading (…)/main/tokenizer.json:   0%|          | 0.00/436k [00:00<?, ?B/s]"
            ]
          },
          "metadata": {},
          "output_type": "display_data"
        }
      ],
      "source": [
        "tokenizer = AutoTokenizer.from_pretrained('bert-base-cased', num_labels=numLabels)"
      ]
    },
    {
      "cell_type": "markdown",
      "metadata": {
        "id": "QUa1DHwl6uGp"
      },
      "source": [
        "**Two labels with Neutral; N=128, M=382; overall 510 tokens**"
      ]
    },
    {
      "cell_type": "code",
      "execution_count": null,
      "metadata": {
        "execution": {
          "iopub.execute_input": "2023-08-14T10:13:58.295067Z",
          "iopub.status.busy": "2023-08-14T10:13:58.294692Z",
          "iopub.status.idle": "2023-08-14T10:13:58.300336Z",
          "shell.execute_reply": "2023-08-14T10:13:58.299100Z",
          "shell.execute_reply.started": "2023-08-14T10:13:58.295032Z"
        },
        "id": "3f0_AlzY6uGq",
        "trusted": true
      },
      "outputs": [],
      "source": [
        "N = 128\n",
        "M = 382\n",
        "reviewType = \"review_body\""
      ]
    },
    {
      "cell_type": "code",
      "execution_count": null,
      "metadata": {
        "colab": {
          "referenced_widgets": [
            "f40eac1de7b94f6497d5bf44ed0768d9"
          ]
        },
        "execution": {
          "iopub.execute_input": "2023-08-14T10:13:58.304158Z",
          "iopub.status.busy": "2023-08-14T10:13:58.303087Z",
          "iopub.status.idle": "2023-08-14T10:14:00.939063Z",
          "shell.execute_reply": "2023-08-14T10:14:00.938171Z",
          "shell.execute_reply.started": "2023-08-14T10:13:58.304124Z"
        },
        "id": "IaCwHHxx6uGq",
        "outputId": "b0e3b534-8395-4a31-f336-d0eb1202ae77",
        "trusted": true
      },
      "outputs": [
        {
          "data": {
            "application/vnd.jupyter.widget-view+json": {
              "model_id": "f40eac1de7b94f6497d5bf44ed0768d9",
              "version_major": 2,
              "version_minor": 0
            },
            "text/plain": [
              "Downloading model.safetensors:   0%|          | 0.00/436M [00:00<?, ?B/s]"
            ]
          },
          "metadata": {},
          "output_type": "display_data"
        },
        {
          "name": "stderr",
          "output_type": "stream",
          "text": [
            "Some weights of the model checkpoint at bert-base-cased were not used when initializing BertForSequenceClassification: ['cls.seq_relationship.bias', 'cls.predictions.transform.dense.weight', 'cls.predictions.transform.dense.bias', 'cls.predictions.transform.LayerNorm.bias', 'cls.predictions.transform.LayerNorm.weight', 'cls.predictions.bias', 'cls.seq_relationship.weight']\n",
            "- This IS expected if you are initializing BertForSequenceClassification from the checkpoint of a model trained on another task or with another architecture (e.g. initializing a BertForSequenceClassification model from a BertForPreTraining model).\n",
            "- This IS NOT expected if you are initializing BertForSequenceClassification from the checkpoint of a model that you expect to be exactly identical (initializing a BertForSequenceClassification model from a BertForSequenceClassification model).\n",
            "Some weights of BertForSequenceClassification were not initialized from the model checkpoint at bert-base-cased and are newly initialized: ['classifier.weight', 'classifier.bias']\n",
            "You should probably TRAIN this model on a down-stream task to be able to use it for predictions and inference.\n"
          ]
        }
      ],
      "source": [
        "amazonEnLanguageModel_two_labels_N_128_M_382 = BertForSequenceClassification.from_pretrained(\"bert-base-cased\", num_labels=numLabels)"
      ]
    },
    {
      "cell_type": "code",
      "execution_count": null,
      "metadata": {
        "execution": {
          "iopub.execute_input": "2023-08-14T10:14:00.941153Z",
          "iopub.status.busy": "2023-08-14T10:14:00.940778Z",
          "iopub.status.idle": "2023-08-14T10:14:00.965429Z",
          "shell.execute_reply": "2023-08-14T10:14:00.964550Z",
          "shell.execute_reply.started": "2023-08-14T10:14:00.941116Z"
        },
        "id": "BWIVmpss6uGq",
        "trusted": true
      },
      "outputs": [],
      "source": [
        "training_args = TrainingArguments(output_dir=\"test_trainer\", optim=\"adamw_torch\", warmup_steps=10000, num_train_epochs=1, weight_decay=1e-4, evaluation_strategy=\"epoch\", save_strategy = saveStrategy)"
      ]
    },
    {
      "cell_type": "code",
      "execution_count": null,
      "metadata": {
        "colab": {
          "referenced_widgets": [
            "85aa313d38934a1a84968a804dcfdbb6",
            "6281a5aa7b4941b090724a6785adea5e",
            "3db12bbced11470980139d64b31dd1c1"
          ]
        },
        "execution": {
          "iopub.execute_input": "2023-08-14T10:14:00.967273Z",
          "iopub.status.busy": "2023-08-14T10:14:00.966926Z",
          "iopub.status.idle": "2023-08-14T10:46:18.743201Z",
          "shell.execute_reply": "2023-08-14T10:46:18.742096Z",
          "shell.execute_reply.started": "2023-08-14T10:14:00.967239Z"
        },
        "id": "uNIET7vG6uGq",
        "outputId": "31f3d134-f9e3-47f4-e51c-f792a85b8838",
        "trusted": true
      },
      "outputs": [
        {
          "data": {
            "application/vnd.jupyter.widget-view+json": {
              "model_id": "85aa313d38934a1a84968a804dcfdbb6",
              "version_major": 2,
              "version_minor": 0
            },
            "text/plain": [
              "  0%|          | 0/200 [00:00<?, ?ba/s]"
            ]
          },
          "metadata": {},
          "output_type": "display_data"
        },
        {
          "name": "stderr",
          "output_type": "stream",
          "text": [
            "Token indices sequence length is longer than the specified maximum sequence length for this model (529 > 512). Running this sequence through the model will result in indexing errors\n"
          ]
        },
        {
          "data": {
            "application/vnd.jupyter.widget-view+json": {
              "model_id": "6281a5aa7b4941b090724a6785adea5e",
              "version_major": 2,
              "version_minor": 0
            },
            "text/plain": [
              "  0%|          | 0/5 [00:00<?, ?ba/s]"
            ]
          },
          "metadata": {},
          "output_type": "display_data"
        },
        {
          "data": {
            "application/vnd.jupyter.widget-view+json": {
              "model_id": "3db12bbced11470980139d64b31dd1c1",
              "version_major": 2,
              "version_minor": 0
            },
            "text/plain": [
              "  0%|          | 0/5 [00:00<?, ?ba/s]"
            ]
          },
          "metadata": {},
          "output_type": "display_data"
        },
        {
          "data": {
            "text/html": [
              "wandb version 0.15.8 is available!  To upgrade, please run:\n",
              " $ pip install wandb --upgrade"
            ],
            "text/plain": [
              "<IPython.core.display.HTML object>"
            ]
          },
          "metadata": {},
          "output_type": "display_data"
        },
        {
          "data": {
            "text/html": [
              "Tracking run with wandb version 0.15.5"
            ],
            "text/plain": [
              "<IPython.core.display.HTML object>"
            ]
          },
          "metadata": {},
          "output_type": "display_data"
        },
        {
          "data": {
            "text/html": [
              "Run data is saved locally in <code>/kaggle/working/wandb/run-20230814_101634-5y73p8tg</code>"
            ],
            "text/plain": [
              "<IPython.core.display.HTML object>"
            ]
          },
          "metadata": {},
          "output_type": "display_data"
        },
        {
          "data": {
            "text/html": [
              "Syncing run <strong><a href='https://wandb.ai/nadav_igor/huggingface/runs/5y73p8tg' target=\"_blank\">celestial-dragon-39</a></strong> to <a href='https://wandb.ai/nadav_igor/huggingface' target=\"_blank\">Weights & Biases</a> (<a href='https://wandb.me/run' target=\"_blank\">docs</a>)<br/>"
            ],
            "text/plain": [
              "<IPython.core.display.HTML object>"
            ]
          },
          "metadata": {},
          "output_type": "display_data"
        },
        {
          "data": {
            "text/html": [
              " View project at <a href='https://wandb.ai/nadav_igor/huggingface' target=\"_blank\">https://wandb.ai/nadav_igor/huggingface</a>"
            ],
            "text/plain": [
              "<IPython.core.display.HTML object>"
            ]
          },
          "metadata": {},
          "output_type": "display_data"
        },
        {
          "data": {
            "text/html": [
              " View run at <a href='https://wandb.ai/nadav_igor/huggingface/runs/5y73p8tg' target=\"_blank\">https://wandb.ai/nadav_igor/huggingface/runs/5y73p8tg</a>"
            ],
            "text/plain": [
              "<IPython.core.display.HTML object>"
            ]
          },
          "metadata": {},
          "output_type": "display_data"
        },
        {
          "data": {
            "text/html": [
              "\n",
              "    <div>\n",
              "      \n",
              "      <progress value='3750' max='3750' style='width:300px; height:20px; vertical-align: middle;'></progress>\n",
              "      [3750/3750 29:09, Epoch 1/1]\n",
              "    </div>\n",
              "    <table border=\"1\" class=\"dataframe\">\n",
              "  <thead>\n",
              " <tr style=\"text-align: left;\">\n",
              "      <th>Epoch</th>\n",
              "      <th>Training Loss</th>\n",
              "      <th>Validation Loss</th>\n",
              "      <th>Accuracy</th>\n",
              "    </tr>\n",
              "  </thead>\n",
              "  <tbody>\n",
              "    <tr>\n",
              "      <td>1</td>\n",
              "      <td>0.393300</td>\n",
              "      <td>0.401170</td>\n",
              "      <td>0.821800</td>\n",
              "    </tr>\n",
              "  </tbody>\n",
              "</table><p>"
            ],
            "text/plain": [
              "<IPython.core.display.HTML object>"
            ]
          },
          "metadata": {},
          "output_type": "display_data"
        }
      ],
      "source": [
        "train(amazonEnLanguageModel_two_labels_N_128_M_382, training_args, updatedDataset, 30000, \"amazon\")"
      ]
    },
    {
      "cell_type": "code",
      "execution_count": null,
      "metadata": {
        "execution": {
          "iopub.execute_input": "2023-08-14T10:58:50.146316Z",
          "iopub.status.busy": "2023-08-14T10:58:50.145938Z",
          "iopub.status.idle": "2023-08-14T11:08:27.490681Z",
          "shell.execute_reply": "2023-08-14T11:08:27.489662Z",
          "shell.execute_reply.started": "2023-08-14T10:58:50.146285Z"
        },
        "id": "FVOjlF8w6uGq",
        "outputId": "88eaab36-3caa-4996-be88-7a5366a9999d",
        "trusted": true
      },
      "outputs": [
        {
          "name": "stdout",
          "output_type": "stream",
          "text": [
            "\u001b[1mbert-base-cased-2-labels-N-128-M-382-head+tail\u001b[0m\n",
            "Classification Report Translated Test Set\n",
            "+----------+-------------+----------+------------+-----------+\n",
            "| Class    |   Precision |   Recall |   F1-Score |   Support |\n",
            "|----------+-------------+----------+------------+-----------|\n",
            "| Negative |      0.8143 |   0.8682 |     0.8404 |     12500 |\n",
            "| Positive |      0.8588 |   0.8021 |     0.8295 |     12500 |\n",
            "+----------+-------------+----------+------------+-----------+\n",
            "Classification Report Test Set\n",
            "+----------+-------------+----------+------------+-----------+\n",
            "| Class    |   Precision |   Recall |   F1-Score |   Support |\n",
            "|----------+-------------+----------+------------+-----------|\n",
            "| Negative |      0.7439 |   0.8640 |     0.7994 |      2000 |\n",
            "| Positive |      0.8984 |   0.8017 |     0.8473 |      3000 |\n",
            "+----------+-------------+----------+------------+-----------+\n"
          ]
        }
      ],
      "source": [
        "evaluateTranslatedTestSetAndRegularTestSet(amazonEnLanguageModel_two_labels_N_128_M_382, tokenizer, updatedDataset, imdbDataset['test'], targetNames, \"bert-base-cased-2-labels-N-128-M-382-head+tail\", \"Amazon\", batch_size=8)"
      ]
    },
    {
      "cell_type": "markdown",
      "metadata": {
        "id": "-SeudFEw6uGr"
      },
      "source": [
        "**Two labels with Neutral; N=64, M=64; overall 128 tokens**"
      ]
    },
    {
      "cell_type": "code",
      "execution_count": null,
      "metadata": {
        "execution": {
          "iopub.execute_input": "2023-08-14T11:08:27.497030Z",
          "iopub.status.busy": "2023-08-14T11:08:27.496016Z",
          "iopub.status.idle": "2023-08-14T11:08:27.505275Z",
          "shell.execute_reply": "2023-08-14T11:08:27.503751Z",
          "shell.execute_reply.started": "2023-08-14T11:08:27.496992Z"
        },
        "id": "Hun2yTwc6uGr",
        "trusted": true
      },
      "outputs": [],
      "source": [
        "N = 64\n",
        "M = 64\n",
        "reviewType = \"review_body\""
      ]
    },
    {
      "cell_type": "code",
      "execution_count": null,
      "metadata": {
        "execution": {
          "iopub.execute_input": "2023-08-14T11:08:27.507829Z",
          "iopub.status.busy": "2023-08-14T11:08:27.507046Z",
          "iopub.status.idle": "2023-08-14T11:08:28.749628Z",
          "shell.execute_reply": "2023-08-14T11:08:28.746922Z",
          "shell.execute_reply.started": "2023-08-14T11:08:27.507792Z"
        },
        "id": "FeXkS2Bw6uGr",
        "outputId": "50185578-27d7-4e17-c1a9-c4c0ea8275ec",
        "trusted": true
      },
      "outputs": [
        {
          "name": "stderr",
          "output_type": "stream",
          "text": [
            "Some weights of the model checkpoint at bert-base-cased were not used when initializing BertForSequenceClassification: ['cls.seq_relationship.bias', 'cls.predictions.transform.dense.weight', 'cls.predictions.transform.dense.bias', 'cls.predictions.transform.LayerNorm.bias', 'cls.predictions.transform.LayerNorm.weight', 'cls.predictions.bias', 'cls.seq_relationship.weight']\n",
            "- This IS expected if you are initializing BertForSequenceClassification from the checkpoint of a model trained on another task or with another architecture (e.g. initializing a BertForSequenceClassification model from a BertForPreTraining model).\n",
            "- This IS NOT expected if you are initializing BertForSequenceClassification from the checkpoint of a model that you expect to be exactly identical (initializing a BertForSequenceClassification model from a BertForSequenceClassification model).\n",
            "Some weights of BertForSequenceClassification were not initialized from the model checkpoint at bert-base-cased and are newly initialized: ['classifier.weight', 'classifier.bias']\n",
            "You should probably TRAIN this model on a down-stream task to be able to use it for predictions and inference.\n"
          ]
        }
      ],
      "source": [
        "amazonEnLanguageModel_two_labels_N_64_M_64 = BertForSequenceClassification.from_pretrained(\"bert-base-cased\", num_labels=numLabels)"
      ]
    },
    {
      "cell_type": "code",
      "execution_count": null,
      "metadata": {
        "execution": {
          "iopub.execute_input": "2023-08-14T11:08:28.757455Z",
          "iopub.status.busy": "2023-08-14T11:08:28.756514Z",
          "iopub.status.idle": "2023-08-14T11:08:28.772948Z",
          "shell.execute_reply": "2023-08-14T11:08:28.771731Z",
          "shell.execute_reply.started": "2023-08-14T11:08:28.757414Z"
        },
        "id": "YkUQ9b0o6uGr",
        "trusted": true
      },
      "outputs": [],
      "source": [
        "training_args = TrainingArguments(output_dir=\"test_trainer\", optim=\"adamw_torch\", warmup_steps=10000, num_train_epochs=1, weight_decay=1e-1, evaluation_strategy=\"epoch\", save_strategy = saveStrategy)"
      ]
    },
    {
      "cell_type": "code",
      "execution_count": null,
      "metadata": {
        "colab": {
          "referenced_widgets": [
            "f6d9e1452a0542db873e5dd22f6be549",
            "9f79c525524c49bf9ee5e5d03f105fb8",
            "7d43acb77542479b8bebd47ef47390e1"
          ]
        },
        "execution": {
          "iopub.execute_input": "2023-08-14T11:08:28.774918Z",
          "iopub.status.busy": "2023-08-14T11:08:28.774559Z",
          "iopub.status.idle": "2023-08-14T11:17:57.456176Z",
          "shell.execute_reply": "2023-08-14T11:17:57.455159Z",
          "shell.execute_reply.started": "2023-08-14T11:08:28.774859Z"
        },
        "id": "Tg-Ty8286uGr",
        "outputId": "75976847-132b-4d40-f481-d41cbf9bd6f7",
        "trusted": true
      },
      "outputs": [
        {
          "data": {
            "application/vnd.jupyter.widget-view+json": {
              "model_id": "f6d9e1452a0542db873e5dd22f6be549",
              "version_major": 2,
              "version_minor": 0
            },
            "text/plain": [
              "  0%|          | 0/200 [00:00<?, ?ba/s]"
            ]
          },
          "metadata": {},
          "output_type": "display_data"
        },
        {
          "data": {
            "application/vnd.jupyter.widget-view+json": {
              "model_id": "9f79c525524c49bf9ee5e5d03f105fb8",
              "version_major": 2,
              "version_minor": 0
            },
            "text/plain": [
              "  0%|          | 0/5 [00:00<?, ?ba/s]"
            ]
          },
          "metadata": {},
          "output_type": "display_data"
        },
        {
          "data": {
            "application/vnd.jupyter.widget-view+json": {
              "model_id": "7d43acb77542479b8bebd47ef47390e1",
              "version_major": 2,
              "version_minor": 0
            },
            "text/plain": [
              "  0%|          | 0/5 [00:00<?, ?ba/s]"
            ]
          },
          "metadata": {},
          "output_type": "display_data"
        },
        {
          "data": {
            "text/html": [
              "\n",
              "    <div>\n",
              "      \n",
              "      <progress value='3750' max='3750' style='width:300px; height:20px; vertical-align: middle;'></progress>\n",
              "      [3750/3750 07:51, Epoch 1/1]\n",
              "    </div>\n",
              "    <table border=\"1\" class=\"dataframe\">\n",
              "  <thead>\n",
              " <tr style=\"text-align: left;\">\n",
              "      <th>Epoch</th>\n",
              "      <th>Training Loss</th>\n",
              "      <th>Validation Loss</th>\n",
              "      <th>Accuracy</th>\n",
              "    </tr>\n",
              "  </thead>\n",
              "  <tbody>\n",
              "    <tr>\n",
              "      <td>1</td>\n",
              "      <td>0.396300</td>\n",
              "      <td>0.408553</td>\n",
              "      <td>0.816800</td>\n",
              "    </tr>\n",
              "  </tbody>\n",
              "</table><p>"
            ],
            "text/plain": [
              "<IPython.core.display.HTML object>"
            ]
          },
          "metadata": {},
          "output_type": "display_data"
        }
      ],
      "source": [
        "train(amazonEnLanguageModel_two_labels_N_64_M_64, training_args, updatedDataset, 30000, \"amazon\")"
      ]
    },
    {
      "cell_type": "code",
      "execution_count": null,
      "metadata": {
        "execution": {
          "iopub.execute_input": "2023-08-14T11:21:02.916596Z",
          "iopub.status.busy": "2023-08-14T11:21:02.916191Z",
          "iopub.status.idle": "2023-08-14T11:23:49.312946Z",
          "shell.execute_reply": "2023-08-14T11:23:49.311513Z",
          "shell.execute_reply.started": "2023-08-14T11:21:02.916556Z"
        },
        "id": "E_q_YUWK6uGr",
        "outputId": "86a15a95-ae43-434a-c40f-1ecf8ec87eb8",
        "trusted": true
      },
      "outputs": [
        {
          "name": "stdout",
          "output_type": "stream",
          "text": [
            "\u001b[1mbert-base-cased-5-labels-N-64-M-64-head+tail\u001b[0m\n",
            "Classification Report Translated Test Set\n",
            "+----------+-------------+----------+------------+-----------+\n",
            "| Class    |   Precision |   Recall |   F1-Score |   Support |\n",
            "|----------+-------------+----------+------------+-----------|\n",
            "| Negative |      0.7915 |   0.8822 |     0.8344 |     12500 |\n",
            "| Positive |      0.8669 |   0.7676 |     0.8142 |     12500 |\n",
            "+----------+-------------+----------+------------+-----------+\n",
            "Classification Report Test Set\n",
            "+----------+-------------+----------+------------+-----------+\n",
            "| Class    |   Precision |   Recall |   F1-Score |   Support |\n",
            "|----------+-------------+----------+------------+-----------|\n",
            "| Negative |      0.7217 |   0.9090 |     0.8046 |      2000 |\n",
            "| Positive |      0.9266 |   0.7663 |     0.8389 |      3000 |\n",
            "+----------+-------------+----------+------------+-----------+\n"
          ]
        }
      ],
      "source": [
        "evaluateTranslatedTestSetAndRegularTestSet(amazonEnLanguageModel_two_labels_N_64_M_64, tokenizer, updatedDataset, imdbDataset['test'], targetNames, \"bert-base-cased-2-labels-N-64-M-64-head+tail\", \"Amazon\", batch_size=8)"
      ]
    },
    {
      "cell_type": "markdown",
      "metadata": {
        "id": "Kugh2w-s6uGr"
      },
      "source": [
        "**Two labels with Neutral; N=510, M=0; overall 510 tokens**"
      ]
    },
    {
      "cell_type": "code",
      "execution_count": null,
      "metadata": {
        "execution": {
          "iopub.execute_input": "2023-08-14T11:24:06.659409Z",
          "iopub.status.busy": "2023-08-14T11:24:06.658986Z",
          "iopub.status.idle": "2023-08-14T11:24:06.670027Z",
          "shell.execute_reply": "2023-08-14T11:24:06.667035Z",
          "shell.execute_reply.started": "2023-08-14T11:24:06.659374Z"
        },
        "id": "-oBPZPgj6uGs",
        "trusted": true
      },
      "outputs": [],
      "source": [
        "N = 510\n",
        "M = 0\n",
        "reviewType = \"review_body\""
      ]
    },
    {
      "cell_type": "code",
      "execution_count": null,
      "metadata": {
        "execution": {
          "iopub.execute_input": "2023-08-14T11:24:07.459031Z",
          "iopub.status.busy": "2023-08-14T11:24:07.458643Z",
          "iopub.status.idle": "2023-08-14T11:24:08.628727Z",
          "shell.execute_reply": "2023-08-14T11:24:08.627651Z",
          "shell.execute_reply.started": "2023-08-14T11:24:07.459000Z"
        },
        "id": "26oCXBJZ6uGs",
        "outputId": "f5cda0af-872b-461f-f0cc-ed408a364d54",
        "trusted": true
      },
      "outputs": [
        {
          "name": "stderr",
          "output_type": "stream",
          "text": [
            "Some weights of the model checkpoint at bert-base-cased were not used when initializing BertForSequenceClassification: ['cls.seq_relationship.bias', 'cls.predictions.transform.dense.weight', 'cls.predictions.transform.dense.bias', 'cls.predictions.transform.LayerNorm.bias', 'cls.predictions.transform.LayerNorm.weight', 'cls.predictions.bias', 'cls.seq_relationship.weight']\n",
            "- This IS expected if you are initializing BertForSequenceClassification from the checkpoint of a model trained on another task or with another architecture (e.g. initializing a BertForSequenceClassification model from a BertForPreTraining model).\n",
            "- This IS NOT expected if you are initializing BertForSequenceClassification from the checkpoint of a model that you expect to be exactly identical (initializing a BertForSequenceClassification model from a BertForSequenceClassification model).\n",
            "Some weights of BertForSequenceClassification were not initialized from the model checkpoint at bert-base-cased and are newly initialized: ['classifier.weight', 'classifier.bias']\n",
            "You should probably TRAIN this model on a down-stream task to be able to use it for predictions and inference.\n"
          ]
        }
      ],
      "source": [
        "amazonEnLanguageModel_two_labels_N_510_M_0 = BertForSequenceClassification.from_pretrained(\"bert-base-cased\", num_labels=numLabels)"
      ]
    },
    {
      "cell_type": "code",
      "execution_count": null,
      "metadata": {
        "execution": {
          "iopub.execute_input": "2023-08-14T11:24:08.631757Z",
          "iopub.status.busy": "2023-08-14T11:24:08.631028Z",
          "iopub.status.idle": "2023-08-14T11:24:08.644252Z",
          "shell.execute_reply": "2023-08-14T11:24:08.643262Z",
          "shell.execute_reply.started": "2023-08-14T11:24:08.631719Z"
        },
        "id": "RkQPR2sC6uGs",
        "trusted": true
      },
      "outputs": [],
      "source": [
        "training_args = TrainingArguments(output_dir=\"test_trainer\", optim=\"adamw_torch\", warmup_steps=10000, num_train_epochs=1, weight_decay=1e-1, evaluation_strategy=\"epoch\", save_strategy = saveStrategy)"
      ]
    },
    {
      "cell_type": "code",
      "execution_count": null,
      "metadata": {
        "colab": {
          "referenced_widgets": [
            "2e00669262344c2abf014d20d1b4ed32",
            "44f756164824437c8b3300cc384a4b8d",
            "bc0c0494afee4537a7ad892ed34ef76e"
          ]
        },
        "execution": {
          "iopub.execute_input": "2023-08-14T11:24:11.285051Z",
          "iopub.status.busy": "2023-08-14T11:24:11.284642Z",
          "iopub.status.idle": "2023-08-14T11:55:50.567175Z",
          "shell.execute_reply": "2023-08-14T11:55:50.566061Z",
          "shell.execute_reply.started": "2023-08-14T11:24:11.285014Z"
        },
        "id": "voWsz58r6uGs",
        "outputId": "d6bc49f6-f178-4a81-af08-b728b326a230",
        "trusted": true
      },
      "outputs": [
        {
          "data": {
            "application/vnd.jupyter.widget-view+json": {
              "model_id": "2e00669262344c2abf014d20d1b4ed32",
              "version_major": 2,
              "version_minor": 0
            },
            "text/plain": [
              "  0%|          | 0/200 [00:00<?, ?ba/s]"
            ]
          },
          "metadata": {},
          "output_type": "display_data"
        },
        {
          "data": {
            "application/vnd.jupyter.widget-view+json": {
              "model_id": "44f756164824437c8b3300cc384a4b8d",
              "version_major": 2,
              "version_minor": 0
            },
            "text/plain": [
              "  0%|          | 0/5 [00:00<?, ?ba/s]"
            ]
          },
          "metadata": {},
          "output_type": "display_data"
        },
        {
          "data": {
            "application/vnd.jupyter.widget-view+json": {
              "model_id": "bc0c0494afee4537a7ad892ed34ef76e",
              "version_major": 2,
              "version_minor": 0
            },
            "text/plain": [
              "  0%|          | 0/5 [00:00<?, ?ba/s]"
            ]
          },
          "metadata": {},
          "output_type": "display_data"
        },
        {
          "data": {
            "text/html": [
              "\n",
              "    <div>\n",
              "      \n",
              "      <progress value='3750' max='3750' style='width:300px; height:20px; vertical-align: middle;'></progress>\n",
              "      [3750/3750 29:12, Epoch 1/1]\n",
              "    </div>\n",
              "    <table border=\"1\" class=\"dataframe\">\n",
              "  <thead>\n",
              " <tr style=\"text-align: left;\">\n",
              "      <th>Epoch</th>\n",
              "      <th>Training Loss</th>\n",
              "      <th>Validation Loss</th>\n",
              "      <th>Accuracy</th>\n",
              "    </tr>\n",
              "  </thead>\n",
              "  <tbody>\n",
              "    <tr>\n",
              "      <td>1</td>\n",
              "      <td>0.393100</td>\n",
              "      <td>0.402589</td>\n",
              "      <td>0.821000</td>\n",
              "    </tr>\n",
              "  </tbody>\n",
              "</table><p>"
            ],
            "text/plain": [
              "<IPython.core.display.HTML object>"
            ]
          },
          "metadata": {},
          "output_type": "display_data"
        }
      ],
      "source": [
        "train(amazonEnLanguageModel_two_labels_N_510_M_0, training_args, updatedDataset, 30000, \"amazon\")"
      ]
    },
    {
      "cell_type": "code",
      "execution_count": null,
      "metadata": {
        "execution": {
          "iopub.execute_input": "2023-08-14T11:55:50.570080Z",
          "iopub.status.busy": "2023-08-14T11:55:50.569418Z",
          "iopub.status.idle": "2023-08-14T12:05:39.925927Z",
          "shell.execute_reply": "2023-08-14T12:05:39.924971Z",
          "shell.execute_reply.started": "2023-08-14T11:55:50.570025Z"
        },
        "id": "oXQrVpXW6uGs",
        "outputId": "a6029f0a-d6cd-4e0d-ec3c-e9a2168fa1b6",
        "trusted": true
      },
      "outputs": [
        {
          "name": "stdout",
          "output_type": "stream",
          "text": [
            "\u001b[1mbert-base-cased-2-labels-N-510-M-0-head-only\u001b[0m\n",
            "Classification Report Translated Test Set\n",
            "+----------+-------------+----------+------------+-----------+\n",
            "| Class    |   Precision |   Recall |   F1-Score |   Support |\n",
            "|----------+-------------+----------+------------+-----------|\n",
            "| Negative |      0.8019 |   0.8908 |     0.8440 |     12500 |\n",
            "| Positive |      0.8772 |   0.7799 |     0.8257 |     12500 |\n",
            "+----------+-------------+----------+------------+-----------+\n",
            "Classification Report Test Set\n",
            "+----------+-------------+----------+------------+-----------+\n",
            "| Class    |   Precision |   Recall |   F1-Score |   Support |\n",
            "|----------+-------------+----------+------------+-----------|\n",
            "| Negative |      0.7460 |   0.8680 |     0.8024 |      2000 |\n",
            "| Positive |      0.9012 |   0.8030 |     0.8493 |      3000 |\n",
            "+----------+-------------+----------+------------+-----------+\n"
          ]
        }
      ],
      "source": [
        "evaluateTranslatedTestSetAndRegularTestSet(amazonEnLanguageModel_two_labels_N_510_M_0, tokenizer, updatedDataset, imdbDataset['test'], targetNames, \"bert-base-cased-2-labels-N-510-M-0-head-only\", \"Amazon\", batch_size=8)"
      ]
    },
    {
      "cell_type": "markdown",
      "metadata": {
        "id": "k7Kgl8Iw6uGs"
      },
      "source": [
        "**Two labels with Neutral; N=0, M=510; overall 510 tokens**"
      ]
    },
    {
      "cell_type": "code",
      "execution_count": null,
      "metadata": {
        "execution": {
          "iopub.execute_input": "2023-08-14T12:05:39.928236Z",
          "iopub.status.busy": "2023-08-14T12:05:39.927639Z",
          "iopub.status.idle": "2023-08-14T12:05:39.939914Z",
          "shell.execute_reply": "2023-08-14T12:05:39.938959Z",
          "shell.execute_reply.started": "2023-08-14T12:05:39.928199Z"
        },
        "id": "VXO4ImU76uGt",
        "trusted": true
      },
      "outputs": [],
      "source": [
        "N = 0\n",
        "M = 510\n",
        "reviewType = \"review_body\""
      ]
    },
    {
      "cell_type": "code",
      "execution_count": null,
      "metadata": {
        "execution": {
          "iopub.execute_input": "2023-08-14T12:05:39.943650Z",
          "iopub.status.busy": "2023-08-14T12:05:39.942855Z",
          "iopub.status.idle": "2023-08-14T12:05:41.237584Z",
          "shell.execute_reply": "2023-08-14T12:05:41.236534Z",
          "shell.execute_reply.started": "2023-08-14T12:05:39.943613Z"
        },
        "id": "8r3Hb8gV6uGt",
        "outputId": "c5b073c1-833d-4bd0-b685-c9dc5030729a",
        "trusted": true
      },
      "outputs": [
        {
          "name": "stderr",
          "output_type": "stream",
          "text": [
            "Some weights of the model checkpoint at bert-base-cased were not used when initializing BertForSequenceClassification: ['cls.seq_relationship.bias', 'cls.predictions.transform.dense.weight', 'cls.predictions.transform.dense.bias', 'cls.predictions.transform.LayerNorm.bias', 'cls.predictions.transform.LayerNorm.weight', 'cls.predictions.bias', 'cls.seq_relationship.weight']\n",
            "- This IS expected if you are initializing BertForSequenceClassification from the checkpoint of a model trained on another task or with another architecture (e.g. initializing a BertForSequenceClassification model from a BertForPreTraining model).\n",
            "- This IS NOT expected if you are initializing BertForSequenceClassification from the checkpoint of a model that you expect to be exactly identical (initializing a BertForSequenceClassification model from a BertForSequenceClassification model).\n",
            "Some weights of BertForSequenceClassification were not initialized from the model checkpoint at bert-base-cased and are newly initialized: ['classifier.weight', 'classifier.bias']\n",
            "You should probably TRAIN this model on a down-stream task to be able to use it for predictions and inference.\n"
          ]
        }
      ],
      "source": [
        "amazonEnLanguageModel_two_labels_N_0_M_510 = BertForSequenceClassification.from_pretrained(\"bert-base-cased\", num_labels=numLabels)"
      ]
    },
    {
      "cell_type": "code",
      "execution_count": null,
      "metadata": {
        "execution": {
          "iopub.execute_input": "2023-08-14T12:05:41.239636Z",
          "iopub.status.busy": "2023-08-14T12:05:41.238989Z",
          "iopub.status.idle": "2023-08-14T12:05:41.254132Z",
          "shell.execute_reply": "2023-08-14T12:05:41.252949Z",
          "shell.execute_reply.started": "2023-08-14T12:05:41.239597Z"
        },
        "id": "vpp7rzuy6uGt",
        "trusted": true
      },
      "outputs": [],
      "source": [
        "training_args = TrainingArguments(output_dir=\"test_trainer\", optim=\"adamw_torch\", warmup_steps=10000, num_train_epochs=1, weight_decay=1e-1, evaluation_strategy=\"epoch\", save_strategy = saveStrategy)"
      ]
    },
    {
      "cell_type": "code",
      "execution_count": null,
      "metadata": {
        "colab": {
          "referenced_widgets": [
            "367ce3d8dc294edf8c3145a1963a92ed",
            "0b84bd7ec33e412db5bfe30d3d5deb2e",
            "8c12a3017b5e466f963b0bd2d2bbf030"
          ]
        },
        "execution": {
          "iopub.execute_input": "2023-08-14T12:05:41.260732Z",
          "iopub.status.busy": "2023-08-14T12:05:41.258256Z",
          "iopub.status.idle": "2023-08-14T12:37:25.657656Z",
          "shell.execute_reply": "2023-08-14T12:37:25.656298Z",
          "shell.execute_reply.started": "2023-08-14T12:05:41.260692Z"
        },
        "id": "36sVCNJ86uGt",
        "outputId": "c3f4c52d-6af0-4622-99e8-49f565e1cd7b",
        "trusted": true
      },
      "outputs": [
        {
          "data": {
            "application/vnd.jupyter.widget-view+json": {
              "model_id": "367ce3d8dc294edf8c3145a1963a92ed",
              "version_major": 2,
              "version_minor": 0
            },
            "text/plain": [
              "  0%|          | 0/200 [00:00<?, ?ba/s]"
            ]
          },
          "metadata": {},
          "output_type": "display_data"
        },
        {
          "data": {
            "application/vnd.jupyter.widget-view+json": {
              "model_id": "0b84bd7ec33e412db5bfe30d3d5deb2e",
              "version_major": 2,
              "version_minor": 0
            },
            "text/plain": [
              "  0%|          | 0/5 [00:00<?, ?ba/s]"
            ]
          },
          "metadata": {},
          "output_type": "display_data"
        },
        {
          "data": {
            "application/vnd.jupyter.widget-view+json": {
              "model_id": "8c12a3017b5e466f963b0bd2d2bbf030",
              "version_major": 2,
              "version_minor": 0
            },
            "text/plain": [
              "  0%|          | 0/5 [00:00<?, ?ba/s]"
            ]
          },
          "metadata": {},
          "output_type": "display_data"
        },
        {
          "data": {
            "text/html": [
              "\n",
              "    <div>\n",
              "      \n",
              "      <progress value='3750' max='3750' style='width:300px; height:20px; vertical-align: middle;'></progress>\n",
              "      [3750/3750 29:13, Epoch 1/1]\n",
              "    </div>\n",
              "    <table border=\"1\" class=\"dataframe\">\n",
              "  <thead>\n",
              " <tr style=\"text-align: left;\">\n",
              "      <th>Epoch</th>\n",
              "      <th>Training Loss</th>\n",
              "      <th>Validation Loss</th>\n",
              "      <th>Accuracy</th>\n",
              "    </tr>\n",
              "  </thead>\n",
              "  <tbody>\n",
              "    <tr>\n",
              "      <td>1</td>\n",
              "      <td>0.393100</td>\n",
              "      <td>0.402855</td>\n",
              "      <td>0.821000</td>\n",
              "    </tr>\n",
              "  </tbody>\n",
              "</table><p>"
            ],
            "text/plain": [
              "<IPython.core.display.HTML object>"
            ]
          },
          "metadata": {},
          "output_type": "display_data"
        }
      ],
      "source": [
        "train(amazonEnLanguageModel_two_labels_N_0_M_510, training_args, updatedDataset, 30000, \"amazon\")"
      ]
    },
    {
      "cell_type": "code",
      "execution_count": null,
      "metadata": {
        "execution": {
          "iopub.execute_input": "2023-08-14T12:47:03.698672Z",
          "iopub.status.busy": "2023-08-14T12:47:03.697471Z",
          "iopub.status.idle": "2023-08-14T12:56:41.792615Z",
          "shell.execute_reply": "2023-08-14T12:56:41.791560Z",
          "shell.execute_reply.started": "2023-08-14T12:47:03.698635Z"
        },
        "id": "c4b6Wwx36uGt",
        "outputId": "aa08caab-7a8a-420b-913c-85ff12bf42d7",
        "trusted": true
      },
      "outputs": [
        {
          "name": "stdout",
          "output_type": "stream",
          "text": [
            "\u001b[1mbert-base-cased-2-labels-N-0-M-510-tail-only\u001b[0m\n",
            "Classification Report Translated Test Set\n",
            "+----------+-------------+----------+------------+-----------+\n",
            "| Class    |   Precision |   Recall |   F1-Score |   Support |\n",
            "|----------+-------------+----------+------------+-----------|\n",
            "| Negative |      0.8139 |   0.8874 |     0.8491 |     12500 |\n",
            "| Positive |      0.8763 |   0.7971 |     0.8348 |     12500 |\n",
            "+----------+-------------+----------+------------+-----------+\n",
            "Classification Report Test Set\n",
            "+----------+-------------+----------+------------+-----------+\n",
            "| Class    |   Precision |   Recall |   F1-Score |   Support |\n",
            "|----------+-------------+----------+------------+-----------|\n",
            "| Negative |      0.7472 |   0.8690 |     0.8035 |      2000 |\n",
            "| Positive |      0.9020 |   0.8040 |     0.8502 |      3000 |\n",
            "+----------+-------------+----------+------------+-----------+\n"
          ]
        }
      ],
      "source": [
        "evaluateTranslatedTestSetAndRegularTestSet(amazonEnLanguageModel_two_labels_N_0_M_510, tokenizer, updatedDataset, imdbDataset['test'], targetNames, \"bert-base-cased-2-labels-N-0-M-510-tail-only\", \"Amazon\", batch_size=8)"
      ]
    },
    {
      "cell_type": "markdown",
      "metadata": {
        "id": "QkKvnxTq6uGu"
      },
      "source": [
        "**BERT UNCASED**"
      ]
    },
    {
      "cell_type": "code",
      "execution_count": null,
      "metadata": {
        "execution": {
          "iopub.execute_input": "2023-08-15T08:12:01.995225Z",
          "iopub.status.busy": "2023-08-15T08:12:01.994846Z",
          "iopub.status.idle": "2023-08-15T08:12:02.201548Z",
          "shell.execute_reply": "2023-08-15T08:12:02.200524Z",
          "shell.execute_reply.started": "2023-08-15T08:12:01.995192Z"
        },
        "id": "lhgZ8Ryg6uGu",
        "trusted": true
      },
      "outputs": [],
      "source": [
        "tokenizer = AutoTokenizer.from_pretrained(\"bert-base-uncased\", num_labels=numLabels)"
      ]
    },
    {
      "cell_type": "markdown",
      "metadata": {
        "id": "iObRIKTv6uGu"
      },
      "source": [
        "**Two labels with Neutral; N=128, M=382; overall 510 tokens**"
      ]
    },
    {
      "cell_type": "code",
      "execution_count": null,
      "metadata": {
        "execution": {
          "iopub.execute_input": "2023-08-14T12:56:43.233517Z",
          "iopub.status.busy": "2023-08-14T12:56:43.229747Z",
          "iopub.status.idle": "2023-08-14T12:56:43.239965Z",
          "shell.execute_reply": "2023-08-14T12:56:43.238959Z",
          "shell.execute_reply.started": "2023-08-14T12:56:43.233480Z"
        },
        "id": "NlW2uRwX6uGu",
        "trusted": true
      },
      "outputs": [],
      "source": [
        "N = 128\n",
        "M = 382\n",
        "reviewType = \"review_body\""
      ]
    },
    {
      "cell_type": "code",
      "execution_count": null,
      "metadata": {
        "colab": {
          "referenced_widgets": [
            "b747f9862a88498c87a6de6dcb41f2bf"
          ]
        },
        "execution": {
          "iopub.execute_input": "2023-08-14T12:56:43.242024Z",
          "iopub.status.busy": "2023-08-14T12:56:43.241367Z",
          "iopub.status.idle": "2023-08-14T12:56:45.984819Z",
          "shell.execute_reply": "2023-08-14T12:56:45.983725Z",
          "shell.execute_reply.started": "2023-08-14T12:56:43.241990Z"
        },
        "id": "3A52HZgO6uGu",
        "outputId": "9e77e7b2-b99c-4a1a-fa0c-ce9297a97d32",
        "trusted": true
      },
      "outputs": [
        {
          "data": {
            "application/vnd.jupyter.widget-view+json": {
              "model_id": "b747f9862a88498c87a6de6dcb41f2bf",
              "version_major": 2,
              "version_minor": 0
            },
            "text/plain": [
              "Downloading model.safetensors:   0%|          | 0.00/440M [00:00<?, ?B/s]"
            ]
          },
          "metadata": {},
          "output_type": "display_data"
        },
        {
          "name": "stderr",
          "output_type": "stream",
          "text": [
            "Some weights of the model checkpoint at bert-base-uncased were not used when initializing BertForSequenceClassification: ['cls.seq_relationship.bias', 'cls.predictions.transform.dense.weight', 'cls.predictions.transform.dense.bias', 'cls.predictions.transform.LayerNorm.bias', 'cls.predictions.transform.LayerNorm.weight', 'cls.predictions.bias', 'cls.seq_relationship.weight']\n",
            "- This IS expected if you are initializing BertForSequenceClassification from the checkpoint of a model trained on another task or with another architecture (e.g. initializing a BertForSequenceClassification model from a BertForPreTraining model).\n",
            "- This IS NOT expected if you are initializing BertForSequenceClassification from the checkpoint of a model that you expect to be exactly identical (initializing a BertForSequenceClassification model from a BertForSequenceClassification model).\n",
            "Some weights of BertForSequenceClassification were not initialized from the model checkpoint at bert-base-uncased and are newly initialized: ['classifier.weight', 'classifier.bias']\n",
            "You should probably TRAIN this model on a down-stream task to be able to use it for predictions and inference.\n"
          ]
        }
      ],
      "source": [
        "amazonEnLanguageModel_two_labels_N_128_M_382 = BertForSequenceClassification.from_pretrained(\"bert-base-uncased\", num_labels=numLabels)"
      ]
    },
    {
      "cell_type": "code",
      "execution_count": null,
      "metadata": {
        "execution": {
          "iopub.execute_input": "2023-08-14T12:56:45.992151Z",
          "iopub.status.busy": "2023-08-14T12:56:45.989696Z",
          "iopub.status.idle": "2023-08-14T12:56:46.002468Z",
          "shell.execute_reply": "2023-08-14T12:56:46.001167Z",
          "shell.execute_reply.started": "2023-08-14T12:56:45.992112Z"
        },
        "id": "YdufggZo6uGu",
        "trusted": true
      },
      "outputs": [],
      "source": [
        "training_args = TrainingArguments(output_dir=\"test_trainer\", optim=\"adamw_torch\", warmup_steps=10000, num_train_epochs=1, weight_decay=1e-1, evaluation_strategy=\"epoch\", save_strategy = saveStrategy)"
      ]
    },
    {
      "cell_type": "code",
      "execution_count": null,
      "metadata": {
        "colab": {
          "referenced_widgets": [
            "54d7eec9f3774361bd0a44a563ad8463",
            "4ba11db3f7da420fa7d3fc9b64517fcf",
            "ad3c9b80c7eb41a5a622a5deb7f92645"
          ]
        },
        "execution": {
          "iopub.execute_input": "2023-08-14T12:56:46.004744Z",
          "iopub.status.busy": "2023-08-14T12:56:46.004425Z",
          "iopub.status.idle": "2023-08-14T13:28:32.709183Z",
          "shell.execute_reply": "2023-08-14T13:28:32.707963Z",
          "shell.execute_reply.started": "2023-08-14T12:56:46.004711Z"
        },
        "id": "uF39UDGJ6uGu",
        "outputId": "4ab2c249-7173-4142-b50a-af7a3209c5a5",
        "trusted": true
      },
      "outputs": [
        {
          "data": {
            "application/vnd.jupyter.widget-view+json": {
              "model_id": "54d7eec9f3774361bd0a44a563ad8463",
              "version_major": 2,
              "version_minor": 0
            },
            "text/plain": [
              "  0%|          | 0/200 [00:00<?, ?ba/s]"
            ]
          },
          "metadata": {},
          "output_type": "display_data"
        },
        {
          "name": "stderr",
          "output_type": "stream",
          "text": [
            "Token indices sequence length is longer than the specified maximum sequence length for this model (520 > 512). Running this sequence through the model will result in indexing errors\n"
          ]
        },
        {
          "data": {
            "application/vnd.jupyter.widget-view+json": {
              "model_id": "4ba11db3f7da420fa7d3fc9b64517fcf",
              "version_major": 2,
              "version_minor": 0
            },
            "text/plain": [
              "  0%|          | 0/5 [00:00<?, ?ba/s]"
            ]
          },
          "metadata": {},
          "output_type": "display_data"
        },
        {
          "data": {
            "application/vnd.jupyter.widget-view+json": {
              "model_id": "ad3c9b80c7eb41a5a622a5deb7f92645",
              "version_major": 2,
              "version_minor": 0
            },
            "text/plain": [
              "  0%|          | 0/5 [00:00<?, ?ba/s]"
            ]
          },
          "metadata": {},
          "output_type": "display_data"
        },
        {
          "data": {
            "text/html": [
              "\n",
              "    <div>\n",
              "      \n",
              "      <progress value='3750' max='3750' style='width:300px; height:20px; vertical-align: middle;'></progress>\n",
              "      [3750/3750 29:08, Epoch 1/1]\n",
              "    </div>\n",
              "    <table border=\"1\" class=\"dataframe\">\n",
              "  <thead>\n",
              " <tr style=\"text-align: left;\">\n",
              "      <th>Epoch</th>\n",
              "      <th>Training Loss</th>\n",
              "      <th>Validation Loss</th>\n",
              "      <th>Accuracy</th>\n",
              "    </tr>\n",
              "  </thead>\n",
              "  <tbody>\n",
              "    <tr>\n",
              "      <td>1</td>\n",
              "      <td>0.395500</td>\n",
              "      <td>0.384687</td>\n",
              "      <td>0.829800</td>\n",
              "    </tr>\n",
              "  </tbody>\n",
              "</table><p>"
            ],
            "text/plain": [
              "<IPython.core.display.HTML object>"
            ]
          },
          "metadata": {},
          "output_type": "display_data"
        }
      ],
      "source": [
        "train(amazonEnLanguageModel_two_labels_N_128_M_382, training_args, updatedDataset, 30000, \"amazon\")"
      ]
    },
    {
      "cell_type": "code",
      "execution_count": null,
      "metadata": {
        "execution": {
          "iopub.execute_input": "2023-08-14T13:28:32.711225Z",
          "iopub.status.busy": "2023-08-14T13:28:32.710599Z",
          "iopub.status.idle": "2023-08-14T13:38:14.712716Z",
          "shell.execute_reply": "2023-08-14T13:38:14.711657Z",
          "shell.execute_reply.started": "2023-08-14T13:28:32.711183Z"
        },
        "id": "zHbsth4P6uGu",
        "outputId": "fa3b69d1-427b-4269-d617-b6980f6f7fe6",
        "trusted": true
      },
      "outputs": [
        {
          "name": "stdout",
          "output_type": "stream",
          "text": [
            "\u001b[1mbert-base-uncased-2-labels-N-128-M-382-head+tail\u001b[0m\n",
            "Classification Report Translated Test Set\n",
            "+----------+-------------+----------+------------+-----------+\n",
            "| Class    |   Precision |   Recall |   F1-Score |   Support |\n",
            "|----------+-------------+----------+------------+-----------|\n",
            "| Negative |      0.8746 |   0.8441 |     0.8591 |     12500 |\n",
            "| Positive |      0.8493 |   0.8790 |     0.8639 |     12500 |\n",
            "+----------+-------------+----------+------------+-----------+\n",
            "Classification Report Test Set\n",
            "+----------+-------------+----------+------------+-----------+\n",
            "| Class    |   Precision |   Recall |   F1-Score |   Support |\n",
            "|----------+-------------+----------+------------+-----------|\n",
            "| Negative |      0.7538 |   0.8590 |     0.8030 |      2000 |\n",
            "| Positive |      0.8964 |   0.8130 |     0.8526 |      3000 |\n",
            "+----------+-------------+----------+------------+-----------+\n"
          ]
        }
      ],
      "source": [
        "evaluateTranslatedTestSetAndRegularTestSet(amazonEnLanguageModel_two_labels_N_128_M_382, tokenizer, updatedDataset, imdbDataset['test'], targetNames, \"bert-base-uncased-2-labels-N-128-M-382-head+tail\", \"Amazon\", batch_size=8)"
      ]
    },
    {
      "cell_type": "markdown",
      "metadata": {
        "id": "G5AuVYKU6uGv"
      },
      "source": [
        "**Two labels with Neutral; N=64, M=64; overall 128 tokens**"
      ]
    },
    {
      "cell_type": "code",
      "execution_count": null,
      "metadata": {
        "execution": {
          "iopub.execute_input": "2023-08-14T13:38:14.719700Z",
          "iopub.status.busy": "2023-08-14T13:38:14.717314Z",
          "iopub.status.idle": "2023-08-14T13:38:14.726368Z",
          "shell.execute_reply": "2023-08-14T13:38:14.725393Z",
          "shell.execute_reply.started": "2023-08-14T13:38:14.719670Z"
        },
        "id": "a9NpzoSx6uGv",
        "trusted": true
      },
      "outputs": [],
      "source": [
        "N = 64\n",
        "M = 64\n",
        "reviewType = \"review_body\""
      ]
    },
    {
      "cell_type": "code",
      "execution_count": null,
      "metadata": {
        "execution": {
          "iopub.execute_input": "2023-08-14T13:38:14.730167Z",
          "iopub.status.busy": "2023-08-14T13:38:14.729812Z",
          "iopub.status.idle": "2023-08-14T13:38:15.963233Z",
          "shell.execute_reply": "2023-08-14T13:38:15.961530Z",
          "shell.execute_reply.started": "2023-08-14T13:38:14.730140Z"
        },
        "id": "x7JgpEj16uGv",
        "outputId": "eca7fd42-9bef-4c64-95b5-363fa9e10440",
        "trusted": true
      },
      "outputs": [
        {
          "name": "stderr",
          "output_type": "stream",
          "text": [
            "Some weights of the model checkpoint at bert-base-uncased were not used when initializing BertForSequenceClassification: ['cls.seq_relationship.bias', 'cls.predictions.transform.dense.weight', 'cls.predictions.transform.dense.bias', 'cls.predictions.transform.LayerNorm.bias', 'cls.predictions.transform.LayerNorm.weight', 'cls.predictions.bias', 'cls.seq_relationship.weight']\n",
            "- This IS expected if you are initializing BertForSequenceClassification from the checkpoint of a model trained on another task or with another architecture (e.g. initializing a BertForSequenceClassification model from a BertForPreTraining model).\n",
            "- This IS NOT expected if you are initializing BertForSequenceClassification from the checkpoint of a model that you expect to be exactly identical (initializing a BertForSequenceClassification model from a BertForSequenceClassification model).\n",
            "Some weights of BertForSequenceClassification were not initialized from the model checkpoint at bert-base-uncased and are newly initialized: ['classifier.weight', 'classifier.bias']\n",
            "You should probably TRAIN this model on a down-stream task to be able to use it for predictions and inference.\n"
          ]
        }
      ],
      "source": [
        "amazonEnLanguageModel_two_labels_N_64_M_64 = BertForSequenceClassification.from_pretrained(\"bert-base-uncased\", num_labels=numLabels)"
      ]
    },
    {
      "cell_type": "code",
      "execution_count": null,
      "metadata": {
        "execution": {
          "iopub.execute_input": "2023-08-14T13:38:15.965464Z",
          "iopub.status.busy": "2023-08-14T13:38:15.964814Z",
          "iopub.status.idle": "2023-08-14T13:38:15.973968Z",
          "shell.execute_reply": "2023-08-14T13:38:15.972943Z",
          "shell.execute_reply.started": "2023-08-14T13:38:15.965424Z"
        },
        "id": "AuZ8teOK6uGv",
        "trusted": true
      },
      "outputs": [],
      "source": [
        "training_args = TrainingArguments(output_dir=\"test_trainer\", optim=\"adamw_torch\", warmup_steps=10000, num_train_epochs=1, weight_decay=1e-1, evaluation_strategy=\"epoch\", save_strategy = saveStrategy)"
      ]
    },
    {
      "cell_type": "code",
      "execution_count": null,
      "metadata": {
        "colab": {
          "referenced_widgets": [
            "ce5b47937e2d49a3bc8e05cd915011a1",
            "57bdd0a09ab8424cb62b6d5d1641715a",
            "8a1d6f9add3347ad8b12a568a1678386"
          ]
        },
        "execution": {
          "iopub.execute_input": "2023-08-14T13:38:15.976044Z",
          "iopub.status.busy": "2023-08-14T13:38:15.975435Z",
          "iopub.status.idle": "2023-08-14T13:47:50.498863Z",
          "shell.execute_reply": "2023-08-14T13:47:50.497761Z",
          "shell.execute_reply.started": "2023-08-14T13:38:15.976008Z"
        },
        "id": "cGTITsNI6uGv",
        "outputId": "1c411f99-13da-419d-a77d-6f2ed577eb32",
        "trusted": true
      },
      "outputs": [
        {
          "data": {
            "application/vnd.jupyter.widget-view+json": {
              "model_id": "ce5b47937e2d49a3bc8e05cd915011a1",
              "version_major": 2,
              "version_minor": 0
            },
            "text/plain": [
              "  0%|          | 0/200 [00:00<?, ?ba/s]"
            ]
          },
          "metadata": {},
          "output_type": "display_data"
        },
        {
          "data": {
            "application/vnd.jupyter.widget-view+json": {
              "model_id": "57bdd0a09ab8424cb62b6d5d1641715a",
              "version_major": 2,
              "version_minor": 0
            },
            "text/plain": [
              "  0%|          | 0/5 [00:00<?, ?ba/s]"
            ]
          },
          "metadata": {},
          "output_type": "display_data"
        },
        {
          "data": {
            "application/vnd.jupyter.widget-view+json": {
              "model_id": "8a1d6f9add3347ad8b12a568a1678386",
              "version_major": 2,
              "version_minor": 0
            },
            "text/plain": [
              "  0%|          | 0/5 [00:00<?, ?ba/s]"
            ]
          },
          "metadata": {},
          "output_type": "display_data"
        },
        {
          "data": {
            "text/html": [
              "\n",
              "    <div>\n",
              "      \n",
              "      <progress value='3750' max='3750' style='width:300px; height:20px; vertical-align: middle;'></progress>\n",
              "      [3750/3750 07:51, Epoch 1/1]\n",
              "    </div>\n",
              "    <table border=\"1\" class=\"dataframe\">\n",
              "  <thead>\n",
              " <tr style=\"text-align: left;\">\n",
              "      <th>Epoch</th>\n",
              "      <th>Training Loss</th>\n",
              "      <th>Validation Loss</th>\n",
              "      <th>Accuracy</th>\n",
              "    </tr>\n",
              "  </thead>\n",
              "  <tbody>\n",
              "    <tr>\n",
              "      <td>1</td>\n",
              "      <td>0.388800</td>\n",
              "      <td>0.385671</td>\n",
              "      <td>0.829000</td>\n",
              "    </tr>\n",
              "  </tbody>\n",
              "</table><p>"
            ],
            "text/plain": [
              "<IPython.core.display.HTML object>"
            ]
          },
          "metadata": {},
          "output_type": "display_data"
        }
      ],
      "source": [
        "train(amazonEnLanguageModel_two_labels_N_64_M_64, training_args, updatedDataset, 30000, \"amazon\")"
      ]
    },
    {
      "cell_type": "code",
      "execution_count": null,
      "metadata": {
        "execution": {
          "iopub.execute_input": "2023-08-14T13:47:50.507015Z",
          "iopub.status.busy": "2023-08-14T13:47:50.503517Z",
          "iopub.status.idle": "2023-08-14T13:50:40.984657Z",
          "shell.execute_reply": "2023-08-14T13:50:40.983585Z",
          "shell.execute_reply.started": "2023-08-14T13:47:50.506985Z"
        },
        "id": "l7wiLozp6uGv",
        "outputId": "4cd3b412-ed12-4866-d4cb-17d912620292",
        "trusted": true
      },
      "outputs": [
        {
          "name": "stdout",
          "output_type": "stream",
          "text": [
            "\u001b[1mbert-base-uncased-2-labels-N-64-M-64-head+tail\u001b[0m\n",
            "Classification Report Translated Test Set\n",
            "+----------+-------------+----------+------------+-----------+\n",
            "| Class    |   Precision |   Recall |   F1-Score |   Support |\n",
            "|----------+-------------+----------+------------+-----------|\n",
            "| Negative |      0.8729 |   0.7597 |     0.8124 |     12500 |\n",
            "| Positive |      0.7873 |   0.8894 |     0.8352 |     12500 |\n",
            "+----------+-------------+----------+------------+-----------+\n",
            "Classification Report Test Set\n",
            "+----------+-------------+----------+------------+-----------+\n",
            "| Class    |   Precision |   Recall |   F1-Score |   Support |\n",
            "|----------+-------------+----------+------------+-----------|\n",
            "| Negative |      0.7610 |   0.8455 |     0.8010 |      2000 |\n",
            "| Positive |      0.8888 |   0.8230 |     0.8546 |      3000 |\n",
            "+----------+-------------+----------+------------+-----------+\n"
          ]
        }
      ],
      "source": [
        "evaluateTranslatedTestSetAndRegularTestSet(amazonEnLanguageModel_two_labels_N_64_M_64, tokenizer, updatedDataset, imdbDataset['test'], targetNames, \"bert-base-uncased-2-labels-N-64-M-64-head+tail\", \"Amazon\", batch_size=8)"
      ]
    },
    {
      "cell_type": "markdown",
      "metadata": {
        "id": "11L5Q0oK6uGv"
      },
      "source": [
        "**Two labels with Neutral; N=510, M=0; overall 510 tokens**"
      ]
    },
    {
      "cell_type": "code",
      "execution_count": null,
      "metadata": {
        "execution": {
          "iopub.execute_input": "2023-08-14T13:50:40.986732Z",
          "iopub.status.busy": "2023-08-14T13:50:40.986381Z",
          "iopub.status.idle": "2023-08-14T13:50:40.998032Z",
          "shell.execute_reply": "2023-08-14T13:50:40.996637Z",
          "shell.execute_reply.started": "2023-08-14T13:50:40.986697Z"
        },
        "id": "hxuOHUXE6uGv",
        "trusted": true
      },
      "outputs": [],
      "source": [
        "N = 510\n",
        "M = 0\n",
        "reviewType = \"review_body\""
      ]
    },
    {
      "cell_type": "code",
      "execution_count": null,
      "metadata": {
        "execution": {
          "iopub.execute_input": "2023-08-14T13:50:40.999392Z",
          "iopub.status.busy": "2023-08-14T13:50:40.999104Z",
          "iopub.status.idle": "2023-08-14T13:50:42.229709Z",
          "shell.execute_reply": "2023-08-14T13:50:42.228709Z",
          "shell.execute_reply.started": "2023-08-14T13:50:40.999365Z"
        },
        "id": "ozYjazC_6uGw",
        "outputId": "55131572-a2ae-4227-d4bb-293e0c038807",
        "trusted": true
      },
      "outputs": [
        {
          "name": "stderr",
          "output_type": "stream",
          "text": [
            "Some weights of the model checkpoint at bert-base-uncased were not used when initializing BertForSequenceClassification: ['cls.seq_relationship.bias', 'cls.predictions.transform.dense.weight', 'cls.predictions.transform.dense.bias', 'cls.predictions.transform.LayerNorm.bias', 'cls.predictions.transform.LayerNorm.weight', 'cls.predictions.bias', 'cls.seq_relationship.weight']\n",
            "- This IS expected if you are initializing BertForSequenceClassification from the checkpoint of a model trained on another task or with another architecture (e.g. initializing a BertForSequenceClassification model from a BertForPreTraining model).\n",
            "- This IS NOT expected if you are initializing BertForSequenceClassification from the checkpoint of a model that you expect to be exactly identical (initializing a BertForSequenceClassification model from a BertForSequenceClassification model).\n",
            "Some weights of BertForSequenceClassification were not initialized from the model checkpoint at bert-base-uncased and are newly initialized: ['classifier.weight', 'classifier.bias']\n",
            "You should probably TRAIN this model on a down-stream task to be able to use it for predictions and inference.\n"
          ]
        }
      ],
      "source": [
        "amazonEnLanguageModel_two_labels_N_510_M_0 = BertForSequenceClassification.from_pretrained(\"bert-base-uncased\", num_labels=numLabels)"
      ]
    },
    {
      "cell_type": "code",
      "execution_count": null,
      "metadata": {
        "execution": {
          "iopub.execute_input": "2023-08-14T13:50:42.231648Z",
          "iopub.status.busy": "2023-08-14T13:50:42.231049Z",
          "iopub.status.idle": "2023-08-14T13:50:42.241699Z",
          "shell.execute_reply": "2023-08-14T13:50:42.240553Z",
          "shell.execute_reply.started": "2023-08-14T13:50:42.231606Z"
        },
        "id": "sYZMdk5A6uGw",
        "trusted": true
      },
      "outputs": [],
      "source": [
        "training_args = TrainingArguments(output_dir=\"test_trainer\", optim=\"adamw_torch\", warmup_steps=10000, num_train_epochs=1, weight_decay=1e-1, evaluation_strategy=\"epoch\", save_strategy = saveStrategy)"
      ]
    },
    {
      "cell_type": "code",
      "execution_count": null,
      "metadata": {
        "colab": {
          "referenced_widgets": [
            "1853ce760c0c40ab98056d160ee190a0",
            "4ca410e1a20b45d59ae9f904a97971a6",
            "ed65ce0208ee46068856ab2b8cb134f3"
          ]
        },
        "execution": {
          "iopub.execute_input": "2023-08-14T13:50:42.245592Z",
          "iopub.status.busy": "2023-08-14T13:50:42.244648Z",
          "iopub.status.idle": "2023-08-14T14:22:09.393819Z",
          "shell.execute_reply": "2023-08-14T14:22:09.392627Z",
          "shell.execute_reply.started": "2023-08-14T13:50:42.245555Z"
        },
        "id": "MwuVOA0o6uGw",
        "outputId": "bf4243e1-e485-4639-dee0-801f2ca3dd46",
        "trusted": true
      },
      "outputs": [
        {
          "data": {
            "application/vnd.jupyter.widget-view+json": {
              "model_id": "1853ce760c0c40ab98056d160ee190a0",
              "version_major": 2,
              "version_minor": 0
            },
            "text/plain": [
              "  0%|          | 0/200 [00:00<?, ?ba/s]"
            ]
          },
          "metadata": {},
          "output_type": "display_data"
        },
        {
          "data": {
            "application/vnd.jupyter.widget-view+json": {
              "model_id": "4ca410e1a20b45d59ae9f904a97971a6",
              "version_major": 2,
              "version_minor": 0
            },
            "text/plain": [
              "  0%|          | 0/5 [00:00<?, ?ba/s]"
            ]
          },
          "metadata": {},
          "output_type": "display_data"
        },
        {
          "data": {
            "application/vnd.jupyter.widget-view+json": {
              "model_id": "ed65ce0208ee46068856ab2b8cb134f3",
              "version_major": 2,
              "version_minor": 0
            },
            "text/plain": [
              "  0%|          | 0/5 [00:00<?, ?ba/s]"
            ]
          },
          "metadata": {},
          "output_type": "display_data"
        },
        {
          "data": {
            "text/html": [
              "\n",
              "    <div>\n",
              "      \n",
              "      <progress value='3750' max='3750' style='width:300px; height:20px; vertical-align: middle;'></progress>\n",
              "      [3750/3750 28:49, Epoch 1/1]\n",
              "    </div>\n",
              "    <table border=\"1\" class=\"dataframe\">\n",
              "  <thead>\n",
              " <tr style=\"text-align: left;\">\n",
              "      <th>Epoch</th>\n",
              "      <th>Training Loss</th>\n",
              "      <th>Validation Loss</th>\n",
              "      <th>Accuracy</th>\n",
              "    </tr>\n",
              "  </thead>\n",
              "  <tbody>\n",
              "    <tr>\n",
              "      <td>1</td>\n",
              "      <td>0.391900</td>\n",
              "      <td>0.387862</td>\n",
              "      <td>0.823000</td>\n",
              "    </tr>\n",
              "  </tbody>\n",
              "</table><p>"
            ],
            "text/plain": [
              "<IPython.core.display.HTML object>"
            ]
          },
          "metadata": {},
          "output_type": "display_data"
        }
      ],
      "source": [
        "train(amazonEnLanguageModel_two_labels_N_510_M_0, training_args, updatedDataset, 30000, \"amazon\")"
      ]
    },
    {
      "cell_type": "code",
      "execution_count": null,
      "metadata": {
        "execution": {
          "iopub.execute_input": "2023-08-14T14:22:09.401374Z",
          "iopub.status.busy": "2023-08-14T14:22:09.397854Z",
          "iopub.status.idle": "2023-08-14T14:32:04.060297Z",
          "shell.execute_reply": "2023-08-14T14:32:04.059324Z",
          "shell.execute_reply.started": "2023-08-14T14:22:09.401335Z"
        },
        "id": "_IZyHTIc6uGw",
        "outputId": "45c0f168-8b9f-4bd6-e7ff-6f54e6fe0165",
        "trusted": true
      },
      "outputs": [
        {
          "name": "stdout",
          "output_type": "stream",
          "text": [
            "\u001b[1mbert-base-uncased-2-labels-N-510-M-0-head-only\u001b[0m\n",
            "Classification Report Translated Test Set\n",
            "+----------+-------------+----------+------------+-----------+\n",
            "| Class    |   Precision |   Recall |   F1-Score |   Support |\n",
            "|----------+-------------+----------+------------+-----------|\n",
            "| Negative |      0.8427 |   0.8821 |     0.8619 |     12500 |\n",
            "| Positive |      0.8763 |   0.8354 |     0.8553 |     12500 |\n",
            "+----------+-------------+----------+------------+-----------+\n",
            "Classification Report Test Set\n",
            "+----------+-------------+----------+------------+-----------+\n",
            "| Class    |   Precision |   Recall |   F1-Score |   Support |\n",
            "|----------+-------------+----------+------------+-----------|\n",
            "| Negative |      0.7395 |   0.8730 |     0.8007 |      2000 |\n",
            "| Positive |      0.9038 |   0.7950 |     0.8459 |      3000 |\n",
            "+----------+-------------+----------+------------+-----------+\n"
          ]
        }
      ],
      "source": [
        "evaluateTranslatedTestSetAndRegularTestSet(amazonEnLanguageModel_two_labels_N_510_M_0, tokenizer, updatedDataset, imdbDataset['test'], targetNames, \"bert-base-uncased-2-labels-N-510-M-0-head-only\", \"Amazon\", batch_size=8)"
      ]
    },
    {
      "cell_type": "markdown",
      "metadata": {
        "id": "tVR7XNH06uGw"
      },
      "source": [
        "**Two labels with Neutral; N=0, M=510; overall 510 tokens**"
      ]
    },
    {
      "cell_type": "code",
      "execution_count": null,
      "metadata": {
        "execution": {
          "iopub.execute_input": "2023-08-14T14:32:04.064748Z",
          "iopub.status.busy": "2023-08-14T14:32:04.061612Z",
          "iopub.status.idle": "2023-08-14T14:32:04.075447Z",
          "shell.execute_reply": "2023-08-14T14:32:04.074316Z",
          "shell.execute_reply.started": "2023-08-14T14:32:04.064707Z"
        },
        "id": "D-8yiM6x6uGw",
        "trusted": true
      },
      "outputs": [],
      "source": [
        "N = 0\n",
        "M = 510\n",
        "reviewType = \"review_body\""
      ]
    },
    {
      "cell_type": "code",
      "execution_count": null,
      "metadata": {
        "execution": {
          "iopub.execute_input": "2023-08-14T14:32:04.080154Z",
          "iopub.status.busy": "2023-08-14T14:32:04.078148Z",
          "iopub.status.idle": "2023-08-14T14:32:05.265849Z",
          "shell.execute_reply": "2023-08-14T14:32:05.264874Z",
          "shell.execute_reply.started": "2023-08-14T14:32:04.080115Z"
        },
        "id": "hIUdcv7C6uGw",
        "outputId": "9eccfbc5-7f47-4627-e758-dc79607c6cab",
        "trusted": true
      },
      "outputs": [
        {
          "name": "stderr",
          "output_type": "stream",
          "text": [
            "Some weights of the model checkpoint at bert-base-uncased were not used when initializing BertForSequenceClassification: ['cls.seq_relationship.bias', 'cls.predictions.transform.dense.weight', 'cls.predictions.transform.dense.bias', 'cls.predictions.transform.LayerNorm.bias', 'cls.predictions.transform.LayerNorm.weight', 'cls.predictions.bias', 'cls.seq_relationship.weight']\n",
            "- This IS expected if you are initializing BertForSequenceClassification from the checkpoint of a model trained on another task or with another architecture (e.g. initializing a BertForSequenceClassification model from a BertForPreTraining model).\n",
            "- This IS NOT expected if you are initializing BertForSequenceClassification from the checkpoint of a model that you expect to be exactly identical (initializing a BertForSequenceClassification model from a BertForSequenceClassification model).\n",
            "Some weights of BertForSequenceClassification were not initialized from the model checkpoint at bert-base-uncased and are newly initialized: ['classifier.weight', 'classifier.bias']\n",
            "You should probably TRAIN this model on a down-stream task to be able to use it for predictions and inference.\n"
          ]
        }
      ],
      "source": [
        "amazonEnLanguageModel_two_labels_N_0_M_510 = BertForSequenceClassification.from_pretrained(\"bert-base-uncased\", num_labels=numLabels)"
      ]
    },
    {
      "cell_type": "code",
      "execution_count": null,
      "metadata": {
        "execution": {
          "iopub.execute_input": "2023-08-14T14:32:05.273169Z",
          "iopub.status.busy": "2023-08-14T14:32:05.270643Z",
          "iopub.status.idle": "2023-08-14T14:32:05.281683Z",
          "shell.execute_reply": "2023-08-14T14:32:05.280651Z",
          "shell.execute_reply.started": "2023-08-14T14:32:05.273131Z"
        },
        "id": "v_kgDBoS6uGx",
        "trusted": true
      },
      "outputs": [],
      "source": [
        "training_args = TrainingArguments(output_dir=\"test_trainer\", optim=\"adamw_torch\", warmup_steps=10000, num_train_epochs=1, weight_decay=1e-1, evaluation_strategy=\"epoch\", save_strategy = saveStrategy)"
      ]
    },
    {
      "cell_type": "code",
      "execution_count": null,
      "metadata": {
        "colab": {
          "referenced_widgets": [
            "b6dab93141f4453d8ff7c78e7c7c45af",
            "bc1b884061aa47748b779a43a8d6eb46",
            "24ed004ebb8148d0992a18106a6922d5"
          ]
        },
        "execution": {
          "iopub.execute_input": "2023-08-14T14:32:05.293456Z",
          "iopub.status.busy": "2023-08-14T14:32:05.293181Z",
          "iopub.status.idle": "2023-08-14T15:03:30.428791Z",
          "shell.execute_reply": "2023-08-14T15:03:30.427797Z",
          "shell.execute_reply.started": "2023-08-14T14:32:05.293431Z"
        },
        "id": "8-6GbRiE6uGx",
        "outputId": "57a9a25a-3d6a-4281-fc40-026a61a64be0",
        "trusted": true
      },
      "outputs": [
        {
          "data": {
            "application/vnd.jupyter.widget-view+json": {
              "model_id": "b6dab93141f4453d8ff7c78e7c7c45af",
              "version_major": 2,
              "version_minor": 0
            },
            "text/plain": [
              "  0%|          | 0/200 [00:00<?, ?ba/s]"
            ]
          },
          "metadata": {},
          "output_type": "display_data"
        },
        {
          "data": {
            "application/vnd.jupyter.widget-view+json": {
              "model_id": "bc1b884061aa47748b779a43a8d6eb46",
              "version_major": 2,
              "version_minor": 0
            },
            "text/plain": [
              "  0%|          | 0/5 [00:00<?, ?ba/s]"
            ]
          },
          "metadata": {},
          "output_type": "display_data"
        },
        {
          "data": {
            "application/vnd.jupyter.widget-view+json": {
              "model_id": "24ed004ebb8148d0992a18106a6922d5",
              "version_major": 2,
              "version_minor": 0
            },
            "text/plain": [
              "  0%|          | 0/5 [00:00<?, ?ba/s]"
            ]
          },
          "metadata": {},
          "output_type": "display_data"
        },
        {
          "data": {
            "text/html": [
              "\n",
              "    <div>\n",
              "      \n",
              "      <progress value='3750' max='3750' style='width:300px; height:20px; vertical-align: middle;'></progress>\n",
              "      [3750/3750 28:47, Epoch 1/1]\n",
              "    </div>\n",
              "    <table border=\"1\" class=\"dataframe\">\n",
              "  <thead>\n",
              " <tr style=\"text-align: left;\">\n",
              "      <th>Epoch</th>\n",
              "      <th>Training Loss</th>\n",
              "      <th>Validation Loss</th>\n",
              "      <th>Accuracy</th>\n",
              "    </tr>\n",
              "  </thead>\n",
              "  <tbody>\n",
              "    <tr>\n",
              "      <td>1</td>\n",
              "      <td>0.391800</td>\n",
              "      <td>0.386515</td>\n",
              "      <td>0.823600</td>\n",
              "    </tr>\n",
              "  </tbody>\n",
              "</table><p>"
            ],
            "text/plain": [
              "<IPython.core.display.HTML object>"
            ]
          },
          "metadata": {},
          "output_type": "display_data"
        }
      ],
      "source": [
        "train(amazonEnLanguageModel_two_labels_N_0_M_510, training_args, updatedDataset, 30000, \"amazon\")"
      ]
    },
    {
      "cell_type": "code",
      "execution_count": null,
      "metadata": {
        "execution": {
          "iopub.execute_input": "2023-08-14T15:03:30.432520Z",
          "iopub.status.busy": "2023-08-14T15:03:30.431925Z",
          "iopub.status.idle": "2023-08-14T15:13:14.073015Z",
          "shell.execute_reply": "2023-08-14T15:13:14.071977Z",
          "shell.execute_reply.started": "2023-08-14T15:03:30.432482Z"
        },
        "id": "W62ScLGh6uGx",
        "outputId": "99b27e8f-6455-44b7-aad6-1066d4da7631",
        "trusted": true
      },
      "outputs": [
        {
          "name": "stdout",
          "output_type": "stream",
          "text": [
            "\u001b[1mbert-base-uncased-2-labels-N-0-M-510-tail-only\u001b[0m\n",
            "Classification Report Translated Test Set\n",
            "+----------+-------------+----------+------------+-----------+\n",
            "| Class    |   Precision |   Recall |   F1-Score |   Support |\n",
            "|----------+-------------+----------+------------+-----------|\n",
            "| Negative |      0.8581 |   0.8830 |     0.8704 |     12500 |\n",
            "| Positive |      0.8795 |   0.8540 |     0.8665 |     12500 |\n",
            "+----------+-------------+----------+------------+-----------+\n",
            "Classification Report Test Set\n",
            "+----------+-------------+----------+------------+-----------+\n",
            "| Class    |   Precision |   Recall |   F1-Score |   Support |\n",
            "|----------+-------------+----------+------------+-----------|\n",
            "| Negative |      0.7305 |   0.8865 |     0.8010 |      2000 |\n",
            "| Positive |      0.9118 |   0.7820 |     0.8419 |      3000 |\n",
            "+----------+-------------+----------+------------+-----------+\n"
          ]
        }
      ],
      "source": [
        "evaluateTranslatedTestSetAndRegularTestSet(amazonEnLanguageModel_two_labels_N_0_M_510, tokenizer, updatedDataset, imdbDataset['test'], targetNames, \"bert-base-uncased-2-labels-N-0-M-510-tail-only\", \"Amazon\", batch_size=8)"
      ]
    },
    {
      "cell_type": "markdown",
      "metadata": {
        "id": "ggk879M76uGx"
      },
      "source": [
        "**XLNET AMAZON TWO LABELS WITH NEUTRAL**"
      ]
    },
    {
      "cell_type": "markdown",
      "metadata": {
        "id": "Nb13oNpe6uGz"
      },
      "source": [
        "**Five labels; N=128, M=382; overall 510 tokens**"
      ]
    },
    {
      "cell_type": "code",
      "execution_count": null,
      "metadata": {
        "execution": {
          "iopub.execute_input": "2023-08-14T15:13:14.075208Z",
          "iopub.status.busy": "2023-08-14T15:13:14.074617Z",
          "iopub.status.idle": "2023-08-14T15:13:14.081207Z",
          "shell.execute_reply": "2023-08-14T15:13:14.080052Z",
          "shell.execute_reply.started": "2023-08-14T15:13:14.075171Z"
        },
        "id": "SP42CZC86uG0",
        "trusted": true
      },
      "outputs": [],
      "source": [
        "N = 128\n",
        "M = 382\n",
        "reviewType = \"review_body\""
      ]
    },
    {
      "cell_type": "code",
      "execution_count": null,
      "metadata": {
        "colab": {
          "referenced_widgets": [
            "0c0ccb7f36544c3189fe6eac9bc60e26",
            "e0c6684fd13c4d089b1d952fbd29b31d",
            "c9ff26954b2e4019912267a55d165aec",
            "f365ce0c414e418fbd8111ef31369205"
          ]
        },
        "execution": {
          "iopub.execute_input": "2023-08-14T15:13:14.083683Z",
          "iopub.status.busy": "2023-08-14T15:13:14.083043Z",
          "iopub.status.idle": "2023-08-14T15:13:18.472599Z",
          "shell.execute_reply": "2023-08-14T15:13:18.469965Z",
          "shell.execute_reply.started": "2023-08-14T15:13:14.083642Z"
        },
        "id": "1gAnesu76uG0",
        "outputId": "5dbf3a08-cf93-41e5-dc83-250b9ded7176",
        "trusted": true
      },
      "outputs": [
        {
          "data": {
            "application/vnd.jupyter.widget-view+json": {
              "model_id": "0c0ccb7f36544c3189fe6eac9bc60e26",
              "version_major": 2,
              "version_minor": 0
            },
            "text/plain": [
              "Downloading (…)lve/main/config.json:   0%|          | 0.00/760 [00:00<?, ?B/s]"
            ]
          },
          "metadata": {},
          "output_type": "display_data"
        },
        {
          "data": {
            "application/vnd.jupyter.widget-view+json": {
              "model_id": "e0c6684fd13c4d089b1d952fbd29b31d",
              "version_major": 2,
              "version_minor": 0
            },
            "text/plain": [
              "Downloading (…)ve/main/spiece.model:   0%|          | 0.00/798k [00:00<?, ?B/s]"
            ]
          },
          "metadata": {},
          "output_type": "display_data"
        },
        {
          "data": {
            "application/vnd.jupyter.widget-view+json": {
              "model_id": "c9ff26954b2e4019912267a55d165aec",
              "version_major": 2,
              "version_minor": 0
            },
            "text/plain": [
              "Downloading (…)/main/tokenizer.json:   0%|          | 0.00/1.38M [00:00<?, ?B/s]"
            ]
          },
          "metadata": {},
          "output_type": "display_data"
        },
        {
          "data": {
            "application/vnd.jupyter.widget-view+json": {
              "model_id": "f365ce0c414e418fbd8111ef31369205",
              "version_major": 2,
              "version_minor": 0
            },
            "text/plain": [
              "Downloading pytorch_model.bin:   0%|          | 0.00/467M [00:00<?, ?B/s]"
            ]
          },
          "metadata": {},
          "output_type": "display_data"
        },
        {
          "name": "stderr",
          "output_type": "stream",
          "text": [
            "Some weights of the model checkpoint at xlnet-base-cased were not used when initializing XLNetForSequenceClassification: ['lm_loss.bias', 'lm_loss.weight']\n",
            "- This IS expected if you are initializing XLNetForSequenceClassification from the checkpoint of a model trained on another task or with another architecture (e.g. initializing a BertForSequenceClassification model from a BertForPreTraining model).\n",
            "- This IS NOT expected if you are initializing XLNetForSequenceClassification from the checkpoint of a model that you expect to be exactly identical (initializing a BertForSequenceClassification model from a BertForSequenceClassification model).\n",
            "Some weights of XLNetForSequenceClassification were not initialized from the model checkpoint at xlnet-base-cased and are newly initialized: ['logits_proj.bias', 'sequence_summary.summary.weight', 'sequence_summary.summary.bias', 'logits_proj.weight']\n",
            "You should probably TRAIN this model on a down-stream task to be able to use it for predictions and inference.\n"
          ]
        }
      ],
      "source": [
        "tokenizer = AutoTokenizer.from_pretrained(\"xlnet-base-cased\", num_labels=numLabels)\n",
        "XLNETModel_N_128_M_382 = XLNetForSequenceClassification.from_pretrained(\"xlnet-base-cased\", num_labels=numLabels)"
      ]
    },
    {
      "cell_type": "code",
      "execution_count": null,
      "metadata": {
        "execution": {
          "iopub.execute_input": "2023-08-14T15:13:18.474616Z",
          "iopub.status.busy": "2023-08-14T15:13:18.474039Z",
          "iopub.status.idle": "2023-08-14T15:13:18.483446Z",
          "shell.execute_reply": "2023-08-14T15:13:18.482396Z",
          "shell.execute_reply.started": "2023-08-14T15:13:18.474578Z"
        },
        "id": "eMRAhi4P6uG1",
        "trusted": true
      },
      "outputs": [],
      "source": [
        "training_args = TrainingArguments(output_dir=\"test_trainer\", optim=\"adamw_torch\", warmup_steps=10000, num_train_epochs=1, weight_decay=1e-1, evaluation_strategy=\"epoch\", save_strategy = saveStrategy)"
      ]
    },
    {
      "cell_type": "code",
      "execution_count": null,
      "metadata": {
        "colab": {
          "referenced_widgets": [
            "df9025f0563e47d7986405f290512902",
            "6fa88ccf71d6426da2f4055ccfe8b6f7",
            "ca75a60cabad4d129914a6d21c842ed5"
          ]
        },
        "execution": {
          "iopub.execute_input": "2023-08-14T15:13:18.485844Z",
          "iopub.status.busy": "2023-08-14T15:13:18.485061Z",
          "iopub.status.idle": "2023-08-14T16:14:57.331598Z",
          "shell.execute_reply": "2023-08-14T16:14:57.330338Z",
          "shell.execute_reply.started": "2023-08-14T15:13:18.485809Z"
        },
        "id": "OCSNFrE56uG2",
        "outputId": "ef052ffa-ba1f-447b-e4e0-1f9950b7b6cb",
        "trusted": true
      },
      "outputs": [
        {
          "data": {
            "application/vnd.jupyter.widget-view+json": {
              "model_id": "df9025f0563e47d7986405f290512902",
              "version_major": 2,
              "version_minor": 0
            },
            "text/plain": [
              "  0%|          | 0/200 [00:00<?, ?ba/s]"
            ]
          },
          "metadata": {},
          "output_type": "display_data"
        },
        {
          "data": {
            "application/vnd.jupyter.widget-view+json": {
              "model_id": "6fa88ccf71d6426da2f4055ccfe8b6f7",
              "version_major": 2,
              "version_minor": 0
            },
            "text/plain": [
              "  0%|          | 0/5 [00:00<?, ?ba/s]"
            ]
          },
          "metadata": {},
          "output_type": "display_data"
        },
        {
          "data": {
            "application/vnd.jupyter.widget-view+json": {
              "model_id": "ca75a60cabad4d129914a6d21c842ed5",
              "version_major": 2,
              "version_minor": 0
            },
            "text/plain": [
              "  0%|          | 0/5 [00:00<?, ?ba/s]"
            ]
          },
          "metadata": {},
          "output_type": "display_data"
        },
        {
          "data": {
            "text/html": [
              "\n",
              "    <div>\n",
              "      \n",
              "      <progress value='3750' max='3750' style='width:300px; height:20px; vertical-align: middle;'></progress>\n",
              "      [3750/3750 59:04, Epoch 1/1]\n",
              "    </div>\n",
              "    <table border=\"1\" class=\"dataframe\">\n",
              "  <thead>\n",
              " <tr style=\"text-align: left;\">\n",
              "      <th>Epoch</th>\n",
              "      <th>Training Loss</th>\n",
              "      <th>Validation Loss</th>\n",
              "      <th>Accuracy</th>\n",
              "    </tr>\n",
              "  </thead>\n",
              "  <tbody>\n",
              "    <tr>\n",
              "      <td>1</td>\n",
              "      <td>0.397700</td>\n",
              "      <td>0.391486</td>\n",
              "      <td>0.832600</td>\n",
              "    </tr>\n",
              "  </tbody>\n",
              "</table><p>"
            ],
            "text/plain": [
              "<IPython.core.display.HTML object>"
            ]
          },
          "metadata": {},
          "output_type": "display_data"
        }
      ],
      "source": [
        "train(XLNETModel_N_128_M_382, training_args, updatedDataset, 30000, \"amazon\")"
      ]
    },
    {
      "cell_type": "code",
      "execution_count": null,
      "metadata": {
        "execution": {
          "iopub.execute_input": "2023-08-14T16:14:57.333607Z",
          "iopub.status.busy": "2023-08-14T16:14:57.333005Z",
          "iopub.status.idle": "2023-08-14T16:38:25.803636Z",
          "shell.execute_reply": "2023-08-14T16:38:25.802178Z",
          "shell.execute_reply.started": "2023-08-14T16:14:57.333564Z"
        },
        "id": "aMEEj7m86uG3",
        "outputId": "c05b3b2d-4602-4222-ca52-21908ab8d3eb",
        "trusted": true
      },
      "outputs": [
        {
          "name": "stdout",
          "output_type": "stream",
          "text": [
            "\u001b[1mxlnet-base-cased-2-labels-N-128-M-382-head+tail\u001b[0m\n",
            "Classification Report Translated Test Set\n",
            "+----------+-------------+----------+------------+-----------+\n",
            "| Class    |   Precision |   Recall |   F1-Score |   Support |\n",
            "|----------+-------------+----------+------------+-----------|\n",
            "| Negative |      0.9487 |   0.8040 |     0.8704 |     12500 |\n",
            "| Positive |      0.8299 |   0.9566 |     0.8888 |     12500 |\n",
            "+----------+-------------+----------+------------+-----------+\n",
            "Classification Report Test Set\n",
            "+----------+-------------+----------+------------+-----------+\n",
            "| Class    |   Precision |   Recall |   F1-Score |   Support |\n",
            "|----------+-------------+----------+------------+-----------|\n",
            "| Negative |      0.7925 |   0.8210 |     0.8065 |      2000 |\n",
            "| Positive |      0.8777 |   0.8567 |     0.8671 |      3000 |\n",
            "+----------+-------------+----------+------------+-----------+\n"
          ]
        }
      ],
      "source": [
        "evaluateTranslatedTestSetAndRegularTestSet(XLNETModel_N_128_M_382, tokenizer, updatedDataset, imdbDataset['test'], targetNames, \"xlnet-base-cased-2-labels-N-128-M-382-head+tail\", \"Amazon\", batch_size=8)"
      ]
    },
    {
      "cell_type": "markdown",
      "metadata": {
        "id": "fp-GsNpM6uG3"
      },
      "source": [
        "**Two labels with Neutral; N=64, M=64; overall 128 tokens**"
      ]
    },
    {
      "cell_type": "code",
      "execution_count": null,
      "metadata": {
        "execution": {
          "iopub.execute_input": "2023-08-14T16:38:25.806315Z",
          "iopub.status.busy": "2023-08-14T16:38:25.805553Z",
          "iopub.status.idle": "2023-08-14T16:38:25.811856Z",
          "shell.execute_reply": "2023-08-14T16:38:25.810953Z",
          "shell.execute_reply.started": "2023-08-14T16:38:25.806276Z"
        },
        "id": "j5mJwOGM6uG4",
        "trusted": true
      },
      "outputs": [],
      "source": [
        "N = 64\n",
        "M = 64\n",
        "reviewType = \"review_body\""
      ]
    },
    {
      "cell_type": "code",
      "execution_count": null,
      "metadata": {
        "execution": {
          "iopub.execute_input": "2023-08-14T16:38:25.814119Z",
          "iopub.status.busy": "2023-08-14T16:38:25.813389Z",
          "iopub.status.idle": "2023-08-14T16:38:27.064379Z",
          "shell.execute_reply": "2023-08-14T16:38:27.063365Z",
          "shell.execute_reply.started": "2023-08-14T16:38:25.814066Z"
        },
        "id": "QsD6oxMo6uG4",
        "outputId": "1cf46ef4-a3c5-409d-872c-c9d4e227f967",
        "trusted": true
      },
      "outputs": [
        {
          "name": "stderr",
          "output_type": "stream",
          "text": [
            "Some weights of the model checkpoint at xlnet-base-cased were not used when initializing XLNetForSequenceClassification: ['lm_loss.bias', 'lm_loss.weight']\n",
            "- This IS expected if you are initializing XLNetForSequenceClassification from the checkpoint of a model trained on another task or with another architecture (e.g. initializing a BertForSequenceClassification model from a BertForPreTraining model).\n",
            "- This IS NOT expected if you are initializing XLNetForSequenceClassification from the checkpoint of a model that you expect to be exactly identical (initializing a BertForSequenceClassification model from a BertForSequenceClassification model).\n",
            "Some weights of XLNetForSequenceClassification were not initialized from the model checkpoint at xlnet-base-cased and are newly initialized: ['logits_proj.bias', 'sequence_summary.summary.weight', 'sequence_summary.summary.bias', 'logits_proj.weight']\n",
            "You should probably TRAIN this model on a down-stream task to be able to use it for predictions and inference.\n"
          ]
        }
      ],
      "source": [
        "XLNETModel_N_64_M_64 = XLNetForSequenceClassification.from_pretrained(\"xlnet-base-cased\", num_labels=numLabels)"
      ]
    },
    {
      "cell_type": "code",
      "execution_count": null,
      "metadata": {
        "execution": {
          "iopub.execute_input": "2023-08-14T16:38:27.066422Z",
          "iopub.status.busy": "2023-08-14T16:38:27.065804Z",
          "iopub.status.idle": "2023-08-14T16:38:27.079424Z",
          "shell.execute_reply": "2023-08-14T16:38:27.078361Z",
          "shell.execute_reply.started": "2023-08-14T16:38:27.066382Z"
        },
        "id": "nBT6lIek6uG4",
        "trusted": true
      },
      "outputs": [],
      "source": [
        "training_args = TrainingArguments(output_dir=\"test_trainer\", optim=\"adamw_torch\", warmup_steps=10000, num_train_epochs=1, weight_decay=1e-1, evaluation_strategy=\"epoch\", save_strategy = saveStrategy)"
      ]
    },
    {
      "cell_type": "code",
      "execution_count": null,
      "metadata": {
        "colab": {
          "referenced_widgets": [
            "df77ebb3a2b5441fada7c32b2f46acfa",
            "71767d6a565f49148bc07c5c5f7ca6ae",
            "da5717e44ca94838ba315b6e1262b066"
          ]
        },
        "execution": {
          "iopub.execute_input": "2023-08-14T16:38:27.081677Z",
          "iopub.status.busy": "2023-08-14T16:38:27.081055Z",
          "iopub.status.idle": "2023-08-14T16:50:17.585220Z",
          "shell.execute_reply": "2023-08-14T16:50:17.581820Z",
          "shell.execute_reply.started": "2023-08-14T16:38:27.081635Z"
        },
        "id": "meH0a83V6uG5",
        "outputId": "f66b163e-ebc0-4eea-afc2-3373a067b4fe",
        "trusted": true
      },
      "outputs": [
        {
          "data": {
            "application/vnd.jupyter.widget-view+json": {
              "model_id": "df77ebb3a2b5441fada7c32b2f46acfa",
              "version_major": 2,
              "version_minor": 0
            },
            "text/plain": [
              "  0%|          | 0/200 [00:00<?, ?ba/s]"
            ]
          },
          "metadata": {},
          "output_type": "display_data"
        },
        {
          "data": {
            "application/vnd.jupyter.widget-view+json": {
              "model_id": "71767d6a565f49148bc07c5c5f7ca6ae",
              "version_major": 2,
              "version_minor": 0
            },
            "text/plain": [
              "  0%|          | 0/5 [00:00<?, ?ba/s]"
            ]
          },
          "metadata": {},
          "output_type": "display_data"
        },
        {
          "data": {
            "application/vnd.jupyter.widget-view+json": {
              "model_id": "da5717e44ca94838ba315b6e1262b066",
              "version_major": 2,
              "version_minor": 0
            },
            "text/plain": [
              "  0%|          | 0/5 [00:00<?, ?ba/s]"
            ]
          },
          "metadata": {},
          "output_type": "display_data"
        },
        {
          "data": {
            "text/html": [
              "\n",
              "    <div>\n",
              "      \n",
              "      <progress value='3750' max='3750' style='width:300px; height:20px; vertical-align: middle;'></progress>\n",
              "      [3750/3750 10:07, Epoch 1/1]\n",
              "    </div>\n",
              "    <table border=\"1\" class=\"dataframe\">\n",
              "  <thead>\n",
              " <tr style=\"text-align: left;\">\n",
              "      <th>Epoch</th>\n",
              "      <th>Training Loss</th>\n",
              "      <th>Validation Loss</th>\n",
              "      <th>Accuracy</th>\n",
              "    </tr>\n",
              "  </thead>\n",
              "  <tbody>\n",
              "    <tr>\n",
              "      <td>1</td>\n",
              "      <td>0.410500</td>\n",
              "      <td>0.395386</td>\n",
              "      <td>0.820200</td>\n",
              "    </tr>\n",
              "  </tbody>\n",
              "</table><p>"
            ],
            "text/plain": [
              "<IPython.core.display.HTML object>"
            ]
          },
          "metadata": {},
          "output_type": "display_data"
        }
      ],
      "source": [
        "train(XLNETModel_N_64_M_64, training_args, updatedDataset, 30000, \"amazon\")"
      ]
    },
    {
      "cell_type": "code",
      "execution_count": null,
      "metadata": {
        "execution": {
          "iopub.execute_input": "2023-08-14T16:50:17.587398Z",
          "iopub.status.busy": "2023-08-14T16:50:17.587004Z",
          "iopub.status.idle": "2023-08-14T16:53:55.534008Z",
          "shell.execute_reply": "2023-08-14T16:53:55.532842Z",
          "shell.execute_reply.started": "2023-08-14T16:50:17.587357Z"
        },
        "id": "YsT2GdDn6uG5",
        "outputId": "2a4c0ff7-10ea-496d-fb56-93efd210b0a9",
        "trusted": true
      },
      "outputs": [
        {
          "name": "stdout",
          "output_type": "stream",
          "text": [
            "\u001b[1mxlnet-base-cased-2-labels-N-64-M-64-head+tail\u001b[0m\n",
            "Classification Report Translated Test Set\n",
            "+----------+-------------+----------+------------+-----------+\n",
            "| Class    |   Precision |   Recall |   F1-Score |   Support |\n",
            "|----------+-------------+----------+------------+-----------|\n",
            "| Negative |      0.8208 |   0.9102 |     0.8632 |     12500 |\n",
            "| Positive |      0.8993 |   0.8013 |     0.8474 |     12500 |\n",
            "+----------+-------------+----------+------------+-----------+\n",
            "Classification Report Test Set\n",
            "+----------+-------------+----------+------------+-----------+\n",
            "| Class    |   Precision |   Recall |   F1-Score |   Support |\n",
            "|----------+-------------+----------+------------+-----------|\n",
            "| Negative |      0.7345 |   0.8730 |     0.7978 |      2000 |\n",
            "| Positive |      0.9032 |   0.7897 |     0.8426 |      3000 |\n",
            "+----------+-------------+----------+------------+-----------+\n"
          ]
        }
      ],
      "source": [
        "evaluateTranslatedTestSetAndRegularTestSet(XLNETModel_N_64_M_64, tokenizer, updatedDataset, imdbDataset['test'], targetNames, \"xlnet-base-cased-2-labels-N-64-M-64-head+tail\", \"Amazon\", batch_size=8)"
      ]
    },
    {
      "cell_type": "markdown",
      "metadata": {
        "id": "YyMncVFX6uG5"
      },
      "source": [
        "**Two labels with Neutral; N=510, M=0; overall 510 tokens**"
      ]
    },
    {
      "cell_type": "code",
      "execution_count": null,
      "metadata": {
        "execution": {
          "iopub.execute_input": "2023-08-14T16:53:55.541382Z",
          "iopub.status.busy": "2023-08-14T16:53:55.538666Z",
          "iopub.status.idle": "2023-08-14T16:53:55.548047Z",
          "shell.execute_reply": "2023-08-14T16:53:55.546962Z",
          "shell.execute_reply.started": "2023-08-14T16:53:55.541337Z"
        },
        "id": "55MS09tk6uG6",
        "trusted": true
      },
      "outputs": [],
      "source": [
        "N = 510\n",
        "M = 0\n",
        "reviewType = \"review_body\""
      ]
    },
    {
      "cell_type": "code",
      "execution_count": null,
      "metadata": {
        "execution": {
          "iopub.execute_input": "2023-08-14T16:53:55.549476Z",
          "iopub.status.busy": "2023-08-14T16:53:55.549112Z",
          "iopub.status.idle": "2023-08-14T16:53:56.799561Z",
          "shell.execute_reply": "2023-08-14T16:53:56.797785Z",
          "shell.execute_reply.started": "2023-08-14T16:53:55.549410Z"
        },
        "id": "X7gbPq4-6uG6",
        "outputId": "9ab47083-75fc-4ffe-931c-1760903ba4a7",
        "trusted": true
      },
      "outputs": [
        {
          "name": "stderr",
          "output_type": "stream",
          "text": [
            "Some weights of the model checkpoint at xlnet-base-cased were not used when initializing XLNetForSequenceClassification: ['lm_loss.bias', 'lm_loss.weight']\n",
            "- This IS expected if you are initializing XLNetForSequenceClassification from the checkpoint of a model trained on another task or with another architecture (e.g. initializing a BertForSequenceClassification model from a BertForPreTraining model).\n",
            "- This IS NOT expected if you are initializing XLNetForSequenceClassification from the checkpoint of a model that you expect to be exactly identical (initializing a BertForSequenceClassification model from a BertForSequenceClassification model).\n",
            "Some weights of XLNetForSequenceClassification were not initialized from the model checkpoint at xlnet-base-cased and are newly initialized: ['logits_proj.bias', 'sequence_summary.summary.weight', 'sequence_summary.summary.bias', 'logits_proj.weight']\n",
            "You should probably TRAIN this model on a down-stream task to be able to use it for predictions and inference.\n"
          ]
        }
      ],
      "source": [
        "XLNETModel_N_510_M_0 = XLNetForSequenceClassification.from_pretrained(\"xlnet-base-cased\", num_labels=numLabels)"
      ]
    },
    {
      "cell_type": "code",
      "execution_count": null,
      "metadata": {
        "execution": {
          "iopub.execute_input": "2023-08-14T16:53:56.801866Z",
          "iopub.status.busy": "2023-08-14T16:53:56.801234Z",
          "iopub.status.idle": "2023-08-14T16:53:56.812867Z",
          "shell.execute_reply": "2023-08-14T16:53:56.811919Z",
          "shell.execute_reply.started": "2023-08-14T16:53:56.801829Z"
        },
        "id": "482XHh_T6uG7",
        "trusted": true
      },
      "outputs": [],
      "source": [
        "training_args = TrainingArguments(output_dir=\"test_trainer\", optim=\"adamw_torch\", warmup_steps=10000, num_train_epochs=1, weight_decay=1e-1, evaluation_strategy=\"epoch\", save_strategy = saveStrategy)"
      ]
    },
    {
      "cell_type": "code",
      "execution_count": null,
      "metadata": {
        "colab": {
          "referenced_widgets": [
            "6259a51e23634993bbfa3232edf8f054",
            "487cbf2ae28947ec97e62151338d1c8a",
            "32cf0c39bdbe4c8490469ca369174d5b"
          ]
        },
        "execution": {
          "iopub.execute_input": "2023-08-14T16:53:56.815066Z",
          "iopub.status.busy": "2023-08-14T16:53:56.814467Z",
          "iopub.status.idle": "2023-08-14T17:55:41.908001Z",
          "shell.execute_reply": "2023-08-14T17:55:41.906795Z",
          "shell.execute_reply.started": "2023-08-14T16:53:56.815032Z"
        },
        "id": "ERHa9aww6uG7",
        "outputId": "c19bf357-80ad-4ad0-caaf-0463183e3e97",
        "trusted": true
      },
      "outputs": [
        {
          "data": {
            "application/vnd.jupyter.widget-view+json": {
              "model_id": "6259a51e23634993bbfa3232edf8f054",
              "version_major": 2,
              "version_minor": 0
            },
            "text/plain": [
              "  0%|          | 0/200 [00:00<?, ?ba/s]"
            ]
          },
          "metadata": {},
          "output_type": "display_data"
        },
        {
          "data": {
            "application/vnd.jupyter.widget-view+json": {
              "model_id": "487cbf2ae28947ec97e62151338d1c8a",
              "version_major": 2,
              "version_minor": 0
            },
            "text/plain": [
              "  0%|          | 0/5 [00:00<?, ?ba/s]"
            ]
          },
          "metadata": {},
          "output_type": "display_data"
        },
        {
          "data": {
            "application/vnd.jupyter.widget-view+json": {
              "model_id": "32cf0c39bdbe4c8490469ca369174d5b",
              "version_major": 2,
              "version_minor": 0
            },
            "text/plain": [
              "  0%|          | 0/5 [00:00<?, ?ba/s]"
            ]
          },
          "metadata": {},
          "output_type": "display_data"
        },
        {
          "data": {
            "text/html": [
              "\n",
              "    <div>\n",
              "      \n",
              "      <progress value='3750' max='3750' style='width:300px; height:20px; vertical-align: middle;'></progress>\n",
              "      [3750/3750 59:08, Epoch 1/1]\n",
              "    </div>\n",
              "    <table border=\"1\" class=\"dataframe\">\n",
              "  <thead>\n",
              " <tr style=\"text-align: left;\">\n",
              "      <th>Epoch</th>\n",
              "      <th>Training Loss</th>\n",
              "      <th>Validation Loss</th>\n",
              "      <th>Accuracy</th>\n",
              "    </tr>\n",
              "  </thead>\n",
              "  <tbody>\n",
              "    <tr>\n",
              "      <td>1</td>\n",
              "      <td>0.395700</td>\n",
              "      <td>0.417117</td>\n",
              "      <td>0.835400</td>\n",
              "    </tr>\n",
              "  </tbody>\n",
              "</table><p>"
            ],
            "text/plain": [
              "<IPython.core.display.HTML object>"
            ]
          },
          "metadata": {},
          "output_type": "display_data"
        }
      ],
      "source": [
        "train(XLNETModel_N_510_M_0, training_args, updatedDataset, 30000, \"amazon\")"
      ]
    },
    {
      "cell_type": "code",
      "execution_count": null,
      "metadata": {
        "execution": {
          "iopub.execute_input": "2023-08-14T17:55:41.915939Z",
          "iopub.status.busy": "2023-08-14T17:55:41.912709Z",
          "iopub.status.idle": "2023-08-14T18:19:26.007742Z",
          "shell.execute_reply": "2023-08-14T18:19:26.006652Z",
          "shell.execute_reply.started": "2023-08-14T17:55:41.915876Z"
        },
        "id": "6JoiBRIp6uG7",
        "outputId": "c7ab78cf-086a-486e-ee8f-58f117c1ac97",
        "trusted": true
      },
      "outputs": [
        {
          "name": "stdout",
          "output_type": "stream",
          "text": [
            "\u001b[1mxlnet-base-cased-2-labels-N-510-M-0-head-only\u001b[0m\n",
            "Classification Report Translated Test Set\n",
            "+----------+-------------+----------+------------+-----------+\n",
            "| Class    |   Precision |   Recall |   F1-Score |   Support |\n",
            "|----------+-------------+----------+------------+-----------|\n",
            "| Negative |      0.9582 |   0.7593 |     0.8472 |     12500 |\n",
            "| Positive |      0.8007 |   0.9669 |     0.8760 |     12500 |\n",
            "+----------+-------------+----------+------------+-----------+\n",
            "Classification Report Test Set\n",
            "+----------+-------------+----------+------------+-----------+\n",
            "| Class    |   Precision |   Recall |   F1-Score |   Support |\n",
            "|----------+-------------+----------+------------+-----------|\n",
            "| Negative |      0.8119 |   0.7815 |     0.7964 |      2000 |\n",
            "| Positive |      0.8579 |   0.8793 |     0.8685 |      3000 |\n",
            "+----------+-------------+----------+------------+-----------+\n"
          ]
        }
      ],
      "source": [
        "evaluateTranslatedTestSetAndRegularTestSet(XLNETModel_N_510_M_0, tokenizer, updatedDataset, imdbDataset['test'], targetNames, \"xlnet-base-cased-2-labels-N-510-M-0-head-only\", \"Amazon\", batch_size=8)"
      ]
    },
    {
      "cell_type": "markdown",
      "metadata": {
        "id": "fa-9tOka6uG8"
      },
      "source": [
        "**Two labels with Neutral; N=0, M=510; overall 510 tokens**"
      ]
    },
    {
      "cell_type": "code",
      "execution_count": null,
      "metadata": {
        "execution": {
          "iopub.execute_input": "2023-08-14T18:19:26.014158Z",
          "iopub.status.busy": "2023-08-14T18:19:26.012814Z",
          "iopub.status.idle": "2023-08-14T18:19:26.020123Z",
          "shell.execute_reply": "2023-08-14T18:19:26.019112Z",
          "shell.execute_reply.started": "2023-08-14T18:19:26.014100Z"
        },
        "id": "IO2IX_3R6uHY",
        "trusted": true
      },
      "outputs": [],
      "source": [
        "N = 0\n",
        "M = 510\n",
        "reviewType = \"review_body\""
      ]
    },
    {
      "cell_type": "code",
      "execution_count": null,
      "metadata": {
        "execution": {
          "iopub.execute_input": "2023-08-14T18:19:26.021938Z",
          "iopub.status.busy": "2023-08-14T18:19:26.021539Z",
          "iopub.status.idle": "2023-08-14T18:19:27.232225Z",
          "shell.execute_reply": "2023-08-14T18:19:27.231201Z",
          "shell.execute_reply.started": "2023-08-14T18:19:26.021872Z"
        },
        "id": "srypAcu86uHa",
        "outputId": "f29b7a62-d77e-4a34-a289-4abe154533a2",
        "trusted": true
      },
      "outputs": [
        {
          "name": "stderr",
          "output_type": "stream",
          "text": [
            "Some weights of the model checkpoint at xlnet-base-cased were not used when initializing XLNetForSequenceClassification: ['lm_loss.bias', 'lm_loss.weight']\n",
            "- This IS expected if you are initializing XLNetForSequenceClassification from the checkpoint of a model trained on another task or with another architecture (e.g. initializing a BertForSequenceClassification model from a BertForPreTraining model).\n",
            "- This IS NOT expected if you are initializing XLNetForSequenceClassification from the checkpoint of a model that you expect to be exactly identical (initializing a BertForSequenceClassification model from a BertForSequenceClassification model).\n",
            "Some weights of XLNetForSequenceClassification were not initialized from the model checkpoint at xlnet-base-cased and are newly initialized: ['logits_proj.bias', 'sequence_summary.summary.weight', 'sequence_summary.summary.bias', 'logits_proj.weight']\n",
            "You should probably TRAIN this model on a down-stream task to be able to use it for predictions and inference.\n"
          ]
        }
      ],
      "source": [
        "XLNETModel_N_0_M_510 = XLNetForSequenceClassification.from_pretrained(\"xlnet-base-cased\", num_labels=numLabels)"
      ]
    },
    {
      "cell_type": "code",
      "execution_count": null,
      "metadata": {
        "execution": {
          "iopub.execute_input": "2023-08-14T18:19:27.239280Z",
          "iopub.status.busy": "2023-08-14T18:19:27.236913Z",
          "iopub.status.idle": "2023-08-14T18:19:27.248059Z",
          "shell.execute_reply": "2023-08-14T18:19:27.247117Z",
          "shell.execute_reply.started": "2023-08-14T18:19:27.239237Z"
        },
        "id": "ZrRS9vzg6uHa",
        "trusted": true
      },
      "outputs": [],
      "source": [
        "training_args = TrainingArguments(output_dir=\"test_trainer\", optim=\"adamw_torch\", warmup_steps=10000, num_train_epochs=1, evaluation_strategy=\"epoch\", save_strategy = saveStrategy)"
      ]
    },
    {
      "cell_type": "code",
      "execution_count": null,
      "metadata": {
        "colab": {
          "referenced_widgets": [
            "f6d1bfa6ef394c31a26f290791bad194",
            "fa4b4a786ab643999ecf09e97f52b709",
            "f987a313b86940b2987917be53c03c3e"
          ]
        },
        "execution": {
          "iopub.execute_input": "2023-08-14T18:19:27.250101Z",
          "iopub.status.busy": "2023-08-14T18:19:27.249513Z",
          "iopub.status.idle": "2023-08-14T19:18:17.353114Z",
          "shell.execute_reply": "2023-08-14T19:18:17.352081Z",
          "shell.execute_reply.started": "2023-08-14T18:19:27.250060Z"
        },
        "id": "jf6rji6v6uHb",
        "outputId": "9c9efcff-8a52-47e4-feb3-cf508abc9f73",
        "trusted": true
      },
      "outputs": [
        {
          "data": {
            "application/vnd.jupyter.widget-view+json": {
              "model_id": "f6d1bfa6ef394c31a26f290791bad194",
              "version_major": 2,
              "version_minor": 0
            },
            "text/plain": [
              "  0%|          | 0/200 [00:00<?, ?ba/s]"
            ]
          },
          "metadata": {},
          "output_type": "display_data"
        },
        {
          "data": {
            "application/vnd.jupyter.widget-view+json": {
              "model_id": "fa4b4a786ab643999ecf09e97f52b709",
              "version_major": 2,
              "version_minor": 0
            },
            "text/plain": [
              "  0%|          | 0/5 [00:00<?, ?ba/s]"
            ]
          },
          "metadata": {},
          "output_type": "display_data"
        },
        {
          "data": {
            "application/vnd.jupyter.widget-view+json": {
              "model_id": "f987a313b86940b2987917be53c03c3e",
              "version_major": 2,
              "version_minor": 0
            },
            "text/plain": [
              "  0%|          | 0/5 [00:00<?, ?ba/s]"
            ]
          },
          "metadata": {},
          "output_type": "display_data"
        },
        {
          "data": {
            "text/html": [
              "\n",
              "    <div>\n",
              "      \n",
              "      <progress value='3750' max='3750' style='width:300px; height:20px; vertical-align: middle;'></progress>\n",
              "      [3750/3750 56:15, Epoch 1/1]\n",
              "    </div>\n",
              "    <table border=\"1\" class=\"dataframe\">\n",
              "  <thead>\n",
              " <tr style=\"text-align: left;\">\n",
              "      <th>Epoch</th>\n",
              "      <th>Training Loss</th>\n",
              "      <th>Validation Loss</th>\n",
              "      <th>Accuracy</th>\n",
              "    </tr>\n",
              "  </thead>\n",
              "  <tbody>\n",
              "    <tr>\n",
              "      <td>1</td>\n",
              "      <td>0.412500</td>\n",
              "      <td>0.387716</td>\n",
              "      <td>0.832200</td>\n",
              "    </tr>\n",
              "  </tbody>\n",
              "</table><p>"
            ],
            "text/plain": [
              "<IPython.core.display.HTML object>"
            ]
          },
          "metadata": {},
          "output_type": "display_data"
        }
      ],
      "source": [
        "train(XLNETModel_N_0_M_510, training_args, updatedDataset, 30000, \"amazon\")"
      ]
    },
    {
      "cell_type": "code",
      "execution_count": null,
      "metadata": {
        "execution": {
          "iopub.execute_input": "2023-08-14T19:18:17.360699Z",
          "iopub.status.busy": "2023-08-14T19:18:17.357184Z",
          "iopub.status.idle": "2023-08-14T19:39:19.071153Z",
          "shell.execute_reply": "2023-08-14T19:39:19.070058Z",
          "shell.execute_reply.started": "2023-08-14T19:18:17.360662Z"
        },
        "id": "h3dleE4j6uHb",
        "outputId": "e4666590-dfe8-473e-c4e6-b85d9695d6df",
        "trusted": true
      },
      "outputs": [
        {
          "name": "stdout",
          "output_type": "stream",
          "text": [
            "\u001b[1mxlnet-base-cased-2-labels-N-0-M-510-tail-only\u001b[0m\n",
            "Classification Report Translated Test Set\n",
            "+----------+-------------+----------+------------+-----------+\n",
            "| Class    |   Precision |   Recall |   F1-Score |   Support |\n",
            "|----------+-------------+----------+------------+-----------|\n",
            "| Negative |      0.9416 |   0.8350 |     0.8851 |     12500 |\n",
            "| Positive |      0.8518 |   0.9482 |     0.8974 |     12500 |\n",
            "+----------+-------------+----------+------------+-----------+\n",
            "Classification Report Test Set\n",
            "+----------+-------------+----------+------------+-----------+\n",
            "| Class    |   Precision |   Recall |   F1-Score |   Support |\n",
            "|----------+-------------+----------+------------+-----------|\n",
            "| Negative |      0.7910 |   0.7870 |     0.7890 |      2000 |\n",
            "| Positive |      0.8585 |   0.8613 |     0.8599 |      3000 |\n",
            "+----------+-------------+----------+------------+-----------+\n"
          ]
        }
      ],
      "source": [
        "evaluateTranslatedTestSetAndRegularTestSet(XLNETModel_N_0_M_510, tokenizer, updatedDataset, imdbDataset['test'], targetNames, \"xlnet-base-cased-2-labels-N-0-M-510-tail-only\", \"Amazon\", batch_size=8)"
      ]
    },
    {
      "cell_type": "markdown",
      "metadata": {
        "id": "MH0yX6eQ6uHc"
      },
      "source": [
        "**labels 1,2,4,5 only**"
      ]
    },
    {
      "cell_type": "code",
      "execution_count": null,
      "metadata": {
        "colab": {
          "referenced_widgets": [
            "ffe07a56bc8e4ac1b7b261045abd0544",
            "b0a7923179df434c9b124596fa0bdbbf"
          ]
        },
        "execution": {
          "iopub.execute_input": "2023-08-15T11:34:11.705846Z",
          "iopub.status.busy": "2023-08-15T11:34:11.705269Z",
          "iopub.status.idle": "2023-08-15T11:34:28.113591Z",
          "shell.execute_reply": "2023-08-15T11:34:28.112592Z",
          "shell.execute_reply.started": "2023-08-15T11:34:11.705812Z"
        },
        "id": "thoL3omz6uHc",
        "outputId": "93d74053-96fa-4df4-bf93-5987a26c7eb4",
        "trusted": true
      },
      "outputs": [
        {
          "data": {
            "application/vnd.jupyter.widget-view+json": {
              "model_id": "ffe07a56bc8e4ac1b7b261045abd0544",
              "version_major": 2,
              "version_minor": 0
            },
            "text/plain": [
              "Downloading (…)lve/main/config.json:   0%|          | 0.00/570 [00:00<?, ?B/s]"
            ]
          },
          "metadata": {},
          "output_type": "display_data"
        },
        {
          "data": {
            "application/vnd.jupyter.widget-view+json": {
              "model_id": "b0a7923179df434c9b124596fa0bdbbf",
              "version_major": 2,
              "version_minor": 0
            },
            "text/plain": [
              "Downloading model.safetensors:   0%|          | 0.00/436M [00:00<?, ?B/s]"
            ]
          },
          "metadata": {},
          "output_type": "display_data"
        },
        {
          "name": "stderr",
          "output_type": "stream",
          "text": [
            "Some weights of the model checkpoint at bert-base-cased were not used when initializing BertForSequenceClassification: ['cls.seq_relationship.weight', 'cls.predictions.transform.LayerNorm.bias', 'cls.predictions.transform.LayerNorm.weight', 'cls.predictions.bias', 'cls.seq_relationship.bias', 'cls.predictions.transform.dense.bias', 'cls.predictions.transform.dense.weight']\n",
            "- This IS expected if you are initializing BertForSequenceClassification from the checkpoint of a model trained on another task or with another architecture (e.g. initializing a BertForSequenceClassification model from a BertForPreTraining model).\n",
            "- This IS NOT expected if you are initializing BertForSequenceClassification from the checkpoint of a model that you expect to be exactly identical (initializing a BertForSequenceClassification model from a BertForSequenceClassification model).\n",
            "Some weights of BertForSequenceClassification were not initialized from the model checkpoint at bert-base-cased and are newly initialized: ['classifier.weight', 'classifier.bias']\n",
            "You should probably TRAIN this model on a down-stream task to be able to use it for predictions and inference.\n"
          ]
        }
      ],
      "source": [
        "amazonEnLanguageModelNoNeutrals = BertForSequenceClassification.from_pretrained(\"bert-base-cased\", num_labels=2)"
      ]
    },
    {
      "cell_type": "code",
      "execution_count": null,
      "metadata": {
        "execution": {
          "iopub.execute_input": "2023-08-15T11:34:28.115744Z",
          "iopub.status.busy": "2023-08-15T11:34:28.115305Z",
          "iopub.status.idle": "2023-08-15T11:34:28.121411Z",
          "shell.execute_reply": "2023-08-15T11:34:28.120228Z",
          "shell.execute_reply.started": "2023-08-15T11:34:28.115709Z"
        },
        "id": "73KmSsX46uHc",
        "trusted": true
      },
      "outputs": [],
      "source": [
        "en_only_dataset = datasets.DatasetDict({\"train\": enOnlyTrain, 'validation': enOnlyDev, 'test': enOnlyTest})"
      ]
    },
    {
      "cell_type": "code",
      "execution_count": null,
      "metadata": {
        "execution": {
          "iopub.execute_input": "2023-08-15T11:34:28.124360Z",
          "iopub.status.busy": "2023-08-15T11:34:28.122868Z",
          "iopub.status.idle": "2023-08-15T11:34:28.135444Z",
          "shell.execute_reply": "2023-08-15T11:34:28.134369Z",
          "shell.execute_reply.started": "2023-08-15T11:34:28.124325Z"
        },
        "id": "lC7uCoa_6uHc",
        "trusted": true
      },
      "outputs": [],
      "source": [
        "en_only_dataset = en_only_dataset.rename_column('stars', 'labels')"
      ]
    },
    {
      "cell_type": "code",
      "execution_count": null,
      "metadata": {
        "execution": {
          "iopub.execute_input": "2023-08-15T11:34:28.138108Z",
          "iopub.status.busy": "2023-08-15T11:34:28.137342Z",
          "iopub.status.idle": "2023-08-15T11:34:28.147468Z",
          "shell.execute_reply": "2023-08-15T11:34:28.146562Z",
          "shell.execute_reply.started": "2023-08-15T11:34:28.138072Z"
        },
        "id": "eDeKIsB36uHd",
        "trusted": true
      },
      "outputs": [],
      "source": [
        "en_only_dataset = en_only_dataset.remove_columns('__index_level_0__')"
      ]
    },
    {
      "cell_type": "code",
      "execution_count": null,
      "metadata": {
        "execution": {
          "iopub.execute_input": "2023-08-15T11:34:28.149654Z",
          "iopub.status.busy": "2023-08-15T11:34:28.149313Z",
          "iopub.status.idle": "2023-08-15T11:34:45.773379Z",
          "shell.execute_reply": "2023-08-15T11:34:45.772391Z",
          "shell.execute_reply.started": "2023-08-15T11:34:28.149622Z"
        },
        "id": "C-q02Ykq6uHd",
        "trusted": true
      },
      "outputs": [],
      "source": [
        "en_only_dataset['train'] = datasets.Dataset.from_pandas(removeNeutrals(en_only_dataset['train']))\n",
        "en_only_dataset['validation'] = datasets.Dataset.from_pandas(removeNeutrals(en_only_dataset['validation']))\n",
        "en_only_dataset['test'] = datasets.Dataset.from_pandas(removeNeutrals(en_only_dataset['test']))"
      ]
    },
    {
      "cell_type": "code",
      "execution_count": null,
      "metadata": {
        "colab": {
          "referenced_widgets": [
            "11bc6486fe7e4d6fac36cddbba1043f6",
            "d437341b6ffb4d85bb67ff4073921f5e",
            "255a20ed7b604cb79257fb7e9f254b67"
          ]
        },
        "execution": {
          "iopub.execute_input": "2023-08-15T11:34:45.775183Z",
          "iopub.status.busy": "2023-08-15T11:34:45.774806Z",
          "iopub.status.idle": "2023-08-15T11:35:01.362645Z",
          "shell.execute_reply": "2023-08-15T11:35:01.361547Z",
          "shell.execute_reply.started": "2023-08-15T11:34:45.775119Z"
        },
        "id": "nPdixHfo6uHd",
        "outputId": "0127e659-e50f-4399-d318-d5d331f2c994",
        "trusted": true
      },
      "outputs": [
        {
          "data": {
            "application/vnd.jupyter.widget-view+json": {
              "model_id": "11bc6486fe7e4d6fac36cddbba1043f6",
              "version_major": 2,
              "version_minor": 0
            },
            "text/plain": [
              "  0%|          | 0/160000 [00:00<?, ?ex/s]"
            ]
          },
          "metadata": {},
          "output_type": "display_data"
        },
        {
          "data": {
            "application/vnd.jupyter.widget-view+json": {
              "model_id": "d437341b6ffb4d85bb67ff4073921f5e",
              "version_major": 2,
              "version_minor": 0
            },
            "text/plain": [
              "  0%|          | 0/4000 [00:00<?, ?ex/s]"
            ]
          },
          "metadata": {},
          "output_type": "display_data"
        },
        {
          "data": {
            "application/vnd.jupyter.widget-view+json": {
              "model_id": "255a20ed7b604cb79257fb7e9f254b67",
              "version_major": 2,
              "version_minor": 0
            },
            "text/plain": [
              "  0%|          | 0/4000 [00:00<?, ?ex/s]"
            ]
          },
          "metadata": {},
          "output_type": "display_data"
        }
      ],
      "source": [
        "updatedDataset = en_only_dataset.map(changeToBinary)"
      ]
    },
    {
      "cell_type": "markdown",
      "metadata": {
        "id": "Wc-STnL16uHd"
      },
      "source": [
        "**BERT CASED**"
      ]
    },
    {
      "cell_type": "code",
      "execution_count": null,
      "metadata": {
        "colab": {
          "referenced_widgets": [
            "28f62b01b4fa4b8782095f68fcc957f0",
            "a409ffc85d7b44b5b206d905c2b1dcb0",
            "8c284b5b554c4dad92b7a635143c96a6"
          ]
        },
        "execution": {
          "iopub.execute_input": "2023-08-15T07:59:18.801543Z",
          "iopub.status.busy": "2023-08-15T07:59:18.801113Z",
          "iopub.status.idle": "2023-08-15T07:59:20.092771Z",
          "shell.execute_reply": "2023-08-15T07:59:20.091775Z",
          "shell.execute_reply.started": "2023-08-15T07:59:18.801506Z"
        },
        "id": "Ke-ttmOY6uHe",
        "outputId": "becd9298-0190-4d40-ae09-a8be21f4364c",
        "trusted": true
      },
      "outputs": [
        {
          "data": {
            "application/vnd.jupyter.widget-view+json": {
              "model_id": "28f62b01b4fa4b8782095f68fcc957f0",
              "version_major": 2,
              "version_minor": 0
            },
            "text/plain": [
              "Downloading (…)okenizer_config.json:   0%|          | 0.00/29.0 [00:00<?, ?B/s]"
            ]
          },
          "metadata": {},
          "output_type": "display_data"
        },
        {
          "data": {
            "application/vnd.jupyter.widget-view+json": {
              "model_id": "a409ffc85d7b44b5b206d905c2b1dcb0",
              "version_major": 2,
              "version_minor": 0
            },
            "text/plain": [
              "Downloading (…)solve/main/vocab.txt:   0%|          | 0.00/213k [00:00<?, ?B/s]"
            ]
          },
          "metadata": {},
          "output_type": "display_data"
        },
        {
          "data": {
            "application/vnd.jupyter.widget-view+json": {
              "model_id": "8c284b5b554c4dad92b7a635143c96a6",
              "version_major": 2,
              "version_minor": 0
            },
            "text/plain": [
              "Downloading (…)/main/tokenizer.json:   0%|          | 0.00/436k [00:00<?, ?B/s]"
            ]
          },
          "metadata": {},
          "output_type": "display_data"
        }
      ],
      "source": [
        "tokenizer = AutoTokenizer.from_pretrained('bert-base-cased', num_labels=numLabels)"
      ]
    },
    {
      "cell_type": "markdown",
      "metadata": {
        "id": "5CtdLA3k6uHe"
      },
      "source": [
        "**Two labels No Neutral; N=128, M=382; overall 510 tokens**"
      ]
    },
    {
      "cell_type": "code",
      "execution_count": null,
      "metadata": {
        "execution": {
          "iopub.execute_input": "2023-08-14T19:39:52.804652Z",
          "iopub.status.busy": "2023-08-14T19:39:52.802102Z",
          "iopub.status.idle": "2023-08-14T19:39:52.811588Z",
          "shell.execute_reply": "2023-08-14T19:39:52.810311Z",
          "shell.execute_reply.started": "2023-08-14T19:39:52.804613Z"
        },
        "id": "m3c0l4IQ6uHe",
        "trusted": true
      },
      "outputs": [],
      "source": [
        "N = 128\n",
        "M = 382\n",
        "reviewType = \"review_body\""
      ]
    },
    {
      "cell_type": "code",
      "execution_count": null,
      "metadata": {
        "execution": {
          "iopub.execute_input": "2023-08-14T19:39:52.813762Z",
          "iopub.status.busy": "2023-08-14T19:39:52.813097Z",
          "iopub.status.idle": "2023-08-14T19:39:53.865417Z",
          "shell.execute_reply": "2023-08-14T19:39:53.864416Z",
          "shell.execute_reply.started": "2023-08-14T19:39:52.813727Z"
        },
        "id": "2SeAPQ966uHe",
        "outputId": "28e5d291-1b35-4df3-9e48-47f45d2acb65",
        "trusted": true
      },
      "outputs": [
        {
          "name": "stderr",
          "output_type": "stream",
          "text": [
            "Some weights of the model checkpoint at bert-base-cased were not used when initializing BertForSequenceClassification: ['cls.seq_relationship.bias', 'cls.predictions.transform.dense.weight', 'cls.predictions.transform.dense.bias', 'cls.predictions.transform.LayerNorm.bias', 'cls.predictions.transform.LayerNorm.weight', 'cls.predictions.bias', 'cls.seq_relationship.weight']\n",
            "- This IS expected if you are initializing BertForSequenceClassification from the checkpoint of a model trained on another task or with another architecture (e.g. initializing a BertForSequenceClassification model from a BertForPreTraining model).\n",
            "- This IS NOT expected if you are initializing BertForSequenceClassification from the checkpoint of a model that you expect to be exactly identical (initializing a BertForSequenceClassification model from a BertForSequenceClassification model).\n",
            "Some weights of BertForSequenceClassification were not initialized from the model checkpoint at bert-base-cased and are newly initialized: ['classifier.weight', 'classifier.bias']\n",
            "You should probably TRAIN this model on a down-stream task to be able to use it for predictions and inference.\n"
          ]
        }
      ],
      "source": [
        "amazonEnLanguageModel_two_labels_N_128_M_382 = BertForSequenceClassification.from_pretrained(\"bert-base-cased\", num_labels=numLabels)"
      ]
    },
    {
      "cell_type": "code",
      "execution_count": null,
      "metadata": {
        "execution": {
          "iopub.execute_input": "2023-08-14T19:39:53.867418Z",
          "iopub.status.busy": "2023-08-14T19:39:53.866756Z",
          "iopub.status.idle": "2023-08-14T19:39:53.881360Z",
          "shell.execute_reply": "2023-08-14T19:39:53.880270Z",
          "shell.execute_reply.started": "2023-08-14T19:39:53.867375Z"
        },
        "id": "BFWvW0OE6uHf",
        "trusted": true
      },
      "outputs": [],
      "source": [
        "training_args = TrainingArguments(output_dir=\"test_trainer\", optim=\"adamw_torch\", warmup_steps=10000, num_train_epochs=1, weight_decay=1e-4, evaluation_strategy=\"epoch\", save_strategy = saveStrategy)"
      ]
    },
    {
      "cell_type": "code",
      "execution_count": null,
      "metadata": {
        "colab": {
          "referenced_widgets": [
            "d84575decdfc4348b4c32fa46022b2f4",
            "cc946a21bb98419dbb3a5d2c167394dd",
            "ac597840bc984ed3aaffc21a548045be"
          ]
        },
        "execution": {
          "iopub.execute_input": "2023-08-14T19:39:53.888313Z",
          "iopub.status.busy": "2023-08-14T19:39:53.885717Z",
          "iopub.status.idle": "2023-08-14T20:10:48.349456Z",
          "shell.execute_reply": "2023-08-14T20:10:48.348329Z",
          "shell.execute_reply.started": "2023-08-14T19:39:53.888271Z"
        },
        "id": "NPY3Oegz6uHf",
        "outputId": "5b7b1487-2b79-4fd8-cc0f-aa7399c99a66",
        "trusted": true
      },
      "outputs": [
        {
          "data": {
            "application/vnd.jupyter.widget-view+json": {
              "model_id": "d84575decdfc4348b4c32fa46022b2f4",
              "version_major": 2,
              "version_minor": 0
            },
            "text/plain": [
              "  0%|          | 0/160 [00:00<?, ?ba/s]"
            ]
          },
          "metadata": {},
          "output_type": "display_data"
        },
        {
          "name": "stderr",
          "output_type": "stream",
          "text": [
            "Token indices sequence length is longer than the specified maximum sequence length for this model (529 > 512). Running this sequence through the model will result in indexing errors\n"
          ]
        },
        {
          "data": {
            "application/vnd.jupyter.widget-view+json": {
              "model_id": "cc946a21bb98419dbb3a5d2c167394dd",
              "version_major": 2,
              "version_minor": 0
            },
            "text/plain": [
              "  0%|          | 0/4 [00:00<?, ?ba/s]"
            ]
          },
          "metadata": {},
          "output_type": "display_data"
        },
        {
          "data": {
            "application/vnd.jupyter.widget-view+json": {
              "model_id": "ac597840bc984ed3aaffc21a548045be",
              "version_major": 2,
              "version_minor": 0
            },
            "text/plain": [
              "  0%|          | 0/4 [00:00<?, ?ba/s]"
            ]
          },
          "metadata": {},
          "output_type": "display_data"
        },
        {
          "data": {
            "text/html": [
              "\n",
              "    <div>\n",
              "      \n",
              "      <progress value='3750' max='3750' style='width:300px; height:20px; vertical-align: middle;'></progress>\n",
              "      [3750/3750 28:53, Epoch 1/1]\n",
              "    </div>\n",
              "    <table border=\"1\" class=\"dataframe\">\n",
              "  <thead>\n",
              " <tr style=\"text-align: left;\">\n",
              "      <th>Epoch</th>\n",
              "      <th>Training Loss</th>\n",
              "      <th>Validation Loss</th>\n",
              "      <th>Accuracy</th>\n",
              "    </tr>\n",
              "  </thead>\n",
              "  <tbody>\n",
              "    <tr>\n",
              "      <td>1</td>\n",
              "      <td>0.308000</td>\n",
              "      <td>0.329720</td>\n",
              "      <td>0.896500</td>\n",
              "    </tr>\n",
              "  </tbody>\n",
              "</table><p>"
            ],
            "text/plain": [
              "<IPython.core.display.HTML object>"
            ]
          },
          "metadata": {},
          "output_type": "display_data"
        }
      ],
      "source": [
        "train(amazonEnLanguageModel_two_labels_N_128_M_382, training_args, updatedDataset, 30000, \"amazon\")"
      ]
    },
    {
      "cell_type": "code",
      "execution_count": null,
      "metadata": {
        "execution": {
          "iopub.execute_input": "2023-08-14T20:10:48.356402Z",
          "iopub.status.busy": "2023-08-14T20:10:48.350825Z",
          "iopub.status.idle": "2023-08-14T20:20:07.893913Z",
          "shell.execute_reply": "2023-08-14T20:20:07.892928Z",
          "shell.execute_reply.started": "2023-08-14T20:10:48.356362Z"
        },
        "id": "g-605hAp6uHf",
        "outputId": "78d7a932-c509-47c3-f5b2-e63915789c42",
        "trusted": true
      },
      "outputs": [
        {
          "name": "stdout",
          "output_type": "stream",
          "text": [
            "\u001b[1mbert-base-cased-2-labels-No-Neutral-N-128-M-382-head+tail\u001b[0m\n",
            "Classification Report Translated Test Set\n",
            "+----------+-------------+----------+------------+-----------+\n",
            "| Class    |   Precision |   Recall |   F1-Score |   Support |\n",
            "|----------+-------------+----------+------------+-----------|\n",
            "| Negative |      0.8088 |   0.8934 |     0.8490 |     12500 |\n",
            "| Positive |      0.8810 |   0.7888 |     0.8323 |     12500 |\n",
            "+----------+-------------+----------+------------+-----------+\n",
            "Classification Report Test Set\n",
            "+----------+-------------+----------+------------+-----------+\n",
            "| Class    |   Precision |   Recall |   F1-Score |   Support |\n",
            "|----------+-------------+----------+------------+-----------|\n",
            "| Negative |      0.8617 |   0.9500 |     0.9037 |      2000 |\n",
            "| Positive |      0.9443 |   0.8475 |     0.8933 |      2000 |\n",
            "+----------+-------------+----------+------------+-----------+\n"
          ]
        }
      ],
      "source": [
        "evaluateTranslatedTestSetAndRegularTestSet(amazonEnLanguageModel_two_labels_N_128_M_382, tokenizer, updatedDataset, imdbDataset['test'], targetNames, \"bert-base-cased-2-labels-No-Neutral-N-128-M-382-head+tail\", \"Amazon\", batch_size=8)"
      ]
    },
    {
      "cell_type": "markdown",
      "metadata": {
        "id": "xDJ2HF136uHf"
      },
      "source": [
        "**Two labels No Neutral; N=64, M=64; overall 128 tokens**"
      ]
    },
    {
      "cell_type": "code",
      "execution_count": null,
      "metadata": {
        "execution": {
          "iopub.execute_input": "2023-08-14T20:20:07.899956Z",
          "iopub.status.busy": "2023-08-14T20:20:07.895456Z",
          "iopub.status.idle": "2023-08-14T20:20:07.906880Z",
          "shell.execute_reply": "2023-08-14T20:20:07.905940Z",
          "shell.execute_reply.started": "2023-08-14T20:20:07.899916Z"
        },
        "id": "hNVbKUgC6uHg",
        "trusted": true
      },
      "outputs": [],
      "source": [
        "N = 64\n",
        "M = 64\n",
        "reviewType = \"review_body\""
      ]
    },
    {
      "cell_type": "code",
      "execution_count": null,
      "metadata": {
        "execution": {
          "iopub.execute_input": "2023-08-14T20:20:07.908511Z",
          "iopub.status.busy": "2023-08-14T20:20:07.908181Z",
          "iopub.status.idle": "2023-08-14T20:20:08.969928Z",
          "shell.execute_reply": "2023-08-14T20:20:08.968946Z",
          "shell.execute_reply.started": "2023-08-14T20:20:07.908476Z"
        },
        "id": "8fcIHweh6uHg",
        "outputId": "adac239c-5927-4378-a9e2-50ab401a84b9",
        "trusted": true
      },
      "outputs": [
        {
          "name": "stderr",
          "output_type": "stream",
          "text": [
            "Some weights of the model checkpoint at bert-base-cased were not used when initializing BertForSequenceClassification: ['cls.seq_relationship.bias', 'cls.predictions.transform.dense.weight', 'cls.predictions.transform.dense.bias', 'cls.predictions.transform.LayerNorm.bias', 'cls.predictions.transform.LayerNorm.weight', 'cls.predictions.bias', 'cls.seq_relationship.weight']\n",
            "- This IS expected if you are initializing BertForSequenceClassification from the checkpoint of a model trained on another task or with another architecture (e.g. initializing a BertForSequenceClassification model from a BertForPreTraining model).\n",
            "- This IS NOT expected if you are initializing BertForSequenceClassification from the checkpoint of a model that you expect to be exactly identical (initializing a BertForSequenceClassification model from a BertForSequenceClassification model).\n",
            "Some weights of BertForSequenceClassification were not initialized from the model checkpoint at bert-base-cased and are newly initialized: ['classifier.weight', 'classifier.bias']\n",
            "You should probably TRAIN this model on a down-stream task to be able to use it for predictions and inference.\n"
          ]
        }
      ],
      "source": [
        "amazonEnLanguageModel_two_labels_N_64_M_64 = BertForSequenceClassification.from_pretrained(\"bert-base-cased\", num_labels=numLabels)"
      ]
    },
    {
      "cell_type": "code",
      "execution_count": null,
      "metadata": {
        "execution": {
          "iopub.execute_input": "2023-08-14T20:20:08.976921Z",
          "iopub.status.busy": "2023-08-14T20:20:08.974482Z",
          "iopub.status.idle": "2023-08-14T20:20:08.987139Z",
          "shell.execute_reply": "2023-08-14T20:20:08.986218Z",
          "shell.execute_reply.started": "2023-08-14T20:20:08.976855Z"
        },
        "id": "sNrlGsKs6uHg",
        "trusted": true
      },
      "outputs": [],
      "source": [
        "training_args = TrainingArguments(output_dir=\"test_trainer\", optim=\"adamw_torch\", warmup_steps=10000, num_train_epochs=1, weight_decay=1e-1, evaluation_strategy=\"epoch\", save_strategy = saveStrategy)"
      ]
    },
    {
      "cell_type": "code",
      "execution_count": null,
      "metadata": {
        "colab": {
          "referenced_widgets": [
            "59c5ac78f8f44b8aa27983748ba5ef19",
            "8b5c018a4c3247e2a9f57edf1ac1545c",
            "e2601671ef734841abbc3f96e257fefe"
          ]
        },
        "execution": {
          "iopub.execute_input": "2023-08-14T20:20:08.994465Z",
          "iopub.status.busy": "2023-08-14T20:20:08.991672Z",
          "iopub.status.idle": "2023-08-14T20:29:15.474273Z",
          "shell.execute_reply": "2023-08-14T20:29:15.473172Z",
          "shell.execute_reply.started": "2023-08-14T20:20:08.994411Z"
        },
        "id": "kwZJJT_Y6uHg",
        "outputId": "328d0440-4cb2-411a-e8c8-bed13638fd91",
        "trusted": true
      },
      "outputs": [
        {
          "data": {
            "application/vnd.jupyter.widget-view+json": {
              "model_id": "59c5ac78f8f44b8aa27983748ba5ef19",
              "version_major": 2,
              "version_minor": 0
            },
            "text/plain": [
              "  0%|          | 0/160 [00:00<?, ?ba/s]"
            ]
          },
          "metadata": {},
          "output_type": "display_data"
        },
        {
          "data": {
            "application/vnd.jupyter.widget-view+json": {
              "model_id": "8b5c018a4c3247e2a9f57edf1ac1545c",
              "version_major": 2,
              "version_minor": 0
            },
            "text/plain": [
              "  0%|          | 0/4 [00:00<?, ?ba/s]"
            ]
          },
          "metadata": {},
          "output_type": "display_data"
        },
        {
          "data": {
            "application/vnd.jupyter.widget-view+json": {
              "model_id": "e2601671ef734841abbc3f96e257fefe",
              "version_major": 2,
              "version_minor": 0
            },
            "text/plain": [
              "  0%|          | 0/4 [00:00<?, ?ba/s]"
            ]
          },
          "metadata": {},
          "output_type": "display_data"
        },
        {
          "data": {
            "text/html": [
              "\n",
              "    <div>\n",
              "      \n",
              "      <progress value='3750' max='3750' style='width:300px; height:20px; vertical-align: middle;'></progress>\n",
              "      [3750/3750 07:47, Epoch 1/1]\n",
              "    </div>\n",
              "    <table border=\"1\" class=\"dataframe\">\n",
              "  <thead>\n",
              " <tr style=\"text-align: left;\">\n",
              "      <th>Epoch</th>\n",
              "      <th>Training Loss</th>\n",
              "      <th>Validation Loss</th>\n",
              "      <th>Accuracy</th>\n",
              "    </tr>\n",
              "  </thead>\n",
              "  <tbody>\n",
              "    <tr>\n",
              "      <td>1</td>\n",
              "      <td>0.299200</td>\n",
              "      <td>0.342118</td>\n",
              "      <td>0.903500</td>\n",
              "    </tr>\n",
              "  </tbody>\n",
              "</table><p>"
            ],
            "text/plain": [
              "<IPython.core.display.HTML object>"
            ]
          },
          "metadata": {},
          "output_type": "display_data"
        }
      ],
      "source": [
        "train(amazonEnLanguageModel_two_labels_N_64_M_64, training_args, updatedDataset, 30000, \"amazon\")"
      ]
    },
    {
      "cell_type": "code",
      "execution_count": null,
      "metadata": {
        "execution": {
          "iopub.execute_input": "2023-08-14T20:29:15.476726Z",
          "iopub.status.busy": "2023-08-14T20:29:15.476027Z",
          "iopub.status.idle": "2023-08-14T20:31:58.475976Z",
          "shell.execute_reply": "2023-08-14T20:31:58.474869Z",
          "shell.execute_reply.started": "2023-08-14T20:29:15.476686Z"
        },
        "id": "FlTZdwyC6uHh",
        "outputId": "19a947b5-6793-41d8-c0c6-2c8fa53e59d8",
        "trusted": true
      },
      "outputs": [
        {
          "name": "stdout",
          "output_type": "stream",
          "text": [
            "\u001b[1mbert-base-cased-2-labels-No-Neutral-N-64-M-64-head+tail\u001b[0m\n",
            "Classification Report Translated Test Set\n",
            "+----------+-------------+----------+------------+-----------+\n",
            "| Class    |   Precision |   Recall |   F1-Score |   Support |\n",
            "|----------+-------------+----------+------------+-----------|\n",
            "| Negative |      0.7595 |   0.8519 |     0.8031 |     12500 |\n",
            "| Positive |      0.8314 |   0.7302 |     0.7775 |     12500 |\n",
            "+----------+-------------+----------+------------+-----------+\n",
            "Classification Report Test Set\n",
            "+----------+-------------+----------+------------+-----------+\n",
            "| Class    |   Precision |   Recall |   F1-Score |   Support |\n",
            "|----------+-------------+----------+------------+-----------|\n",
            "| Negative |      0.8773 |   0.9330 |     0.9043 |      2000 |\n",
            "| Positive |      0.9285 |   0.8695 |     0.8980 |      2000 |\n",
            "+----------+-------------+----------+------------+-----------+\n"
          ]
        }
      ],
      "source": [
        "evaluateTranslatedTestSetAndRegularTestSet(amazonEnLanguageModel_two_labels_N_64_M_64, tokenizer, updatedDataset, imdbDataset['test'], targetNames, \"bert-base-cased-2-labels-No-Neutral-N-64-M-64-head+tail\", \"Amazon\", batch_size=8)"
      ]
    },
    {
      "cell_type": "markdown",
      "metadata": {
        "id": "NJv1L6p16uHh"
      },
      "source": [
        "**Two labels No Neutral; N=510, M=0; overall 510 tokens**"
      ]
    },
    {
      "cell_type": "code",
      "execution_count": null,
      "metadata": {
        "execution": {
          "iopub.execute_input": "2023-08-14T20:31:58.478085Z",
          "iopub.status.busy": "2023-08-14T20:31:58.477395Z",
          "iopub.status.idle": "2023-08-14T20:31:58.490127Z",
          "shell.execute_reply": "2023-08-14T20:31:58.489181Z",
          "shell.execute_reply.started": "2023-08-14T20:31:58.478048Z"
        },
        "id": "jClm_77q6uHi",
        "trusted": true
      },
      "outputs": [],
      "source": [
        "N = 510\n",
        "M = 0\n",
        "reviewType = \"review_body\""
      ]
    },
    {
      "cell_type": "code",
      "execution_count": null,
      "metadata": {
        "execution": {
          "iopub.execute_input": "2023-08-14T20:31:58.491433Z",
          "iopub.status.busy": "2023-08-14T20:31:58.491117Z",
          "iopub.status.idle": "2023-08-14T20:31:59.582205Z",
          "shell.execute_reply": "2023-08-14T20:31:59.581076Z",
          "shell.execute_reply.started": "2023-08-14T20:31:58.491400Z"
        },
        "id": "PSXdpqO_6uHj",
        "outputId": "3cee2822-c098-45ca-fc9d-159d7d85d1e7",
        "trusted": true
      },
      "outputs": [
        {
          "name": "stderr",
          "output_type": "stream",
          "text": [
            "Some weights of the model checkpoint at bert-base-cased were not used when initializing BertForSequenceClassification: ['cls.seq_relationship.bias', 'cls.predictions.transform.dense.weight', 'cls.predictions.transform.dense.bias', 'cls.predictions.transform.LayerNorm.bias', 'cls.predictions.transform.LayerNorm.weight', 'cls.predictions.bias', 'cls.seq_relationship.weight']\n",
            "- This IS expected if you are initializing BertForSequenceClassification from the checkpoint of a model trained on another task or with another architecture (e.g. initializing a BertForSequenceClassification model from a BertForPreTraining model).\n",
            "- This IS NOT expected if you are initializing BertForSequenceClassification from the checkpoint of a model that you expect to be exactly identical (initializing a BertForSequenceClassification model from a BertForSequenceClassification model).\n",
            "Some weights of BertForSequenceClassification were not initialized from the model checkpoint at bert-base-cased and are newly initialized: ['classifier.weight', 'classifier.bias']\n",
            "You should probably TRAIN this model on a down-stream task to be able to use it for predictions and inference.\n"
          ]
        }
      ],
      "source": [
        "amazonEnLanguageModel_two_labels_N_510_M_0 = BertForSequenceClassification.from_pretrained(\"bert-base-cased\", num_labels=numLabels)"
      ]
    },
    {
      "cell_type": "code",
      "execution_count": null,
      "metadata": {
        "execution": {
          "iopub.execute_input": "2023-08-14T20:31:59.584506Z",
          "iopub.status.busy": "2023-08-14T20:31:59.583536Z",
          "iopub.status.idle": "2023-08-14T20:31:59.594010Z",
          "shell.execute_reply": "2023-08-14T20:31:59.592974Z",
          "shell.execute_reply.started": "2023-08-14T20:31:59.584469Z"
        },
        "id": "3jZwnWOG6uHk",
        "trusted": true
      },
      "outputs": [],
      "source": [
        "training_args = TrainingArguments(output_dir=\"test_trainer\", optim=\"adamw_torch\", warmup_steps=10000, num_train_epochs=1, weight_decay=1e-1, evaluation_strategy=\"epoch\", save_strategy = saveStrategy)"
      ]
    },
    {
      "cell_type": "code",
      "execution_count": null,
      "metadata": {
        "colab": {
          "referenced_widgets": [
            "4fb4601557124ec5840a161745e9a282",
            "6a9de88d7dbb44dc86b66c2fae5065f4",
            "9d820eac18524be08864e795097829c5"
          ]
        },
        "execution": {
          "iopub.execute_input": "2023-08-14T20:31:59.596271Z",
          "iopub.status.busy": "2023-08-14T20:31:59.595359Z",
          "iopub.status.idle": "2023-08-14T21:02:27.908206Z",
          "shell.execute_reply": "2023-08-14T21:02:27.907087Z",
          "shell.execute_reply.started": "2023-08-14T20:31:59.596237Z"
        },
        "id": "74UE0-gj6uHl",
        "outputId": "f78800cb-4440-4f8c-d993-ba753a147bea",
        "trusted": true
      },
      "outputs": [
        {
          "data": {
            "application/vnd.jupyter.widget-view+json": {
              "model_id": "4fb4601557124ec5840a161745e9a282",
              "version_major": 2,
              "version_minor": 0
            },
            "text/plain": [
              "  0%|          | 0/160 [00:00<?, ?ba/s]"
            ]
          },
          "metadata": {},
          "output_type": "display_data"
        },
        {
          "data": {
            "application/vnd.jupyter.widget-view+json": {
              "model_id": "6a9de88d7dbb44dc86b66c2fae5065f4",
              "version_major": 2,
              "version_minor": 0
            },
            "text/plain": [
              "  0%|          | 0/4 [00:00<?, ?ba/s]"
            ]
          },
          "metadata": {},
          "output_type": "display_data"
        },
        {
          "data": {
            "application/vnd.jupyter.widget-view+json": {
              "model_id": "9d820eac18524be08864e795097829c5",
              "version_major": 2,
              "version_minor": 0
            },
            "text/plain": [
              "  0%|          | 0/4 [00:00<?, ?ba/s]"
            ]
          },
          "metadata": {},
          "output_type": "display_data"
        },
        {
          "data": {
            "text/html": [
              "\n",
              "    <div>\n",
              "      \n",
              "      <progress value='3750' max='3750' style='width:300px; height:20px; vertical-align: middle;'></progress>\n",
              "      [3750/3750 28:30, Epoch 1/1]\n",
              "    </div>\n",
              "    <table border=\"1\" class=\"dataframe\">\n",
              "  <thead>\n",
              " <tr style=\"text-align: left;\">\n",
              "      <th>Epoch</th>\n",
              "      <th>Training Loss</th>\n",
              "      <th>Validation Loss</th>\n",
              "      <th>Accuracy</th>\n",
              "    </tr>\n",
              "  </thead>\n",
              "  <tbody>\n",
              "    <tr>\n",
              "      <td>1</td>\n",
              "      <td>0.311000</td>\n",
              "      <td>0.321706</td>\n",
              "      <td>0.900000</td>\n",
              "    </tr>\n",
              "  </tbody>\n",
              "</table><p>"
            ],
            "text/plain": [
              "<IPython.core.display.HTML object>"
            ]
          },
          "metadata": {},
          "output_type": "display_data"
        }
      ],
      "source": [
        "train(amazonEnLanguageModel_two_labels_N_510_M_0, training_args, updatedDataset, 30000, \"amazon\")"
      ]
    },
    {
      "cell_type": "code",
      "execution_count": null,
      "metadata": {
        "execution": {
          "iopub.execute_input": "2023-08-14T21:02:27.915574Z",
          "iopub.status.busy": "2023-08-14T21:02:27.912996Z",
          "iopub.status.idle": "2023-08-14T21:11:59.417360Z",
          "shell.execute_reply": "2023-08-14T21:11:59.416233Z",
          "shell.execute_reply.started": "2023-08-14T21:02:27.915531Z"
        },
        "id": "HrAanX_26uHm",
        "outputId": "bba22e1f-38af-449f-f47b-94035fb97131",
        "trusted": true
      },
      "outputs": [
        {
          "name": "stdout",
          "output_type": "stream",
          "text": [
            "\u001b[1mbert-base-cased-2-labels-No-Neutral-N-510-M-0-head-only\u001b[0m\n",
            "Classification Report Translated Test Set\n",
            "+----------+-------------+----------+------------+-----------+\n",
            "| Class    |   Precision |   Recall |   F1-Score |   Support |\n",
            "|----------+-------------+----------+------------+-----------|\n",
            "| Negative |      0.7941 |   0.9106 |     0.8484 |     12500 |\n",
            "| Positive |      0.8953 |   0.7638 |     0.8243 |     12500 |\n",
            "+----------+-------------+----------+------------+-----------+\n",
            "Classification Report Test Set\n",
            "+----------+-------------+----------+------------+-----------+\n",
            "| Class    |   Precision |   Recall |   F1-Score |   Support |\n",
            "|----------+-------------+----------+------------+-----------|\n",
            "| Negative |      0.8700 |   0.9535 |     0.9098 |      2000 |\n",
            "| Positive |      0.9486 |   0.8575 |     0.9007 |      2000 |\n",
            "+----------+-------------+----------+------------+-----------+\n"
          ]
        }
      ],
      "source": [
        "evaluateTranslatedTestSetAndRegularTestSet(amazonEnLanguageModel_two_labels_N_510_M_0, tokenizer, updatedDataset, imdbDataset['test'], targetNames, \"bert-base-cased-2-labels-No-Neutral-N-510-M-0-head-only\", \"Amazon\", batch_size=8)"
      ]
    },
    {
      "cell_type": "markdown",
      "metadata": {
        "id": "ksgRNEIK6uHn"
      },
      "source": [
        "**Two labels No Neutral; N=0, M=510; overall 510 tokens**"
      ]
    },
    {
      "cell_type": "code",
      "execution_count": null,
      "metadata": {
        "execution": {
          "iopub.execute_input": "2023-08-14T21:11:59.424769Z",
          "iopub.status.busy": "2023-08-14T21:11:59.422336Z",
          "iopub.status.idle": "2023-08-14T21:11:59.430307Z",
          "shell.execute_reply": "2023-08-14T21:11:59.429252Z",
          "shell.execute_reply.started": "2023-08-14T21:11:59.424732Z"
        },
        "id": "dzZhBsiy6uHo",
        "trusted": true
      },
      "outputs": [],
      "source": [
        "N = 0\n",
        "M = 510\n",
        "reviewType = \"review_body\""
      ]
    },
    {
      "cell_type": "code",
      "execution_count": null,
      "metadata": {
        "execution": {
          "iopub.execute_input": "2023-08-14T21:11:59.432453Z",
          "iopub.status.busy": "2023-08-14T21:11:59.431863Z",
          "iopub.status.idle": "2023-08-14T21:12:00.570274Z",
          "shell.execute_reply": "2023-08-14T21:12:00.566916Z",
          "shell.execute_reply.started": "2023-08-14T21:11:59.432418Z"
        },
        "id": "6e3H9dUJ6uHo",
        "outputId": "617ef4e1-ace6-4c8d-fceb-08db8b8fb291",
        "trusted": true
      },
      "outputs": [
        {
          "name": "stderr",
          "output_type": "stream",
          "text": [
            "Some weights of the model checkpoint at bert-base-cased were not used when initializing BertForSequenceClassification: ['cls.seq_relationship.bias', 'cls.predictions.transform.dense.weight', 'cls.predictions.transform.dense.bias', 'cls.predictions.transform.LayerNorm.bias', 'cls.predictions.transform.LayerNorm.weight', 'cls.predictions.bias', 'cls.seq_relationship.weight']\n",
            "- This IS expected if you are initializing BertForSequenceClassification from the checkpoint of a model trained on another task or with another architecture (e.g. initializing a BertForSequenceClassification model from a BertForPreTraining model).\n",
            "- This IS NOT expected if you are initializing BertForSequenceClassification from the checkpoint of a model that you expect to be exactly identical (initializing a BertForSequenceClassification model from a BertForSequenceClassification model).\n",
            "Some weights of BertForSequenceClassification were not initialized from the model checkpoint at bert-base-cased and are newly initialized: ['classifier.weight', 'classifier.bias']\n",
            "You should probably TRAIN this model on a down-stream task to be able to use it for predictions and inference.\n"
          ]
        }
      ],
      "source": [
        "amazonEnLanguageModel_two_labels_N_0_M_510 = BertForSequenceClassification.from_pretrained(\"bert-base-cased\", num_labels=numLabels)"
      ]
    },
    {
      "cell_type": "code",
      "execution_count": null,
      "metadata": {
        "execution": {
          "iopub.execute_input": "2023-08-14T21:12:00.572079Z",
          "iopub.status.busy": "2023-08-14T21:12:00.571691Z",
          "iopub.status.idle": "2023-08-14T21:12:00.583926Z",
          "shell.execute_reply": "2023-08-14T21:12:00.582386Z",
          "shell.execute_reply.started": "2023-08-14T21:12:00.572040Z"
        },
        "id": "ldDENIDb6uHo",
        "trusted": true
      },
      "outputs": [],
      "source": [
        "training_args = TrainingArguments(output_dir=\"test_trainer\", optim=\"adamw_torch\", warmup_steps=10000, num_train_epochs=1, weight_decay=1e-1, evaluation_strategy=\"epoch\", save_strategy = saveStrategy)"
      ]
    },
    {
      "cell_type": "code",
      "execution_count": null,
      "metadata": {
        "colab": {
          "referenced_widgets": [
            "13d2bc3854cf42afbbb48151307f47f5",
            "a90e6b938a9d40db834429c4fd9684b5",
            "7d5a53ad0a4747769a46e3b239893a93"
          ]
        },
        "execution": {
          "iopub.execute_input": "2023-08-14T21:12:00.586816Z",
          "iopub.status.busy": "2023-08-14T21:12:00.585738Z",
          "iopub.status.idle": "2023-08-14T21:42:31.451237Z",
          "shell.execute_reply": "2023-08-14T21:42:31.449872Z",
          "shell.execute_reply.started": "2023-08-14T21:12:00.586781Z"
        },
        "id": "v9KJnfyI6uHp",
        "outputId": "b2eca849-c44d-45c4-fcd4-f5e78ae349a1",
        "trusted": true
      },
      "outputs": [
        {
          "data": {
            "application/vnd.jupyter.widget-view+json": {
              "model_id": "13d2bc3854cf42afbbb48151307f47f5",
              "version_major": 2,
              "version_minor": 0
            },
            "text/plain": [
              "  0%|          | 0/160 [00:00<?, ?ba/s]"
            ]
          },
          "metadata": {},
          "output_type": "display_data"
        },
        {
          "data": {
            "application/vnd.jupyter.widget-view+json": {
              "model_id": "a90e6b938a9d40db834429c4fd9684b5",
              "version_major": 2,
              "version_minor": 0
            },
            "text/plain": [
              "  0%|          | 0/4 [00:00<?, ?ba/s]"
            ]
          },
          "metadata": {},
          "output_type": "display_data"
        },
        {
          "data": {
            "application/vnd.jupyter.widget-view+json": {
              "model_id": "7d5a53ad0a4747769a46e3b239893a93",
              "version_major": 2,
              "version_minor": 0
            },
            "text/plain": [
              "  0%|          | 0/4 [00:00<?, ?ba/s]"
            ]
          },
          "metadata": {},
          "output_type": "display_data"
        },
        {
          "data": {
            "text/html": [
              "\n",
              "    <div>\n",
              "      \n",
              "      <progress value='3750' max='3750' style='width:300px; height:20px; vertical-align: middle;'></progress>\n",
              "      [3750/3750 28:30, Epoch 1/1]\n",
              "    </div>\n",
              "    <table border=\"1\" class=\"dataframe\">\n",
              "  <thead>\n",
              " <tr style=\"text-align: left;\">\n",
              "      <th>Epoch</th>\n",
              "      <th>Training Loss</th>\n",
              "      <th>Validation Loss</th>\n",
              "      <th>Accuracy</th>\n",
              "    </tr>\n",
              "  </thead>\n",
              "  <tbody>\n",
              "    <tr>\n",
              "      <td>1</td>\n",
              "      <td>0.307900</td>\n",
              "      <td>0.299242</td>\n",
              "      <td>0.903250</td>\n",
              "    </tr>\n",
              "  </tbody>\n",
              "</table><p>"
            ],
            "text/plain": [
              "<IPython.core.display.HTML object>"
            ]
          },
          "metadata": {},
          "output_type": "display_data"
        }
      ],
      "source": [
        "train(amazonEnLanguageModel_two_labels_N_0_M_510, training_args, updatedDataset, 30000, \"amazon\")"
      ]
    },
    {
      "cell_type": "code",
      "execution_count": null,
      "metadata": {
        "execution": {
          "iopub.execute_input": "2023-08-14T21:42:31.453262Z",
          "iopub.status.busy": "2023-08-14T21:42:31.452617Z",
          "iopub.status.idle": "2023-08-14T21:51:51.377448Z",
          "shell.execute_reply": "2023-08-14T21:51:51.376481Z",
          "shell.execute_reply.started": "2023-08-14T21:42:31.453221Z"
        },
        "id": "yPNajSeT6uHp",
        "outputId": "dcb24acb-afe9-49ec-b4ac-f17adaa0e4db",
        "trusted": true
      },
      "outputs": [
        {
          "name": "stdout",
          "output_type": "stream",
          "text": [
            "\u001b[1mbert-base-cased-2-labels-No-Neutral-N-0-M-510-tail-only\u001b[0m\n",
            "Classification Report Translated Test Set\n",
            "+----------+-------------+----------+------------+-----------+\n",
            "| Class    |   Precision |   Recall |   F1-Score |   Support |\n",
            "|----------+-------------+----------+------------+-----------|\n",
            "| Negative |      0.8337 |   0.8861 |     0.8591 |     12500 |\n",
            "| Positive |      0.8784 |   0.8233 |     0.8500 |     12500 |\n",
            "+----------+-------------+----------+------------+-----------+\n",
            "Classification Report Test Set\n",
            "+----------+-------------+----------+------------+-----------+\n",
            "| Class    |   Precision |   Recall |   F1-Score |   Support |\n",
            "|----------+-------------+----------+------------+-----------|\n",
            "| Negative |      0.8733 |   0.9545 |     0.9121 |      2000 |\n",
            "| Positive |      0.9498 |   0.8615 |     0.9035 |      2000 |\n",
            "+----------+-------------+----------+------------+-----------+\n"
          ]
        }
      ],
      "source": [
        "evaluateTranslatedTestSetAndRegularTestSet(amazonEnLanguageModel_two_labels_N_0_M_510, tokenizer, updatedDataset, imdbDataset['test'], targetNames, \"bert-base-cased-2-labels-No-Neutral-N-0-M-510-tail-only\", \"Amazon\", batch_size=8)"
      ]
    },
    {
      "cell_type": "markdown",
      "metadata": {
        "id": "cYCdqpa56uHq"
      },
      "source": [
        "**BERT UNCASED**"
      ]
    },
    {
      "cell_type": "code",
      "execution_count": null,
      "metadata": {
        "colab": {
          "referenced_widgets": [
            "dbf8e1f6b22945a0a407b4dc3b1a2269",
            "73485bc01f1b417aa3e5abdd05b05b6f",
            "fde2239b2b44461e9fe6435ef4332504",
            "6803525f7e88470687c516a802a20b73"
          ]
        },
        "execution": {
          "iopub.execute_input": "2023-08-15T08:18:07.867000Z",
          "iopub.status.busy": "2023-08-15T08:18:07.866394Z",
          "iopub.status.idle": "2023-08-15T08:18:09.184653Z",
          "shell.execute_reply": "2023-08-15T08:18:09.183655Z",
          "shell.execute_reply.started": "2023-08-15T08:18:07.866964Z"
        },
        "id": "OUnEP9046uHq",
        "outputId": "53704eaf-77ff-49dc-81b6-c6fea41f3927",
        "trusted": true
      },
      "outputs": [
        {
          "data": {
            "application/vnd.jupyter.widget-view+json": {
              "model_id": "dbf8e1f6b22945a0a407b4dc3b1a2269",
              "version_major": 2,
              "version_minor": 0
            },
            "text/plain": [
              "Downloading (…)okenizer_config.json:   0%|          | 0.00/28.0 [00:00<?, ?B/s]"
            ]
          },
          "metadata": {},
          "output_type": "display_data"
        },
        {
          "data": {
            "application/vnd.jupyter.widget-view+json": {
              "model_id": "73485bc01f1b417aa3e5abdd05b05b6f",
              "version_major": 2,
              "version_minor": 0
            },
            "text/plain": [
              "Downloading (…)lve/main/config.json:   0%|          | 0.00/570 [00:00<?, ?B/s]"
            ]
          },
          "metadata": {},
          "output_type": "display_data"
        },
        {
          "data": {
            "application/vnd.jupyter.widget-view+json": {
              "model_id": "fde2239b2b44461e9fe6435ef4332504",
              "version_major": 2,
              "version_minor": 0
            },
            "text/plain": [
              "Downloading (…)solve/main/vocab.txt:   0%|          | 0.00/232k [00:00<?, ?B/s]"
            ]
          },
          "metadata": {},
          "output_type": "display_data"
        },
        {
          "data": {
            "application/vnd.jupyter.widget-view+json": {
              "model_id": "6803525f7e88470687c516a802a20b73",
              "version_major": 2,
              "version_minor": 0
            },
            "text/plain": [
              "Downloading (…)/main/tokenizer.json:   0%|          | 0.00/466k [00:00<?, ?B/s]"
            ]
          },
          "metadata": {},
          "output_type": "display_data"
        }
      ],
      "source": [
        "tokenizer = AutoTokenizer.from_pretrained(\"bert-base-uncased\", num_labels=numLabels)"
      ]
    },
    {
      "cell_type": "markdown",
      "metadata": {
        "id": "pWLtwZe96uHq"
      },
      "source": [
        "**Two labels No Neutral; N=128, M=382; overall 510 tokens**"
      ]
    },
    {
      "cell_type": "code",
      "execution_count": null,
      "metadata": {
        "execution": {
          "iopub.execute_input": "2023-08-15T08:18:09.187586Z",
          "iopub.status.busy": "2023-08-15T08:18:09.187239Z",
          "iopub.status.idle": "2023-08-15T08:18:09.194307Z",
          "shell.execute_reply": "2023-08-15T08:18:09.191447Z",
          "shell.execute_reply.started": "2023-08-15T08:18:09.187552Z"
        },
        "id": "aXqWmjzu6uHr",
        "trusted": true
      },
      "outputs": [],
      "source": [
        "N = 128\n",
        "M = 382\n",
        "reviewType = \"review_body\""
      ]
    },
    {
      "cell_type": "code",
      "execution_count": null,
      "metadata": {
        "colab": {
          "referenced_widgets": [
            "667aec5234b64bb1b58c9d4aeb185d69"
          ]
        },
        "execution": {
          "iopub.execute_input": "2023-08-15T08:18:09.197237Z",
          "iopub.status.busy": "2023-08-15T08:18:09.196197Z",
          "iopub.status.idle": "2023-08-15T08:18:13.333000Z",
          "shell.execute_reply": "2023-08-15T08:18:13.332030Z",
          "shell.execute_reply.started": "2023-08-15T08:18:09.197202Z"
        },
        "id": "_LJ78AUj6uHr",
        "outputId": "75c4ccbe-711a-4fc9-ee8d-0971c9c853b8",
        "trusted": true
      },
      "outputs": [
        {
          "data": {
            "application/vnd.jupyter.widget-view+json": {
              "model_id": "667aec5234b64bb1b58c9d4aeb185d69",
              "version_major": 2,
              "version_minor": 0
            },
            "text/plain": [
              "Downloading model.safetensors:   0%|          | 0.00/440M [00:00<?, ?B/s]"
            ]
          },
          "metadata": {},
          "output_type": "display_data"
        },
        {
          "name": "stderr",
          "output_type": "stream",
          "text": [
            "Some weights of the model checkpoint at bert-base-uncased were not used when initializing BertForSequenceClassification: ['cls.predictions.transform.dense.weight', 'cls.seq_relationship.weight', 'cls.predictions.transform.dense.bias', 'cls.predictions.transform.LayerNorm.weight', 'cls.predictions.transform.LayerNorm.bias', 'cls.seq_relationship.bias', 'cls.predictions.bias']\n",
            "- This IS expected if you are initializing BertForSequenceClassification from the checkpoint of a model trained on another task or with another architecture (e.g. initializing a BertForSequenceClassification model from a BertForPreTraining model).\n",
            "- This IS NOT expected if you are initializing BertForSequenceClassification from the checkpoint of a model that you expect to be exactly identical (initializing a BertForSequenceClassification model from a BertForSequenceClassification model).\n",
            "Some weights of BertForSequenceClassification were not initialized from the model checkpoint at bert-base-uncased and are newly initialized: ['classifier.bias', 'classifier.weight']\n",
            "You should probably TRAIN this model on a down-stream task to be able to use it for predictions and inference.\n"
          ]
        }
      ],
      "source": [
        "amazonEnLanguageModel_two_labels_N_128_M_382 = BertForSequenceClassification.from_pretrained(\"bert-base-uncased\", num_labels=numLabels)"
      ]
    },
    {
      "cell_type": "code",
      "execution_count": null,
      "metadata": {
        "execution": {
          "iopub.execute_input": "2023-08-15T08:18:13.335080Z",
          "iopub.status.busy": "2023-08-15T08:18:13.334410Z",
          "iopub.status.idle": "2023-08-15T08:18:13.360773Z",
          "shell.execute_reply": "2023-08-15T08:18:13.359900Z",
          "shell.execute_reply.started": "2023-08-15T08:18:13.335050Z"
        },
        "id": "Rxux_Co56uHr",
        "trusted": true
      },
      "outputs": [],
      "source": [
        "training_args = TrainingArguments(output_dir=\"test_trainer\", optim=\"adamw_torch\", warmup_steps=10000, num_train_epochs=1, weight_decay=1e-1, evaluation_strategy=\"epoch\", save_strategy = saveStrategy)"
      ]
    },
    {
      "cell_type": "code",
      "execution_count": null,
      "metadata": {
        "colab": {
          "referenced_widgets": [
            "e1046fd4f312495fbf8d09237d205e2c",
            "60aa1747d1af4c1aa6184561e3a1ccf5",
            "3f7dd7ead37a49eda36314193c9b8906"
          ]
        },
        "execution": {
          "iopub.execute_input": "2023-08-15T08:18:13.362657Z",
          "iopub.status.busy": "2023-08-15T08:18:13.362288Z",
          "iopub.status.idle": "2023-08-15T08:49:23.338540Z",
          "shell.execute_reply": "2023-08-15T08:49:23.337288Z",
          "shell.execute_reply.started": "2023-08-15T08:18:13.362623Z"
        },
        "id": "SwUVG7j16uHr",
        "outputId": "0e2d84fe-9342-4a98-ecd9-616fceace5d4",
        "trusted": true
      },
      "outputs": [
        {
          "data": {
            "application/vnd.jupyter.widget-view+json": {
              "model_id": "e1046fd4f312495fbf8d09237d205e2c",
              "version_major": 2,
              "version_minor": 0
            },
            "text/plain": [
              "  0%|          | 0/160 [00:00<?, ?ba/s]"
            ]
          },
          "metadata": {},
          "output_type": "display_data"
        },
        {
          "name": "stderr",
          "output_type": "stream",
          "text": [
            "Token indices sequence length is longer than the specified maximum sequence length for this model (520 > 512). Running this sequence through the model will result in indexing errors\n"
          ]
        },
        {
          "data": {
            "application/vnd.jupyter.widget-view+json": {
              "model_id": "60aa1747d1af4c1aa6184561e3a1ccf5",
              "version_major": 2,
              "version_minor": 0
            },
            "text/plain": [
              "  0%|          | 0/4 [00:00<?, ?ba/s]"
            ]
          },
          "metadata": {},
          "output_type": "display_data"
        },
        {
          "data": {
            "application/vnd.jupyter.widget-view+json": {
              "model_id": "3f7dd7ead37a49eda36314193c9b8906",
              "version_major": 2,
              "version_minor": 0
            },
            "text/plain": [
              "  0%|          | 0/4 [00:00<?, ?ba/s]"
            ]
          },
          "metadata": {},
          "output_type": "display_data"
        },
        {
          "name": "stderr",
          "output_type": "stream",
          "text": [
            "\u001b[34m\u001b[1mwandb\u001b[0m: Currently logged in as: \u001b[33mnadav-talmon\u001b[0m (\u001b[33mnadav_igor\u001b[0m). Use \u001b[1m`wandb login --relogin`\u001b[0m to force relogin\n"
          ]
        },
        {
          "data": {
            "text/html": [
              "wandb version 0.15.8 is available!  To upgrade, please run:\n",
              " $ pip install wandb --upgrade"
            ],
            "text/plain": [
              "<IPython.core.display.HTML object>"
            ]
          },
          "metadata": {},
          "output_type": "display_data"
        },
        {
          "data": {
            "text/html": [
              "Tracking run with wandb version 0.15.5"
            ],
            "text/plain": [
              "<IPython.core.display.HTML object>"
            ]
          },
          "metadata": {},
          "output_type": "display_data"
        },
        {
          "data": {
            "text/html": [
              "Run data is saved locally in <code>/kaggle/working/wandb/run-20230815_082024-1nq9j03c</code>"
            ],
            "text/plain": [
              "<IPython.core.display.HTML object>"
            ]
          },
          "metadata": {},
          "output_type": "display_data"
        },
        {
          "data": {
            "text/html": [
              "Syncing run <strong><a href='https://wandb.ai/nadav_igor/huggingface/runs/1nq9j03c' target=\"_blank\">dauntless-oath-40</a></strong> to <a href='https://wandb.ai/nadav_igor/huggingface' target=\"_blank\">Weights & Biases</a> (<a href='https://wandb.me/run' target=\"_blank\">docs</a>)<br/>"
            ],
            "text/plain": [
              "<IPython.core.display.HTML object>"
            ]
          },
          "metadata": {},
          "output_type": "display_data"
        },
        {
          "data": {
            "text/html": [
              " View project at <a href='https://wandb.ai/nadav_igor/huggingface' target=\"_blank\">https://wandb.ai/nadav_igor/huggingface</a>"
            ],
            "text/plain": [
              "<IPython.core.display.HTML object>"
            ]
          },
          "metadata": {},
          "output_type": "display_data"
        },
        {
          "data": {
            "text/html": [
              " View run at <a href='https://wandb.ai/nadav_igor/huggingface/runs/1nq9j03c' target=\"_blank\">https://wandb.ai/nadav_igor/huggingface/runs/1nq9j03c</a>"
            ],
            "text/plain": [
              "<IPython.core.display.HTML object>"
            ]
          },
          "metadata": {},
          "output_type": "display_data"
        },
        {
          "data": {
            "text/html": [
              "\n",
              "    <div>\n",
              "      \n",
              "      <progress value='3750' max='3750' style='width:300px; height:20px; vertical-align: middle;'></progress>\n",
              "      [3750/3750 28:24, Epoch 1/1]\n",
              "    </div>\n",
              "    <table border=\"1\" class=\"dataframe\">\n",
              "  <thead>\n",
              " <tr style=\"text-align: left;\">\n",
              "      <th>Epoch</th>\n",
              "      <th>Training Loss</th>\n",
              "      <th>Validation Loss</th>\n",
              "      <th>Accuracy</th>\n",
              "    </tr>\n",
              "  </thead>\n",
              "  <tbody>\n",
              "    <tr>\n",
              "      <td>1</td>\n",
              "      <td>0.288700</td>\n",
              "      <td>0.293609</td>\n",
              "      <td>0.911250</td>\n",
              "    </tr>\n",
              "  </tbody>\n",
              "</table><p>"
            ],
            "text/plain": [
              "<IPython.core.display.HTML object>"
            ]
          },
          "metadata": {},
          "output_type": "display_data"
        }
      ],
      "source": [
        "train(amazonEnLanguageModel_two_labels_N_128_M_382, training_args, updatedDataset, 30000, \"amazon\")"
      ]
    },
    {
      "cell_type": "code",
      "execution_count": null,
      "metadata": {
        "execution": {
          "iopub.execute_input": "2023-08-15T08:49:23.348795Z",
          "iopub.status.busy": "2023-08-15T08:49:23.346299Z",
          "iopub.status.idle": "2023-08-15T08:58:43.339889Z",
          "shell.execute_reply": "2023-08-15T08:58:43.338939Z",
          "shell.execute_reply.started": "2023-08-15T08:49:23.348764Z"
        },
        "id": "No5sI0ZU6uHr",
        "outputId": "71153ce5-7dbd-4ef8-f006-4bc81aa641d5",
        "trusted": true
      },
      "outputs": [
        {
          "name": "stdout",
          "output_type": "stream",
          "text": [
            "\u001b[1mbert-base-uncased-2-labels-No-Neutral-N-128-M-382-head+tail\u001b[0m\n",
            "Classification Report Translated Test Set\n",
            "+----------+-------------+----------+------------+-----------+\n",
            "| Class    |   Precision |   Recall |   F1-Score |   Support |\n",
            "|----------+-------------+----------+------------+-----------|\n",
            "| Negative |      0.7933 |   0.9484 |     0.8639 |     12500 |\n",
            "| Positive |      0.9359 |   0.7529 |     0.8345 |     12500 |\n",
            "+----------+-------------+----------+------------+-----------+\n",
            "Classification Report Test Set\n",
            "+----------+-------------+----------+------------+-----------+\n",
            "| Class    |   Precision |   Recall |   F1-Score |   Support |\n",
            "|----------+-------------+----------+------------+-----------|\n",
            "| Negative |      0.8770 |   0.9630 |     0.9180 |      2000 |\n",
            "| Positive |      0.9590 |   0.8650 |     0.9096 |      2000 |\n",
            "+----------+-------------+----------+------------+-----------+\n"
          ]
        }
      ],
      "source": [
        "evaluateTranslatedTestSetAndRegularTestSet(amazonEnLanguageModel_two_labels_N_128_M_382, tokenizer, updatedDataset, imdbDataset['test'], targetNames, \"bert-base-uncased-2-labels-No-Neutral-N-128-M-382-head+tail\", \"Amazon\", batch_size=8)"
      ]
    },
    {
      "cell_type": "markdown",
      "metadata": {
        "id": "zREjvqjF6uHr"
      },
      "source": [
        "**Two labels No Neutral; N=64, M=64; overall 128 tokens**"
      ]
    },
    {
      "cell_type": "code",
      "execution_count": null,
      "metadata": {
        "execution": {
          "iopub.execute_input": "2023-08-15T08:58:43.342315Z",
          "iopub.status.busy": "2023-08-15T08:58:43.341595Z",
          "iopub.status.idle": "2023-08-15T08:58:43.347555Z",
          "shell.execute_reply": "2023-08-15T08:58:43.346471Z",
          "shell.execute_reply.started": "2023-08-15T08:58:43.342278Z"
        },
        "id": "ReDuUTp86uHs",
        "trusted": true
      },
      "outputs": [],
      "source": [
        "N = 64\n",
        "M = 64\n",
        "reviewType = \"review_body\""
      ]
    },
    {
      "cell_type": "code",
      "execution_count": null,
      "metadata": {
        "execution": {
          "iopub.execute_input": "2023-08-15T08:58:43.349961Z",
          "iopub.status.busy": "2023-08-15T08:58:43.349217Z",
          "iopub.status.idle": "2023-08-15T08:58:44.748631Z",
          "shell.execute_reply": "2023-08-15T08:58:44.747510Z",
          "shell.execute_reply.started": "2023-08-15T08:58:43.349903Z"
        },
        "id": "yxvLcW1X6uHs",
        "outputId": "5d769051-4832-4c0f-e0da-bc55f6f9ef73",
        "trusted": true
      },
      "outputs": [
        {
          "name": "stderr",
          "output_type": "stream",
          "text": [
            "Some weights of the model checkpoint at bert-base-uncased were not used when initializing BertForSequenceClassification: ['cls.predictions.transform.dense.weight', 'cls.seq_relationship.weight', 'cls.predictions.transform.dense.bias', 'cls.predictions.transform.LayerNorm.weight', 'cls.predictions.transform.LayerNorm.bias', 'cls.seq_relationship.bias', 'cls.predictions.bias']\n",
            "- This IS expected if you are initializing BertForSequenceClassification from the checkpoint of a model trained on another task or with another architecture (e.g. initializing a BertForSequenceClassification model from a BertForPreTraining model).\n",
            "- This IS NOT expected if you are initializing BertForSequenceClassification from the checkpoint of a model that you expect to be exactly identical (initializing a BertForSequenceClassification model from a BertForSequenceClassification model).\n",
            "Some weights of BertForSequenceClassification were not initialized from the model checkpoint at bert-base-uncased and are newly initialized: ['classifier.bias', 'classifier.weight']\n",
            "You should probably TRAIN this model on a down-stream task to be able to use it for predictions and inference.\n"
          ]
        }
      ],
      "source": [
        "amazonEnLanguageModel_two_labels_N_64_M_64 = BertForSequenceClassification.from_pretrained(\"bert-base-uncased\", num_labels=numLabels)"
      ]
    },
    {
      "cell_type": "code",
      "execution_count": null,
      "metadata": {
        "execution": {
          "iopub.execute_input": "2023-08-15T08:58:44.751092Z",
          "iopub.status.busy": "2023-08-15T08:58:44.750322Z",
          "iopub.status.idle": "2023-08-15T08:58:44.762904Z",
          "shell.execute_reply": "2023-08-15T08:58:44.761688Z",
          "shell.execute_reply.started": "2023-08-15T08:58:44.751034Z"
        },
        "id": "Rs3s_3PM6uHs",
        "trusted": true
      },
      "outputs": [],
      "source": [
        "training_args = TrainingArguments(output_dir=\"test_trainer\", optim=\"adamw_torch\", warmup_steps=10000, num_train_epochs=1, weight_decay=1e-1, evaluation_strategy=\"epoch\", save_strategy = saveStrategy)"
      ]
    },
    {
      "cell_type": "code",
      "execution_count": null,
      "metadata": {
        "colab": {
          "referenced_widgets": [
            "7fb49edc1baf4057a2e864917586e0d3",
            "7e80590b690b4999a209d65074fc5459",
            "69a3678531fd4fe8a34a6395b999c2de"
          ]
        },
        "execution": {
          "iopub.execute_input": "2023-08-15T08:58:44.765244Z",
          "iopub.status.busy": "2023-08-15T08:58:44.764630Z",
          "iopub.status.idle": "2023-08-15T09:07:58.915076Z",
          "shell.execute_reply": "2023-08-15T09:07:58.913920Z",
          "shell.execute_reply.started": "2023-08-15T08:58:44.765210Z"
        },
        "id": "tl2GRTeP6uHs",
        "outputId": "a582d069-cb02-41e1-d1b0-f3fbf5dcfca3",
        "trusted": true
      },
      "outputs": [
        {
          "data": {
            "application/vnd.jupyter.widget-view+json": {
              "model_id": "7fb49edc1baf4057a2e864917586e0d3",
              "version_major": 2,
              "version_minor": 0
            },
            "text/plain": [
              "  0%|          | 0/160 [00:00<?, ?ba/s]"
            ]
          },
          "metadata": {},
          "output_type": "display_data"
        },
        {
          "data": {
            "application/vnd.jupyter.widget-view+json": {
              "model_id": "7e80590b690b4999a209d65074fc5459",
              "version_major": 2,
              "version_minor": 0
            },
            "text/plain": [
              "  0%|          | 0/4 [00:00<?, ?ba/s]"
            ]
          },
          "metadata": {},
          "output_type": "display_data"
        },
        {
          "data": {
            "application/vnd.jupyter.widget-view+json": {
              "model_id": "69a3678531fd4fe8a34a6395b999c2de",
              "version_major": 2,
              "version_minor": 0
            },
            "text/plain": [
              "  0%|          | 0/4 [00:00<?, ?ba/s]"
            ]
          },
          "metadata": {},
          "output_type": "display_data"
        },
        {
          "data": {
            "text/html": [
              "\n",
              "    <div>\n",
              "      \n",
              "      <progress value='3750' max='3750' style='width:300px; height:20px; vertical-align: middle;'></progress>\n",
              "      [3750/3750 07:49, Epoch 1/1]\n",
              "    </div>\n",
              "    <table border=\"1\" class=\"dataframe\">\n",
              "  <thead>\n",
              " <tr style=\"text-align: left;\">\n",
              "      <th>Epoch</th>\n",
              "      <th>Training Loss</th>\n",
              "      <th>Validation Loss</th>\n",
              "      <th>Accuracy</th>\n",
              "    </tr>\n",
              "  </thead>\n",
              "  <tbody>\n",
              "    <tr>\n",
              "      <td>1</td>\n",
              "      <td>0.295500</td>\n",
              "      <td>0.292710</td>\n",
              "      <td>0.910750</td>\n",
              "    </tr>\n",
              "  </tbody>\n",
              "</table><p>"
            ],
            "text/plain": [
              "<IPython.core.display.HTML object>"
            ]
          },
          "metadata": {},
          "output_type": "display_data"
        }
      ],
      "source": [
        "train(amazonEnLanguageModel_two_labels_N_64_M_64, training_args, updatedDataset, 30000, \"amazon\")"
      ]
    },
    {
      "cell_type": "code",
      "execution_count": null,
      "metadata": {
        "execution": {
          "iopub.execute_input": "2023-08-15T09:07:58.922307Z",
          "iopub.status.busy": "2023-08-15T09:07:58.918602Z",
          "iopub.status.idle": "2023-08-15T09:10:46.465858Z",
          "shell.execute_reply": "2023-08-15T09:10:46.464743Z",
          "shell.execute_reply.started": "2023-08-15T09:07:58.922265Z"
        },
        "id": "VoMskB836uHs",
        "outputId": "36a58bf3-612c-4047-ea9a-78ee04faf87e",
        "trusted": true
      },
      "outputs": [
        {
          "name": "stdout",
          "output_type": "stream",
          "text": [
            "\u001b[1mbert-base-uncased-2-labels-No-Neutral-N-64-M-64-head+tail\u001b[0m\n",
            "Classification Report Translated Test Set\n",
            "+----------+-------------+----------+------------+-----------+\n",
            "| Class    |   Precision |   Recall |   F1-Score |   Support |\n",
            "|----------+-------------+----------+------------+-----------|\n",
            "| Negative |      0.7934 |   0.8887 |     0.8384 |     12500 |\n",
            "| Positive |      0.8735 |   0.7686 |     0.8177 |     12500 |\n",
            "+----------+-------------+----------+------------+-----------+\n",
            "Classification Report Test Set\n",
            "+----------+-------------+----------+------------+-----------+\n",
            "| Class    |   Precision |   Recall |   F1-Score |   Support |\n",
            "|----------+-------------+----------+------------+-----------|\n",
            "| Negative |      0.8894 |   0.9445 |     0.9161 |      2000 |\n",
            "| Positive |      0.9408 |   0.8825 |     0.9107 |      2000 |\n",
            "+----------+-------------+----------+------------+-----------+\n"
          ]
        }
      ],
      "source": [
        "evaluateTranslatedTestSetAndRegularTestSet(amazonEnLanguageModel_two_labels_N_64_M_64, tokenizer, updatedDataset, imdbDataset['test'], targetNames, \"bert-base-uncased-2-labels-No-Neutral-N-64-M-64-head+tail\", \"Amazon\", batch_size=8)"
      ]
    },
    {
      "cell_type": "markdown",
      "metadata": {
        "id": "VY354-2J6uHs"
      },
      "source": [
        "**Two labels No Neutral; N=510, M=0; overall 510 tokens**"
      ]
    },
    {
      "cell_type": "code",
      "execution_count": null,
      "metadata": {
        "execution": {
          "iopub.execute_input": "2023-08-15T09:10:46.471651Z",
          "iopub.status.busy": "2023-08-15T09:10:46.471002Z",
          "iopub.status.idle": "2023-08-15T09:10:46.477225Z",
          "shell.execute_reply": "2023-08-15T09:10:46.476278Z",
          "shell.execute_reply.started": "2023-08-15T09:10:46.471615Z"
        },
        "id": "0mBwZzuD6uHt",
        "trusted": true
      },
      "outputs": [],
      "source": [
        "N = 510\n",
        "M = 0\n",
        "reviewType = \"review_body\""
      ]
    },
    {
      "cell_type": "code",
      "execution_count": null,
      "metadata": {
        "execution": {
          "iopub.execute_input": "2023-08-15T09:10:46.478520Z",
          "iopub.status.busy": "2023-08-15T09:10:46.478195Z",
          "iopub.status.idle": "2023-08-15T09:10:47.701569Z",
          "shell.execute_reply": "2023-08-15T09:10:47.700588Z",
          "shell.execute_reply.started": "2023-08-15T09:10:46.478487Z"
        },
        "id": "pC4rslk66uHt",
        "outputId": "d7d72011-dfde-4003-bf44-c4ca5f73824b",
        "trusted": true
      },
      "outputs": [
        {
          "name": "stderr",
          "output_type": "stream",
          "text": [
            "Some weights of the model checkpoint at bert-base-uncased were not used when initializing BertForSequenceClassification: ['cls.predictions.transform.dense.weight', 'cls.seq_relationship.weight', 'cls.predictions.transform.dense.bias', 'cls.predictions.transform.LayerNorm.weight', 'cls.predictions.transform.LayerNorm.bias', 'cls.seq_relationship.bias', 'cls.predictions.bias']\n",
            "- This IS expected if you are initializing BertForSequenceClassification from the checkpoint of a model trained on another task or with another architecture (e.g. initializing a BertForSequenceClassification model from a BertForPreTraining model).\n",
            "- This IS NOT expected if you are initializing BertForSequenceClassification from the checkpoint of a model that you expect to be exactly identical (initializing a BertForSequenceClassification model from a BertForSequenceClassification model).\n",
            "Some weights of BertForSequenceClassification were not initialized from the model checkpoint at bert-base-uncased and are newly initialized: ['classifier.bias', 'classifier.weight']\n",
            "You should probably TRAIN this model on a down-stream task to be able to use it for predictions and inference.\n"
          ]
        }
      ],
      "source": [
        "amazonEnLanguageModel_two_labels_N_510_M_0 = BertForSequenceClassification.from_pretrained(\"bert-base-uncased\", num_labels=numLabels)"
      ]
    },
    {
      "cell_type": "code",
      "execution_count": null,
      "metadata": {
        "execution": {
          "iopub.execute_input": "2023-08-15T09:10:47.708852Z",
          "iopub.status.busy": "2023-08-15T09:10:47.708225Z",
          "iopub.status.idle": "2023-08-15T09:10:47.718774Z",
          "shell.execute_reply": "2023-08-15T09:10:47.717797Z",
          "shell.execute_reply.started": "2023-08-15T09:10:47.708814Z"
        },
        "id": "luef31OY6uHt",
        "trusted": true
      },
      "outputs": [],
      "source": [
        "training_args = TrainingArguments(output_dir=\"test_trainer\", optim=\"adamw_torch\", warmup_steps=10000, num_train_epochs=1, weight_decay=1e-1, evaluation_strategy=\"epoch\", save_strategy = saveStrategy)"
      ]
    },
    {
      "cell_type": "code",
      "execution_count": null,
      "metadata": {
        "colab": {
          "referenced_widgets": [
            "e35d8713d56f437781a528c8f4219dc6",
            "e58c966698d24ea6879ea09575ef5d48",
            "3fcdbac47d7c407f879ab2eb1280b130"
          ]
        },
        "execution": {
          "iopub.execute_input": "2023-08-15T09:10:47.721319Z",
          "iopub.status.busy": "2023-08-15T09:10:47.720389Z",
          "iopub.status.idle": "2023-08-15T09:41:17.794705Z",
          "shell.execute_reply": "2023-08-15T09:41:17.793147Z",
          "shell.execute_reply.started": "2023-08-15T09:10:47.721121Z"
        },
        "id": "mIYHbT3_6uHt",
        "outputId": "bc8f2904-0f50-4c6b-b0af-6bcedecb7f2d",
        "trusted": true
      },
      "outputs": [
        {
          "data": {
            "application/vnd.jupyter.widget-view+json": {
              "model_id": "e35d8713d56f437781a528c8f4219dc6",
              "version_major": 2,
              "version_minor": 0
            },
            "text/plain": [
              "  0%|          | 0/160 [00:00<?, ?ba/s]"
            ]
          },
          "metadata": {},
          "output_type": "display_data"
        },
        {
          "data": {
            "application/vnd.jupyter.widget-view+json": {
              "model_id": "e58c966698d24ea6879ea09575ef5d48",
              "version_major": 2,
              "version_minor": 0
            },
            "text/plain": [
              "  0%|          | 0/4 [00:00<?, ?ba/s]"
            ]
          },
          "metadata": {},
          "output_type": "display_data"
        },
        {
          "data": {
            "application/vnd.jupyter.widget-view+json": {
              "model_id": "3fcdbac47d7c407f879ab2eb1280b130",
              "version_major": 2,
              "version_minor": 0
            },
            "text/plain": [
              "  0%|          | 0/4 [00:00<?, ?ba/s]"
            ]
          },
          "metadata": {},
          "output_type": "display_data"
        },
        {
          "data": {
            "text/html": [
              "\n",
              "    <div>\n",
              "      \n",
              "      <progress value='3750' max='3750' style='width:300px; height:20px; vertical-align: middle;'></progress>\n",
              "      [3750/3750 28:24, Epoch 1/1]\n",
              "    </div>\n",
              "    <table border=\"1\" class=\"dataframe\">\n",
              "  <thead>\n",
              " <tr style=\"text-align: left;\">\n",
              "      <th>Epoch</th>\n",
              "      <th>Training Loss</th>\n",
              "      <th>Validation Loss</th>\n",
              "      <th>Accuracy</th>\n",
              "    </tr>\n",
              "  </thead>\n",
              "  <tbody>\n",
              "    <tr>\n",
              "      <td>1</td>\n",
              "      <td>0.294700</td>\n",
              "      <td>0.278233</td>\n",
              "      <td>0.910750</td>\n",
              "    </tr>\n",
              "  </tbody>\n",
              "</table><p>"
            ],
            "text/plain": [
              "<IPython.core.display.HTML object>"
            ]
          },
          "metadata": {},
          "output_type": "display_data"
        }
      ],
      "source": [
        "train(amazonEnLanguageModel_two_labels_N_510_M_0, training_args, updatedDataset, 30000, \"amazon\")"
      ]
    },
    {
      "cell_type": "code",
      "execution_count": null,
      "metadata": {
        "execution": {
          "iopub.execute_input": "2023-08-15T09:41:17.799397Z",
          "iopub.status.busy": "2023-08-15T09:41:17.798332Z",
          "iopub.status.idle": "2023-08-15T09:50:49.933975Z",
          "shell.execute_reply": "2023-08-15T09:50:49.932846Z",
          "shell.execute_reply.started": "2023-08-15T09:41:17.799358Z"
        },
        "id": "g1nXx5-n6uHt",
        "outputId": "fe9d42d7-55aa-40f0-bb78-494f726f93cf",
        "trusted": true
      },
      "outputs": [
        {
          "name": "stdout",
          "output_type": "stream",
          "text": [
            "\u001b[1mbert-base-uncased-2-labels-No-Neutral-N-510-M-0-head-only\u001b[0m\n",
            "Classification Report Translated Test Set\n",
            "+----------+-------------+----------+------------+-----------+\n",
            "| Class    |   Precision |   Recall |   F1-Score |   Support |\n",
            "|----------+-------------+----------+------------+-----------|\n",
            "| Negative |      0.8389 |   0.9046 |     0.8705 |     12500 |\n",
            "| Positive |      0.8965 |   0.8263 |     0.8600 |     12500 |\n",
            "+----------+-------------+----------+------------+-----------+\n",
            "Classification Report Test Set\n",
            "+----------+-------------+----------+------------+-----------+\n",
            "| Class    |   Precision |   Recall |   F1-Score |   Support |\n",
            "|----------+-------------+----------+------------+-----------|\n",
            "| Negative |      0.8840 |   0.9560 |     0.9186 |      2000 |\n",
            "| Positive |      0.9521 |   0.8745 |     0.9116 |      2000 |\n",
            "+----------+-------------+----------+------------+-----------+\n"
          ]
        }
      ],
      "source": [
        "evaluateTranslatedTestSetAndRegularTestSet(amazonEnLanguageModel_two_labels_N_510_M_0, tokenizer, updatedDataset, imdbDataset['test'], targetNames, \"bert-base-uncased-2-labels-No-Neutral-N-510-M-0-head-only\", \"Amazon\", batch_size=8)"
      ]
    },
    {
      "cell_type": "markdown",
      "metadata": {
        "id": "ko7chqaC6uHt"
      },
      "source": [
        "**Two labels No Neutral; N=0, M=510; overall 510 tokens**"
      ]
    },
    {
      "cell_type": "code",
      "execution_count": null,
      "metadata": {
        "execution": {
          "iopub.execute_input": "2023-08-15T09:50:49.940711Z",
          "iopub.status.busy": "2023-08-15T09:50:49.938546Z",
          "iopub.status.idle": "2023-08-15T09:50:49.946803Z",
          "shell.execute_reply": "2023-08-15T09:50:49.945553Z",
          "shell.execute_reply.started": "2023-08-15T09:50:49.940682Z"
        },
        "id": "cvw40ou06uHt",
        "trusted": true
      },
      "outputs": [],
      "source": [
        "N = 0\n",
        "M = 510\n",
        "reviewType = \"review_body\""
      ]
    },
    {
      "cell_type": "code",
      "execution_count": null,
      "metadata": {
        "execution": {
          "iopub.execute_input": "2023-08-15T09:50:49.948744Z",
          "iopub.status.busy": "2023-08-15T09:50:49.948401Z",
          "iopub.status.idle": "2023-08-15T09:50:51.144703Z",
          "shell.execute_reply": "2023-08-15T09:50:51.143707Z",
          "shell.execute_reply.started": "2023-08-15T09:50:49.948712Z"
        },
        "id": "QoYt-NV16uHt",
        "outputId": "4833b8ac-6252-4829-c75a-20873bbb000a",
        "trusted": true
      },
      "outputs": [
        {
          "name": "stderr",
          "output_type": "stream",
          "text": [
            "Some weights of the model checkpoint at bert-base-uncased were not used when initializing BertForSequenceClassification: ['cls.predictions.transform.dense.weight', 'cls.seq_relationship.weight', 'cls.predictions.transform.dense.bias', 'cls.predictions.transform.LayerNorm.weight', 'cls.predictions.transform.LayerNorm.bias', 'cls.seq_relationship.bias', 'cls.predictions.bias']\n",
            "- This IS expected if you are initializing BertForSequenceClassification from the checkpoint of a model trained on another task or with another architecture (e.g. initializing a BertForSequenceClassification model from a BertForPreTraining model).\n",
            "- This IS NOT expected if you are initializing BertForSequenceClassification from the checkpoint of a model that you expect to be exactly identical (initializing a BertForSequenceClassification model from a BertForSequenceClassification model).\n",
            "Some weights of BertForSequenceClassification were not initialized from the model checkpoint at bert-base-uncased and are newly initialized: ['classifier.bias', 'classifier.weight']\n",
            "You should probably TRAIN this model on a down-stream task to be able to use it for predictions and inference.\n"
          ]
        }
      ],
      "source": [
        "amazonEnLanguageModel_two_labels_N_0_M_510 = BertForSequenceClassification.from_pretrained(\"bert-base-uncased\", num_labels=numLabels)"
      ]
    },
    {
      "cell_type": "code",
      "execution_count": null,
      "metadata": {
        "execution": {
          "iopub.execute_input": "2023-08-15T09:50:51.147271Z",
          "iopub.status.busy": "2023-08-15T09:50:51.146529Z",
          "iopub.status.idle": "2023-08-15T09:50:51.159091Z",
          "shell.execute_reply": "2023-08-15T09:50:51.158090Z",
          "shell.execute_reply.started": "2023-08-15T09:50:51.147231Z"
        },
        "id": "_T1i3jk26uHt",
        "trusted": true
      },
      "outputs": [],
      "source": [
        "training_args = TrainingArguments(output_dir=\"test_trainer\", optim=\"adamw_torch\", warmup_steps=10000, num_train_epochs=1, weight_decay=1e-1, evaluation_strategy=\"epoch\", save_strategy = saveStrategy)"
      ]
    },
    {
      "cell_type": "code",
      "execution_count": null,
      "metadata": {
        "colab": {
          "referenced_widgets": [
            "3d62bc9af9734df5856203cf9742e666",
            "8ccfeb1321f94d5cb57582deade92826",
            "cba3c6256e2b40c8a81bd422fa09f6a7"
          ]
        },
        "execution": {
          "iopub.execute_input": "2023-08-15T09:50:51.161400Z",
          "iopub.status.busy": "2023-08-15T09:50:51.160713Z",
          "iopub.status.idle": "2023-08-15T10:21:21.136240Z",
          "shell.execute_reply": "2023-08-15T10:21:21.135114Z",
          "shell.execute_reply.started": "2023-08-15T09:50:51.161354Z"
        },
        "id": "cNRMhZm36uHt",
        "outputId": "028174fb-8fa0-4009-a229-8ae8db273784",
        "trusted": true
      },
      "outputs": [
        {
          "data": {
            "application/vnd.jupyter.widget-view+json": {
              "model_id": "3d62bc9af9734df5856203cf9742e666",
              "version_major": 2,
              "version_minor": 0
            },
            "text/plain": [
              "  0%|          | 0/160 [00:00<?, ?ba/s]"
            ]
          },
          "metadata": {},
          "output_type": "display_data"
        },
        {
          "data": {
            "application/vnd.jupyter.widget-view+json": {
              "model_id": "8ccfeb1321f94d5cb57582deade92826",
              "version_major": 2,
              "version_minor": 0
            },
            "text/plain": [
              "  0%|          | 0/4 [00:00<?, ?ba/s]"
            ]
          },
          "metadata": {},
          "output_type": "display_data"
        },
        {
          "data": {
            "application/vnd.jupyter.widget-view+json": {
              "model_id": "cba3c6256e2b40c8a81bd422fa09f6a7",
              "version_major": 2,
              "version_minor": 0
            },
            "text/plain": [
              "  0%|          | 0/4 [00:00<?, ?ba/s]"
            ]
          },
          "metadata": {},
          "output_type": "display_data"
        },
        {
          "data": {
            "text/html": [
              "\n",
              "    <div>\n",
              "      \n",
              "      <progress value='3750' max='3750' style='width:300px; height:20px; vertical-align: middle;'></progress>\n",
              "      [3750/3750 28:24, Epoch 1/1]\n",
              "    </div>\n",
              "    <table border=\"1\" class=\"dataframe\">\n",
              "  <thead>\n",
              " <tr style=\"text-align: left;\">\n",
              "      <th>Epoch</th>\n",
              "      <th>Training Loss</th>\n",
              "      <th>Validation Loss</th>\n",
              "      <th>Accuracy</th>\n",
              "    </tr>\n",
              "  </thead>\n",
              "  <tbody>\n",
              "    <tr>\n",
              "      <td>1</td>\n",
              "      <td>0.301900</td>\n",
              "      <td>0.274651</td>\n",
              "      <td>0.912750</td>\n",
              "    </tr>\n",
              "  </tbody>\n",
              "</table><p>"
            ],
            "text/plain": [
              "<IPython.core.display.HTML object>"
            ]
          },
          "metadata": {},
          "output_type": "display_data"
        }
      ],
      "source": [
        "train(amazonEnLanguageModel_two_labels_N_0_M_510, training_args, updatedDataset, 30000, \"amazon\")"
      ]
    },
    {
      "cell_type": "code",
      "execution_count": null,
      "metadata": {
        "execution": {
          "iopub.execute_input": "2023-08-15T10:21:21.138462Z",
          "iopub.status.busy": "2023-08-15T10:21:21.137828Z",
          "iopub.status.idle": "2023-08-15T10:30:41.685576Z",
          "shell.execute_reply": "2023-08-15T10:30:41.684670Z",
          "shell.execute_reply.started": "2023-08-15T10:21:21.138427Z"
        },
        "id": "YmpMhrJY6uHu",
        "outputId": "17f92326-a7aa-4032-f942-daf4ef46a512",
        "trusted": true
      },
      "outputs": [
        {
          "name": "stdout",
          "output_type": "stream",
          "text": [
            "\u001b[1mbert-base-uncased-2-labels-No-Neutral-N-0-M-510-tail-only\u001b[0m\n",
            "Classification Report Translated Test Set\n",
            "+----------+-------------+----------+------------+-----------+\n",
            "| Class    |   Precision |   Recall |   F1-Score |   Support |\n",
            "|----------+-------------+----------+------------+-----------|\n",
            "| Negative |      0.8305 |   0.9261 |     0.8757 |     12500 |\n",
            "| Positive |      0.9165 |   0.8110 |     0.8605 |     12500 |\n",
            "+----------+-------------+----------+------------+-----------+\n",
            "Classification Report Test Set\n",
            "+----------+-------------+----------+------------+-----------+\n",
            "| Class    |   Precision |   Recall |   F1-Score |   Support |\n",
            "|----------+-------------+----------+------------+-----------|\n",
            "| Negative |      0.8927 |   0.9525 |     0.9216 |      2000 |\n",
            "| Positive |      0.9491 |   0.8855 |     0.9162 |      2000 |\n",
            "+----------+-------------+----------+------------+-----------+\n"
          ]
        }
      ],
      "source": [
        "evaluateTranslatedTestSetAndRegularTestSet(amazonEnLanguageModel_two_labels_N_0_M_510, tokenizer, updatedDataset, imdbDataset['test'], targetNames, \"bert-base-uncased-2-labels-No-Neutral-N-0-M-510-tail-only\", \"Amazon\", batch_size=8)"
      ]
    },
    {
      "cell_type": "markdown",
      "metadata": {
        "id": "ORTAqWWe6uHu"
      },
      "source": [
        "**XLNET AMAZON TWO LABELS NO NEUTRAL**"
      ]
    },
    {
      "cell_type": "markdown",
      "metadata": {
        "id": "Taki1SMc6uHu"
      },
      "source": [
        "**Two labels No Neutral; N=128, M=382; overall 510 tokens**"
      ]
    },
    {
      "cell_type": "code",
      "execution_count": null,
      "metadata": {
        "execution": {
          "iopub.execute_input": "2023-08-15T11:35:01.364464Z",
          "iopub.status.busy": "2023-08-15T11:35:01.363998Z",
          "iopub.status.idle": "2023-08-15T11:35:01.369444Z",
          "shell.execute_reply": "2023-08-15T11:35:01.368291Z",
          "shell.execute_reply.started": "2023-08-15T11:35:01.364424Z"
        },
        "id": "7NjTKaz96uHu",
        "trusted": true
      },
      "outputs": [],
      "source": [
        "N = 128\n",
        "M = 382\n",
        "reviewType = \"review_body\""
      ]
    },
    {
      "cell_type": "code",
      "execution_count": null,
      "metadata": {
        "colab": {
          "referenced_widgets": [
            "fa06ea8801cc45a1939670dc2fa72f18",
            "a48067d9254143eaa2acfcf2c3a56a8e",
            "0240a9d7bcdc4aa8ad414dd7ca6626eb",
            "16d81983ddc14034bdd90d85fbc2dc4a"
          ]
        },
        "execution": {
          "iopub.execute_input": "2023-08-15T11:35:01.371341Z",
          "iopub.status.busy": "2023-08-15T11:35:01.370933Z",
          "iopub.status.idle": "2023-08-15T11:35:21.431594Z",
          "shell.execute_reply": "2023-08-15T11:35:21.430674Z",
          "shell.execute_reply.started": "2023-08-15T11:35:01.371310Z"
        },
        "id": "bXqPbBpT6uHu",
        "outputId": "2bb9e711-2e76-4101-e52a-5bbccd886e32",
        "trusted": true
      },
      "outputs": [
        {
          "data": {
            "application/vnd.jupyter.widget-view+json": {
              "model_id": "fa06ea8801cc45a1939670dc2fa72f18",
              "version_major": 2,
              "version_minor": 0
            },
            "text/plain": [
              "Downloading (…)lve/main/config.json:   0%|          | 0.00/760 [00:00<?, ?B/s]"
            ]
          },
          "metadata": {},
          "output_type": "display_data"
        },
        {
          "data": {
            "application/vnd.jupyter.widget-view+json": {
              "model_id": "a48067d9254143eaa2acfcf2c3a56a8e",
              "version_major": 2,
              "version_minor": 0
            },
            "text/plain": [
              "Downloading (…)ve/main/spiece.model:   0%|          | 0.00/798k [00:00<?, ?B/s]"
            ]
          },
          "metadata": {},
          "output_type": "display_data"
        },
        {
          "data": {
            "application/vnd.jupyter.widget-view+json": {
              "model_id": "0240a9d7bcdc4aa8ad414dd7ca6626eb",
              "version_major": 2,
              "version_minor": 0
            },
            "text/plain": [
              "Downloading (…)/main/tokenizer.json:   0%|          | 0.00/1.38M [00:00<?, ?B/s]"
            ]
          },
          "metadata": {},
          "output_type": "display_data"
        },
        {
          "data": {
            "application/vnd.jupyter.widget-view+json": {
              "model_id": "16d81983ddc14034bdd90d85fbc2dc4a",
              "version_major": 2,
              "version_minor": 0
            },
            "text/plain": [
              "Downloading pytorch_model.bin:   0%|          | 0.00/467M [00:00<?, ?B/s]"
            ]
          },
          "metadata": {},
          "output_type": "display_data"
        },
        {
          "name": "stderr",
          "output_type": "stream",
          "text": [
            "Some weights of the model checkpoint at xlnet-base-cased were not used when initializing XLNetForSequenceClassification: ['lm_loss.bias', 'lm_loss.weight']\n",
            "- This IS expected if you are initializing XLNetForSequenceClassification from the checkpoint of a model trained on another task or with another architecture (e.g. initializing a BertForSequenceClassification model from a BertForPreTraining model).\n",
            "- This IS NOT expected if you are initializing XLNetForSequenceClassification from the checkpoint of a model that you expect to be exactly identical (initializing a BertForSequenceClassification model from a BertForSequenceClassification model).\n",
            "Some weights of XLNetForSequenceClassification were not initialized from the model checkpoint at xlnet-base-cased and are newly initialized: ['sequence_summary.summary.weight', 'logits_proj.bias', 'sequence_summary.summary.bias', 'logits_proj.weight']\n",
            "You should probably TRAIN this model on a down-stream task to be able to use it for predictions and inference.\n"
          ]
        }
      ],
      "source": [
        "tokenizer = AutoTokenizer.from_pretrained(\"xlnet-base-cased\", num_labels=numLabels)\n",
        "XLNETModel_N_128_M_382 = XLNetForSequenceClassification.from_pretrained(\"xlnet-base-cased\", num_labels=numLabels)"
      ]
    },
    {
      "cell_type": "code",
      "execution_count": null,
      "metadata": {
        "execution": {
          "iopub.execute_input": "2023-08-15T11:35:21.437182Z",
          "iopub.status.busy": "2023-08-15T11:35:21.436884Z",
          "iopub.status.idle": "2023-08-15T11:35:21.464770Z",
          "shell.execute_reply": "2023-08-15T11:35:21.463265Z",
          "shell.execute_reply.started": "2023-08-15T11:35:21.437154Z"
        },
        "id": "9peSriSd6uHu",
        "trusted": true
      },
      "outputs": [],
      "source": [
        "training_args = TrainingArguments(output_dir=\"test_trainer\", optim=\"adamw_torch\", warmup_steps=10000, num_train_epochs=1, weight_decay=1e-1, evaluation_strategy=\"epoch\", save_strategy = saveStrategy)"
      ]
    },
    {
      "cell_type": "code",
      "execution_count": null,
      "metadata": {
        "colab": {
          "referenced_widgets": [
            "b452af6e82ff485a9fa94a32652e5d2a",
            "6ad8faf82ce6463da13afded4d0677f4",
            "f7e660e49f884fba9df47eda885c7f8e"
          ]
        },
        "execution": {
          "iopub.execute_input": "2023-08-15T11:35:21.466653Z",
          "iopub.status.busy": "2023-08-15T11:35:21.466290Z",
          "iopub.status.idle": "2023-08-15T12:36:25.879224Z",
          "shell.execute_reply": "2023-08-15T12:36:25.878170Z",
          "shell.execute_reply.started": "2023-08-15T11:35:21.466618Z"
        },
        "id": "hL2d368b6uHu",
        "outputId": "584c2403-43cd-4ace-cd8b-fa6176ff7b4a",
        "trusted": true
      },
      "outputs": [
        {
          "data": {
            "application/vnd.jupyter.widget-view+json": {
              "model_id": "b452af6e82ff485a9fa94a32652e5d2a",
              "version_major": 2,
              "version_minor": 0
            },
            "text/plain": [
              "  0%|          | 0/160 [00:00<?, ?ba/s]"
            ]
          },
          "metadata": {},
          "output_type": "display_data"
        },
        {
          "data": {
            "application/vnd.jupyter.widget-view+json": {
              "model_id": "6ad8faf82ce6463da13afded4d0677f4",
              "version_major": 2,
              "version_minor": 0
            },
            "text/plain": [
              "  0%|          | 0/4 [00:00<?, ?ba/s]"
            ]
          },
          "metadata": {},
          "output_type": "display_data"
        },
        {
          "data": {
            "application/vnd.jupyter.widget-view+json": {
              "model_id": "f7e660e49f884fba9df47eda885c7f8e",
              "version_major": 2,
              "version_minor": 0
            },
            "text/plain": [
              "  0%|          | 0/4 [00:00<?, ?ba/s]"
            ]
          },
          "metadata": {},
          "output_type": "display_data"
        },
        {
          "name": "stderr",
          "output_type": "stream",
          "text": [
            "\u001b[34m\u001b[1mwandb\u001b[0m: Currently logged in as: \u001b[33mnadav-talmon\u001b[0m (\u001b[33mnadav_igor\u001b[0m). Use \u001b[1m`wandb login --relogin`\u001b[0m to force relogin\n"
          ]
        },
        {
          "data": {
            "text/html": [
              "wandb version 0.15.8 is available!  To upgrade, please run:\n",
              " $ pip install wandb --upgrade"
            ],
            "text/plain": [
              "<IPython.core.display.HTML object>"
            ]
          },
          "metadata": {},
          "output_type": "display_data"
        },
        {
          "data": {
            "text/html": [
              "Tracking run with wandb version 0.15.5"
            ],
            "text/plain": [
              "<IPython.core.display.HTML object>"
            ]
          },
          "metadata": {},
          "output_type": "display_data"
        },
        {
          "data": {
            "text/html": [
              "Run data is saved locally in <code>/kaggle/working/wandb/run-20230815_113728-oag8xtk1</code>"
            ],
            "text/plain": [
              "<IPython.core.display.HTML object>"
            ]
          },
          "metadata": {},
          "output_type": "display_data"
        },
        {
          "data": {
            "text/html": [
              "Syncing run <strong><a href='https://wandb.ai/nadav_igor/huggingface/runs/oag8xtk1' target=\"_blank\">sparkling-sky-41</a></strong> to <a href='https://wandb.ai/nadav_igor/huggingface' target=\"_blank\">Weights & Biases</a> (<a href='https://wandb.me/run' target=\"_blank\">docs</a>)<br/>"
            ],
            "text/plain": [
              "<IPython.core.display.HTML object>"
            ]
          },
          "metadata": {},
          "output_type": "display_data"
        },
        {
          "data": {
            "text/html": [
              " View project at <a href='https://wandb.ai/nadav_igor/huggingface' target=\"_blank\">https://wandb.ai/nadav_igor/huggingface</a>"
            ],
            "text/plain": [
              "<IPython.core.display.HTML object>"
            ]
          },
          "metadata": {},
          "output_type": "display_data"
        },
        {
          "data": {
            "text/html": [
              " View run at <a href='https://wandb.ai/nadav_igor/huggingface/runs/oag8xtk1' target=\"_blank\">https://wandb.ai/nadav_igor/huggingface/runs/oag8xtk1</a>"
            ],
            "text/plain": [
              "<IPython.core.display.HTML object>"
            ]
          },
          "metadata": {},
          "output_type": "display_data"
        },
        {
          "data": {
            "text/html": [
              "\n",
              "    <div>\n",
              "      \n",
              "      <progress value='3750' max='3750' style='width:300px; height:20px; vertical-align: middle;'></progress>\n",
              "      [3750/3750 58:21, Epoch 1/1]\n",
              "    </div>\n",
              "    <table border=\"1\" class=\"dataframe\">\n",
              "  <thead>\n",
              " <tr style=\"text-align: left;\">\n",
              "      <th>Epoch</th>\n",
              "      <th>Training Loss</th>\n",
              "      <th>Validation Loss</th>\n",
              "      <th>Accuracy</th>\n",
              "    </tr>\n",
              "  </thead>\n",
              "  <tbody>\n",
              "    <tr>\n",
              "      <td>1</td>\n",
              "      <td>0.322500</td>\n",
              "      <td>0.246511</td>\n",
              "      <td>0.922000</td>\n",
              "    </tr>\n",
              "  </tbody>\n",
              "</table><p>"
            ],
            "text/plain": [
              "<IPython.core.display.HTML object>"
            ]
          },
          "metadata": {},
          "output_type": "display_data"
        }
      ],
      "source": [
        "train(XLNETModel_N_128_M_382, training_args, updatedDataset, 30000, \"amazon\")"
      ]
    },
    {
      "cell_type": "code",
      "execution_count": null,
      "metadata": {
        "execution": {
          "iopub.execute_input": "2023-08-15T12:36:25.883988Z",
          "iopub.status.busy": "2023-08-15T12:36:25.882927Z",
          "iopub.status.idle": "2023-08-15T12:59:21.964837Z",
          "shell.execute_reply": "2023-08-15T12:59:21.963764Z",
          "shell.execute_reply.started": "2023-08-15T12:36:25.883951Z"
        },
        "id": "IX1EguGW6uHu",
        "outputId": "44c70690-d887-472e-c151-24878c0d81d7",
        "trusted": true
      },
      "outputs": [
        {
          "name": "stdout",
          "output_type": "stream",
          "text": [
            "\u001b[1mxlnet-base-cased-2-labels-No-Neutral-N-128-M-382-head+tail\u001b[0m\n",
            "Classification Report Translated Test Set\n",
            "+----------+-------------+----------+------------+-----------+\n",
            "| Class    |   Precision |   Recall |   F1-Score |   Support |\n",
            "|----------+-------------+----------+------------+-----------|\n",
            "| Negative |      0.8878 |   0.9385 |     0.9124 |     12500 |\n",
            "| Positive |      0.9348 |   0.8814 |     0.9073 |     12500 |\n",
            "+----------+-------------+----------+------------+-----------+\n",
            "Classification Report Test Set\n",
            "+----------+-------------+----------+------------+-----------+\n",
            "| Class    |   Precision |   Recall |   F1-Score |   Support |\n",
            "|----------+-------------+----------+------------+-----------|\n",
            "| Negative |      0.8950 |   0.9590 |     0.9259 |      2000 |\n",
            "| Positive |      0.9558 |   0.8875 |     0.9204 |      2000 |\n",
            "+----------+-------------+----------+------------+-----------+\n"
          ]
        }
      ],
      "source": [
        "evaluateTranslatedTestSetAndRegularTestSet(XLNETModel_N_128_M_382, tokenizer, updatedDataset, imdbDataset['test'], targetNames, \"xlnet-base-cased-2-labels-No-Neutral-N-128-M-382-head+tail\", \"Amazon\", batch_size=8)"
      ]
    },
    {
      "cell_type": "markdown",
      "metadata": {
        "id": "9wnHHydY6uHv"
      },
      "source": [
        "**Two labels No Neutral; N=64, M=64; overall 128 tokens**"
      ]
    },
    {
      "cell_type": "code",
      "execution_count": null,
      "metadata": {
        "execution": {
          "iopub.execute_input": "2023-08-15T12:59:21.971393Z",
          "iopub.status.busy": "2023-08-15T12:59:21.969712Z",
          "iopub.status.idle": "2023-08-15T12:59:21.977354Z",
          "shell.execute_reply": "2023-08-15T12:59:21.976198Z",
          "shell.execute_reply.started": "2023-08-15T12:59:21.971357Z"
        },
        "id": "3j-3rga06uHv",
        "trusted": true
      },
      "outputs": [],
      "source": [
        "N = 64\n",
        "M = 64\n",
        "reviewType = \"review_body\""
      ]
    },
    {
      "cell_type": "code",
      "execution_count": null,
      "metadata": {
        "execution": {
          "iopub.execute_input": "2023-08-15T12:59:21.980906Z",
          "iopub.status.busy": "2023-08-15T12:59:21.978625Z",
          "iopub.status.idle": "2023-08-15T12:59:23.514050Z",
          "shell.execute_reply": "2023-08-15T12:59:23.512946Z",
          "shell.execute_reply.started": "2023-08-15T12:59:21.980863Z"
        },
        "id": "LjDGMKW36uHv",
        "outputId": "26dd5f6f-4473-45a7-cb0c-c43ed8179c66",
        "trusted": true
      },
      "outputs": [
        {
          "name": "stderr",
          "output_type": "stream",
          "text": [
            "Some weights of the model checkpoint at xlnet-base-cased were not used when initializing XLNetForSequenceClassification: ['lm_loss.bias', 'lm_loss.weight']\n",
            "- This IS expected if you are initializing XLNetForSequenceClassification from the checkpoint of a model trained on another task or with another architecture (e.g. initializing a BertForSequenceClassification model from a BertForPreTraining model).\n",
            "- This IS NOT expected if you are initializing XLNetForSequenceClassification from the checkpoint of a model that you expect to be exactly identical (initializing a BertForSequenceClassification model from a BertForSequenceClassification model).\n",
            "Some weights of XLNetForSequenceClassification were not initialized from the model checkpoint at xlnet-base-cased and are newly initialized: ['sequence_summary.summary.weight', 'logits_proj.bias', 'sequence_summary.summary.bias', 'logits_proj.weight']\n",
            "You should probably TRAIN this model on a down-stream task to be able to use it for predictions and inference.\n"
          ]
        }
      ],
      "source": [
        "XLNETModel_N_64_M_64 = XLNetForSequenceClassification.from_pretrained(\"xlnet-base-cased\", num_labels=numLabels)"
      ]
    },
    {
      "cell_type": "code",
      "execution_count": null,
      "metadata": {
        "execution": {
          "iopub.execute_input": "2023-08-15T12:59:23.516408Z",
          "iopub.status.busy": "2023-08-15T12:59:23.515700Z",
          "iopub.status.idle": "2023-08-15T12:59:23.531849Z",
          "shell.execute_reply": "2023-08-15T12:59:23.529327Z",
          "shell.execute_reply.started": "2023-08-15T12:59:23.516359Z"
        },
        "id": "AHWq9ONi6uHv",
        "trusted": true
      },
      "outputs": [],
      "source": [
        "training_args = TrainingArguments(output_dir=\"test_trainer\", optim=\"adamw_torch\", warmup_steps=10000, num_train_epochs=1, weight_decay=1e-1, evaluation_strategy=\"epoch\", save_strategy = saveStrategy)"
      ]
    },
    {
      "cell_type": "code",
      "execution_count": null,
      "metadata": {
        "colab": {
          "referenced_widgets": [
            "5a48cf011c324e2fa847fbe731ec646d",
            "11da391e60e742c0814aa04e4f652739",
            "910c9094cd884c0b8e44e4b29c181115"
          ]
        },
        "execution": {
          "iopub.execute_input": "2023-08-15T12:59:23.533998Z",
          "iopub.status.busy": "2023-08-15T12:59:23.533342Z",
          "iopub.status.idle": "2023-08-15T13:10:52.339203Z",
          "shell.execute_reply": "2023-08-15T13:10:52.338029Z",
          "shell.execute_reply.started": "2023-08-15T12:59:23.533960Z"
        },
        "id": "jAjNCKhX6uHv",
        "outputId": "61794a6b-9983-46ee-efb7-5eb677b332e2",
        "trusted": true
      },
      "outputs": [
        {
          "data": {
            "application/vnd.jupyter.widget-view+json": {
              "model_id": "5a48cf011c324e2fa847fbe731ec646d",
              "version_major": 2,
              "version_minor": 0
            },
            "text/plain": [
              "  0%|          | 0/160 [00:00<?, ?ba/s]"
            ]
          },
          "metadata": {},
          "output_type": "display_data"
        },
        {
          "data": {
            "application/vnd.jupyter.widget-view+json": {
              "model_id": "11da391e60e742c0814aa04e4f652739",
              "version_major": 2,
              "version_minor": 0
            },
            "text/plain": [
              "  0%|          | 0/4 [00:00<?, ?ba/s]"
            ]
          },
          "metadata": {},
          "output_type": "display_data"
        },
        {
          "data": {
            "application/vnd.jupyter.widget-view+json": {
              "model_id": "910c9094cd884c0b8e44e4b29c181115",
              "version_major": 2,
              "version_minor": 0
            },
            "text/plain": [
              "  0%|          | 0/4 [00:00<?, ?ba/s]"
            ]
          },
          "metadata": {},
          "output_type": "display_data"
        },
        {
          "data": {
            "text/html": [
              "\n",
              "    <div>\n",
              "      \n",
              "      <progress value='3750' max='3750' style='width:300px; height:20px; vertical-align: middle;'></progress>\n",
              "      [3750/3750 10:03, Epoch 1/1]\n",
              "    </div>\n",
              "    <table border=\"1\" class=\"dataframe\">\n",
              "  <thead>\n",
              " <tr style=\"text-align: left;\">\n",
              "      <th>Epoch</th>\n",
              "      <th>Training Loss</th>\n",
              "      <th>Validation Loss</th>\n",
              "      <th>Accuracy</th>\n",
              "    </tr>\n",
              "  </thead>\n",
              "  <tbody>\n",
              "    <tr>\n",
              "      <td>1</td>\n",
              "      <td>0.325300</td>\n",
              "      <td>0.331385</td>\n",
              "      <td>0.908000</td>\n",
              "    </tr>\n",
              "  </tbody>\n",
              "</table><p>"
            ],
            "text/plain": [
              "<IPython.core.display.HTML object>"
            ]
          },
          "metadata": {},
          "output_type": "display_data"
        }
      ],
      "source": [
        "train(XLNETModel_N_64_M_64, training_args, updatedDataset, 30000, \"amazon\")"
      ]
    },
    {
      "cell_type": "code",
      "execution_count": null,
      "metadata": {
        "execution": {
          "iopub.execute_input": "2023-08-15T13:10:52.344497Z",
          "iopub.status.busy": "2023-08-15T13:10:52.343733Z",
          "iopub.status.idle": "2023-08-15T13:14:26.110365Z",
          "shell.execute_reply": "2023-08-15T13:14:26.106227Z",
          "shell.execute_reply.started": "2023-08-15T13:10:52.344460Z"
        },
        "id": "KXcG6xWu6uHv",
        "outputId": "583f9461-39e5-448a-da5a-3c6e5340760f",
        "trusted": true
      },
      "outputs": [
        {
          "name": "stdout",
          "output_type": "stream",
          "text": [
            "\u001b[1mxlnet-base-cased-2-labels-No-Neutral-N-64-M-64-head+tail\u001b[0m\n",
            "Classification Report Translated Test Set\n",
            "+----------+-------------+----------+------------+-----------+\n",
            "| Class    |   Precision |   Recall |   F1-Score |   Support |\n",
            "|----------+-------------+----------+------------+-----------|\n",
            "| Negative |      0.8038 |   0.9362 |     0.8650 |     12500 |\n",
            "| Positive |      0.9237 |   0.7714 |     0.8407 |     12500 |\n",
            "+----------+-------------+----------+------------+-----------+\n",
            "Classification Report Test Set\n",
            "+----------+-------------+----------+------------+-----------+\n",
            "| Class    |   Precision |   Recall |   F1-Score |   Support |\n",
            "|----------+-------------+----------+------------+-----------|\n",
            "| Negative |      0.8577 |   0.9765 |     0.9133 |      2000 |\n",
            "| Positive |      0.9727 |   0.8380 |     0.9003 |      2000 |\n",
            "+----------+-------------+----------+------------+-----------+\n"
          ]
        }
      ],
      "source": [
        "evaluateTranslatedTestSetAndRegularTestSet(XLNETModel_N_64_M_64, tokenizer, updatedDataset, imdbDataset['test'], targetNames, \"xlnet-base-cased-2-labels-No-Neutral-N-64-M-64-head+tail\", \"Amazon\", batch_size=8)"
      ]
    },
    {
      "cell_type": "markdown",
      "metadata": {
        "id": "YvqGR5Tc6uHv"
      },
      "source": [
        "**Two labels No Neutral; N=510, M=0; overall 510 tokens**"
      ]
    },
    {
      "cell_type": "code",
      "execution_count": null,
      "metadata": {
        "execution": {
          "iopub.execute_input": "2023-08-15T13:14:26.113651Z",
          "iopub.status.busy": "2023-08-15T13:14:26.113316Z",
          "iopub.status.idle": "2023-08-15T13:14:26.119902Z",
          "shell.execute_reply": "2023-08-15T13:14:26.118641Z",
          "shell.execute_reply.started": "2023-08-15T13:14:26.113624Z"
        },
        "id": "-6Afi4pm6uHv",
        "trusted": true
      },
      "outputs": [],
      "source": [
        "N = 510\n",
        "M = 0\n",
        "reviewType = \"review_body\""
      ]
    },
    {
      "cell_type": "code",
      "execution_count": null,
      "metadata": {
        "execution": {
          "iopub.execute_input": "2023-08-15T13:14:26.121684Z",
          "iopub.status.busy": "2023-08-15T13:14:26.121338Z",
          "iopub.status.idle": "2023-08-15T13:14:28.402549Z",
          "shell.execute_reply": "2023-08-15T13:14:28.401607Z",
          "shell.execute_reply.started": "2023-08-15T13:14:26.121651Z"
        },
        "id": "u9iYepiq6uHv",
        "outputId": "5cc0a339-2165-472c-c04a-349644439887",
        "trusted": true
      },
      "outputs": [
        {
          "name": "stderr",
          "output_type": "stream",
          "text": [
            "Some weights of the model checkpoint at xlnet-base-cased were not used when initializing XLNetForSequenceClassification: ['lm_loss.bias', 'lm_loss.weight']\n",
            "- This IS expected if you are initializing XLNetForSequenceClassification from the checkpoint of a model trained on another task or with another architecture (e.g. initializing a BertForSequenceClassification model from a BertForPreTraining model).\n",
            "- This IS NOT expected if you are initializing XLNetForSequenceClassification from the checkpoint of a model that you expect to be exactly identical (initializing a BertForSequenceClassification model from a BertForSequenceClassification model).\n",
            "Some weights of XLNetForSequenceClassification were not initialized from the model checkpoint at xlnet-base-cased and are newly initialized: ['sequence_summary.summary.weight', 'logits_proj.bias', 'sequence_summary.summary.bias', 'logits_proj.weight']\n",
            "You should probably TRAIN this model on a down-stream task to be able to use it for predictions and inference.\n"
          ]
        }
      ],
      "source": [
        "XLNETModel_N_510_M_0 = XLNetForSequenceClassification.from_pretrained(\"xlnet-base-cased\", num_labels=numLabels)"
      ]
    },
    {
      "cell_type": "code",
      "execution_count": null,
      "metadata": {
        "execution": {
          "iopub.execute_input": "2023-08-15T13:14:28.408914Z",
          "iopub.status.busy": "2023-08-15T13:14:28.406488Z",
          "iopub.status.idle": "2023-08-15T13:14:28.419898Z",
          "shell.execute_reply": "2023-08-15T13:14:28.418959Z",
          "shell.execute_reply.started": "2023-08-15T13:14:28.408869Z"
        },
        "id": "Sx73RLOj6uHv",
        "trusted": true
      },
      "outputs": [],
      "source": [
        "training_args = TrainingArguments(output_dir=\"test_trainer\", optim=\"adamw_torch\", warmup_steps=10000, num_train_epochs=1, weight_decay=1e-1, evaluation_strategy=\"epoch\", save_strategy = saveStrategy)"
      ]
    },
    {
      "cell_type": "code",
      "execution_count": null,
      "metadata": {
        "colab": {
          "referenced_widgets": [
            "07aeb8c0e63a4fecba964515f4080431",
            "1c121526457c49e5898ebf41a22b6cf0",
            "39e63e43c9f448d7b3f4a3539c38857b"
          ]
        },
        "execution": {
          "iopub.execute_input": "2023-08-15T13:14:28.426030Z",
          "iopub.status.busy": "2023-08-15T13:14:28.423865Z",
          "iopub.status.idle": "2023-08-15T14:15:00.561005Z",
          "shell.execute_reply": "2023-08-15T14:15:00.559986Z",
          "shell.execute_reply.started": "2023-08-15T13:14:28.425996Z"
        },
        "id": "KdWTmXm36uHw",
        "outputId": "7a084d6a-2199-4713-b957-5e1043de2de0",
        "trusted": true
      },
      "outputs": [
        {
          "data": {
            "application/vnd.jupyter.widget-view+json": {
              "model_id": "07aeb8c0e63a4fecba964515f4080431",
              "version_major": 2,
              "version_minor": 0
            },
            "text/plain": [
              "  0%|          | 0/160 [00:00<?, ?ba/s]"
            ]
          },
          "metadata": {},
          "output_type": "display_data"
        },
        {
          "data": {
            "application/vnd.jupyter.widget-view+json": {
              "model_id": "1c121526457c49e5898ebf41a22b6cf0",
              "version_major": 2,
              "version_minor": 0
            },
            "text/plain": [
              "  0%|          | 0/4 [00:00<?, ?ba/s]"
            ]
          },
          "metadata": {},
          "output_type": "display_data"
        },
        {
          "data": {
            "application/vnd.jupyter.widget-view+json": {
              "model_id": "39e63e43c9f448d7b3f4a3539c38857b",
              "version_major": 2,
              "version_minor": 0
            },
            "text/plain": [
              "  0%|          | 0/4 [00:00<?, ?ba/s]"
            ]
          },
          "metadata": {},
          "output_type": "display_data"
        },
        {
          "data": {
            "text/html": [
              "\n",
              "    <div>\n",
              "      \n",
              "      <progress value='3750' max='3750' style='width:300px; height:20px; vertical-align: middle;'></progress>\n",
              "      [3750/3750 58:25, Epoch 1/1]\n",
              "    </div>\n",
              "    <table border=\"1\" class=\"dataframe\">\n",
              "  <thead>\n",
              " <tr style=\"text-align: left;\">\n",
              "      <th>Epoch</th>\n",
              "      <th>Training Loss</th>\n",
              "      <th>Validation Loss</th>\n",
              "      <th>Accuracy</th>\n",
              "    </tr>\n",
              "  </thead>\n",
              "  <tbody>\n",
              "    <tr>\n",
              "      <td>1</td>\n",
              "      <td>0.333900</td>\n",
              "      <td>0.276015</td>\n",
              "      <td>0.923000</td>\n",
              "    </tr>\n",
              "  </tbody>\n",
              "</table><p>"
            ],
            "text/plain": [
              "<IPython.core.display.HTML object>"
            ]
          },
          "metadata": {},
          "output_type": "display_data"
        }
      ],
      "source": [
        "train(XLNETModel_N_510_M_0, training_args, updatedDataset, 30000, \"amazon\")"
      ]
    },
    {
      "cell_type": "code",
      "execution_count": null,
      "metadata": {
        "execution": {
          "iopub.execute_input": "2023-08-15T14:15:00.568702Z",
          "iopub.status.busy": "2023-08-15T14:15:00.564889Z",
          "iopub.status.idle": "2023-08-15T14:38:00.393708Z",
          "shell.execute_reply": "2023-08-15T14:38:00.392644Z",
          "shell.execute_reply.started": "2023-08-15T14:15:00.568664Z"
        },
        "id": "YX6Hu8pZ6uHw",
        "outputId": "a43dcab0-0245-4dc9-ed2d-12093f68a8b1",
        "trusted": true
      },
      "outputs": [
        {
          "name": "stdout",
          "output_type": "stream",
          "text": [
            "\u001b[1mxlnet-base-cased-2-labels-No-Neutral-N-510-M-0-head-only\u001b[0m\n",
            "Classification Report Translated Test Set\n",
            "+----------+-------------+----------+------------+-----------+\n",
            "| Class    |   Precision |   Recall |   F1-Score |   Support |\n",
            "|----------+-------------+----------+------------+-----------|\n",
            "| Negative |      0.9025 |   0.9238 |     0.9131 |     12500 |\n",
            "| Positive |      0.9220 |   0.9002 |     0.9110 |     12500 |\n",
            "+----------+-------------+----------+------------+-----------+\n",
            "Classification Report Test Set\n",
            "+----------+-------------+----------+------------+-----------+\n",
            "| Class    |   Precision |   Recall |   F1-Score |   Support |\n",
            "|----------+-------------+----------+------------+-----------|\n",
            "| Negative |      0.9040 |   0.9510 |     0.9269 |      2000 |\n",
            "| Positive |      0.9483 |   0.8990 |     0.9230 |      2000 |\n",
            "+----------+-------------+----------+------------+-----------+\n"
          ]
        }
      ],
      "source": [
        "evaluateTranslatedTestSetAndRegularTestSet(XLNETModel_N_510_M_0, tokenizer, updatedDataset, imdbDataset['test'], targetNames, \"xlnet-base-cased-2-labels-No-Neutral-N-510-M-0-head-only\", \"Amazon\", batch_size=8)"
      ]
    },
    {
      "cell_type": "markdown",
      "metadata": {
        "id": "DgOXqm366uHw"
      },
      "source": [
        "**Two labels No Neutral; N=0, M=510; overall 510 tokens**"
      ]
    },
    {
      "cell_type": "code",
      "execution_count": null,
      "metadata": {
        "execution": {
          "iopub.execute_input": "2023-08-15T14:38:00.400101Z",
          "iopub.status.busy": "2023-08-15T14:38:00.395193Z",
          "iopub.status.idle": "2023-08-15T14:38:00.405944Z",
          "shell.execute_reply": "2023-08-15T14:38:00.404917Z",
          "shell.execute_reply.started": "2023-08-15T14:38:00.400066Z"
        },
        "id": "FuI_FPsp6uHw",
        "trusted": true
      },
      "outputs": [],
      "source": [
        "N = 256\n",
        "M = 256\n",
        "reviewType = \"review_body\""
      ]
    },
    {
      "cell_type": "code",
      "execution_count": null,
      "metadata": {
        "execution": {
          "iopub.execute_input": "2023-08-15T14:38:00.408176Z",
          "iopub.status.busy": "2023-08-15T14:38:00.407492Z",
          "iopub.status.idle": "2023-08-15T14:38:01.706058Z",
          "shell.execute_reply": "2023-08-15T14:38:01.705066Z",
          "shell.execute_reply.started": "2023-08-15T14:38:00.408121Z"
        },
        "id": "-0ZMOCDB6uHw",
        "outputId": "224c1826-b5e5-4497-e919-a7d1d3a05181",
        "trusted": true
      },
      "outputs": [
        {
          "name": "stderr",
          "output_type": "stream",
          "text": [
            "Some weights of the model checkpoint at xlnet-base-cased were not used when initializing XLNetForSequenceClassification: ['lm_loss.bias', 'lm_loss.weight']\n",
            "- This IS expected if you are initializing XLNetForSequenceClassification from the checkpoint of a model trained on another task or with another architecture (e.g. initializing a BertForSequenceClassification model from a BertForPreTraining model).\n",
            "- This IS NOT expected if you are initializing XLNetForSequenceClassification from the checkpoint of a model that you expect to be exactly identical (initializing a BertForSequenceClassification model from a BertForSequenceClassification model).\n",
            "Some weights of XLNetForSequenceClassification were not initialized from the model checkpoint at xlnet-base-cased and are newly initialized: ['sequence_summary.summary.weight', 'logits_proj.bias', 'sequence_summary.summary.bias', 'logits_proj.weight']\n",
            "You should probably TRAIN this model on a down-stream task to be able to use it for predictions and inference.\n"
          ]
        }
      ],
      "source": [
        "XLNETModel_N_0_M_510 = XLNetForSequenceClassification.from_pretrained(\"xlnet-base-cased\", num_labels=numLabels)"
      ]
    },
    {
      "cell_type": "code",
      "execution_count": null,
      "metadata": {
        "execution": {
          "iopub.execute_input": "2023-08-15T14:38:01.713368Z",
          "iopub.status.busy": "2023-08-15T14:38:01.707556Z",
          "iopub.status.idle": "2023-08-15T14:38:01.723671Z",
          "shell.execute_reply": "2023-08-15T14:38:01.722696Z",
          "shell.execute_reply.started": "2023-08-15T14:38:01.713331Z"
        },
        "id": "0OFb3Y336uHw",
        "trusted": true
      },
      "outputs": [],
      "source": [
        "training_args = TrainingArguments(output_dir=\"test_trainer\", optim=\"adamw_torch\", warmup_steps=10000, num_train_epochs=1, evaluation_strategy=\"epoch\", save_strategy = saveStrategy)"
      ]
    },
    {
      "cell_type": "code",
      "execution_count": null,
      "metadata": {
        "colab": {
          "referenced_widgets": [
            "ed13f055e2b5446a884a968cb173c9de",
            "3e9f142b1f7a4d14bbe958b52948faed",
            "b4b04f8ae1274a85b2db39cd6d03905a"
          ]
        },
        "execution": {
          "iopub.execute_input": "2023-08-15T14:38:01.725948Z",
          "iopub.status.busy": "2023-08-15T14:38:01.725167Z",
          "iopub.status.idle": "2023-08-15T15:35:35.156042Z",
          "shell.execute_reply": "2023-08-15T15:35:35.154322Z",
          "shell.execute_reply.started": "2023-08-15T14:38:01.725913Z"
        },
        "id": "TqZb2lXU6uHw",
        "outputId": "7d835685-f007-415b-b770-391d4ec51a4c",
        "trusted": true
      },
      "outputs": [
        {
          "data": {
            "application/vnd.jupyter.widget-view+json": {
              "model_id": "ed13f055e2b5446a884a968cb173c9de",
              "version_major": 2,
              "version_minor": 0
            },
            "text/plain": [
              "  0%|          | 0/160 [00:00<?, ?ba/s]"
            ]
          },
          "metadata": {},
          "output_type": "display_data"
        },
        {
          "data": {
            "application/vnd.jupyter.widget-view+json": {
              "model_id": "3e9f142b1f7a4d14bbe958b52948faed",
              "version_major": 2,
              "version_minor": 0
            },
            "text/plain": [
              "  0%|          | 0/4 [00:00<?, ?ba/s]"
            ]
          },
          "metadata": {},
          "output_type": "display_data"
        },
        {
          "data": {
            "application/vnd.jupyter.widget-view+json": {
              "model_id": "b4b04f8ae1274a85b2db39cd6d03905a",
              "version_major": 2,
              "version_minor": 0
            },
            "text/plain": [
              "  0%|          | 0/4 [00:00<?, ?ba/s]"
            ]
          },
          "metadata": {},
          "output_type": "display_data"
        },
        {
          "data": {
            "text/html": [
              "\n",
              "    <div>\n",
              "      \n",
              "      <progress value='3750' max='3750' style='width:300px; height:20px; vertical-align: middle;'></progress>\n",
              "      [3750/3750 55:25, Epoch 1/1]\n",
              "    </div>\n",
              "    <table border=\"1\" class=\"dataframe\">\n",
              "  <thead>\n",
              " <tr style=\"text-align: left;\">\n",
              "      <th>Epoch</th>\n",
              "      <th>Training Loss</th>\n",
              "      <th>Validation Loss</th>\n",
              "      <th>Accuracy</th>\n",
              "    </tr>\n",
              "  </thead>\n",
              "  <tbody>\n",
              "    <tr>\n",
              "      <td>1</td>\n",
              "      <td>0.343600</td>\n",
              "      <td>0.257167</td>\n",
              "      <td>0.925250</td>\n",
              "    </tr>\n",
              "  </tbody>\n",
              "</table><p>"
            ],
            "text/plain": [
              "<IPython.core.display.HTML object>"
            ]
          },
          "metadata": {},
          "output_type": "display_data"
        }
      ],
      "source": [
        "train(XLNETModel_N_0_M_510, training_args, updatedDataset, 30000, \"amazon\")"
      ]
    },
    {
      "cell_type": "code",
      "execution_count": null,
      "metadata": {
        "execution": {
          "iopub.execute_input": "2023-08-15T15:35:35.162440Z",
          "iopub.status.busy": "2023-08-15T15:35:35.161594Z",
          "iopub.status.idle": "2023-08-15T15:55:51.164169Z",
          "shell.execute_reply": "2023-08-15T15:55:51.163060Z",
          "shell.execute_reply.started": "2023-08-15T15:35:35.162398Z"
        },
        "id": "a9EWu8hJ6uHw",
        "outputId": "765a35e2-463f-4fbe-9a84-13e8a74e7de4",
        "trusted": true
      },
      "outputs": [
        {
          "name": "stdout",
          "output_type": "stream",
          "text": [
            "\u001b[1mxlnet-base-cased-2-labels-No-Neutral-N-0-M-510-tail-only\u001b[0m\n",
            "Classification Report Translated Test Set\n",
            "+----------+-------------+----------+------------+-----------+\n",
            "| Class    |   Precision |   Recall |   F1-Score |   Support |\n",
            "|----------+-------------+----------+------------+-----------|\n",
            "| Negative |      0.9244 |   0.8998 |     0.9119 |     12500 |\n",
            "| Positive |      0.9024 |   0.9264 |     0.9142 |     12500 |\n",
            "+----------+-------------+----------+------------+-----------+\n",
            "Classification Report Test Set\n",
            "+----------+-------------+----------+------------+-----------+\n",
            "| Class    |   Precision |   Recall |   F1-Score |   Support |\n",
            "|----------+-------------+----------+------------+-----------|\n",
            "| Negative |      0.8958 |   0.9495 |     0.9218 |      2000 |\n",
            "| Positive |      0.9463 |   0.8895 |     0.9170 |      2000 |\n",
            "+----------+-------------+----------+------------+-----------+\n"
          ]
        }
      ],
      "source": [
        "evaluateTranslatedTestSetAndRegularTestSet(XLNETModel_N_0_M_510, tokenizer, updatedDataset, imdbDataset['test'], targetNames, \"xlnet-base-cased-2-labels-No-Neutral-N-0-M-510-tail-only\", \"Amazon\", batch_size=8)"
      ]
    },
    {
      "cell_type": "markdown",
      "metadata": {
        "id": "S85JgPWS9-P5"
      },
      "source": [
        "**MultiLingual Model**"
      ]
    },
    {
      "cell_type": "code",
      "execution_count": null,
      "metadata": {
        "execution": {
          "iopub.execute_input": "2023-08-11T14:30:52.331466Z",
          "iopub.status.busy": "2023-08-11T14:30:52.331091Z",
          "iopub.status.idle": "2023-08-11T14:30:52.336271Z",
          "shell.execute_reply": "2023-08-11T14:30:52.335263Z",
          "shell.execute_reply.started": "2023-08-11T14:30:52.331434Z"
        },
        "id": "9CoYXOEs9-P5",
        "trusted": true
      },
      "outputs": [],
      "source": [
        "threshold = 3 # neutrals are included\n",
        "numLabels = 2\n",
        "targetNames = ['Negative', 'Positive']"
      ]
    },
    {
      "cell_type": "code",
      "execution_count": null,
      "metadata": {
        "execution": {
          "iopub.execute_input": "2023-08-11T14:30:53.051230Z",
          "iopub.status.busy": "2023-08-11T14:30:53.049657Z",
          "iopub.status.idle": "2023-08-11T14:30:53.063954Z",
          "shell.execute_reply": "2023-08-11T14:30:53.062852Z",
          "shell.execute_reply.started": "2023-08-11T14:30:53.051179Z"
        },
        "id": "yPm_lDdg9-P5",
        "outputId": "8aa9a352-cded-4c4e-a388-5689b0823410",
        "trusted": true
      },
      "outputs": [
        {
          "data": {
            "text/html": [
              "<div>\n",
              "<style scoped>\n",
              "    .dataframe tbody tr th:only-of-type {\n",
              "        vertical-align: middle;\n",
              "    }\n",
              "\n",
              "    .dataframe tbody tr th {\n",
              "        vertical-align: top;\n",
              "    }\n",
              "\n",
              "    .dataframe thead th {\n",
              "        text-align: right;\n",
              "    }\n",
              "</style>\n",
              "<table border=\"1\" class=\"dataframe\">\n",
              "  <thead>\n",
              "    <tr style=\"text-align: right;\">\n",
              "      <th></th>\n",
              "      <th>stars</th>\n",
              "      <th>review_body</th>\n",
              "      <th>review_title</th>\n",
              "      <th>language</th>\n",
              "    </tr>\n",
              "  </thead>\n",
              "  <tbody>\n",
              "    <tr>\n",
              "      <th>0</th>\n",
              "      <td>1</td>\n",
              "      <td>Armband ist leider nach 1 Jahr kaputt gegangen</td>\n",
              "      <td>Leider nach 1 Jahr kaputt</td>\n",
              "      <td>de</td>\n",
              "    </tr>\n",
              "    <tr>\n",
              "      <th>1</th>\n",
              "      <td>1</td>\n",
              "      <td>In der Lieferung war nur Ein Akku!</td>\n",
              "      <td>EINS statt ZWEI Akkus!!!</td>\n",
              "      <td>de</td>\n",
              "    </tr>\n",
              "    <tr>\n",
              "      <th>2</th>\n",
              "      <td>1</td>\n",
              "      <td>Ein Stern, weil gar keine geht nicht. Es hande...</td>\n",
              "      <td>Achtung Abzocke</td>\n",
              "      <td>de</td>\n",
              "    </tr>\n",
              "    <tr>\n",
              "      <th>3</th>\n",
              "      <td>1</td>\n",
              "      <td>Dachte, das wären einfach etwas festere Binden...</td>\n",
              "      <td>Zu viel des Guten</td>\n",
              "      <td>de</td>\n",
              "    </tr>\n",
              "    <tr>\n",
              "      <th>4</th>\n",
              "      <td>1</td>\n",
              "      <td>Meine Kinder haben kaum damit gespielt und nac...</td>\n",
              "      <td>Qualität sehr schlecht</td>\n",
              "      <td>de</td>\n",
              "    </tr>\n",
              "  </tbody>\n",
              "</table>\n",
              "</div>"
            ],
            "text/plain": [
              "   stars                                        review_body  \\\n",
              "0      1     Armband ist leider nach 1 Jahr kaputt gegangen   \n",
              "1      1                 In der Lieferung war nur Ein Akku!   \n",
              "2      1  Ein Stern, weil gar keine geht nicht. Es hande...   \n",
              "3      1  Dachte, das wären einfach etwas festere Binden...   \n",
              "4      1  Meine Kinder haben kaum damit gespielt und nac...   \n",
              "\n",
              "                review_title language  \n",
              "0  Leider nach 1 Jahr kaputt       de  \n",
              "1   EINS statt ZWEI Akkus!!!       de  \n",
              "2            Achtung Abzocke       de  \n",
              "3          Zu viel des Guten       de  \n",
              "4     Qualität sehr schlecht       de  "
            ]
          },
          "execution_count": 26,
          "metadata": {},
          "output_type": "execute_result"
        }
      ],
      "source": [
        "trainingSetAmazon.head(5)"
      ]
    },
    {
      "cell_type": "code",
      "execution_count": null,
      "metadata": {
        "execution": {
          "iopub.execute_input": "2023-08-11T14:30:55.183563Z",
          "iopub.status.busy": "2023-08-11T14:30:55.182839Z",
          "iopub.status.idle": "2023-08-11T14:30:55.191937Z",
          "shell.execute_reply": "2023-08-11T14:30:55.190971Z",
          "shell.execute_reply.started": "2023-08-11T14:30:55.183530Z"
        },
        "id": "AzAZ_Jmm9-P5",
        "trusted": true
      },
      "outputs": [],
      "source": [
        "def extractMultipleLanguages(langugages, df):\n",
        "    dfList = []\n",
        "    for language in languages:\n",
        "        dfList.append(extractLanguage(language, df))\n",
        "    newdf = pd.concat(dfList)\n",
        "    return newdf"
      ]
    },
    {
      "cell_type": "code",
      "execution_count": null,
      "metadata": {
        "execution": {
          "iopub.execute_input": "2023-08-11T14:30:55.391877Z",
          "iopub.status.busy": "2023-08-11T14:30:55.391513Z",
          "iopub.status.idle": "2023-08-11T14:30:56.638181Z",
          "shell.execute_reply": "2023-08-11T14:30:56.637077Z",
          "shell.execute_reply.started": "2023-08-11T14:30:55.391845Z"
        },
        "id": "bvrtQjwp9-P6",
        "trusted": true
      },
      "outputs": [],
      "source": [
        "languages = ['en', 'de', 'fr', 'es']\n",
        "trainingMultiSet = extractMultipleLanguages(languages, trainingSetAmazon)\n",
        "validationMultiSet = extractMultipleLanguages(languages, validationSetAmazon)\n",
        "testMultiSet = extractMultipleLanguages(languages, testSetAmazon)"
      ]
    },
    {
      "cell_type": "code",
      "execution_count": null,
      "metadata": {
        "execution": {
          "iopub.execute_input": "2023-08-11T14:30:56.640538Z",
          "iopub.status.busy": "2023-08-11T14:30:56.640186Z",
          "iopub.status.idle": "2023-08-11T14:30:57.565902Z",
          "shell.execute_reply": "2023-08-11T14:30:57.564939Z",
          "shell.execute_reply.started": "2023-08-11T14:30:56.640500Z"
        },
        "id": "-Rx4A_t69-P6",
        "outputId": "d588ab2f-a7a9-4d00-bf7e-b3fe0c3c5b69",
        "trusted": true
      },
      "outputs": [
        {
          "data": {
            "text/plain": [
              "array(['de', 'en', 'es', 'fr'], dtype=object)"
            ]
          },
          "execution_count": 29,
          "metadata": {},
          "output_type": "execute_result"
        }
      ],
      "source": [
        "np.unique(trainingMultiSet['language'])"
      ]
    },
    {
      "cell_type": "code",
      "execution_count": null,
      "metadata": {
        "execution": {
          "iopub.execute_input": "2023-08-11T14:30:57.568397Z",
          "iopub.status.busy": "2023-08-11T14:30:57.567356Z",
          "iopub.status.idle": "2023-08-11T14:30:58.267229Z",
          "shell.execute_reply": "2023-08-11T14:30:58.266260Z",
          "shell.execute_reply.started": "2023-08-11T14:30:57.568359Z"
        },
        "id": "0_zP8tAc9-P6",
        "trusted": true
      },
      "outputs": [],
      "source": [
        "multiTrain = datasets.Dataset.from_pandas(trainingMultiSet)\n",
        "multiValidation = datasets.Dataset.from_pandas(validationMultiSet)\n",
        "multiTest = datasets.Dataset.from_pandas(testMultiSet)"
      ]
    },
    {
      "cell_type": "code",
      "execution_count": null,
      "metadata": {
        "execution": {
          "iopub.execute_input": "2023-08-11T14:30:58.270098Z",
          "iopub.status.busy": "2023-08-11T14:30:58.269724Z",
          "iopub.status.idle": "2023-08-11T14:30:58.276361Z",
          "shell.execute_reply": "2023-08-11T14:30:58.275138Z",
          "shell.execute_reply.started": "2023-08-11T14:30:58.270057Z"
        },
        "id": "YIkLoqYJ9-P6",
        "trusted": true
      },
      "outputs": [],
      "source": [
        "multi_dataset = datasets.DatasetDict({\"train\": multiTrain, 'validation': multiValidation, 'test': multiTest})"
      ]
    },
    {
      "cell_type": "code",
      "execution_count": null,
      "metadata": {
        "execution": {
          "iopub.execute_input": "2023-08-11T14:30:58.278420Z",
          "iopub.status.busy": "2023-08-11T14:30:58.277947Z",
          "iopub.status.idle": "2023-08-11T14:30:58.288514Z",
          "shell.execute_reply": "2023-08-11T14:30:58.287588Z",
          "shell.execute_reply.started": "2023-08-11T14:30:58.278385Z"
        },
        "id": "qbrqZyEG9-P6",
        "outputId": "2693c9ce-76ac-418f-c616-a658bda30e9f",
        "trusted": true
      },
      "outputs": [
        {
          "data": {
            "text/plain": [
              "DatasetDict({\n",
              "    train: Dataset({\n",
              "        features: ['stars', 'review_body', 'review_title', 'language', '__index_level_0__'],\n",
              "        num_rows: 800000\n",
              "    })\n",
              "    validation: Dataset({\n",
              "        features: ['stars', 'review_body', 'review_title', 'language', '__index_level_0__'],\n",
              "        num_rows: 20000\n",
              "    })\n",
              "    test: Dataset({\n",
              "        features: ['stars', 'review_body', 'review_title', 'language', '__index_level_0__'],\n",
              "        num_rows: 20000\n",
              "    })\n",
              "})"
            ]
          },
          "execution_count": 32,
          "metadata": {},
          "output_type": "execute_result"
        }
      ],
      "source": [
        "multi_dataset"
      ]
    },
    {
      "cell_type": "code",
      "execution_count": null,
      "metadata": {
        "execution": {
          "iopub.execute_input": "2023-08-11T14:30:58.290605Z",
          "iopub.status.busy": "2023-08-11T14:30:58.290117Z",
          "iopub.status.idle": "2023-08-11T14:30:58.305237Z",
          "shell.execute_reply": "2023-08-11T14:30:58.304293Z",
          "shell.execute_reply.started": "2023-08-11T14:30:58.290449Z"
        },
        "id": "LvUymbMe9-P6",
        "trusted": true
      },
      "outputs": [],
      "source": [
        "multi_dataset = multi_dataset.rename_column('stars', 'labels')\n",
        "multi_dataset = multi_dataset.remove_columns('__index_level_0__')"
      ]
    },
    {
      "cell_type": "code",
      "execution_count": null,
      "metadata": {
        "colab": {
          "referenced_widgets": [
            "514e403cec874bc3b91eb4a302a0162e",
            "c22f987579cd404ca281473140638459",
            "d2477746c1d5449b8fdc4e02ebf6294d"
          ]
        },
        "execution": {
          "iopub.execute_input": "2023-08-11T14:32:23.818984Z",
          "iopub.status.busy": "2023-08-11T14:32:23.818237Z",
          "iopub.status.idle": "2023-08-11T14:33:34.285102Z",
          "shell.execute_reply": "2023-08-11T14:33:34.284122Z",
          "shell.execute_reply.started": "2023-08-11T14:32:23.818937Z"
        },
        "id": "8HvGF99P9-P6",
        "outputId": "351c2834-e2be-4f10-9aca-af9984504638",
        "trusted": true
      },
      "outputs": [
        {
          "data": {
            "application/vnd.jupyter.widget-view+json": {
              "model_id": "514e403cec874bc3b91eb4a302a0162e",
              "version_major": 2,
              "version_minor": 0
            },
            "text/plain": [
              "  0%|          | 0/800000 [00:00<?, ?ex/s]"
            ]
          },
          "metadata": {},
          "output_type": "display_data"
        },
        {
          "data": {
            "application/vnd.jupyter.widget-view+json": {
              "model_id": "c22f987579cd404ca281473140638459",
              "version_major": 2,
              "version_minor": 0
            },
            "text/plain": [
              "  0%|          | 0/20000 [00:00<?, ?ex/s]"
            ]
          },
          "metadata": {},
          "output_type": "display_data"
        },
        {
          "data": {
            "application/vnd.jupyter.widget-view+json": {
              "model_id": "d2477746c1d5449b8fdc4e02ebf6294d",
              "version_major": 2,
              "version_minor": 0
            },
            "text/plain": [
              "  0%|          | 0/20000 [00:00<?, ?ex/s]"
            ]
          },
          "metadata": {},
          "output_type": "display_data"
        }
      ],
      "source": [
        "updatedDatasetMulti = multi_dataset.map(changeToBinary)"
      ]
    },
    {
      "cell_type": "markdown",
      "metadata": {
        "id": "cUtitSQU9-P6"
      },
      "source": [
        "***BERT MULTILINGUAL***"
      ]
    },
    {
      "cell_type": "code",
      "execution_count": null,
      "metadata": {
        "colab": {
          "referenced_widgets": [
            "b9144a5fabcc4ef3a4354604ef55e3b5",
            "0c7eabba015b4ea498fa155ccde4c6a9",
            "020e9b0868454eecbd2d66e2ffed2c1a",
            "361a991eb3fd4fb8b462a48a7ce8c99e"
          ]
        },
        "execution": {
          "iopub.execute_input": "2023-08-11T14:30:59.294124Z",
          "iopub.status.busy": "2023-08-11T14:30:59.293268Z",
          "iopub.status.idle": "2023-08-11T14:31:02.379568Z",
          "shell.execute_reply": "2023-08-11T14:31:02.378553Z",
          "shell.execute_reply.started": "2023-08-11T14:30:59.294078Z"
        },
        "id": "eKDwVEdO9-P6",
        "outputId": "19125b7d-1803-4df1-d0ee-d2038ac4cca8",
        "trusted": true
      },
      "outputs": [
        {
          "data": {
            "application/vnd.jupyter.widget-view+json": {
              "model_id": "b9144a5fabcc4ef3a4354604ef55e3b5",
              "version_major": 2,
              "version_minor": 0
            },
            "text/plain": [
              "Downloading (…)okenizer_config.json:   0%|          | 0.00/29.0 [00:00<?, ?B/s]"
            ]
          },
          "metadata": {},
          "output_type": "display_data"
        },
        {
          "data": {
            "application/vnd.jupyter.widget-view+json": {
              "model_id": "0c7eabba015b4ea498fa155ccde4c6a9",
              "version_major": 2,
              "version_minor": 0
            },
            "text/plain": [
              "Downloading (…)lve/main/config.json:   0%|          | 0.00/625 [00:00<?, ?B/s]"
            ]
          },
          "metadata": {},
          "output_type": "display_data"
        },
        {
          "data": {
            "application/vnd.jupyter.widget-view+json": {
              "model_id": "020e9b0868454eecbd2d66e2ffed2c1a",
              "version_major": 2,
              "version_minor": 0
            },
            "text/plain": [
              "Downloading (…)solve/main/vocab.txt:   0%|          | 0.00/996k [00:00<?, ?B/s]"
            ]
          },
          "metadata": {},
          "output_type": "display_data"
        },
        {
          "data": {
            "application/vnd.jupyter.widget-view+json": {
              "model_id": "361a991eb3fd4fb8b462a48a7ce8c99e",
              "version_major": 2,
              "version_minor": 0
            },
            "text/plain": [
              "Downloading (…)/main/tokenizer.json:   0%|          | 0.00/1.96M [00:00<?, ?B/s]"
            ]
          },
          "metadata": {},
          "output_type": "display_data"
        }
      ],
      "source": [
        "tokenizer = AutoTokenizer.from_pretrained(\"bert-base-multilingual-cased\")\n",
        "numLabels = 2\n",
        "targetNames = ['Negative', 'Positive']"
      ]
    },
    {
      "cell_type": "markdown",
      "metadata": {
        "id": "BEfmQivm9-P6"
      },
      "source": [
        "**Two labels, With Neutrals; N=128, M=382; overall 510 tokens**"
      ]
    },
    {
      "cell_type": "code",
      "execution_count": null,
      "metadata": {
        "execution": {
          "iopub.execute_input": "2023-08-10T20:29:31.193038Z",
          "iopub.status.busy": "2023-08-10T20:29:31.192570Z",
          "iopub.status.idle": "2023-08-10T20:29:31.198461Z",
          "shell.execute_reply": "2023-08-10T20:29:31.197338Z",
          "shell.execute_reply.started": "2023-08-10T20:29:31.192999Z"
        },
        "id": "9ljnnqbr9-P6",
        "trusted": true
      },
      "outputs": [],
      "source": [
        "N = 128\n",
        "M = 382\n",
        "reviewType = \"review_body\""
      ]
    },
    {
      "cell_type": "code",
      "execution_count": null,
      "metadata": {
        "colab": {
          "referenced_widgets": [
            "c1cd9f61d72c4c77aa0f52aaadf554de"
          ]
        },
        "execution": {
          "iopub.execute_input": "2023-08-10T20:29:31.204572Z",
          "iopub.status.busy": "2023-08-10T20:29:31.204078Z",
          "iopub.status.idle": "2023-08-10T20:29:35.485995Z",
          "shell.execute_reply": "2023-08-10T20:29:35.484783Z",
          "shell.execute_reply.started": "2023-08-10T20:29:31.204542Z"
        },
        "id": "WL-hkfic9-P6",
        "outputId": "557bec50-888c-4d61-ee9a-bc5ced9d578d",
        "trusted": true
      },
      "outputs": [
        {
          "data": {
            "application/vnd.jupyter.widget-view+json": {
              "model_id": "c1cd9f61d72c4c77aa0f52aaadf554de",
              "version_major": 2,
              "version_minor": 0
            },
            "text/plain": [
              "Downloading model.safetensors:   0%|          | 0.00/714M [00:00<?, ?B/s]"
            ]
          },
          "metadata": {},
          "output_type": "display_data"
        },
        {
          "name": "stderr",
          "output_type": "stream",
          "text": [
            "Some weights of the model checkpoint at bert-base-multilingual-cased were not used when initializing BertForSequenceClassification: ['cls.predictions.transform.dense.bias', 'cls.seq_relationship.weight', 'cls.predictions.transform.dense.weight', 'cls.predictions.bias', 'cls.predictions.transform.LayerNorm.bias', 'cls.seq_relationship.bias', 'cls.predictions.transform.LayerNorm.weight']\n",
            "- This IS expected if you are initializing BertForSequenceClassification from the checkpoint of a model trained on another task or with another architecture (e.g. initializing a BertForSequenceClassification model from a BertForPreTraining model).\n",
            "- This IS NOT expected if you are initializing BertForSequenceClassification from the checkpoint of a model that you expect to be exactly identical (initializing a BertForSequenceClassification model from a BertForSequenceClassification model).\n",
            "Some weights of BertForSequenceClassification were not initialized from the model checkpoint at bert-base-multilingual-cased and are newly initialized: ['classifier.weight', 'classifier.bias']\n",
            "You should probably TRAIN this model on a down-stream task to be able to use it for predictions and inference.\n"
          ]
        }
      ],
      "source": [
        "bertMultiLingualModel_N_128_M_382 = BertForSequenceClassification.from_pretrained(\"bert-base-multilingual-cased\", num_labels=2)"
      ]
    },
    {
      "cell_type": "code",
      "execution_count": null,
      "metadata": {
        "execution": {
          "iopub.execute_input": "2023-08-10T20:29:35.489204Z",
          "iopub.status.busy": "2023-08-10T20:29:35.487662Z",
          "iopub.status.idle": "2023-08-10T20:29:35.512047Z",
          "shell.execute_reply": "2023-08-10T20:29:35.510970Z",
          "shell.execute_reply.started": "2023-08-10T20:29:35.489162Z"
        },
        "id": "wJnJs74h9-P7",
        "trusted": true
      },
      "outputs": [],
      "source": [
        "training_args = TrainingArguments(output_dir=\"test_trainer\", optim=\"adamw_torch\", warmup_steps=10000, num_train_epochs=1, weight_decay=1e-1, evaluation_strategy=\"epoch\", save_strategy = saveStrategy)"
      ]
    },
    {
      "cell_type": "code",
      "execution_count": null,
      "metadata": {
        "colab": {
          "referenced_widgets": [
            "c500776bfe45438c9f50e25ea795c386",
            "7f41348b77d94335bf5fa9875273f381",
            "72cc16475bed423c8623089fc9ee1ab3"
          ]
        },
        "execution": {
          "iopub.execute_input": "2023-08-10T20:29:35.515510Z",
          "iopub.status.busy": "2023-08-10T20:29:35.513509Z",
          "iopub.status.idle": "2023-08-10T22:50:06.056130Z",
          "shell.execute_reply": "2023-08-10T22:50:06.055019Z",
          "shell.execute_reply.started": "2023-08-10T20:29:35.515471Z"
        },
        "id": "BVb3dI-m9-P7",
        "outputId": "32fa8210-e469-498d-ea96-e770086ee1a3",
        "trusted": true
      },
      "outputs": [
        {
          "data": {
            "application/vnd.jupyter.widget-view+json": {
              "model_id": "c500776bfe45438c9f50e25ea795c386",
              "version_major": 2,
              "version_minor": 0
            },
            "text/plain": [
              "  0%|          | 0/800 [00:00<?, ?ba/s]"
            ]
          },
          "metadata": {},
          "output_type": "display_data"
        },
        {
          "name": "stderr",
          "output_type": "stream",
          "text": [
            "Token indices sequence length is longer than the specified maximum sequence length for this model (568 > 512). Running this sequence through the model will result in indexing errors\n"
          ]
        },
        {
          "data": {
            "application/vnd.jupyter.widget-view+json": {
              "model_id": "7f41348b77d94335bf5fa9875273f381",
              "version_major": 2,
              "version_minor": 0
            },
            "text/plain": [
              "  0%|          | 0/20 [00:00<?, ?ba/s]"
            ]
          },
          "metadata": {},
          "output_type": "display_data"
        },
        {
          "data": {
            "application/vnd.jupyter.widget-view+json": {
              "model_id": "72cc16475bed423c8623089fc9ee1ab3",
              "version_major": 2,
              "version_minor": 0
            },
            "text/plain": [
              "  0%|          | 0/20 [00:00<?, ?ba/s]"
            ]
          },
          "metadata": {},
          "output_type": "display_data"
        },
        {
          "name": "stderr",
          "output_type": "stream",
          "text": [
            "\u001b[34m\u001b[1mwandb\u001b[0m: Logging into wandb.ai. (Learn how to deploy a W&B server locally: https://wandb.me/wandb-server)\n",
            "\u001b[34m\u001b[1mwandb\u001b[0m: You can find your API key in your browser here: https://wandb.ai/authorize\n",
            "\u001b[34m\u001b[1mwandb\u001b[0m: Paste an API key from your profile and hit enter, or press ctrl+c to quit:"
          ]
        },
        {
          "name": "stdout",
          "output_type": "stream",
          "text": [
            "  ········································\n"
          ]
        },
        {
          "name": "stderr",
          "output_type": "stream",
          "text": [
            "\u001b[34m\u001b[1mwandb\u001b[0m: Appending key for api.wandb.ai to your netrc file: /root/.netrc\n"
          ]
        },
        {
          "data": {
            "text/html": [
              "wandb version 0.15.8 is available!  To upgrade, please run:\n",
              " $ pip install wandb --upgrade"
            ],
            "text/plain": [
              "<IPython.core.display.HTML object>"
            ]
          },
          "metadata": {},
          "output_type": "display_data"
        },
        {
          "data": {
            "text/html": [
              "Tracking run with wandb version 0.15.5"
            ],
            "text/plain": [
              "<IPython.core.display.HTML object>"
            ]
          },
          "metadata": {},
          "output_type": "display_data"
        },
        {
          "data": {
            "text/html": [
              "Run data is saved locally in <code>/kaggle/working/wandb/run-20230810_205055-816e9lv2</code>"
            ],
            "text/plain": [
              "<IPython.core.display.HTML object>"
            ]
          },
          "metadata": {},
          "output_type": "display_data"
        },
        {
          "data": {
            "text/html": [
              "Syncing run <strong><a href='https://wandb.ai/nadav_igor/huggingface/runs/816e9lv2' target=\"_blank\">honest-deluge-31</a></strong> to <a href='https://wandb.ai/nadav_igor/huggingface' target=\"_blank\">Weights & Biases</a> (<a href='https://wandb.me/run' target=\"_blank\">docs</a>)<br/>"
            ],
            "text/plain": [
              "<IPython.core.display.HTML object>"
            ]
          },
          "metadata": {},
          "output_type": "display_data"
        },
        {
          "data": {
            "text/html": [
              " View project at <a href='https://wandb.ai/nadav_igor/huggingface' target=\"_blank\">https://wandb.ai/nadav_igor/huggingface</a>"
            ],
            "text/plain": [
              "<IPython.core.display.HTML object>"
            ]
          },
          "metadata": {},
          "output_type": "display_data"
        },
        {
          "data": {
            "text/html": [
              " View run at <a href='https://wandb.ai/nadav_igor/huggingface/runs/816e9lv2' target=\"_blank\">https://wandb.ai/nadav_igor/huggingface/runs/816e9lv2</a>"
            ],
            "text/plain": [
              "<IPython.core.display.HTML object>"
            ]
          },
          "metadata": {},
          "output_type": "display_data"
        },
        {
          "data": {
            "text/html": [
              "\n",
              "    <div>\n",
              "      \n",
              "      <progress value='15000' max='15000' style='width:300px; height:20px; vertical-align: middle;'></progress>\n",
              "      [15000/15000 1:58:35, Epoch 1/1]\n",
              "    </div>\n",
              "    <table border=\"1\" class=\"dataframe\">\n",
              "  <thead>\n",
              " <tr style=\"text-align: left;\">\n",
              "      <th>Epoch</th>\n",
              "      <th>Training Loss</th>\n",
              "      <th>Validation Loss</th>\n",
              "      <th>Accuracy</th>\n",
              "    </tr>\n",
              "  </thead>\n",
              "  <tbody>\n",
              "    <tr>\n",
              "      <td>1</td>\n",
              "      <td>0.409100</td>\n",
              "      <td>0.402300</td>\n",
              "      <td>0.820900</td>\n",
              "    </tr>\n",
              "  </tbody>\n",
              "</table><p>"
            ],
            "text/plain": [
              "<IPython.core.display.HTML object>"
            ]
          },
          "metadata": {},
          "output_type": "display_data"
        }
      ],
      "source": [
        "train(bertMultiLingualModel_N_128_M_382, training_args, updatedDatasetMulti, 120000, \"amazon\")"
      ]
    },
    {
      "cell_type": "code",
      "execution_count": null,
      "metadata": {
        "execution": {
          "iopub.execute_input": "2023-08-10T22:50:06.061697Z",
          "iopub.status.busy": "2023-08-10T22:50:06.060265Z",
          "iopub.status.idle": "2023-08-10T22:59:45.056866Z",
          "shell.execute_reply": "2023-08-10T22:59:45.055668Z",
          "shell.execute_reply.started": "2023-08-10T22:50:06.061655Z"
        },
        "id": "Jghb2IdN9-P7",
        "outputId": "3b101a33-906f-451e-ae3e-1a512bfe7939",
        "trusted": true
      },
      "outputs": [
        {
          "name": "stdout",
          "output_type": "stream",
          "text": [
            "\u001b[1mbert-base-multilingual-cased-2-labels-With-Neutrals-N-128-M-382-head+tail\u001b[0m\n",
            "Classification Report Translated Test Set\n",
            "+----------+-------------+----------+------------+-----------+\n",
            "| Class    |   Precision |   Recall |   F1-Score |   Support |\n",
            "|----------+-------------+----------+------------+-----------|\n",
            "| Negative |      0.9368 |   0.7653 |     0.8424 |      6000 |\n",
            "| Positive |      0.8016 |   0.9483 |     0.8688 |      6000 |\n",
            "+----------+-------------+----------+------------+-----------+\n",
            "Classification Report Test Set\n",
            "+----------+-------------+----------+------------+-----------+\n",
            "| Class    |   Precision |   Recall |   F1-Score |   Support |\n",
            "|----------+-------------+----------+------------+-----------|\n",
            "| Negative |      0.7825 |   0.7865 |     0.7845 |      8000 |\n",
            "| Positive |      0.8572 |   0.8542 |     0.8557 |     12000 |\n",
            "+----------+-------------+----------+------------+-----------+\n"
          ]
        }
      ],
      "source": [
        "evaluateTranslatedTestSetAndRegularTestSet(bertMultiLingualModel_N_128_M_382, tokenizer, updatedDatasetMulti, translatedTestSet, targetNames, \"bert-base-multilingual-cased-2-labels-With-Neutrals-N-128-M-382-head+tail\", batch_size=8)"
      ]
    },
    {
      "cell_type": "markdown",
      "metadata": {
        "id": "LTB2dsNV9-P7"
      },
      "source": [
        "**Two labels, With Neutrals; N=64, M=64; overall 128 tokens**"
      ]
    },
    {
      "cell_type": "code",
      "execution_count": null,
      "metadata": {
        "execution": {
          "iopub.execute_input": "2023-08-10T22:59:45.059157Z",
          "iopub.status.busy": "2023-08-10T22:59:45.058513Z",
          "iopub.status.idle": "2023-08-10T22:59:45.068391Z",
          "shell.execute_reply": "2023-08-10T22:59:45.067407Z",
          "shell.execute_reply.started": "2023-08-10T22:59:45.059119Z"
        },
        "id": "LKXJUlxd9-P7",
        "trusted": true
      },
      "outputs": [],
      "source": [
        "N = 64\n",
        "M = 64\n",
        "reviewType = \"review_body\""
      ]
    },
    {
      "cell_type": "code",
      "execution_count": null,
      "metadata": {
        "execution": {
          "iopub.execute_input": "2023-08-10T22:59:45.070513Z",
          "iopub.status.busy": "2023-08-10T22:59:45.070179Z",
          "iopub.status.idle": "2023-08-10T22:59:47.018443Z",
          "shell.execute_reply": "2023-08-10T22:59:47.017344Z",
          "shell.execute_reply.started": "2023-08-10T22:59:45.070479Z"
        },
        "id": "S61mI8An9-P7",
        "outputId": "6943190d-9574-4f88-eaf3-c1c9c04f25ef",
        "trusted": true
      },
      "outputs": [
        {
          "name": "stderr",
          "output_type": "stream",
          "text": [
            "Some weights of the model checkpoint at bert-base-multilingual-cased were not used when initializing BertForSequenceClassification: ['cls.predictions.transform.dense.bias', 'cls.seq_relationship.weight', 'cls.predictions.transform.dense.weight', 'cls.predictions.bias', 'cls.predictions.transform.LayerNorm.bias', 'cls.seq_relationship.bias', 'cls.predictions.transform.LayerNorm.weight']\n",
            "- This IS expected if you are initializing BertForSequenceClassification from the checkpoint of a model trained on another task or with another architecture (e.g. initializing a BertForSequenceClassification model from a BertForPreTraining model).\n",
            "- This IS NOT expected if you are initializing BertForSequenceClassification from the checkpoint of a model that you expect to be exactly identical (initializing a BertForSequenceClassification model from a BertForSequenceClassification model).\n",
            "Some weights of BertForSequenceClassification were not initialized from the model checkpoint at bert-base-multilingual-cased and are newly initialized: ['classifier.weight', 'classifier.bias']\n",
            "You should probably TRAIN this model on a down-stream task to be able to use it for predictions and inference.\n"
          ]
        }
      ],
      "source": [
        "bertMultiLingualModel_N_64_M_64 = BertForSequenceClassification.from_pretrained(\"bert-base-multilingual-cased\", num_labels=numLabels)"
      ]
    },
    {
      "cell_type": "code",
      "execution_count": null,
      "metadata": {
        "execution": {
          "iopub.execute_input": "2023-08-10T22:59:47.020719Z",
          "iopub.status.busy": "2023-08-10T22:59:47.020116Z",
          "iopub.status.idle": "2023-08-10T22:59:47.034827Z",
          "shell.execute_reply": "2023-08-10T22:59:47.033982Z",
          "shell.execute_reply.started": "2023-08-10T22:59:47.020683Z"
        },
        "id": "oi35sp-O9-P7",
        "trusted": true
      },
      "outputs": [],
      "source": [
        "training_args = TrainingArguments(output_dir=\"test_trainer\", optim=\"adamw_torch\", warmup_steps=10000, num_train_epochs=1, weight_decay=1e-1, evaluation_strategy=\"epoch\", save_strategy = saveStrategy)"
      ]
    },
    {
      "cell_type": "code",
      "execution_count": null,
      "metadata": {
        "colab": {
          "referenced_widgets": [
            "2ab98b0dbd8548948495ef3d8b932b8e",
            "7eb28ec22c2849a8b35c84ba5651f59b",
            "e2f1989e2d2c42849a7532383eabdf1b"
          ]
        },
        "execution": {
          "iopub.execute_input": "2023-08-10T22:59:47.036749Z",
          "iopub.status.busy": "2023-08-10T22:59:47.036208Z",
          "iopub.status.idle": "2023-08-10T23:43:08.484899Z",
          "shell.execute_reply": "2023-08-10T23:43:08.483214Z",
          "shell.execute_reply.started": "2023-08-10T22:59:47.036714Z"
        },
        "id": "9VZpkW8x9-P7",
        "outputId": "57620803-0aae-4577-b739-4f4f5c850c15",
        "trusted": true
      },
      "outputs": [
        {
          "data": {
            "application/vnd.jupyter.widget-view+json": {
              "model_id": "2ab98b0dbd8548948495ef3d8b932b8e",
              "version_major": 2,
              "version_minor": 0
            },
            "text/plain": [
              "  0%|          | 0/800 [00:00<?, ?ba/s]"
            ]
          },
          "metadata": {},
          "output_type": "display_data"
        },
        {
          "data": {
            "application/vnd.jupyter.widget-view+json": {
              "model_id": "7eb28ec22c2849a8b35c84ba5651f59b",
              "version_major": 2,
              "version_minor": 0
            },
            "text/plain": [
              "  0%|          | 0/20 [00:00<?, ?ba/s]"
            ]
          },
          "metadata": {},
          "output_type": "display_data"
        },
        {
          "data": {
            "application/vnd.jupyter.widget-view+json": {
              "model_id": "e2f1989e2d2c42849a7532383eabdf1b",
              "version_major": 2,
              "version_minor": 0
            },
            "text/plain": [
              "  0%|          | 0/20 [00:00<?, ?ba/s]"
            ]
          },
          "metadata": {},
          "output_type": "display_data"
        },
        {
          "data": {
            "text/html": [
              "\n",
              "    <div>\n",
              "      \n",
              "      <progress value='15000' max='15000' style='width:300px; height:20px; vertical-align: middle;'></progress>\n",
              "      [15000/15000 34:58, Epoch 1/1]\n",
              "    </div>\n",
              "    <table border=\"1\" class=\"dataframe\">\n",
              "  <thead>\n",
              " <tr style=\"text-align: left;\">\n",
              "      <th>Epoch</th>\n",
              "      <th>Training Loss</th>\n",
              "      <th>Validation Loss</th>\n",
              "      <th>Accuracy</th>\n",
              "    </tr>\n",
              "  </thead>\n",
              "  <tbody>\n",
              "    <tr>\n",
              "      <td>1</td>\n",
              "      <td>0.426400</td>\n",
              "      <td>0.412410</td>\n",
              "      <td>0.813750</td>\n",
              "    </tr>\n",
              "  </tbody>\n",
              "</table><p>"
            ],
            "text/plain": [
              "<IPython.core.display.HTML object>"
            ]
          },
          "metadata": {},
          "output_type": "display_data"
        }
      ],
      "source": [
        "train(bertMultiLingualModel_N_64_M_64, training_args, updatedDatasetMulti, 120000, \"amazon\")"
      ]
    },
    {
      "cell_type": "code",
      "execution_count": null,
      "metadata": {
        "execution": {
          "iopub.execute_input": "2023-08-10T23:43:08.487363Z",
          "iopub.status.busy": "2023-08-10T23:43:08.486688Z",
          "iopub.status.idle": "2023-08-10T23:45:39.026499Z",
          "shell.execute_reply": "2023-08-10T23:45:39.025373Z",
          "shell.execute_reply.started": "2023-08-10T23:43:08.487320Z"
        },
        "id": "q5m_D6j29-P7",
        "outputId": "286c211b-0c74-4e2e-f71a-1c16516e6da9",
        "trusted": true
      },
      "outputs": [
        {
          "name": "stdout",
          "output_type": "stream",
          "text": [
            "\u001b[1mbert-base-multilingual-cased-2-labels-With-Neutrals-N-64-M-64-head+tail\u001b[0m\n",
            "Classification Report Translated Test Set\n",
            "+----------+-------------+----------+------------+-----------+\n",
            "| Class    |   Precision |   Recall |   F1-Score |   Support |\n",
            "|----------+-------------+----------+------------+-----------|\n",
            "| Negative |      0.9382 |   0.7212 |     0.8155 |      6000 |\n",
            "| Positive |      0.7736 |   0.9525 |     0.8537 |      6000 |\n",
            "+----------+-------------+----------+------------+-----------+\n",
            "Classification Report Test Set\n",
            "+----------+-------------+----------+------------+-----------+\n",
            "| Class    |   Precision |   Recall |   F1-Score |   Support |\n",
            "|----------+-------------+----------+------------+-----------|\n",
            "| Negative |      0.7875 |   0.7595 |     0.7732 |      8000 |\n",
            "| Positive |      0.8434 |   0.8633 |     0.8532 |     12000 |\n",
            "+----------+-------------+----------+------------+-----------+\n"
          ]
        }
      ],
      "source": [
        "evaluateTranslatedTestSetAndRegularTestSet(bertMultiLingualModel_N_64_M_64, tokenizer, updatedDatasetMulti, translatedTestSet, targetNames, \"bert-base-multilingual-cased-2-labels-With-Neutrals-N-64-M-64-head+tail\", batch_size=8)"
      ]
    },
    {
      "cell_type": "markdown",
      "metadata": {
        "id": "aE2ypmoQ9-P7"
      },
      "source": [
        "**Two labels, With Neutrals; N=510, M=0; overall 510 tokens**"
      ]
    },
    {
      "cell_type": "code",
      "execution_count": null,
      "metadata": {
        "execution": {
          "iopub.execute_input": "2023-08-10T23:45:39.032788Z",
          "iopub.status.busy": "2023-08-10T23:45:39.030900Z",
          "iopub.status.idle": "2023-08-10T23:45:39.041332Z",
          "shell.execute_reply": "2023-08-10T23:45:39.040279Z",
          "shell.execute_reply.started": "2023-08-10T23:45:39.032759Z"
        },
        "id": "f6cRm4bK9-P7",
        "trusted": true
      },
      "outputs": [],
      "source": [
        "N = 510\n",
        "M = 0\n",
        "reviewType = \"review_body\""
      ]
    },
    {
      "cell_type": "code",
      "execution_count": null,
      "metadata": {
        "execution": {
          "iopub.execute_input": "2023-08-10T23:45:39.043095Z",
          "iopub.status.busy": "2023-08-10T23:45:39.042660Z",
          "iopub.status.idle": "2023-08-10T23:45:40.885103Z",
          "shell.execute_reply": "2023-08-10T23:45:40.884101Z",
          "shell.execute_reply.started": "2023-08-10T23:45:39.043060Z"
        },
        "id": "02SJdEll9-P7",
        "outputId": "7c99e2b6-7002-48b1-8239-68fabb9c0c43",
        "trusted": true
      },
      "outputs": [
        {
          "name": "stderr",
          "output_type": "stream",
          "text": [
            "Some weights of the model checkpoint at bert-base-multilingual-cased were not used when initializing BertForSequenceClassification: ['cls.predictions.transform.dense.bias', 'cls.seq_relationship.weight', 'cls.predictions.transform.dense.weight', 'cls.predictions.bias', 'cls.predictions.transform.LayerNorm.bias', 'cls.seq_relationship.bias', 'cls.predictions.transform.LayerNorm.weight']\n",
            "- This IS expected if you are initializing BertForSequenceClassification from the checkpoint of a model trained on another task or with another architecture (e.g. initializing a BertForSequenceClassification model from a BertForPreTraining model).\n",
            "- This IS NOT expected if you are initializing BertForSequenceClassification from the checkpoint of a model that you expect to be exactly identical (initializing a BertForSequenceClassification model from a BertForSequenceClassification model).\n",
            "Some weights of BertForSequenceClassification were not initialized from the model checkpoint at bert-base-multilingual-cased and are newly initialized: ['classifier.weight', 'classifier.bias']\n",
            "You should probably TRAIN this model on a down-stream task to be able to use it for predictions and inference.\n"
          ]
        }
      ],
      "source": [
        "bertMultiLingualModel_N_510_M_0 = BertForSequenceClassification.from_pretrained(\"bert-base-multilingual-cased\", num_labels=numLabels)"
      ]
    },
    {
      "cell_type": "code",
      "execution_count": null,
      "metadata": {
        "execution": {
          "iopub.execute_input": "2023-08-10T23:45:40.892140Z",
          "iopub.status.busy": "2023-08-10T23:45:40.889887Z",
          "iopub.status.idle": "2023-08-10T23:45:40.901329Z",
          "shell.execute_reply": "2023-08-10T23:45:40.899631Z",
          "shell.execute_reply.started": "2023-08-10T23:45:40.892102Z"
        },
        "id": "eAdt110S9-P7",
        "trusted": true
      },
      "outputs": [],
      "source": [
        "training_args = TrainingArguments(output_dir=\"test_trainer\", optim=\"adamw_torch\", warmup_steps=10000, num_train_epochs=1, weight_decay=1e-1, evaluation_strategy=\"epoch\", save_strategy = saveStrategy)"
      ]
    },
    {
      "cell_type": "code",
      "execution_count": null,
      "metadata": {
        "colab": {
          "referenced_widgets": [
            "f8b43110645d48b793b0200db8124c23",
            "024d7232a3c74d9cb8739299f9ee9c6b",
            "d100750ff04a4b1594a5e7604396fb1b"
          ]
        },
        "execution": {
          "iopub.execute_input": "2023-08-10T23:45:40.905934Z",
          "iopub.status.busy": "2023-08-10T23:45:40.905491Z",
          "iopub.status.idle": "2023-08-11T01:57:27.306982Z",
          "shell.execute_reply": "2023-08-11T01:57:27.306003Z",
          "shell.execute_reply.started": "2023-08-10T23:45:40.905874Z"
        },
        "id": "thH0RDEC9-P8",
        "outputId": "6b657ed2-8c77-40c6-d2d1-f7472ed82a10",
        "trusted": true
      },
      "outputs": [
        {
          "data": {
            "application/vnd.jupyter.widget-view+json": {
              "model_id": "f8b43110645d48b793b0200db8124c23",
              "version_major": 2,
              "version_minor": 0
            },
            "text/plain": [
              "  0%|          | 0/800 [00:00<?, ?ba/s]"
            ]
          },
          "metadata": {},
          "output_type": "display_data"
        },
        {
          "data": {
            "application/vnd.jupyter.widget-view+json": {
              "model_id": "024d7232a3c74d9cb8739299f9ee9c6b",
              "version_major": 2,
              "version_minor": 0
            },
            "text/plain": [
              "  0%|          | 0/20 [00:00<?, ?ba/s]"
            ]
          },
          "metadata": {},
          "output_type": "display_data"
        },
        {
          "data": {
            "application/vnd.jupyter.widget-view+json": {
              "model_id": "d100750ff04a4b1594a5e7604396fb1b",
              "version_major": 2,
              "version_minor": 0
            },
            "text/plain": [
              "  0%|          | 0/20 [00:00<?, ?ba/s]"
            ]
          },
          "metadata": {},
          "output_type": "display_data"
        },
        {
          "data": {
            "text/html": [
              "\n",
              "    <div>\n",
              "      \n",
              "      <progress value='15000' max='15000' style='width:300px; height:20px; vertical-align: middle;'></progress>\n",
              "      [15000/15000 1:58:34, Epoch 1/1]\n",
              "    </div>\n",
              "    <table border=\"1\" class=\"dataframe\">\n",
              "  <thead>\n",
              " <tr style=\"text-align: left;\">\n",
              "      <th>Epoch</th>\n",
              "      <th>Training Loss</th>\n",
              "      <th>Validation Loss</th>\n",
              "      <th>Accuracy</th>\n",
              "    </tr>\n",
              "  </thead>\n",
              "  <tbody>\n",
              "    <tr>\n",
              "      <td>1</td>\n",
              "      <td>0.487100</td>\n",
              "      <td>0.474261</td>\n",
              "      <td>0.786600</td>\n",
              "    </tr>\n",
              "  </tbody>\n",
              "</table><p>"
            ],
            "text/plain": [
              "<IPython.core.display.HTML object>"
            ]
          },
          "metadata": {},
          "output_type": "display_data"
        }
      ],
      "source": [
        "train(bertMultiLingualModel_N_510_M_0, training_args, updatedDatasetMulti, 120000, \"amazon\")"
      ]
    },
    {
      "cell_type": "code",
      "execution_count": null,
      "metadata": {
        "execution": {
          "iopub.execute_input": "2023-08-11T01:57:27.314368Z",
          "iopub.status.busy": "2023-08-11T01:57:27.312096Z",
          "iopub.status.idle": "2023-08-11T02:07:04.809529Z",
          "shell.execute_reply": "2023-08-11T02:07:04.808407Z",
          "shell.execute_reply.started": "2023-08-11T01:57:27.314329Z"
        },
        "id": "4-to485W9-P8",
        "outputId": "b620c1aa-c29d-4a9d-b83c-e28c2b199aff",
        "trusted": true
      },
      "outputs": [
        {
          "name": "stdout",
          "output_type": "stream",
          "text": [
            "\u001b[1mbert-base-multilingual-cased-2-labels-With-Neutrals-N-510-M-0-head-only\u001b[0m\n",
            "Classification Report Translated Test Set\n",
            "+----------+-------------+----------+------------+-----------+\n",
            "| Class    |   Precision |   Recall |   F1-Score |   Support |\n",
            "|----------+-------------+----------+------------+-----------|\n",
            "| Negative |      0.9058 |   0.6908 |     0.7839 |      6000 |\n",
            "| Positive |      0.7501 |   0.9282 |     0.8297 |      6000 |\n",
            "+----------+-------------+----------+------------+-----------+\n",
            "Classification Report Test Set\n",
            "+----------+-------------+----------+------------+-----------+\n",
            "| Class    |   Precision |   Recall |   F1-Score |   Support |\n",
            "|----------+-------------+----------+------------+-----------|\n",
            "| Negative |      0.7521 |   0.7271 |     0.7394 |      8000 |\n",
            "| Positive |      0.8220 |   0.8403 |     0.8310 |     12000 |\n",
            "+----------+-------------+----------+------------+-----------+\n"
          ]
        }
      ],
      "source": [
        "evaluateTranslatedTestSetAndRegularTestSet(bertMultiLingualModel_N_510_M_0, tokenizer, updatedDatasetMulti, translatedTestSet, targetNames, \"bert-base-multilingual-cased-2-labels-With-Neutrals-N-510-M-0-head-only\", batch_size=8)"
      ]
    },
    {
      "cell_type": "markdown",
      "metadata": {
        "id": "BpAGJfC49-P8"
      },
      "source": [
        "**Two labels, With Neutrals; N=0, M=510; overall 510 tokens**"
      ]
    },
    {
      "cell_type": "code",
      "execution_count": null,
      "metadata": {
        "execution": {
          "iopub.execute_input": "2023-08-11T02:07:04.816641Z",
          "iopub.status.busy": "2023-08-11T02:07:04.814187Z",
          "iopub.status.idle": "2023-08-11T02:07:04.822533Z",
          "shell.execute_reply": "2023-08-11T02:07:04.821627Z",
          "shell.execute_reply.started": "2023-08-11T02:07:04.816604Z"
        },
        "id": "wlKpGkI79-P8",
        "trusted": true
      },
      "outputs": [],
      "source": [
        "N = 0\n",
        "M = 510\n",
        "reviewType = \"review_body\""
      ]
    },
    {
      "cell_type": "code",
      "execution_count": null,
      "metadata": {
        "execution": {
          "iopub.execute_input": "2023-08-11T02:07:04.824496Z",
          "iopub.status.busy": "2023-08-11T02:07:04.823999Z",
          "iopub.status.idle": "2023-08-11T02:07:06.724071Z",
          "shell.execute_reply": "2023-08-11T02:07:06.722771Z",
          "shell.execute_reply.started": "2023-08-11T02:07:04.824461Z"
        },
        "id": "SmFexZpg9-P8",
        "outputId": "bc32b5e7-86ba-401a-ff86-1e99c1a6eea7",
        "trusted": true
      },
      "outputs": [
        {
          "name": "stderr",
          "output_type": "stream",
          "text": [
            "Some weights of the model checkpoint at bert-base-multilingual-cased were not used when initializing BertForSequenceClassification: ['cls.predictions.transform.dense.bias', 'cls.seq_relationship.weight', 'cls.predictions.transform.dense.weight', 'cls.predictions.bias', 'cls.predictions.transform.LayerNorm.bias', 'cls.seq_relationship.bias', 'cls.predictions.transform.LayerNorm.weight']\n",
            "- This IS expected if you are initializing BertForSequenceClassification from the checkpoint of a model trained on another task or with another architecture (e.g. initializing a BertForSequenceClassification model from a BertForPreTraining model).\n",
            "- This IS NOT expected if you are initializing BertForSequenceClassification from the checkpoint of a model that you expect to be exactly identical (initializing a BertForSequenceClassification model from a BertForSequenceClassification model).\n",
            "Some weights of BertForSequenceClassification were not initialized from the model checkpoint at bert-base-multilingual-cased and are newly initialized: ['classifier.weight', 'classifier.bias']\n",
            "You should probably TRAIN this model on a down-stream task to be able to use it for predictions and inference.\n"
          ]
        }
      ],
      "source": [
        "bertMultiLingualModel_N_0_M_510 = BertForSequenceClassification.from_pretrained(\"bert-base-multilingual-cased\", num_labels=numLabels)"
      ]
    },
    {
      "cell_type": "code",
      "execution_count": null,
      "metadata": {
        "execution": {
          "iopub.execute_input": "2023-08-11T02:07:06.726373Z",
          "iopub.status.busy": "2023-08-11T02:07:06.725720Z",
          "iopub.status.idle": "2023-08-11T02:07:06.737301Z",
          "shell.execute_reply": "2023-08-11T02:07:06.734755Z",
          "shell.execute_reply.started": "2023-08-11T02:07:06.726331Z"
        },
        "id": "Vvp2GPYF9-P8",
        "trusted": true
      },
      "outputs": [],
      "source": [
        "training_args = TrainingArguments(output_dir=\"test_trainer\", optim=\"adamw_torch\", warmup_steps=10000, num_train_epochs=1, weight_decay=1e-1, evaluation_strategy=\"epoch\", save_strategy = saveStrategy)"
      ]
    },
    {
      "cell_type": "code",
      "execution_count": null,
      "metadata": {
        "colab": {
          "referenced_widgets": [
            "9cacf0f3cedc45f5ace17c89f7c11e85",
            "2a7f605608a645bdba9b2715a423e1e7",
            "bddb7258f8eb4f86be9decd6b4e56c8e"
          ]
        },
        "execution": {
          "iopub.execute_input": "2023-08-11T02:07:06.740083Z",
          "iopub.status.busy": "2023-08-11T02:07:06.739427Z",
          "iopub.status.idle": "2023-08-11T04:18:55.022275Z",
          "shell.execute_reply": "2023-08-11T04:18:55.021095Z",
          "shell.execute_reply.started": "2023-08-11T02:07:06.740048Z"
        },
        "id": "OV1dRKcj9-P8",
        "outputId": "b4dca634-8fd0-4415-adb9-fdf5117d6de4",
        "trusted": true
      },
      "outputs": [
        {
          "data": {
            "application/vnd.jupyter.widget-view+json": {
              "model_id": "9cacf0f3cedc45f5ace17c89f7c11e85",
              "version_major": 2,
              "version_minor": 0
            },
            "text/plain": [
              "  0%|          | 0/800 [00:00<?, ?ba/s]"
            ]
          },
          "metadata": {},
          "output_type": "display_data"
        },
        {
          "data": {
            "application/vnd.jupyter.widget-view+json": {
              "model_id": "2a7f605608a645bdba9b2715a423e1e7",
              "version_major": 2,
              "version_minor": 0
            },
            "text/plain": [
              "  0%|          | 0/20 [00:00<?, ?ba/s]"
            ]
          },
          "metadata": {},
          "output_type": "display_data"
        },
        {
          "data": {
            "application/vnd.jupyter.widget-view+json": {
              "model_id": "bddb7258f8eb4f86be9decd6b4e56c8e",
              "version_major": 2,
              "version_minor": 0
            },
            "text/plain": [
              "  0%|          | 0/20 [00:00<?, ?ba/s]"
            ]
          },
          "metadata": {},
          "output_type": "display_data"
        },
        {
          "data": {
            "text/html": [
              "\n",
              "    <div>\n",
              "      \n",
              "      <progress value='15000' max='15000' style='width:300px; height:20px; vertical-align: middle;'></progress>\n",
              "      [15000/15000 1:58:37, Epoch 1/1]\n",
              "    </div>\n",
              "    <table border=\"1\" class=\"dataframe\">\n",
              "  <thead>\n",
              " <tr style=\"text-align: left;\">\n",
              "      <th>Epoch</th>\n",
              "      <th>Training Loss</th>\n",
              "      <th>Validation Loss</th>\n",
              "      <th>Accuracy</th>\n",
              "    </tr>\n",
              "  </thead>\n",
              "  <tbody>\n",
              "    <tr>\n",
              "      <td>1</td>\n",
              "      <td>0.456200</td>\n",
              "      <td>0.440904</td>\n",
              "      <td>0.805050</td>\n",
              "    </tr>\n",
              "  </tbody>\n",
              "</table><p>"
            ],
            "text/plain": [
              "<IPython.core.display.HTML object>"
            ]
          },
          "metadata": {},
          "output_type": "display_data"
        }
      ],
      "source": [
        "train(bertMultiLingualModel_N_0_M_510, training_args, updatedDatasetMulti, 120000, \"amazon\")"
      ]
    },
    {
      "cell_type": "code",
      "execution_count": null,
      "metadata": {
        "execution": {
          "iopub.execute_input": "2023-08-11T04:18:55.036545Z",
          "iopub.status.busy": "2023-08-11T04:18:55.035962Z",
          "iopub.status.idle": "2023-08-11T04:28:32.072250Z",
          "shell.execute_reply": "2023-08-11T04:28:32.071073Z",
          "shell.execute_reply.started": "2023-08-11T04:18:55.036504Z"
        },
        "id": "05vPth8B9-P8",
        "outputId": "b8ea00b2-4492-4e14-bb2c-8e0c4e2fdbaa",
        "trusted": true
      },
      "outputs": [
        {
          "name": "stdout",
          "output_type": "stream",
          "text": [
            "\u001b[1mbert-base-multilingual-cased-2-labels-With-Neutrals-N-0-M-510-tail-only\u001b[0m\n",
            "Classification Report Translated Test Set\n",
            "+----------+-------------+----------+------------+-----------+\n",
            "| Class    |   Precision |   Recall |   F1-Score |   Support |\n",
            "|----------+-------------+----------+------------+-----------|\n",
            "| Negative |      0.9193 |   0.7463 |     0.8238 |      6000 |\n",
            "| Positive |      0.7865 |   0.9345 |     0.8541 |      6000 |\n",
            "+----------+-------------+----------+------------+-----------+\n",
            "Classification Report Test Set\n",
            "+----------+-------------+----------+------------+-----------+\n",
            "| Class    |   Precision |   Recall |   F1-Score |   Support |\n",
            "|----------+-------------+----------+------------+-----------|\n",
            "| Negative |      0.7520 |   0.7924 |     0.7716 |      8000 |\n",
            "| Positive |      0.8564 |   0.8257 |     0.8408 |     12000 |\n",
            "+----------+-------------+----------+------------+-----------+\n"
          ]
        }
      ],
      "source": [
        "evaluateTranslatedTestSetAndRegularTestSet(bertMultiLingualModel_N_0_M_510, tokenizer, updatedDatasetMulti, translatedTestSet, targetNames, \"bert-base-multilingual-cased-2-labels-With-Neutrals-N-0-M-510-tail-only\", batch_size=8)"
      ]
    },
    {
      "cell_type": "markdown",
      "metadata": {
        "id": "z79Xv9EJ9-P8"
      },
      "source": [
        "**BERT MULTILINGUAL UNCASED**"
      ]
    },
    {
      "cell_type": "code",
      "execution_count": null,
      "metadata": {
        "colab": {
          "referenced_widgets": [
            "ee061a4dabf84cd5a014912bfc8cbc25",
            "481f5083479e4c7790752f942ad0d8d7",
            "8c891f479f4c44af862c0105459b9dfc",
            "6cced93ac22c404f93ce0ca4d4844b08"
          ]
        },
        "execution": {
          "iopub.execute_input": "2023-08-11T14:31:22.775447Z",
          "iopub.status.busy": "2023-08-11T14:31:22.774727Z",
          "iopub.status.idle": "2023-08-11T14:31:26.680697Z",
          "shell.execute_reply": "2023-08-11T14:31:26.679673Z",
          "shell.execute_reply.started": "2023-08-11T14:31:22.775403Z"
        },
        "id": "bloxbQbP9-P8",
        "outputId": "55473097-32a9-4e7d-d17a-a1bc2a9cfbaa",
        "trusted": true
      },
      "outputs": [
        {
          "data": {
            "application/vnd.jupyter.widget-view+json": {
              "model_id": "ee061a4dabf84cd5a014912bfc8cbc25",
              "version_major": 2,
              "version_minor": 0
            },
            "text/plain": [
              "Downloading (…)okenizer_config.json:   0%|          | 0.00/28.0 [00:00<?, ?B/s]"
            ]
          },
          "metadata": {},
          "output_type": "display_data"
        },
        {
          "data": {
            "application/vnd.jupyter.widget-view+json": {
              "model_id": "481f5083479e4c7790752f942ad0d8d7",
              "version_major": 2,
              "version_minor": 0
            },
            "text/plain": [
              "Downloading (…)lve/main/config.json:   0%|          | 0.00/625 [00:00<?, ?B/s]"
            ]
          },
          "metadata": {},
          "output_type": "display_data"
        },
        {
          "data": {
            "application/vnd.jupyter.widget-view+json": {
              "model_id": "8c891f479f4c44af862c0105459b9dfc",
              "version_major": 2,
              "version_minor": 0
            },
            "text/plain": [
              "Downloading (…)solve/main/vocab.txt:   0%|          | 0.00/872k [00:00<?, ?B/s]"
            ]
          },
          "metadata": {},
          "output_type": "display_data"
        },
        {
          "data": {
            "application/vnd.jupyter.widget-view+json": {
              "model_id": "6cced93ac22c404f93ce0ca4d4844b08",
              "version_major": 2,
              "version_minor": 0
            },
            "text/plain": [
              "Downloading (…)/main/tokenizer.json:   0%|          | 0.00/1.72M [00:00<?, ?B/s]"
            ]
          },
          "metadata": {},
          "output_type": "display_data"
        }
      ],
      "source": [
        "tokenizer = AutoTokenizer.from_pretrained(\"bert-base-multilingual-uncased\")"
      ]
    },
    {
      "cell_type": "markdown",
      "metadata": {
        "id": "YhURpnph9-P8"
      },
      "source": [
        "**Two labels, With Neutrals; N=128, M=382; overall 510 tokens**"
      ]
    },
    {
      "cell_type": "code",
      "execution_count": null,
      "metadata": {
        "execution": {
          "iopub.execute_input": "2023-08-11T04:28:33.635434Z",
          "iopub.status.busy": "2023-08-11T04:28:33.634769Z",
          "iopub.status.idle": "2023-08-11T04:28:33.643133Z",
          "shell.execute_reply": "2023-08-11T04:28:33.641432Z",
          "shell.execute_reply.started": "2023-08-11T04:28:33.635392Z"
        },
        "id": "kntN5IDV9-QB",
        "trusted": true
      },
      "outputs": [],
      "source": [
        "N = 128\n",
        "M = 382\n",
        "reviewType = \"review_body\""
      ]
    },
    {
      "cell_type": "code",
      "execution_count": null,
      "metadata": {
        "colab": {
          "referenced_widgets": [
            "dae0b378330d4a8f8a01d66a24e27b38"
          ]
        },
        "execution": {
          "iopub.execute_input": "2023-08-11T04:28:33.648627Z",
          "iopub.status.busy": "2023-08-11T04:28:33.645538Z",
          "iopub.status.idle": "2023-08-11T04:28:40.036007Z",
          "shell.execute_reply": "2023-08-11T04:28:40.033796Z",
          "shell.execute_reply.started": "2023-08-11T04:28:33.647636Z"
        },
        "id": "nFNfYTXK9-QC",
        "outputId": "28b6eee9-4b8b-41ed-fb04-08166a45c8ce",
        "trusted": true
      },
      "outputs": [
        {
          "data": {
            "application/vnd.jupyter.widget-view+json": {
              "model_id": "dae0b378330d4a8f8a01d66a24e27b38",
              "version_major": 2,
              "version_minor": 0
            },
            "text/plain": [
              "Downloading model.safetensors:   0%|          | 0.00/672M [00:00<?, ?B/s]"
            ]
          },
          "metadata": {},
          "output_type": "display_data"
        },
        {
          "name": "stderr",
          "output_type": "stream",
          "text": [
            "Some weights of the model checkpoint at bert-base-multilingual-uncased were not used when initializing BertForSequenceClassification: ['cls.predictions.transform.dense.bias', 'cls.seq_relationship.weight', 'cls.predictions.transform.dense.weight', 'cls.predictions.bias', 'cls.predictions.transform.LayerNorm.bias', 'cls.seq_relationship.bias', 'cls.predictions.transform.LayerNorm.weight']\n",
            "- This IS expected if you are initializing BertForSequenceClassification from the checkpoint of a model trained on another task or with another architecture (e.g. initializing a BertForSequenceClassification model from a BertForPreTraining model).\n",
            "- This IS NOT expected if you are initializing BertForSequenceClassification from the checkpoint of a model that you expect to be exactly identical (initializing a BertForSequenceClassification model from a BertForSequenceClassification model).\n",
            "Some weights of BertForSequenceClassification were not initialized from the model checkpoint at bert-base-multilingual-uncased and are newly initialized: ['classifier.weight', 'classifier.bias']\n",
            "You should probably TRAIN this model on a down-stream task to be able to use it for predictions and inference.\n"
          ]
        }
      ],
      "source": [
        "bertMultiLingualModelUncased_N_128_M_382 = BertForSequenceClassification.from_pretrained(\"bert-base-multilingual-uncased\", num_labels=numLabels)"
      ]
    },
    {
      "cell_type": "code",
      "execution_count": null,
      "metadata": {
        "execution": {
          "iopub.execute_input": "2023-08-11T04:28:40.038351Z",
          "iopub.status.busy": "2023-08-11T04:28:40.037724Z",
          "iopub.status.idle": "2023-08-11T04:28:40.047539Z",
          "shell.execute_reply": "2023-08-11T04:28:40.046571Z",
          "shell.execute_reply.started": "2023-08-11T04:28:40.038314Z"
        },
        "id": "AeO9xz0E9-QC",
        "trusted": true
      },
      "outputs": [],
      "source": [
        "training_args = TrainingArguments(output_dir=\"test_trainer\", optim=\"adamw_torch\", warmup_steps=10000, num_train_epochs=1, weight_decay=1e-1, evaluation_strategy=\"epoch\", save_strategy = saveStrategy)"
      ]
    },
    {
      "cell_type": "code",
      "execution_count": null,
      "metadata": {
        "colab": {
          "referenced_widgets": [
            "c91dd26354244415aebfb838b9899e98",
            "cbfd86dfc22b4b2bb9ffae5dfdf6811e",
            "6e74e5ff783a40a98926855b6395f150"
          ]
        },
        "execution": {
          "iopub.execute_input": "2023-08-11T04:28:40.049774Z",
          "iopub.status.busy": "2023-08-11T04:28:40.049035Z",
          "iopub.status.idle": "2023-08-11T06:40:15.563083Z",
          "shell.execute_reply": "2023-08-11T06:40:15.561988Z",
          "shell.execute_reply.started": "2023-08-11T04:28:40.049740Z"
        },
        "id": "_SPaHprt9-QC",
        "outputId": "760de8fb-b1e6-4e1b-d220-3a132aef6506",
        "trusted": true
      },
      "outputs": [
        {
          "data": {
            "application/vnd.jupyter.widget-view+json": {
              "model_id": "c91dd26354244415aebfb838b9899e98",
              "version_major": 2,
              "version_minor": 0
            },
            "text/plain": [
              "  0%|          | 0/800 [00:00<?, ?ba/s]"
            ]
          },
          "metadata": {},
          "output_type": "display_data"
        },
        {
          "name": "stderr",
          "output_type": "stream",
          "text": [
            "Token indices sequence length is longer than the specified maximum sequence length for this model (544 > 512). Running this sequence through the model will result in indexing errors\n"
          ]
        },
        {
          "data": {
            "application/vnd.jupyter.widget-view+json": {
              "model_id": "cbfd86dfc22b4b2bb9ffae5dfdf6811e",
              "version_major": 2,
              "version_minor": 0
            },
            "text/plain": [
              "  0%|          | 0/20 [00:00<?, ?ba/s]"
            ]
          },
          "metadata": {},
          "output_type": "display_data"
        },
        {
          "data": {
            "application/vnd.jupyter.widget-view+json": {
              "model_id": "6e74e5ff783a40a98926855b6395f150",
              "version_major": 2,
              "version_minor": 0
            },
            "text/plain": [
              "  0%|          | 0/20 [00:00<?, ?ba/s]"
            ]
          },
          "metadata": {},
          "output_type": "display_data"
        },
        {
          "data": {
            "text/html": [
              "\n",
              "    <div>\n",
              "      \n",
              "      <progress value='15000' max='15000' style='width:300px; height:20px; vertical-align: middle;'></progress>\n",
              "      [15000/15000 1:57:53, Epoch 1/1]\n",
              "    </div>\n",
              "    <table border=\"1\" class=\"dataframe\">\n",
              "  <thead>\n",
              " <tr style=\"text-align: left;\">\n",
              "      <th>Epoch</th>\n",
              "      <th>Training Loss</th>\n",
              "      <th>Validation Loss</th>\n",
              "      <th>Accuracy</th>\n",
              "    </tr>\n",
              "  </thead>\n",
              "  <tbody>\n",
              "    <tr>\n",
              "      <td>1</td>\n",
              "      <td>0.397100</td>\n",
              "      <td>0.397917</td>\n",
              "      <td>0.823950</td>\n",
              "    </tr>\n",
              "  </tbody>\n",
              "</table><p>"
            ],
            "text/plain": [
              "<IPython.core.display.HTML object>"
            ]
          },
          "metadata": {},
          "output_type": "display_data"
        }
      ],
      "source": [
        "train(bertMultiLingualModelUncased_N_128_M_382, training_args, updatedDatasetMulti, 120000, \"amazon\")"
      ]
    },
    {
      "cell_type": "code",
      "execution_count": null,
      "metadata": {
        "execution": {
          "iopub.execute_input": "2023-08-11T06:40:15.570948Z",
          "iopub.status.busy": "2023-08-11T06:40:15.568513Z",
          "iopub.status.idle": "2023-08-11T06:49:53.346688Z",
          "shell.execute_reply": "2023-08-11T06:49:53.345587Z",
          "shell.execute_reply.started": "2023-08-11T06:40:15.570889Z"
        },
        "id": "r_nW0cZI9-QC",
        "outputId": "66de52d3-a760-4e7f-c7f2-c8daac34521c",
        "trusted": true
      },
      "outputs": [
        {
          "name": "stdout",
          "output_type": "stream",
          "text": [
            "\u001b[1mbert-base-multilingual-uncased-2-labels-With-Neutrals-N-128-M-382-head+tail\u001b[0m\n",
            "Classification Report Translated Test Set\n",
            "+----------+-------------+----------+------------+-----------+\n",
            "| Class    |   Precision |   Recall |   F1-Score |   Support |\n",
            "|----------+-------------+----------+------------+-----------|\n",
            "| Negative |      0.9367 |   0.7547 |     0.8359 |      6000 |\n",
            "| Positive |      0.7946 |   0.9490 |     0.8650 |      6000 |\n",
            "+----------+-------------+----------+------------+-----------+\n",
            "Classification Report Test Set\n",
            "+----------+-------------+----------+------------+-----------+\n",
            "| Class    |   Precision |   Recall |   F1-Score |   Support |\n",
            "|----------+-------------+----------+------------+-----------|\n",
            "| Negative |      0.7885 |   0.7841 |     0.7863 |      8000 |\n",
            "| Positive |      0.8566 |   0.8598 |     0.8582 |     12000 |\n",
            "+----------+-------------+----------+------------+-----------+\n"
          ]
        }
      ],
      "source": [
        "evaluateTranslatedTestSetAndRegularTestSet(bertMultiLingualModelUncased_N_128_M_382, tokenizer, updatedDatasetMulti, translatedTestSet, targetNames, \"bert-base-multilingual-uncased-2-labels-With-Neutrals-N-128-M-382-head+tail\", batch_size=8)"
      ]
    },
    {
      "cell_type": "markdown",
      "metadata": {
        "id": "WAm3zVts9-QC"
      },
      "source": [
        "**Two labels, With Neutrals; N=64, M=64; overall 128 tokens**"
      ]
    },
    {
      "cell_type": "code",
      "execution_count": null,
      "metadata": {
        "execution": {
          "iopub.execute_input": "2023-08-11T06:49:53.352219Z",
          "iopub.status.busy": "2023-08-11T06:49:53.351294Z",
          "iopub.status.idle": "2023-08-11T06:49:53.358002Z",
          "shell.execute_reply": "2023-08-11T06:49:53.356928Z",
          "shell.execute_reply.started": "2023-08-11T06:49:53.352181Z"
        },
        "id": "vzMPnQv19-QC",
        "trusted": true
      },
      "outputs": [],
      "source": [
        "N = 64\n",
        "M = 64\n",
        "reviewType = \"review_body\""
      ]
    },
    {
      "cell_type": "code",
      "execution_count": null,
      "metadata": {
        "execution": {
          "iopub.execute_input": "2023-08-11T06:49:53.359835Z",
          "iopub.status.busy": "2023-08-11T06:49:53.359484Z",
          "iopub.status.idle": "2023-08-11T06:49:55.193046Z",
          "shell.execute_reply": "2023-08-11T06:49:55.192019Z",
          "shell.execute_reply.started": "2023-08-11T06:49:53.359801Z"
        },
        "id": "bm1rNaGX9-QC",
        "outputId": "7c433918-7f1f-4bdb-9719-d0da6b54878a",
        "trusted": true
      },
      "outputs": [
        {
          "name": "stderr",
          "output_type": "stream",
          "text": [
            "Some weights of the model checkpoint at bert-base-multilingual-uncased were not used when initializing BertForSequenceClassification: ['cls.predictions.transform.dense.bias', 'cls.seq_relationship.weight', 'cls.predictions.transform.dense.weight', 'cls.predictions.bias', 'cls.predictions.transform.LayerNorm.bias', 'cls.seq_relationship.bias', 'cls.predictions.transform.LayerNorm.weight']\n",
            "- This IS expected if you are initializing BertForSequenceClassification from the checkpoint of a model trained on another task or with another architecture (e.g. initializing a BertForSequenceClassification model from a BertForPreTraining model).\n",
            "- This IS NOT expected if you are initializing BertForSequenceClassification from the checkpoint of a model that you expect to be exactly identical (initializing a BertForSequenceClassification model from a BertForSequenceClassification model).\n",
            "Some weights of BertForSequenceClassification were not initialized from the model checkpoint at bert-base-multilingual-uncased and are newly initialized: ['classifier.weight', 'classifier.bias']\n",
            "You should probably TRAIN this model on a down-stream task to be able to use it for predictions and inference.\n"
          ]
        }
      ],
      "source": [
        "bertMultiLingualModelUncased_N_64_M_64 = BertForSequenceClassification.from_pretrained(\"bert-base-multilingual-uncased\", num_labels=numLabels)"
      ]
    },
    {
      "cell_type": "code",
      "execution_count": null,
      "metadata": {
        "execution": {
          "iopub.execute_input": "2023-08-11T06:49:55.195052Z",
          "iopub.status.busy": "2023-08-11T06:49:55.194403Z",
          "iopub.status.idle": "2023-08-11T06:49:55.210927Z",
          "shell.execute_reply": "2023-08-11T06:49:55.209515Z",
          "shell.execute_reply.started": "2023-08-11T06:49:55.195012Z"
        },
        "id": "UnXdRjL69-QC",
        "trusted": true
      },
      "outputs": [],
      "source": [
        "training_args = TrainingArguments(output_dir=\"test_trainer\", optim=\"adamw_torch\", warmup_steps=10000, num_train_epochs=1, weight_decay=1e-1, evaluation_strategy=\"epoch\", save_strategy = saveStrategy)"
      ]
    },
    {
      "cell_type": "code",
      "execution_count": null,
      "metadata": {
        "colab": {
          "referenced_widgets": [
            "51f5fa15edf64a2fafb5a2fa3e7521ad",
            "19853b5b3b06476a82a2b4fa55101a0b",
            "fab8b13cf2f6462ab9b74637605af329"
          ]
        },
        "execution": {
          "iopub.execute_input": "2023-08-11T06:49:55.215834Z",
          "iopub.status.busy": "2023-08-11T06:49:55.215268Z",
          "iopub.status.idle": "2023-08-11T07:33:25.425503Z",
          "shell.execute_reply": "2023-08-11T07:33:25.424430Z",
          "shell.execute_reply.started": "2023-08-11T06:49:55.215795Z"
        },
        "id": "VHv3mZpu9-QC",
        "outputId": "65677ebc-65a9-4d6d-f31d-6eeed2a33ab5",
        "trusted": true
      },
      "outputs": [
        {
          "data": {
            "application/vnd.jupyter.widget-view+json": {
              "model_id": "51f5fa15edf64a2fafb5a2fa3e7521ad",
              "version_major": 2,
              "version_minor": 0
            },
            "text/plain": [
              "  0%|          | 0/800 [00:00<?, ?ba/s]"
            ]
          },
          "metadata": {},
          "output_type": "display_data"
        },
        {
          "data": {
            "application/vnd.jupyter.widget-view+json": {
              "model_id": "19853b5b3b06476a82a2b4fa55101a0b",
              "version_major": 2,
              "version_minor": 0
            },
            "text/plain": [
              "  0%|          | 0/20 [00:00<?, ?ba/s]"
            ]
          },
          "metadata": {},
          "output_type": "display_data"
        },
        {
          "data": {
            "application/vnd.jupyter.widget-view+json": {
              "model_id": "fab8b13cf2f6462ab9b74637605af329",
              "version_major": 2,
              "version_minor": 0
            },
            "text/plain": [
              "  0%|          | 0/20 [00:00<?, ?ba/s]"
            ]
          },
          "metadata": {},
          "output_type": "display_data"
        },
        {
          "data": {
            "text/html": [
              "\n",
              "    <div>\n",
              "      \n",
              "      <progress value='15000' max='15000' style='width:300px; height:20px; vertical-align: middle;'></progress>\n",
              "      [15000/15000 34:25, Epoch 1/1]\n",
              "    </div>\n",
              "    <table border=\"1\" class=\"dataframe\">\n",
              "  <thead>\n",
              " <tr style=\"text-align: left;\">\n",
              "      <th>Epoch</th>\n",
              "      <th>Training Loss</th>\n",
              "      <th>Validation Loss</th>\n",
              "      <th>Accuracy</th>\n",
              "    </tr>\n",
              "  </thead>\n",
              "  <tbody>\n",
              "    <tr>\n",
              "      <td>1</td>\n",
              "      <td>0.422400</td>\n",
              "      <td>0.406730</td>\n",
              "      <td>0.819900</td>\n",
              "    </tr>\n",
              "  </tbody>\n",
              "</table><p>"
            ],
            "text/plain": [
              "<IPython.core.display.HTML object>"
            ]
          },
          "metadata": {},
          "output_type": "display_data"
        }
      ],
      "source": [
        "train(bertMultiLingualModelUncased_N_64_M_64, training_args, updatedDatasetMulti, 120000, \"amazon\")"
      ]
    },
    {
      "cell_type": "code",
      "execution_count": null,
      "metadata": {
        "execution": {
          "iopub.execute_input": "2023-08-11T07:33:25.427957Z",
          "iopub.status.busy": "2023-08-11T07:33:25.427289Z",
          "iopub.status.idle": "2023-08-11T07:35:57.589039Z",
          "shell.execute_reply": "2023-08-11T07:35:57.587869Z",
          "shell.execute_reply.started": "2023-08-11T07:33:25.427892Z"
        },
        "id": "KPIFec-C9-QC",
        "outputId": "66b4a5ab-792d-4be0-99f3-c4bb68e64f3a",
        "trusted": true
      },
      "outputs": [
        {
          "name": "stdout",
          "output_type": "stream",
          "text": [
            "\u001b[1mbert-base-multilingual-uncased-2-labels-With-Neutrals-N-64-M-64-head+tail\u001b[0m\n",
            "Classification Report Translated Test Set\n",
            "+----------+-------------+----------+------------+-----------+\n",
            "| Class    |   Precision |   Recall |   F1-Score |   Support |\n",
            "|----------+-------------+----------+------------+-----------|\n",
            "| Negative |      0.9362 |   0.7557 |     0.8363 |      6000 |\n",
            "| Positive |      0.7952 |   0.9485 |     0.8651 |      6000 |\n",
            "+----------+-------------+----------+------------+-----------+\n",
            "Classification Report Test Set\n",
            "+----------+-------------+----------+------------+-----------+\n",
            "| Class    |   Precision |   Recall |   F1-Score |   Support |\n",
            "|----------+-------------+----------+------------+-----------|\n",
            "| Negative |      0.7880 |   0.7837 |     0.7859 |      8000 |\n",
            "| Positive |      0.8563 |   0.8594 |     0.8579 |     12000 |\n",
            "+----------+-------------+----------+------------+-----------+\n"
          ]
        }
      ],
      "source": [
        "evaluateTranslatedTestSetAndRegularTestSet(bertMultiLingualModelUncased_N_128_M_382, tokenizer, updatedDatasetMulti, translatedTestSet, targetNames, \"bert-base-multilingual-uncased-2-labels-With-Neutrals-N-64-M-64-head+tail\", batch_size=8)"
      ]
    },
    {
      "cell_type": "markdown",
      "metadata": {
        "id": "ptbAMnOA9-QD"
      },
      "source": [
        "**Two labels, With Neutrals; N=510, M=0; overall 510 tokens**"
      ]
    },
    {
      "cell_type": "code",
      "execution_count": null,
      "metadata": {
        "execution": {
          "iopub.execute_input": "2023-08-11T14:33:34.287970Z",
          "iopub.status.busy": "2023-08-11T14:33:34.287300Z",
          "iopub.status.idle": "2023-08-11T14:33:34.292557Z",
          "shell.execute_reply": "2023-08-11T14:33:34.291646Z",
          "shell.execute_reply.started": "2023-08-11T14:33:34.287933Z"
        },
        "id": "bMCu-QCL9-QD",
        "trusted": true
      },
      "outputs": [],
      "source": [
        "N = 510\n",
        "M = 0\n",
        "reviewType = \"review_body\""
      ]
    },
    {
      "cell_type": "code",
      "execution_count": null,
      "metadata": {
        "execution": {
          "iopub.execute_input": "2023-08-11T14:33:34.294638Z",
          "iopub.status.busy": "2023-08-11T14:33:34.294007Z",
          "iopub.status.idle": "2023-08-11T14:33:36.257355Z",
          "shell.execute_reply": "2023-08-11T14:33:36.256417Z",
          "shell.execute_reply.started": "2023-08-11T14:33:34.294599Z"
        },
        "id": "zfA3ibHM9-QD",
        "outputId": "e018e319-7467-49bc-f5b4-d64a26c321d6",
        "trusted": true
      },
      "outputs": [
        {
          "name": "stderr",
          "output_type": "stream",
          "text": [
            "Some weights of the model checkpoint at bert-base-multilingual-uncased were not used when initializing BertForSequenceClassification: ['cls.predictions.transform.LayerNorm.bias', 'cls.predictions.transform.dense.weight', 'cls.predictions.transform.dense.bias', 'cls.seq_relationship.weight', 'cls.predictions.bias', 'cls.predictions.transform.LayerNorm.weight', 'cls.seq_relationship.bias']\n",
            "- This IS expected if you are initializing BertForSequenceClassification from the checkpoint of a model trained on another task or with another architecture (e.g. initializing a BertForSequenceClassification model from a BertForPreTraining model).\n",
            "- This IS NOT expected if you are initializing BertForSequenceClassification from the checkpoint of a model that you expect to be exactly identical (initializing a BertForSequenceClassification model from a BertForSequenceClassification model).\n",
            "Some weights of BertForSequenceClassification were not initialized from the model checkpoint at bert-base-multilingual-uncased and are newly initialized: ['classifier.weight', 'classifier.bias']\n",
            "You should probably TRAIN this model on a down-stream task to be able to use it for predictions and inference.\n"
          ]
        }
      ],
      "source": [
        "bertMultiLingualModelUncased_N_510_M_0 = BertForSequenceClassification.from_pretrained(\"bert-base-multilingual-uncased\", num_labels=numLabels)"
      ]
    },
    {
      "cell_type": "code",
      "execution_count": null,
      "metadata": {
        "execution": {
          "iopub.execute_input": "2023-08-11T14:33:36.260515Z",
          "iopub.status.busy": "2023-08-11T14:33:36.260088Z",
          "iopub.status.idle": "2023-08-11T14:33:36.267597Z",
          "shell.execute_reply": "2023-08-11T14:33:36.266692Z",
          "shell.execute_reply.started": "2023-08-11T14:33:36.260479Z"
        },
        "id": "zwKk7Ut19-QD",
        "trusted": true
      },
      "outputs": [],
      "source": [
        "training_args = TrainingArguments(output_dir=\"test_trainer\", optim=\"adamw_torch\", warmup_steps=10000, num_train_epochs=1, weight_decay=1e-1, evaluation_strategy=\"epoch\", save_strategy = saveStrategy)"
      ]
    },
    {
      "cell_type": "code",
      "execution_count": null,
      "metadata": {
        "colab": {
          "referenced_widgets": [
            "81eca1c6c81a4474b74e9a56f5479fd6",
            "cde7bf79db294e4cb65eed9a3341dee6",
            "26dd6d36f56d43ca98614137ba789787"
          ]
        },
        "execution": {
          "iopub.execute_input": "2023-08-11T14:33:36.269937Z",
          "iopub.status.busy": "2023-08-11T14:33:36.268974Z",
          "iopub.status.idle": "2023-08-11T16:41:24.773293Z",
          "shell.execute_reply": "2023-08-11T16:41:24.772063Z",
          "shell.execute_reply.started": "2023-08-11T14:33:36.269885Z"
        },
        "id": "mS5UrE_n9-QD",
        "outputId": "7fb65f9a-1801-41ce-bfe3-90eb39a2f105",
        "trusted": true
      },
      "outputs": [
        {
          "data": {
            "application/vnd.jupyter.widget-view+json": {
              "model_id": "81eca1c6c81a4474b74e9a56f5479fd6",
              "version_major": 2,
              "version_minor": 0
            },
            "text/plain": [
              "  0%|          | 0/800 [00:00<?, ?ba/s]"
            ]
          },
          "metadata": {},
          "output_type": "display_data"
        },
        {
          "name": "stderr",
          "output_type": "stream",
          "text": [
            "Token indices sequence length is longer than the specified maximum sequence length for this model (544 > 512). Running this sequence through the model will result in indexing errors\n"
          ]
        },
        {
          "data": {
            "application/vnd.jupyter.widget-view+json": {
              "model_id": "cde7bf79db294e4cb65eed9a3341dee6",
              "version_major": 2,
              "version_minor": 0
            },
            "text/plain": [
              "  0%|          | 0/20 [00:00<?, ?ba/s]"
            ]
          },
          "metadata": {},
          "output_type": "display_data"
        },
        {
          "data": {
            "application/vnd.jupyter.widget-view+json": {
              "model_id": "26dd6d36f56d43ca98614137ba789787",
              "version_major": 2,
              "version_minor": 0
            },
            "text/plain": [
              "  0%|          | 0/20 [00:00<?, ?ba/s]"
            ]
          },
          "metadata": {},
          "output_type": "display_data"
        },
        {
          "name": "stderr",
          "output_type": "stream",
          "text": [
            "\u001b[34m\u001b[1mwandb\u001b[0m: Logging into wandb.ai. (Learn how to deploy a W&B server locally: https://wandb.me/wandb-server)\n",
            "\u001b[34m\u001b[1mwandb\u001b[0m: You can find your API key in your browser here: https://wandb.ai/authorize\n",
            "\u001b[34m\u001b[1mwandb\u001b[0m: Paste an API key from your profile and hit enter, or press ctrl+c to quit:"
          ]
        },
        {
          "name": "stdout",
          "output_type": "stream",
          "text": [
            "  ········································\n"
          ]
        },
        {
          "name": "stderr",
          "output_type": "stream",
          "text": [
            "\u001b[34m\u001b[1mwandb\u001b[0m: Appending key for api.wandb.ai to your netrc file: /root/.netrc\n"
          ]
        },
        {
          "data": {
            "text/html": [
              "wandb version 0.15.8 is available!  To upgrade, please run:\n",
              " $ pip install wandb --upgrade"
            ],
            "text/plain": [
              "<IPython.core.display.HTML object>"
            ]
          },
          "metadata": {},
          "output_type": "display_data"
        },
        {
          "data": {
            "text/html": [
              "Tracking run with wandb version 0.15.5"
            ],
            "text/plain": [
              "<IPython.core.display.HTML object>"
            ]
          },
          "metadata": {},
          "output_type": "display_data"
        },
        {
          "data": {
            "text/html": [
              "Run data is saved locally in <code>/kaggle/working/wandb/run-20230811_144429-qzfj4dhq</code>"
            ],
            "text/plain": [
              "<IPython.core.display.HTML object>"
            ]
          },
          "metadata": {},
          "output_type": "display_data"
        },
        {
          "data": {
            "text/html": [
              "Syncing run <strong><a href='https://wandb.ai/nadav_igor/huggingface/runs/qzfj4dhq' target=\"_blank\">skilled-firefly-33</a></strong> to <a href='https://wandb.ai/nadav_igor/huggingface' target=\"_blank\">Weights & Biases</a> (<a href='https://wandb.me/run' target=\"_blank\">docs</a>)<br/>"
            ],
            "text/plain": [
              "<IPython.core.display.HTML object>"
            ]
          },
          "metadata": {},
          "output_type": "display_data"
        },
        {
          "data": {
            "text/html": [
              " View project at <a href='https://wandb.ai/nadav_igor/huggingface' target=\"_blank\">https://wandb.ai/nadav_igor/huggingface</a>"
            ],
            "text/plain": [
              "<IPython.core.display.HTML object>"
            ]
          },
          "metadata": {},
          "output_type": "display_data"
        },
        {
          "data": {
            "text/html": [
              " View run at <a href='https://wandb.ai/nadav_igor/huggingface/runs/qzfj4dhq' target=\"_blank\">https://wandb.ai/nadav_igor/huggingface/runs/qzfj4dhq</a>"
            ],
            "text/plain": [
              "<IPython.core.display.HTML object>"
            ]
          },
          "metadata": {},
          "output_type": "display_data"
        },
        {
          "data": {
            "text/html": [
              "\n",
              "    <div>\n",
              "      \n",
              "      <progress value='15000' max='15000' style='width:300px; height:20px; vertical-align: middle;'></progress>\n",
              "      [15000/15000 1:56:19, Epoch 1/1]\n",
              "    </div>\n",
              "    <table border=\"1\" class=\"dataframe\">\n",
              "  <thead>\n",
              " <tr style=\"text-align: left;\">\n",
              "      <th>Epoch</th>\n",
              "      <th>Training Loss</th>\n",
              "      <th>Validation Loss</th>\n",
              "      <th>Accuracy</th>\n",
              "    </tr>\n",
              "  </thead>\n",
              "  <tbody>\n",
              "    <tr>\n",
              "      <td>1</td>\n",
              "      <td>0.630300</td>\n",
              "      <td>0.586970</td>\n",
              "      <td>0.694850</td>\n",
              "    </tr>\n",
              "  </tbody>\n",
              "</table><p>"
            ],
            "text/plain": [
              "<IPython.core.display.HTML object>"
            ]
          },
          "metadata": {},
          "output_type": "display_data"
        }
      ],
      "source": [
        "train(bertMultiLingualModelUncased_N_510_M_0, training_args, updatedDatasetMulti, 120000, \"amazon\")"
      ]
    },
    {
      "cell_type": "code",
      "execution_count": null,
      "metadata": {
        "execution": {
          "iopub.execute_input": "2023-08-11T16:41:24.776110Z",
          "iopub.status.busy": "2023-08-11T16:41:24.774739Z",
          "iopub.status.idle": "2023-08-11T16:50:54.650516Z",
          "shell.execute_reply": "2023-08-11T16:50:54.649354Z",
          "shell.execute_reply.started": "2023-08-11T16:41:24.776071Z"
        },
        "id": "iYeUz4Mm9-QD",
        "outputId": "2ebb4859-16d2-4cd3-bf83-e3e85ac5d759",
        "trusted": true
      },
      "outputs": [
        {
          "name": "stdout",
          "output_type": "stream",
          "text": [
            "\u001b[1mbert-base-multilingual-uncased-2-labels-With-Neutrals-N-510-M-0-head-only\u001b[0m\n",
            "Classification Report Translated Test Set\n",
            "+----------+-------------+----------+------------+-----------+\n",
            "| Class    |   Precision |   Recall |   F1-Score |   Support |\n",
            "|----------+-------------+----------+------------+-----------|\n",
            "| Negative |      0.8410 |   0.6058 |     0.7043 |      6000 |\n",
            "| Positive |      0.6920 |   0.8855 |     0.7769 |      6000 |\n",
            "+----------+-------------+----------+------------+-----------+\n",
            "Classification Report Test Set\n",
            "+----------+-------------+----------+------------+-----------+\n",
            "| Class    |   Precision |   Recall |   F1-Score |   Support |\n",
            "|----------+-------------+----------+------------+-----------|\n",
            "| Negative |      0.6258 |   0.6472 |     0.6364 |      8000 |\n",
            "| Positive |      0.7593 |   0.7420 |     0.7506 |     12000 |\n",
            "+----------+-------------+----------+------------+-----------+\n"
          ]
        }
      ],
      "source": [
        "evaluateTranslatedTestSetAndRegularTestSet(bertMultiLingualModelUncased_N_510_M_0, tokenizer, updatedDatasetMulti, translatedTestSet, targetNames, \"bert-base-multilingual-uncased-2-labels-With-Neutrals-N-510-M-0-head-only\", batch_size=8)"
      ]
    },
    {
      "cell_type": "markdown",
      "metadata": {
        "id": "NR_7QBzT9-QD"
      },
      "source": [
        "**Two labels, With Neutrals; N=0, M=510; overall 510 tokens**"
      ]
    },
    {
      "cell_type": "code",
      "execution_count": null,
      "metadata": {
        "execution": {
          "iopub.execute_input": "2023-08-11T16:50:54.654535Z",
          "iopub.status.busy": "2023-08-11T16:50:54.653877Z",
          "iopub.status.idle": "2023-08-11T16:50:54.660172Z",
          "shell.execute_reply": "2023-08-11T16:50:54.658987Z",
          "shell.execute_reply.started": "2023-08-11T16:50:54.654501Z"
        },
        "id": "ese9c-ND9-QD",
        "trusted": true
      },
      "outputs": [],
      "source": [
        "N = 0\n",
        "M = 510\n",
        "reviewType = \"review_body\""
      ]
    },
    {
      "cell_type": "code",
      "execution_count": null,
      "metadata": {
        "execution": {
          "iopub.execute_input": "2023-08-11T16:50:54.662555Z",
          "iopub.status.busy": "2023-08-11T16:50:54.661854Z",
          "iopub.status.idle": "2023-08-11T16:50:56.585582Z",
          "shell.execute_reply": "2023-08-11T16:50:56.583046Z",
          "shell.execute_reply.started": "2023-08-11T16:50:54.662516Z"
        },
        "id": "Ad0AJThk9-QD",
        "outputId": "096e1111-d6d0-41f2-e372-c87f4cd0e367",
        "trusted": true
      },
      "outputs": [
        {
          "name": "stderr",
          "output_type": "stream",
          "text": [
            "Some weights of the model checkpoint at bert-base-multilingual-uncased were not used when initializing BertForSequenceClassification: ['cls.predictions.transform.LayerNorm.bias', 'cls.predictions.transform.dense.weight', 'cls.predictions.transform.dense.bias', 'cls.seq_relationship.weight', 'cls.predictions.bias', 'cls.predictions.transform.LayerNorm.weight', 'cls.seq_relationship.bias']\n",
            "- This IS expected if you are initializing BertForSequenceClassification from the checkpoint of a model trained on another task or with another architecture (e.g. initializing a BertForSequenceClassification model from a BertForPreTraining model).\n",
            "- This IS NOT expected if you are initializing BertForSequenceClassification from the checkpoint of a model that you expect to be exactly identical (initializing a BertForSequenceClassification model from a BertForSequenceClassification model).\n",
            "Some weights of BertForSequenceClassification were not initialized from the model checkpoint at bert-base-multilingual-uncased and are newly initialized: ['classifier.weight', 'classifier.bias']\n",
            "You should probably TRAIN this model on a down-stream task to be able to use it for predictions and inference.\n"
          ]
        }
      ],
      "source": [
        "bertMultiLingualModelUncased_N_0_M_510 = BertForSequenceClassification.from_pretrained(\"bert-base-multilingual-uncased\", num_labels=numLabels)"
      ]
    },
    {
      "cell_type": "code",
      "execution_count": null,
      "metadata": {
        "execution": {
          "iopub.execute_input": "2023-08-11T16:50:56.592671Z",
          "iopub.status.busy": "2023-08-11T16:50:56.590347Z",
          "iopub.status.idle": "2023-08-11T16:50:56.602345Z",
          "shell.execute_reply": "2023-08-11T16:50:56.601435Z",
          "shell.execute_reply.started": "2023-08-11T16:50:56.592636Z"
        },
        "id": "kT6eN33t9-QD",
        "trusted": true
      },
      "outputs": [],
      "source": [
        "training_args = TrainingArguments(output_dir=\"test_trainer\", optim=\"adamw_torch\", warmup_steps=10000, num_train_epochs=1, weight_decay=1e-1, evaluation_strategy=\"epoch\", save_strategy = saveStrategy)"
      ]
    },
    {
      "cell_type": "code",
      "execution_count": null,
      "metadata": {
        "colab": {
          "referenced_widgets": [
            "48b7dfdf3333478699418ad349bd7b46",
            "01a7972684d945a8af3bcbaae1066d12",
            "af80ecf43c204a43949bb07aaa8995e5"
          ]
        },
        "execution": {
          "iopub.execute_input": "2023-08-11T16:50:56.610057Z",
          "iopub.status.busy": "2023-08-11T16:50:56.606567Z",
          "iopub.status.idle": "2023-08-11T18:58:14.292021Z",
          "shell.execute_reply": "2023-08-11T18:58:14.287803Z",
          "shell.execute_reply.started": "2023-08-11T16:50:56.610017Z"
        },
        "id": "GkJxscC49-QD",
        "outputId": "0c1410aa-24db-46ee-9831-db3e540f0191",
        "trusted": true
      },
      "outputs": [
        {
          "data": {
            "application/vnd.jupyter.widget-view+json": {
              "model_id": "48b7dfdf3333478699418ad349bd7b46",
              "version_major": 2,
              "version_minor": 0
            },
            "text/plain": [
              "  0%|          | 0/800 [00:00<?, ?ba/s]"
            ]
          },
          "metadata": {},
          "output_type": "display_data"
        },
        {
          "data": {
            "application/vnd.jupyter.widget-view+json": {
              "model_id": "01a7972684d945a8af3bcbaae1066d12",
              "version_major": 2,
              "version_minor": 0
            },
            "text/plain": [
              "  0%|          | 0/20 [00:00<?, ?ba/s]"
            ]
          },
          "metadata": {},
          "output_type": "display_data"
        },
        {
          "data": {
            "application/vnd.jupyter.widget-view+json": {
              "model_id": "af80ecf43c204a43949bb07aaa8995e5",
              "version_major": 2,
              "version_minor": 0
            },
            "text/plain": [
              "  0%|          | 0/20 [00:00<?, ?ba/s]"
            ]
          },
          "metadata": {},
          "output_type": "display_data"
        },
        {
          "data": {
            "text/html": [
              "\n",
              "    <div>\n",
              "      \n",
              "      <progress value='15000' max='15000' style='width:300px; height:20px; vertical-align: middle;'></progress>\n",
              "      [15000/15000 1:56:26, Epoch 1/1]\n",
              "    </div>\n",
              "    <table border=\"1\" class=\"dataframe\">\n",
              "  <thead>\n",
              " <tr style=\"text-align: left;\">\n",
              "      <th>Epoch</th>\n",
              "      <th>Training Loss</th>\n",
              "      <th>Validation Loss</th>\n",
              "      <th>Accuracy</th>\n",
              "    </tr>\n",
              "  </thead>\n",
              "  <tbody>\n",
              "    <tr>\n",
              "      <td>1</td>\n",
              "      <td>0.404700</td>\n",
              "      <td>0.394215</td>\n",
              "      <td>0.822650</td>\n",
              "    </tr>\n",
              "  </tbody>\n",
              "</table><p>"
            ],
            "text/plain": [
              "<IPython.core.display.HTML object>"
            ]
          },
          "metadata": {},
          "output_type": "display_data"
        }
      ],
      "source": [
        "train(bertMultiLingualModelUncased_N_0_M_510, training_args, updatedDatasetMulti, 120000, \"amazon\")"
      ]
    },
    {
      "cell_type": "code",
      "execution_count": null,
      "metadata": {
        "execution": {
          "iopub.execute_input": "2023-08-11T18:58:14.297323Z",
          "iopub.status.busy": "2023-08-11T18:58:14.296679Z",
          "iopub.status.idle": "2023-08-11T19:07:44.143238Z",
          "shell.execute_reply": "2023-08-11T19:07:44.142093Z",
          "shell.execute_reply.started": "2023-08-11T18:58:14.297293Z"
        },
        "id": "zyw6SWJi9-QD",
        "outputId": "d5117b60-96c4-4c15-fe81-442fe857ccc4",
        "trusted": true
      },
      "outputs": [
        {
          "name": "stdout",
          "output_type": "stream",
          "text": [
            "\u001b[1mbert-base-multilingual-uncased-2-labels-With-Neutrals-N-0-M-510-tail-only\u001b[0m\n",
            "Classification Report Translated Test Set\n",
            "+----------+-------------+----------+------------+-----------+\n",
            "| Class    |   Precision |   Recall |   F1-Score |   Support |\n",
            "|----------+-------------+----------+------------+-----------|\n",
            "| Negative |      0.9330 |   0.7897 |     0.8554 |      6000 |\n",
            "| Positive |      0.8177 |   0.9433 |     0.8760 |      6000 |\n",
            "+----------+-------------+----------+------------+-----------+\n",
            "Classification Report Test Set\n",
            "+----------+-------------+----------+------------+-----------+\n",
            "| Class    |   Precision |   Recall |   F1-Score |   Support |\n",
            "|----------+-------------+----------+------------+-----------|\n",
            "| Negative |      0.7779 |   0.8176 |     0.7972 |      8000 |\n",
            "| Positive |      0.8741 |   0.8443 |     0.8590 |     12000 |\n",
            "+----------+-------------+----------+------------+-----------+\n"
          ]
        }
      ],
      "source": [
        "evaluateTranslatedTestSetAndRegularTestSet(bertMultiLingualModelUncased_N_0_M_510, tokenizer, updatedDatasetMulti, translatedTestSet, targetNames, \"bert-base-multilingual-uncased-2-labels-With-Neutrals-N-0-M-510-tail-only\", batch_size=8)"
      ]
    },
    {
      "cell_type": "markdown",
      "metadata": {
        "id": "yOcYjDnN9-QD"
      },
      "source": [
        "**NO NEUTRALS**"
      ]
    },
    {
      "cell_type": "code",
      "execution_count": null,
      "metadata": {
        "execution": {
          "iopub.execute_input": "2023-08-11T19:07:44.148224Z",
          "iopub.status.busy": "2023-08-11T19:07:44.147890Z",
          "iopub.status.idle": "2023-08-11T19:08:51.892901Z",
          "shell.execute_reply": "2023-08-11T19:08:51.891827Z",
          "shell.execute_reply.started": "2023-08-11T19:07:44.148197Z"
        },
        "id": "JhKHDITp9-QE",
        "trusted": true
      },
      "outputs": [],
      "source": [
        "multi_dataset['train'] = datasets.Dataset.from_pandas(removeNeutrals(multi_dataset['train']))\n",
        "multi_dataset['validation'] = datasets.Dataset.from_pandas(removeNeutrals(multi_dataset['validation']))\n",
        "multi_dataset['test'] = datasets.Dataset.from_pandas(removeNeutrals(multi_dataset['test']))"
      ]
    },
    {
      "cell_type": "code",
      "execution_count": null,
      "metadata": {
        "colab": {
          "referenced_widgets": [
            "b0789ee3df2144bab19bcb11922782cd",
            "09f47d4cd9f54bc78e1228c51589e97f",
            "bad1a043393e47009e7b7f5541d0d99d"
          ]
        },
        "execution": {
          "iopub.execute_input": "2023-08-11T19:08:51.900788Z",
          "iopub.status.busy": "2023-08-11T19:08:51.898243Z",
          "iopub.status.idle": "2023-08-11T19:09:55.916010Z",
          "shell.execute_reply": "2023-08-11T19:09:55.914973Z",
          "shell.execute_reply.started": "2023-08-11T19:08:51.900752Z"
        },
        "id": "7gYGZQMK9-QE",
        "outputId": "4c05016c-74cd-4cd9-e638-82350b15f1a9",
        "trusted": true
      },
      "outputs": [
        {
          "data": {
            "application/vnd.jupyter.widget-view+json": {
              "model_id": "b0789ee3df2144bab19bcb11922782cd",
              "version_major": 2,
              "version_minor": 0
            },
            "text/plain": [
              "  0%|          | 0/640000 [00:00<?, ?ex/s]"
            ]
          },
          "metadata": {},
          "output_type": "display_data"
        },
        {
          "data": {
            "application/vnd.jupyter.widget-view+json": {
              "model_id": "09f47d4cd9f54bc78e1228c51589e97f",
              "version_major": 2,
              "version_minor": 0
            },
            "text/plain": [
              "  0%|          | 0/16000 [00:00<?, ?ex/s]"
            ]
          },
          "metadata": {},
          "output_type": "display_data"
        },
        {
          "data": {
            "application/vnd.jupyter.widget-view+json": {
              "model_id": "bad1a043393e47009e7b7f5541d0d99d",
              "version_major": 2,
              "version_minor": 0
            },
            "text/plain": [
              "  0%|          | 0/16000 [00:00<?, ?ex/s]"
            ]
          },
          "metadata": {},
          "output_type": "display_data"
        }
      ],
      "source": [
        "updatedDatasetMulti = multi_dataset.map(changeToBinary)"
      ]
    },
    {
      "cell_type": "code",
      "execution_count": null,
      "metadata": {
        "execution": {
          "iopub.execute_input": "2023-08-11T19:09:55.925999Z",
          "iopub.status.busy": "2023-08-11T19:09:55.922602Z",
          "iopub.status.idle": "2023-08-11T19:09:56.682136Z",
          "shell.execute_reply": "2023-08-11T19:09:56.680886Z",
          "shell.execute_reply.started": "2023-08-11T19:09:55.925970Z"
        },
        "id": "fh7KByW29-QE",
        "trusted": true
      },
      "outputs": [],
      "source": [
        "tokenizer = AutoTokenizer.from_pretrained(\"bert-base-multilingual-cased\")\n",
        "numLabels = 2\n",
        "targetNames = ['Negative', 'Positive']"
      ]
    },
    {
      "cell_type": "markdown",
      "metadata": {
        "id": "w1PkchMR9-QE"
      },
      "source": [
        "**Two labels, No Neutrals; N=128, M=382; overall 510 tokens**"
      ]
    },
    {
      "cell_type": "code",
      "execution_count": null,
      "metadata": {
        "execution": {
          "iopub.execute_input": "2023-08-11T19:09:56.684669Z",
          "iopub.status.busy": "2023-08-11T19:09:56.683970Z",
          "iopub.status.idle": "2023-08-11T19:09:56.695478Z",
          "shell.execute_reply": "2023-08-11T19:09:56.694291Z",
          "shell.execute_reply.started": "2023-08-11T19:09:56.684633Z"
        },
        "id": "Me0d7Ess9-QE",
        "trusted": true
      },
      "outputs": [],
      "source": [
        "N = 128\n",
        "M = 382\n",
        "reviewType = \"review_body\""
      ]
    },
    {
      "cell_type": "code",
      "execution_count": null,
      "metadata": {
        "colab": {
          "referenced_widgets": [
            "3c6ab4d38e034f55b946ff5798a9d9a0"
          ]
        },
        "execution": {
          "iopub.execute_input": "2023-08-11T19:09:56.698165Z",
          "iopub.status.busy": "2023-08-11T19:09:56.696824Z",
          "iopub.status.idle": "2023-08-11T19:10:07.979853Z",
          "shell.execute_reply": "2023-08-11T19:10:07.978702Z",
          "shell.execute_reply.started": "2023-08-11T19:09:56.698082Z"
        },
        "id": "hQta4X-79-QE",
        "outputId": "5d7df002-70e4-4ff7-f44a-4d8d703a56a3",
        "trusted": true
      },
      "outputs": [
        {
          "data": {
            "application/vnd.jupyter.widget-view+json": {
              "model_id": "3c6ab4d38e034f55b946ff5798a9d9a0",
              "version_major": 2,
              "version_minor": 0
            },
            "text/plain": [
              "Downloading model.safetensors:   0%|          | 0.00/714M [00:00<?, ?B/s]"
            ]
          },
          "metadata": {},
          "output_type": "display_data"
        },
        {
          "name": "stderr",
          "output_type": "stream",
          "text": [
            "Some weights of the model checkpoint at bert-base-multilingual-cased were not used when initializing BertForSequenceClassification: ['cls.predictions.transform.LayerNorm.bias', 'cls.predictions.transform.dense.weight', 'cls.predictions.transform.dense.bias', 'cls.seq_relationship.weight', 'cls.predictions.bias', 'cls.predictions.transform.LayerNorm.weight', 'cls.seq_relationship.bias']\n",
            "- This IS expected if you are initializing BertForSequenceClassification from the checkpoint of a model trained on another task or with another architecture (e.g. initializing a BertForSequenceClassification model from a BertForPreTraining model).\n",
            "- This IS NOT expected if you are initializing BertForSequenceClassification from the checkpoint of a model that you expect to be exactly identical (initializing a BertForSequenceClassification model from a BertForSequenceClassification model).\n",
            "Some weights of BertForSequenceClassification were not initialized from the model checkpoint at bert-base-multilingual-cased and are newly initialized: ['classifier.weight', 'classifier.bias']\n",
            "You should probably TRAIN this model on a down-stream task to be able to use it for predictions and inference.\n"
          ]
        }
      ],
      "source": [
        "bertMultiLingualModel_N_128_M_382 = BertForSequenceClassification.from_pretrained(\"bert-base-multilingual-cased\", num_labels=2)"
      ]
    },
    {
      "cell_type": "code",
      "execution_count": null,
      "metadata": {
        "execution": {
          "iopub.execute_input": "2023-08-11T19:10:07.989768Z",
          "iopub.status.busy": "2023-08-11T19:10:07.985365Z",
          "iopub.status.idle": "2023-08-11T19:10:08.007067Z",
          "shell.execute_reply": "2023-08-11T19:10:08.004101Z",
          "shell.execute_reply.started": "2023-08-11T19:10:07.989722Z"
        },
        "id": "JG_0kzid9-QE",
        "trusted": true
      },
      "outputs": [],
      "source": [
        "training_args = TrainingArguments(output_dir=\"test_trainer\", optim=\"adamw_torch\", warmup_steps=10000, num_train_epochs=1, weight_decay=1e-1, evaluation_strategy=\"epoch\", save_strategy = saveStrategy)"
      ]
    },
    {
      "cell_type": "code",
      "execution_count": null,
      "metadata": {
        "colab": {
          "referenced_widgets": [
            "57a2b8a7a74a445f8aa3421c446696b4",
            "9f042563af69437f815b69ef26910a5d",
            "2767518305ee47c29c83aaa2ecc84815"
          ]
        },
        "execution": {
          "iopub.execute_input": "2023-08-11T19:10:08.009188Z",
          "iopub.status.busy": "2023-08-11T19:10:08.008592Z",
          "iopub.status.idle": "2023-08-11T21:14:00.784498Z",
          "shell.execute_reply": "2023-08-11T21:14:00.782224Z",
          "shell.execute_reply.started": "2023-08-11T19:10:08.009150Z"
        },
        "id": "wl0B4u5E9-QE",
        "outputId": "cea2c837-0aaf-4f86-9674-e4b30419ade5",
        "trusted": true
      },
      "outputs": [
        {
          "data": {
            "application/vnd.jupyter.widget-view+json": {
              "model_id": "57a2b8a7a74a445f8aa3421c446696b4",
              "version_major": 2,
              "version_minor": 0
            },
            "text/plain": [
              "  0%|          | 0/640 [00:00<?, ?ba/s]"
            ]
          },
          "metadata": {},
          "output_type": "display_data"
        },
        {
          "name": "stderr",
          "output_type": "stream",
          "text": [
            "Token indices sequence length is longer than the specified maximum sequence length for this model (568 > 512). Running this sequence through the model will result in indexing errors\n"
          ]
        },
        {
          "data": {
            "application/vnd.jupyter.widget-view+json": {
              "model_id": "9f042563af69437f815b69ef26910a5d",
              "version_major": 2,
              "version_minor": 0
            },
            "text/plain": [
              "  0%|          | 0/16 [00:00<?, ?ba/s]"
            ]
          },
          "metadata": {},
          "output_type": "display_data"
        },
        {
          "data": {
            "application/vnd.jupyter.widget-view+json": {
              "model_id": "2767518305ee47c29c83aaa2ecc84815",
              "version_major": 2,
              "version_minor": 0
            },
            "text/plain": [
              "  0%|          | 0/16 [00:00<?, ?ba/s]"
            ]
          },
          "metadata": {},
          "output_type": "display_data"
        },
        {
          "data": {
            "text/html": [
              "\n",
              "    <div>\n",
              "      \n",
              "      <progress value='15000' max='15000' style='width:300px; height:20px; vertical-align: middle;'></progress>\n",
              "      [15000/15000 1:55:41, Epoch 1/1]\n",
              "    </div>\n",
              "    <table border=\"1\" class=\"dataframe\">\n",
              "  <thead>\n",
              " <tr style=\"text-align: left;\">\n",
              "      <th>Epoch</th>\n",
              "      <th>Training Loss</th>\n",
              "      <th>Validation Loss</th>\n",
              "      <th>Accuracy</th>\n",
              "    </tr>\n",
              "  </thead>\n",
              "  <tbody>\n",
              "    <tr>\n",
              "      <td>1</td>\n",
              "      <td>0.356000</td>\n",
              "      <td>0.341616</td>\n",
              "      <td>0.886687</td>\n",
              "    </tr>\n",
              "  </tbody>\n",
              "</table><p>"
            ],
            "text/plain": [
              "<IPython.core.display.HTML object>"
            ]
          },
          "metadata": {},
          "output_type": "display_data"
        }
      ],
      "source": [
        "train(bertMultiLingualModel_N_128_M_382, training_args, updatedDatasetMulti, 120000, \"amazon\")"
      ]
    },
    {
      "cell_type": "code",
      "execution_count": null,
      "metadata": {
        "execution": {
          "iopub.execute_input": "2023-08-11T21:14:00.786791Z",
          "iopub.status.busy": "2023-08-11T21:14:00.786200Z",
          "iopub.status.idle": "2023-08-11T21:22:16.229010Z",
          "shell.execute_reply": "2023-08-11T21:22:16.228005Z",
          "shell.execute_reply.started": "2023-08-11T21:14:00.786752Z"
        },
        "id": "Fygzj28H9-QE",
        "outputId": "aec01eb8-8d39-42b1-ba4f-8af54cc734e9",
        "trusted": true
      },
      "outputs": [
        {
          "name": "stdout",
          "output_type": "stream",
          "text": [
            "\u001b[1mbert-base-multilingual-cased-2-labels-No-Neutrals-N-128-M-382-head+tail\u001b[0m\n",
            "Classification Report Translated Test Set\n",
            "+----------+-------------+----------+------------+-----------+\n",
            "| Class    |   Precision |   Recall |   F1-Score |   Support |\n",
            "|----------+-------------+----------+------------+-----------|\n",
            "| Negative |      0.8591 |   0.9320 |     0.8941 |      6000 |\n",
            "| Positive |      0.9257 |   0.8472 |     0.8847 |      6000 |\n",
            "+----------+-------------+----------+------------+-----------+\n",
            "Classification Report Test Set\n",
            "+----------+-------------+----------+------------+-----------+\n",
            "| Class    |   Precision |   Recall |   F1-Score |   Support |\n",
            "|----------+-------------+----------+------------+-----------|\n",
            "| Negative |      0.8566 |   0.9289 |     0.8913 |      8000 |\n",
            "| Positive |      0.9223 |   0.8445 |     0.8817 |      8000 |\n",
            "+----------+-------------+----------+------------+-----------+\n"
          ]
        }
      ],
      "source": [
        "evaluateTranslatedTestSetAndRegularTestSet(bertMultiLingualModel_N_128_M_382, tokenizer, updatedDatasetMulti, translatedTestSet, targetNames, \"bert-base-multilingual-cased-2-labels-No-Neutrals-N-128-M-382-head+tail\", batch_size=8)"
      ]
    },
    {
      "cell_type": "markdown",
      "metadata": {
        "id": "oiK39IZW9-QE"
      },
      "source": [
        "**Two labels, No Neutrals; N=64, M=64; overall 128 tokens**"
      ]
    },
    {
      "cell_type": "code",
      "execution_count": null,
      "metadata": {
        "execution": {
          "iopub.execute_input": "2023-08-11T21:22:16.235509Z",
          "iopub.status.busy": "2023-08-11T21:22:16.230441Z",
          "iopub.status.idle": "2023-08-11T21:22:16.241343Z",
          "shell.execute_reply": "2023-08-11T21:22:16.240323Z",
          "shell.execute_reply.started": "2023-08-11T21:22:16.235467Z"
        },
        "id": "nBYFtx_39-QE",
        "trusted": true
      },
      "outputs": [],
      "source": [
        "N = 64\n",
        "M = 64\n",
        "reviewType = \"review_body\""
      ]
    },
    {
      "cell_type": "code",
      "execution_count": null,
      "metadata": {
        "execution": {
          "iopub.execute_input": "2023-08-11T21:22:16.244149Z",
          "iopub.status.busy": "2023-08-11T21:22:16.243101Z",
          "iopub.status.idle": "2023-08-11T21:22:18.200031Z",
          "shell.execute_reply": "2023-08-11T21:22:18.199000Z",
          "shell.execute_reply.started": "2023-08-11T21:22:16.244115Z"
        },
        "id": "O1SHI3w99-QE",
        "outputId": "2846bcda-44b4-490f-db12-f99739bd69d5",
        "trusted": true
      },
      "outputs": [
        {
          "name": "stderr",
          "output_type": "stream",
          "text": [
            "Some weights of the model checkpoint at bert-base-multilingual-cased were not used when initializing BertForSequenceClassification: ['cls.predictions.transform.LayerNorm.bias', 'cls.predictions.transform.dense.weight', 'cls.predictions.transform.dense.bias', 'cls.seq_relationship.weight', 'cls.predictions.bias', 'cls.predictions.transform.LayerNorm.weight', 'cls.seq_relationship.bias']\n",
            "- This IS expected if you are initializing BertForSequenceClassification from the checkpoint of a model trained on another task or with another architecture (e.g. initializing a BertForSequenceClassification model from a BertForPreTraining model).\n",
            "- This IS NOT expected if you are initializing BertForSequenceClassification from the checkpoint of a model that you expect to be exactly identical (initializing a BertForSequenceClassification model from a BertForSequenceClassification model).\n",
            "Some weights of BertForSequenceClassification were not initialized from the model checkpoint at bert-base-multilingual-cased and are newly initialized: ['classifier.weight', 'classifier.bias']\n",
            "You should probably TRAIN this model on a down-stream task to be able to use it for predictions and inference.\n"
          ]
        }
      ],
      "source": [
        "bertMultiLingualModel_N_64_M_64 = BertForSequenceClassification.from_pretrained(\"bert-base-multilingual-cased\", num_labels=numLabels)"
      ]
    },
    {
      "cell_type": "code",
      "execution_count": null,
      "metadata": {
        "execution": {
          "iopub.execute_input": "2023-08-11T21:22:18.202571Z",
          "iopub.status.busy": "2023-08-11T21:22:18.201812Z",
          "iopub.status.idle": "2023-08-11T21:22:18.211491Z",
          "shell.execute_reply": "2023-08-11T21:22:18.210520Z",
          "shell.execute_reply.started": "2023-08-11T21:22:18.202528Z"
        },
        "id": "hjCS3BRN9-QF",
        "trusted": true
      },
      "outputs": [],
      "source": [
        "training_args = TrainingArguments(output_dir=\"test_trainer\", optim=\"adamw_torch\", warmup_steps=10000, num_train_epochs=1, weight_decay=1e-1, evaluation_strategy=\"epoch\", save_strategy = saveStrategy)"
      ]
    },
    {
      "cell_type": "code",
      "execution_count": null,
      "metadata": {
        "colab": {
          "referenced_widgets": [
            "d586dfe3c2b7492d98efc2de3979c51a",
            "44db82404f1a4f609febbcd46bcec443",
            "7635abdb57db403b992aab4371892099"
          ]
        },
        "execution": {
          "iopub.execute_input": "2023-08-11T21:22:18.214529Z",
          "iopub.status.busy": "2023-08-11T21:22:18.213437Z",
          "iopub.status.idle": "2023-08-11T22:02:20.971679Z",
          "shell.execute_reply": "2023-08-11T22:02:20.969975Z",
          "shell.execute_reply.started": "2023-08-11T21:22:18.214493Z"
        },
        "id": "3if1oTVI9-QF",
        "outputId": "8af5f756-ecda-445b-fc1c-db44c8e4c074",
        "trusted": true
      },
      "outputs": [
        {
          "data": {
            "application/vnd.jupyter.widget-view+json": {
              "model_id": "d586dfe3c2b7492d98efc2de3979c51a",
              "version_major": 2,
              "version_minor": 0
            },
            "text/plain": [
              "  0%|          | 0/640 [00:00<?, ?ba/s]"
            ]
          },
          "metadata": {},
          "output_type": "display_data"
        },
        {
          "data": {
            "application/vnd.jupyter.widget-view+json": {
              "model_id": "44db82404f1a4f609febbcd46bcec443",
              "version_major": 2,
              "version_minor": 0
            },
            "text/plain": [
              "  0%|          | 0/16 [00:00<?, ?ba/s]"
            ]
          },
          "metadata": {},
          "output_type": "display_data"
        },
        {
          "data": {
            "application/vnd.jupyter.widget-view+json": {
              "model_id": "7635abdb57db403b992aab4371892099",
              "version_major": 2,
              "version_minor": 0
            },
            "text/plain": [
              "  0%|          | 0/16 [00:00<?, ?ba/s]"
            ]
          },
          "metadata": {},
          "output_type": "display_data"
        },
        {
          "data": {
            "text/html": [
              "\n",
              "    <div>\n",
              "      \n",
              "      <progress value='15000' max='15000' style='width:300px; height:20px; vertical-align: middle;'></progress>\n",
              "      [15000/15000 34:38, Epoch 1/1]\n",
              "    </div>\n",
              "    <table border=\"1\" class=\"dataframe\">\n",
              "  <thead>\n",
              " <tr style=\"text-align: left;\">\n",
              "      <th>Epoch</th>\n",
              "      <th>Training Loss</th>\n",
              "      <th>Validation Loss</th>\n",
              "      <th>Accuracy</th>\n",
              "    </tr>\n",
              "  </thead>\n",
              "  <tbody>\n",
              "    <tr>\n",
              "      <td>1</td>\n",
              "      <td>0.323500</td>\n",
              "      <td>0.298463</td>\n",
              "      <td>0.901875</td>\n",
              "    </tr>\n",
              "  </tbody>\n",
              "</table><p>"
            ],
            "text/plain": [
              "<IPython.core.display.HTML object>"
            ]
          },
          "metadata": {},
          "output_type": "display_data"
        }
      ],
      "source": [
        "train(bertMultiLingualModel_N_64_M_64, training_args, updatedDatasetMulti, 120000, \"amazon\")"
      ]
    },
    {
      "cell_type": "code",
      "execution_count": null,
      "metadata": {
        "execution": {
          "iopub.execute_input": "2023-08-11T22:02:20.979136Z",
          "iopub.status.busy": "2023-08-11T22:02:20.975292Z",
          "iopub.status.idle": "2023-08-11T22:04:30.171353Z",
          "shell.execute_reply": "2023-08-11T22:04:30.170216Z",
          "shell.execute_reply.started": "2023-08-11T22:02:20.979098Z"
        },
        "id": "HkQKK8up9-QF",
        "outputId": "b5d208d1-d3d3-4280-fd90-afa352598be9",
        "trusted": true
      },
      "outputs": [
        {
          "name": "stdout",
          "output_type": "stream",
          "text": [
            "\u001b[1mbert-base-multilingual-cased-2-labels-No-Neutrals-N-64-M-64-head+tail\u001b[0m\n",
            "Classification Report Translated Test Set\n",
            "+----------+-------------+----------+------------+-----------+\n",
            "| Class    |   Precision |   Recall |   F1-Score |   Support |\n",
            "|----------+-------------+----------+------------+-----------|\n",
            "| Negative |      0.8870 |   0.9240 |     0.9051 |      6000 |\n",
            "| Positive |      0.9207 |   0.8823 |     0.9011 |      6000 |\n",
            "+----------+-------------+----------+------------+-----------+\n",
            "Classification Report Test Set\n",
            "+----------+-------------+----------+------------+-----------+\n",
            "| Class    |   Precision |   Recall |   F1-Score |   Support |\n",
            "|----------+-------------+----------+------------+-----------|\n",
            "| Negative |      0.8903 |   0.9276 |     0.9086 |      8000 |\n",
            "| Positive |      0.9245 |   0.8858 |     0.9047 |      8000 |\n",
            "+----------+-------------+----------+------------+-----------+\n"
          ]
        }
      ],
      "source": [
        "evaluateTranslatedTestSetAndRegularTestSet(bertMultiLingualModel_N_64_M_64, tokenizer, updatedDatasetMulti, translatedTestSet, targetNames, \"bert-base-multilingual-cased-2-labels-No-Neutrals-N-64-M-64-head+tail\", batch_size=8)"
      ]
    },
    {
      "cell_type": "markdown",
      "metadata": {
        "id": "Y4n8r6YQ9-QF"
      },
      "source": [
        "**Two labels, No Neutrals; N=510, M=0; overall 510 tokens**"
      ]
    },
    {
      "cell_type": "code",
      "execution_count": null,
      "metadata": {
        "execution": {
          "iopub.execute_input": "2023-08-11T22:04:30.173990Z",
          "iopub.status.busy": "2023-08-11T22:04:30.173291Z",
          "iopub.status.idle": "2023-08-11T22:04:30.181224Z",
          "shell.execute_reply": "2023-08-11T22:04:30.180197Z",
          "shell.execute_reply.started": "2023-08-11T22:04:30.173953Z"
        },
        "id": "GhtPfxX19-QF",
        "trusted": true
      },
      "outputs": [],
      "source": [
        "N = 510\n",
        "M = 0\n",
        "reviewType = \"review_body\""
      ]
    },
    {
      "cell_type": "code",
      "execution_count": null,
      "metadata": {
        "execution": {
          "iopub.execute_input": "2023-08-11T22:04:30.183849Z",
          "iopub.status.busy": "2023-08-11T22:04:30.183150Z",
          "iopub.status.idle": "2023-08-11T22:04:32.482964Z",
          "shell.execute_reply": "2023-08-11T22:04:32.481905Z",
          "shell.execute_reply.started": "2023-08-11T22:04:30.183813Z"
        },
        "id": "WHL6LM_69-QF",
        "outputId": "bda8c611-5ae6-4b91-932d-41453dc36617",
        "trusted": true
      },
      "outputs": [
        {
          "name": "stderr",
          "output_type": "stream",
          "text": [
            "Some weights of the model checkpoint at bert-base-multilingual-cased were not used when initializing BertForSequenceClassification: ['cls.predictions.transform.LayerNorm.bias', 'cls.predictions.transform.dense.weight', 'cls.predictions.transform.dense.bias', 'cls.seq_relationship.weight', 'cls.predictions.bias', 'cls.predictions.transform.LayerNorm.weight', 'cls.seq_relationship.bias']\n",
            "- This IS expected if you are initializing BertForSequenceClassification from the checkpoint of a model trained on another task or with another architecture (e.g. initializing a BertForSequenceClassification model from a BertForPreTraining model).\n",
            "- This IS NOT expected if you are initializing BertForSequenceClassification from the checkpoint of a model that you expect to be exactly identical (initializing a BertForSequenceClassification model from a BertForSequenceClassification model).\n",
            "Some weights of BertForSequenceClassification were not initialized from the model checkpoint at bert-base-multilingual-cased and are newly initialized: ['classifier.weight', 'classifier.bias']\n",
            "You should probably TRAIN this model on a down-stream task to be able to use it for predictions and inference.\n"
          ]
        }
      ],
      "source": [
        "bertMultiLingualModel_N_510_M_0 = BertForSequenceClassification.from_pretrained(\"bert-base-multilingual-cased\", num_labels=numLabels)"
      ]
    },
    {
      "cell_type": "code",
      "execution_count": null,
      "metadata": {
        "execution": {
          "iopub.execute_input": "2023-08-11T22:04:32.490342Z",
          "iopub.status.busy": "2023-08-11T22:04:32.487838Z",
          "iopub.status.idle": "2023-08-11T22:04:32.499355Z",
          "shell.execute_reply": "2023-08-11T22:04:32.497681Z",
          "shell.execute_reply.started": "2023-08-11T22:04:32.490302Z"
        },
        "id": "sHhejo0w9-QF",
        "trusted": true
      },
      "outputs": [],
      "source": [
        "training_args = TrainingArguments(output_dir=\"test_trainer\", optim=\"adamw_torch\", warmup_steps=10000, num_train_epochs=1, weight_decay=1e-1, evaluation_strategy=\"epoch\", save_strategy = saveStrategy)"
      ]
    },
    {
      "cell_type": "code",
      "execution_count": null,
      "metadata": {
        "colab": {
          "referenced_widgets": [
            "7e1e7aa188e347c9aff92beddc095825",
            "40395fecef4245ada5c2088e62913497",
            "332553ed788747ed8ce5978ab3d5a87a"
          ]
        },
        "execution": {
          "iopub.execute_input": "2023-08-11T22:04:32.500955Z",
          "iopub.status.busy": "2023-08-11T22:04:32.500587Z",
          "iopub.status.idle": "2023-08-12T00:08:05.913439Z",
          "shell.execute_reply": "2023-08-12T00:08:05.912367Z",
          "shell.execute_reply.started": "2023-08-11T22:04:32.500894Z"
        },
        "id": "d57wBfZe9-QF",
        "outputId": "9151e9fa-6d5f-4e00-aaa2-af382a8516e0",
        "trusted": true
      },
      "outputs": [
        {
          "data": {
            "application/vnd.jupyter.widget-view+json": {
              "model_id": "7e1e7aa188e347c9aff92beddc095825",
              "version_major": 2,
              "version_minor": 0
            },
            "text/plain": [
              "  0%|          | 0/640 [00:00<?, ?ba/s]"
            ]
          },
          "metadata": {},
          "output_type": "display_data"
        },
        {
          "data": {
            "application/vnd.jupyter.widget-view+json": {
              "model_id": "40395fecef4245ada5c2088e62913497",
              "version_major": 2,
              "version_minor": 0
            },
            "text/plain": [
              "  0%|          | 0/16 [00:00<?, ?ba/s]"
            ]
          },
          "metadata": {},
          "output_type": "display_data"
        },
        {
          "data": {
            "application/vnd.jupyter.widget-view+json": {
              "model_id": "332553ed788747ed8ce5978ab3d5a87a",
              "version_major": 2,
              "version_minor": 0
            },
            "text/plain": [
              "  0%|          | 0/16 [00:00<?, ?ba/s]"
            ]
          },
          "metadata": {},
          "output_type": "display_data"
        },
        {
          "data": {
            "text/html": [
              "\n",
              "    <div>\n",
              "      \n",
              "      <progress value='15000' max='15000' style='width:300px; height:20px; vertical-align: middle;'></progress>\n",
              "      [15000/15000 1:55:24, Epoch 1/1]\n",
              "    </div>\n",
              "    <table border=\"1\" class=\"dataframe\">\n",
              "  <thead>\n",
              " <tr style=\"text-align: left;\">\n",
              "      <th>Epoch</th>\n",
              "      <th>Training Loss</th>\n",
              "      <th>Validation Loss</th>\n",
              "      <th>Accuracy</th>\n",
              "    </tr>\n",
              "  </thead>\n",
              "  <tbody>\n",
              "    <tr>\n",
              "      <td>1</td>\n",
              "      <td>0.356700</td>\n",
              "      <td>0.315001</td>\n",
              "      <td>0.875250</td>\n",
              "    </tr>\n",
              "  </tbody>\n",
              "</table><p>"
            ],
            "text/plain": [
              "<IPython.core.display.HTML object>"
            ]
          },
          "metadata": {},
          "output_type": "display_data"
        }
      ],
      "source": [
        "train(bertMultiLingualModel_N_510_M_0, training_args, updatedDatasetMulti, 120000, \"amazon\")"
      ]
    },
    {
      "cell_type": "code",
      "execution_count": null,
      "metadata": {
        "execution": {
          "iopub.execute_input": "2023-08-12T00:08:05.926339Z",
          "iopub.status.busy": "2023-08-12T00:08:05.921752Z",
          "iopub.status.idle": "2023-08-12T00:16:20.834890Z",
          "shell.execute_reply": "2023-08-12T00:16:20.833813Z",
          "shell.execute_reply.started": "2023-08-12T00:08:05.926300Z"
        },
        "id": "F8FdKGfp9-QF",
        "outputId": "b0e5be93-36fc-4fc0-be82-52e33713e1aa",
        "trusted": true
      },
      "outputs": [
        {
          "name": "stdout",
          "output_type": "stream",
          "text": [
            "\u001b[1mbert-base-multilingual-cased-2-labels-No-Neutrals-N-510-M-0-head-only\u001b[0m\n",
            "Classification Report Translated Test Set\n",
            "+----------+-------------+----------+------------+-----------+\n",
            "| Class    |   Precision |   Recall |   F1-Score |   Support |\n",
            "|----------+-------------+----------+------------+-----------|\n",
            "| Negative |      0.8408 |   0.9270 |     0.8818 |      6000 |\n",
            "| Positive |      0.9187 |   0.8245 |     0.8690 |      6000 |\n",
            "+----------+-------------+----------+------------+-----------+\n",
            "Classification Report Test Set\n",
            "+----------+-------------+----------+------------+-----------+\n",
            "| Class    |   Precision |   Recall |   F1-Score |   Support |\n",
            "|----------+-------------+----------+------------+-----------|\n",
            "| Negative |      0.8370 |   0.9346 |     0.8831 |      8000 |\n",
            "| Positive |      0.9260 |   0.8180 |     0.8687 |      8000 |\n",
            "+----------+-------------+----------+------------+-----------+\n"
          ]
        }
      ],
      "source": [
        "evaluateTranslatedTestSetAndRegularTestSet(bertMultiLingualModel_N_510_M_0, tokenizer, updatedDatasetMulti, translatedTestSet, targetNames, \"bert-base-multilingual-cased-2-labels-No-Neutrals-N-510-M-0-head-only\", batch_size=8)"
      ]
    },
    {
      "cell_type": "markdown",
      "metadata": {
        "id": "1V_v3OAr9-QF"
      },
      "source": [
        "**Two labels, No Neutrals; N=0, M=510; overall 510 tokens**"
      ]
    },
    {
      "cell_type": "code",
      "execution_count": null,
      "metadata": {
        "execution": {
          "iopub.execute_input": "2023-08-12T00:16:20.837105Z",
          "iopub.status.busy": "2023-08-12T00:16:20.836482Z",
          "iopub.status.idle": "2023-08-12T00:16:20.844371Z",
          "shell.execute_reply": "2023-08-12T00:16:20.843338Z",
          "shell.execute_reply.started": "2023-08-12T00:16:20.837066Z"
        },
        "id": "TWMCtgLu9-QF",
        "trusted": true
      },
      "outputs": [],
      "source": [
        "N = 0\n",
        "M = 510\n",
        "reviewType = \"review_body\""
      ]
    },
    {
      "cell_type": "code",
      "execution_count": null,
      "metadata": {
        "execution": {
          "iopub.execute_input": "2023-08-12T00:16:20.846441Z",
          "iopub.status.busy": "2023-08-12T00:16:20.845769Z",
          "iopub.status.idle": "2023-08-12T00:16:23.113167Z",
          "shell.execute_reply": "2023-08-12T00:16:23.111996Z",
          "shell.execute_reply.started": "2023-08-12T00:16:20.846408Z"
        },
        "id": "glQ_IY039-QF",
        "outputId": "0a1ce60c-ceb2-4f4b-8558-d23938a374a7",
        "trusted": true
      },
      "outputs": [
        {
          "name": "stderr",
          "output_type": "stream",
          "text": [
            "Some weights of the model checkpoint at bert-base-multilingual-cased were not used when initializing BertForSequenceClassification: ['cls.predictions.transform.LayerNorm.bias', 'cls.predictions.transform.dense.weight', 'cls.predictions.transform.dense.bias', 'cls.seq_relationship.weight', 'cls.predictions.bias', 'cls.predictions.transform.LayerNorm.weight', 'cls.seq_relationship.bias']\n",
            "- This IS expected if you are initializing BertForSequenceClassification from the checkpoint of a model trained on another task or with another architecture (e.g. initializing a BertForSequenceClassification model from a BertForPreTraining model).\n",
            "- This IS NOT expected if you are initializing BertForSequenceClassification from the checkpoint of a model that you expect to be exactly identical (initializing a BertForSequenceClassification model from a BertForSequenceClassification model).\n",
            "Some weights of BertForSequenceClassification were not initialized from the model checkpoint at bert-base-multilingual-cased and are newly initialized: ['classifier.weight', 'classifier.bias']\n",
            "You should probably TRAIN this model on a down-stream task to be able to use it for predictions and inference.\n"
          ]
        }
      ],
      "source": [
        "bertMultiLingualModel_N_0_M_510 = BertForSequenceClassification.from_pretrained(\"bert-base-multilingual-cased\", num_labels=numLabels)"
      ]
    },
    {
      "cell_type": "code",
      "execution_count": null,
      "metadata": {
        "execution": {
          "iopub.execute_input": "2023-08-12T00:16:23.121042Z",
          "iopub.status.busy": "2023-08-12T00:16:23.114723Z",
          "iopub.status.idle": "2023-08-12T00:16:23.130596Z",
          "shell.execute_reply": "2023-08-12T00:16:23.129514Z",
          "shell.execute_reply.started": "2023-08-12T00:16:23.120997Z"
        },
        "id": "4AEj0rwq9-QF",
        "trusted": true
      },
      "outputs": [],
      "source": [
        "training_args = TrainingArguments(output_dir=\"test_trainer\", optim=\"adamw_torch\", warmup_steps=10000, num_train_epochs=1, weight_decay=1e-1, evaluation_strategy=\"epoch\", save_strategy = saveStrategy)"
      ]
    },
    {
      "cell_type": "code",
      "execution_count": null,
      "metadata": {
        "colab": {
          "referenced_widgets": [
            "1d16c6e6305942ada3b8bac644247d9a",
            "8ca6439982114f05a2440054deb7a5d4",
            "b94a14262bf346d0ac0c02efbffdeefb"
          ]
        },
        "execution": {
          "iopub.execute_input": "2023-08-12T00:16:23.134214Z",
          "iopub.status.busy": "2023-08-12T00:16:23.133548Z",
          "iopub.status.idle": "2023-08-12T02:19:48.417743Z",
          "shell.execute_reply": "2023-08-12T02:19:48.416498Z",
          "shell.execute_reply.started": "2023-08-12T00:16:23.134165Z"
        },
        "id": "mTiI7qND9-QG",
        "outputId": "e6a2c791-53b1-486f-c967-5bae6e5b164b",
        "trusted": true
      },
      "outputs": [
        {
          "data": {
            "application/vnd.jupyter.widget-view+json": {
              "model_id": "1d16c6e6305942ada3b8bac644247d9a",
              "version_major": 2,
              "version_minor": 0
            },
            "text/plain": [
              "  0%|          | 0/640 [00:00<?, ?ba/s]"
            ]
          },
          "metadata": {},
          "output_type": "display_data"
        },
        {
          "data": {
            "application/vnd.jupyter.widget-view+json": {
              "model_id": "8ca6439982114f05a2440054deb7a5d4",
              "version_major": 2,
              "version_minor": 0
            },
            "text/plain": [
              "  0%|          | 0/16 [00:00<?, ?ba/s]"
            ]
          },
          "metadata": {},
          "output_type": "display_data"
        },
        {
          "data": {
            "application/vnd.jupyter.widget-view+json": {
              "model_id": "b94a14262bf346d0ac0c02efbffdeefb",
              "version_major": 2,
              "version_minor": 0
            },
            "text/plain": [
              "  0%|          | 0/16 [00:00<?, ?ba/s]"
            ]
          },
          "metadata": {},
          "output_type": "display_data"
        },
        {
          "data": {
            "text/html": [
              "\n",
              "    <div>\n",
              "      \n",
              "      <progress value='15000' max='15000' style='width:300px; height:20px; vertical-align: middle;'></progress>\n",
              "      [15000/15000 1:55:19, Epoch 1/1]\n",
              "    </div>\n",
              "    <table border=\"1\" class=\"dataframe\">\n",
              "  <thead>\n",
              " <tr style=\"text-align: left;\">\n",
              "      <th>Epoch</th>\n",
              "      <th>Training Loss</th>\n",
              "      <th>Validation Loss</th>\n",
              "      <th>Accuracy</th>\n",
              "    </tr>\n",
              "  </thead>\n",
              "  <tbody>\n",
              "    <tr>\n",
              "      <td>1</td>\n",
              "      <td>0.341100</td>\n",
              "      <td>0.304153</td>\n",
              "      <td>0.897813</td>\n",
              "    </tr>\n",
              "  </tbody>\n",
              "</table><p>"
            ],
            "text/plain": [
              "<IPython.core.display.HTML object>"
            ]
          },
          "metadata": {},
          "output_type": "display_data"
        }
      ],
      "source": [
        "train(bertMultiLingualModel_N_0_M_510, training_args, updatedDatasetMulti, 120000, \"amazon\")"
      ]
    },
    {
      "cell_type": "code",
      "execution_count": null,
      "metadata": {
        "execution": {
          "iopub.execute_input": "2023-08-12T02:19:48.425446Z",
          "iopub.status.busy": "2023-08-12T02:19:48.421942Z",
          "iopub.status.idle": "2023-08-12T02:28:03.090441Z",
          "shell.execute_reply": "2023-08-12T02:28:03.088999Z",
          "shell.execute_reply.started": "2023-08-12T02:19:48.425410Z"
        },
        "id": "qNoNkNU59-QG",
        "outputId": "bb1dad80-0f36-4f28-c1d4-2b30c17b2a82",
        "trusted": true
      },
      "outputs": [
        {
          "name": "stdout",
          "output_type": "stream",
          "text": [
            "\u001b[1mbert-base-multilingual-cased-2-labels-No-Neutrals-N-0-M-510-tail-only\u001b[0m\n",
            "Classification Report Translated Test Set\n",
            "+----------+-------------+----------+------------+-----------+\n",
            "| Class    |   Precision |   Recall |   F1-Score |   Support |\n",
            "|----------+-------------+----------+------------+-----------|\n",
            "| Negative |      0.8680 |   0.9335 |     0.8995 |      6000 |\n",
            "| Positive |      0.9281 |   0.8580 |     0.8917 |      6000 |\n",
            "+----------+-------------+----------+------------+-----------+\n",
            "Classification Report Test Set\n",
            "+----------+-------------+----------+------------+-----------+\n",
            "| Class    |   Precision |   Recall |   F1-Score |   Support |\n",
            "|----------+-------------+----------+------------+-----------|\n",
            "| Negative |      0.8670 |   0.9434 |     0.9036 |      8000 |\n",
            "| Positive |      0.9379 |   0.8552 |     0.8947 |      8000 |\n",
            "+----------+-------------+----------+------------+-----------+\n"
          ]
        }
      ],
      "source": [
        "evaluateTranslatedTestSetAndRegularTestSet(bertMultiLingualModel_N_0_M_510, tokenizer, updatedDatasetMulti, translatedTestSet, targetNames, \"bert-base-multilingual-cased-2-labels-No-Neutrals-N-0-M-510-tail-only\", batch_size=8)"
      ]
    },
    {
      "cell_type": "markdown",
      "metadata": {
        "id": "EAxDepdO9-QG"
      },
      "source": [
        "**BERT MULTILINGUAL UNCASED**"
      ]
    },
    {
      "cell_type": "code",
      "execution_count": null,
      "metadata": {
        "execution": {
          "iopub.execute_input": "2023-08-12T02:28:03.103243Z",
          "iopub.status.busy": "2023-08-12T02:28:03.099281Z",
          "iopub.status.idle": "2023-08-12T02:28:03.489765Z",
          "shell.execute_reply": "2023-08-12T02:28:03.488683Z",
          "shell.execute_reply.started": "2023-08-12T02:28:03.103120Z"
        },
        "id": "rO2bkkZ49-QG",
        "trusted": true
      },
      "outputs": [],
      "source": [
        "tokenizer = AutoTokenizer.from_pretrained(\"bert-base-multilingual-uncased\")"
      ]
    },
    {
      "cell_type": "markdown",
      "metadata": {
        "id": "C4ka_uRoTohW"
      },
      "source": [
        "**Two labels, No Neutrals; N=128, M=382; overall 510 tokens**"
      ]
    },
    {
      "cell_type": "code",
      "execution_count": null,
      "metadata": {
        "execution": {
          "iopub.execute_input": "2023-08-13T06:43:11.133837Z",
          "iopub.status.busy": "2023-08-13T06:43:11.132735Z",
          "iopub.status.idle": "2023-08-13T06:43:11.138706Z",
          "shell.execute_reply": "2023-08-13T06:43:11.137720Z",
          "shell.execute_reply.started": "2023-08-13T06:43:11.133777Z"
        },
        "id": "VpIRZcycTohW",
        "trusted": true
      },
      "outputs": [],
      "source": [
        "N = 128\n",
        "M = 382\n",
        "reviewType = \"review_body\""
      ]
    },
    {
      "cell_type": "code",
      "execution_count": null,
      "metadata": {
        "colab": {
          "referenced_widgets": [
            "03b1b05dbef140d9aa2bcdacefd3d6ae"
          ]
        },
        "execution": {
          "iopub.execute_input": "2023-08-13T06:43:12.634444Z",
          "iopub.status.busy": "2023-08-13T06:43:12.634068Z",
          "iopub.status.idle": "2023-08-13T06:43:17.278443Z",
          "shell.execute_reply": "2023-08-13T06:43:17.277548Z",
          "shell.execute_reply.started": "2023-08-13T06:43:12.634412Z"
        },
        "id": "LxvYTBclTohX",
        "outputId": "735ee0e9-f490-4472-9700-90a921a3e879",
        "trusted": true
      },
      "outputs": [
        {
          "data": {
            "application/vnd.jupyter.widget-view+json": {
              "model_id": "03b1b05dbef140d9aa2bcdacefd3d6ae",
              "version_major": 2,
              "version_minor": 0
            },
            "text/plain": [
              "Downloading model.safetensors:   0%|          | 0.00/672M [00:00<?, ?B/s]"
            ]
          },
          "metadata": {},
          "output_type": "display_data"
        },
        {
          "name": "stderr",
          "output_type": "stream",
          "text": [
            "Some weights of the model checkpoint at bert-base-multilingual-uncased were not used when initializing BertForSequenceClassification: ['cls.predictions.transform.LayerNorm.weight', 'cls.predictions.transform.dense.bias', 'cls.predictions.bias', 'cls.seq_relationship.weight', 'cls.predictions.transform.dense.weight', 'cls.seq_relationship.bias', 'cls.predictions.transform.LayerNorm.bias']\n",
            "- This IS expected if you are initializing BertForSequenceClassification from the checkpoint of a model trained on another task or with another architecture (e.g. initializing a BertForSequenceClassification model from a BertForPreTraining model).\n",
            "- This IS NOT expected if you are initializing BertForSequenceClassification from the checkpoint of a model that you expect to be exactly identical (initializing a BertForSequenceClassification model from a BertForSequenceClassification model).\n",
            "Some weights of BertForSequenceClassification were not initialized from the model checkpoint at bert-base-multilingual-uncased and are newly initialized: ['classifier.bias', 'classifier.weight']\n",
            "You should probably TRAIN this model on a down-stream task to be able to use it for predictions and inference.\n"
          ]
        }
      ],
      "source": [
        "bertMultiLingualModelUncased_N_128_M_382 = BertForSequenceClassification.from_pretrained(\"bert-base-multilingual-uncased\", num_labels=numLabels)"
      ]
    },
    {
      "cell_type": "code",
      "execution_count": null,
      "metadata": {
        "execution": {
          "iopub.execute_input": "2023-08-13T06:43:17.281014Z",
          "iopub.status.busy": "2023-08-13T06:43:17.280627Z",
          "iopub.status.idle": "2023-08-13T06:43:17.288397Z",
          "shell.execute_reply": "2023-08-13T06:43:17.287469Z",
          "shell.execute_reply.started": "2023-08-13T06:43:17.280978Z"
        },
        "id": "37Qox01HTohX",
        "trusted": true
      },
      "outputs": [],
      "source": [
        "training_args = TrainingArguments(output_dir=\"test_trainer\", optim=\"adamw_torch\", warmup_steps=10000, num_train_epochs=1, weight_decay=1e-1, evaluation_strategy=\"epoch\", save_strategy = saveStrategy)"
      ]
    },
    {
      "cell_type": "code",
      "execution_count": null,
      "metadata": {
        "colab": {
          "referenced_widgets": [
            "492342be07a142238b248de2c16a58ae",
            "3c79974af0ec447f8e7bc0d9a4fb526c",
            "0aee2b54fb564968974b0b3842a84a5d"
          ]
        },
        "execution": {
          "iopub.execute_input": "2023-08-13T06:43:20.445142Z",
          "iopub.status.busy": "2023-08-13T06:43:20.443998Z",
          "iopub.status.idle": "2023-08-13T08:47:40.300817Z",
          "shell.execute_reply": "2023-08-13T08:47:40.299588Z",
          "shell.execute_reply.started": "2023-08-13T06:43:20.445097Z"
        },
        "id": "q2z84cz2TohX",
        "outputId": "4ae207f2-4239-467f-80f6-ac37c336d0e4",
        "trusted": true
      },
      "outputs": [
        {
          "data": {
            "application/vnd.jupyter.widget-view+json": {
              "model_id": "492342be07a142238b248de2c16a58ae",
              "version_major": 2,
              "version_minor": 0
            },
            "text/plain": [
              "  0%|          | 0/640 [00:00<?, ?ba/s]"
            ]
          },
          "metadata": {},
          "output_type": "display_data"
        },
        {
          "name": "stderr",
          "output_type": "stream",
          "text": [
            "Token indices sequence length is longer than the specified maximum sequence length for this model (544 > 512). Running this sequence through the model will result in indexing errors\n"
          ]
        },
        {
          "data": {
            "application/vnd.jupyter.widget-view+json": {
              "model_id": "3c79974af0ec447f8e7bc0d9a4fb526c",
              "version_major": 2,
              "version_minor": 0
            },
            "text/plain": [
              "  0%|          | 0/16 [00:00<?, ?ba/s]"
            ]
          },
          "metadata": {},
          "output_type": "display_data"
        },
        {
          "data": {
            "application/vnd.jupyter.widget-view+json": {
              "model_id": "0aee2b54fb564968974b0b3842a84a5d",
              "version_major": 2,
              "version_minor": 0
            },
            "text/plain": [
              "  0%|          | 0/16 [00:00<?, ?ba/s]"
            ]
          },
          "metadata": {},
          "output_type": "display_data"
        },
        {
          "name": "stderr",
          "output_type": "stream",
          "text": [
            "\u001b[34m\u001b[1mwandb\u001b[0m: Logging into wandb.ai. (Learn how to deploy a W&B server locally: https://wandb.me/wandb-server)\n",
            "\u001b[34m\u001b[1mwandb\u001b[0m: You can find your API key in your browser here: https://wandb.ai/authorize\n",
            "\u001b[34m\u001b[1mwandb\u001b[0m: Paste an API key from your profile and hit enter, or press ctrl+c to quit:"
          ]
        },
        {
          "name": "stdout",
          "output_type": "stream",
          "text": [
            "  ········································\n"
          ]
        },
        {
          "name": "stderr",
          "output_type": "stream",
          "text": [
            "\u001b[34m\u001b[1mwandb\u001b[0m: Appending key for api.wandb.ai to your netrc file: /root/.netrc\n"
          ]
        },
        {
          "data": {
            "text/html": [
              "wandb version 0.15.8 is available!  To upgrade, please run:\n",
              " $ pip install wandb --upgrade"
            ],
            "text/plain": [
              "<IPython.core.display.HTML object>"
            ]
          },
          "metadata": {},
          "output_type": "display_data"
        },
        {
          "data": {
            "text/html": [
              "Tracking run with wandb version 0.15.5"
            ],
            "text/plain": [
              "<IPython.core.display.HTML object>"
            ]
          },
          "metadata": {},
          "output_type": "display_data"
        },
        {
          "data": {
            "text/html": [
              "Run data is saved locally in <code>/kaggle/working/wandb/run-20230813_065202-l147mipc</code>"
            ],
            "text/plain": [
              "<IPython.core.display.HTML object>"
            ]
          },
          "metadata": {},
          "output_type": "display_data"
        },
        {
          "data": {
            "text/html": [
              "Syncing run <strong><a href='https://wandb.ai/nadav_igor/huggingface/runs/l147mipc' target=\"_blank\">lively-violet-36</a></strong> to <a href='https://wandb.ai/nadav_igor/huggingface' target=\"_blank\">Weights & Biases</a> (<a href='https://wandb.me/run' target=\"_blank\">docs</a>)<br/>"
            ],
            "text/plain": [
              "<IPython.core.display.HTML object>"
            ]
          },
          "metadata": {},
          "output_type": "display_data"
        },
        {
          "data": {
            "text/html": [
              " View project at <a href='https://wandb.ai/nadav_igor/huggingface' target=\"_blank\">https://wandb.ai/nadav_igor/huggingface</a>"
            ],
            "text/plain": [
              "<IPython.core.display.HTML object>"
            ]
          },
          "metadata": {},
          "output_type": "display_data"
        },
        {
          "data": {
            "text/html": [
              " View run at <a href='https://wandb.ai/nadav_igor/huggingface/runs/l147mipc' target=\"_blank\">https://wandb.ai/nadav_igor/huggingface/runs/l147mipc</a>"
            ],
            "text/plain": [
              "<IPython.core.display.HTML object>"
            ]
          },
          "metadata": {},
          "output_type": "display_data"
        },
        {
          "data": {
            "text/html": [
              "\n",
              "    <div>\n",
              "      \n",
              "      <progress value='15000' max='15000' style='width:300px; height:20px; vertical-align: middle;'></progress>\n",
              "      [15000/15000 1:55:03, Epoch 1/1]\n",
              "    </div>\n",
              "    <table border=\"1\" class=\"dataframe\">\n",
              "  <thead>\n",
              " <tr style=\"text-align: left;\">\n",
              "      <th>Epoch</th>\n",
              "      <th>Training Loss</th>\n",
              "      <th>Validation Loss</th>\n",
              "      <th>Accuracy</th>\n",
              "    </tr>\n",
              "  </thead>\n",
              "  <tbody>\n",
              "    <tr>\n",
              "      <td>1</td>\n",
              "      <td>0.310200</td>\n",
              "      <td>0.295687</td>\n",
              "      <td>0.903813</td>\n",
              "    </tr>\n",
              "  </tbody>\n",
              "</table><p>"
            ],
            "text/plain": [
              "<IPython.core.display.HTML object>"
            ]
          },
          "metadata": {},
          "output_type": "display_data"
        }
      ],
      "source": [
        "train(bertMultiLingualModelUncased_N_128_M_382, training_args, updatedDatasetMulti, 120000, \"amazon\")"
      ]
    },
    {
      "cell_type": "code",
      "execution_count": null,
      "metadata": {
        "execution": {
          "iopub.execute_input": "2023-08-13T08:47:40.303984Z",
          "iopub.status.busy": "2023-08-13T08:47:40.302933Z",
          "iopub.status.idle": "2023-08-13T08:55:59.243750Z",
          "shell.execute_reply": "2023-08-13T08:55:59.242789Z",
          "shell.execute_reply.started": "2023-08-13T08:47:40.303946Z"
        },
        "id": "udXln3gXTohX",
        "outputId": "1504a436-9b88-44a6-d8d5-00f46f580ebb",
        "trusted": true
      },
      "outputs": [
        {
          "name": "stdout",
          "output_type": "stream",
          "text": [
            "\u001b[1mbert-base-multilingual-uncased-2-labels-No-Neutrals-N-128-M-382-head+tail\u001b[0m\n",
            "Classification Report Translated Test Set\n",
            "+----------+-------------+----------+------------+-----------+\n",
            "| Class    |   Precision |   Recall |   F1-Score |   Support |\n",
            "|----------+-------------+----------+------------+-----------|\n",
            "| Negative |      0.8864 |   0.9277 |     0.9066 |      6000 |\n",
            "| Positive |      0.9241 |   0.8812 |     0.9021 |      6000 |\n",
            "+----------+-------------+----------+------------+-----------+\n",
            "Classification Report Test Set\n",
            "+----------+-------------+----------+------------+-----------+\n",
            "| Class    |   Precision |   Recall |   F1-Score |   Support |\n",
            "|----------+-------------+----------+------------+-----------|\n",
            "| Negative |      0.8895 |   0.9327 |     0.9106 |      8000 |\n",
            "| Positive |      0.9293 |   0.8841 |     0.9062 |      8000 |\n",
            "+----------+-------------+----------+------------+-----------+\n"
          ]
        }
      ],
      "source": [
        "evaluateTranslatedTestSetAndRegularTestSet(bertMultiLingualModelUncased_N_128_M_382, tokenizer, updatedDatasetMulti, translatedTestSet, targetNames, \"bert-base-multilingual-uncased-2-labels-No-Neutrals-N-128-M-382-head+tail\", batch_size=8)"
      ]
    },
    {
      "cell_type": "markdown",
      "metadata": {
        "id": "lPb7VB6YTohf"
      },
      "source": [
        "**Two labels, No Neutrals; N=64, M=64; overall 128 tokens**"
      ]
    },
    {
      "cell_type": "code",
      "execution_count": null,
      "metadata": {
        "execution": {
          "iopub.execute_input": "2023-08-13T08:55:59.251120Z",
          "iopub.status.busy": "2023-08-13T08:55:59.247932Z",
          "iopub.status.idle": "2023-08-13T08:55:59.266022Z",
          "shell.execute_reply": "2023-08-13T08:55:59.264095Z",
          "shell.execute_reply.started": "2023-08-13T08:55:59.251084Z"
        },
        "id": "uc2w3-RKTohf",
        "trusted": true
      },
      "outputs": [],
      "source": [
        "N = 64\n",
        "M = 64\n",
        "reviewType = \"review_body\""
      ]
    },
    {
      "cell_type": "code",
      "execution_count": null,
      "metadata": {
        "execution": {
          "iopub.execute_input": "2023-08-13T08:55:59.278573Z",
          "iopub.status.busy": "2023-08-13T08:55:59.275600Z",
          "iopub.status.idle": "2023-08-13T08:56:01.102764Z",
          "shell.execute_reply": "2023-08-13T08:56:01.101639Z",
          "shell.execute_reply.started": "2023-08-13T08:55:59.278533Z"
        },
        "id": "X9CEbg1yTohg",
        "outputId": "911dc3c1-a95b-47c1-e988-49dfb62e08da",
        "trusted": true
      },
      "outputs": [
        {
          "name": "stderr",
          "output_type": "stream",
          "text": [
            "Some weights of the model checkpoint at bert-base-multilingual-uncased were not used when initializing BertForSequenceClassification: ['cls.predictions.transform.LayerNorm.weight', 'cls.predictions.transform.dense.bias', 'cls.predictions.bias', 'cls.seq_relationship.weight', 'cls.predictions.transform.dense.weight', 'cls.seq_relationship.bias', 'cls.predictions.transform.LayerNorm.bias']\n",
            "- This IS expected if you are initializing BertForSequenceClassification from the checkpoint of a model trained on another task or with another architecture (e.g. initializing a BertForSequenceClassification model from a BertForPreTraining model).\n",
            "- This IS NOT expected if you are initializing BertForSequenceClassification from the checkpoint of a model that you expect to be exactly identical (initializing a BertForSequenceClassification model from a BertForSequenceClassification model).\n",
            "Some weights of BertForSequenceClassification were not initialized from the model checkpoint at bert-base-multilingual-uncased and are newly initialized: ['classifier.bias', 'classifier.weight']\n",
            "You should probably TRAIN this model on a down-stream task to be able to use it for predictions and inference.\n"
          ]
        }
      ],
      "source": [
        "bertMultiLingualModelUncased_N_64_M_64 = BertForSequenceClassification.from_pretrained(\"bert-base-multilingual-uncased\", num_labels=numLabels)"
      ]
    },
    {
      "cell_type": "code",
      "execution_count": null,
      "metadata": {
        "execution": {
          "iopub.execute_input": "2023-08-13T08:56:01.105076Z",
          "iopub.status.busy": "2023-08-13T08:56:01.104406Z",
          "iopub.status.idle": "2023-08-13T08:56:01.115488Z",
          "shell.execute_reply": "2023-08-13T08:56:01.114381Z",
          "shell.execute_reply.started": "2023-08-13T08:56:01.105037Z"
        },
        "id": "m_5qe8F1Tohg",
        "trusted": true
      },
      "outputs": [],
      "source": [
        "training_args = TrainingArguments(output_dir=\"test_trainer\", optim=\"adamw_torch\", warmup_steps=10000, num_train_epochs=1, weight_decay=1e-1, evaluation_strategy=\"epoch\", save_strategy = saveStrategy)"
      ]
    },
    {
      "cell_type": "code",
      "execution_count": null,
      "metadata": {
        "colab": {
          "referenced_widgets": [
            "05f03c9777f44c939f72976d3496f9d8",
            "a804940e0b2c4a399a926f08aac9bf4c",
            "b97e3831ec244c7994f882e9b05bcca4"
          ]
        },
        "execution": {
          "iopub.execute_input": "2023-08-13T08:56:01.117678Z",
          "iopub.status.busy": "2023-08-13T08:56:01.117035Z",
          "iopub.status.idle": "2023-08-13T09:36:15.497986Z",
          "shell.execute_reply": "2023-08-13T09:36:15.496775Z",
          "shell.execute_reply.started": "2023-08-13T08:56:01.117642Z"
        },
        "id": "61j5Hpx-Tohg",
        "outputId": "06079429-adc7-4174-b2a8-c274c9a67181",
        "trusted": true
      },
      "outputs": [
        {
          "data": {
            "application/vnd.jupyter.widget-view+json": {
              "model_id": "05f03c9777f44c939f72976d3496f9d8",
              "version_major": 2,
              "version_minor": 0
            },
            "text/plain": [
              "  0%|          | 0/640 [00:00<?, ?ba/s]"
            ]
          },
          "metadata": {},
          "output_type": "display_data"
        },
        {
          "data": {
            "application/vnd.jupyter.widget-view+json": {
              "model_id": "a804940e0b2c4a399a926f08aac9bf4c",
              "version_major": 2,
              "version_minor": 0
            },
            "text/plain": [
              "  0%|          | 0/16 [00:00<?, ?ba/s]"
            ]
          },
          "metadata": {},
          "output_type": "display_data"
        },
        {
          "data": {
            "application/vnd.jupyter.widget-view+json": {
              "model_id": "b97e3831ec244c7994f882e9b05bcca4",
              "version_major": 2,
              "version_minor": 0
            },
            "text/plain": [
              "  0%|          | 0/16 [00:00<?, ?ba/s]"
            ]
          },
          "metadata": {},
          "output_type": "display_data"
        },
        {
          "data": {
            "text/html": [
              "\n",
              "    <div>\n",
              "      \n",
              "      <progress value='15000' max='15000' style='width:300px; height:20px; vertical-align: middle;'></progress>\n",
              "      [15000/15000 34:19, Epoch 1/1]\n",
              "    </div>\n",
              "    <table border=\"1\" class=\"dataframe\">\n",
              "  <thead>\n",
              " <tr style=\"text-align: left;\">\n",
              "      <th>Epoch</th>\n",
              "      <th>Training Loss</th>\n",
              "      <th>Validation Loss</th>\n",
              "      <th>Accuracy</th>\n",
              "    </tr>\n",
              "  </thead>\n",
              "  <tbody>\n",
              "    <tr>\n",
              "      <td>1</td>\n",
              "      <td>0.321200</td>\n",
              "      <td>0.289871</td>\n",
              "      <td>0.905250</td>\n",
              "    </tr>\n",
              "  </tbody>\n",
              "</table><p>"
            ],
            "text/plain": [
              "<IPython.core.display.HTML object>"
            ]
          },
          "metadata": {},
          "output_type": "display_data"
        }
      ],
      "source": [
        "train(bertMultiLingualModelUncased_N_64_M_64, training_args, updatedDatasetMulti, 120000, \"amazon\")"
      ]
    },
    {
      "cell_type": "code",
      "execution_count": null,
      "metadata": {
        "execution": {
          "iopub.execute_input": "2023-08-13T09:36:15.506216Z",
          "iopub.status.busy": "2023-08-13T09:36:15.501126Z",
          "iopub.status.idle": "2023-08-13T09:38:26.900697Z",
          "shell.execute_reply": "2023-08-13T09:38:26.899621Z",
          "shell.execute_reply.started": "2023-08-13T09:36:15.506174Z"
        },
        "id": "Bh2GR8L3Tohg",
        "outputId": "d4abf089-f60a-47af-b276-6bfe37b17bd0",
        "trusted": true
      },
      "outputs": [
        {
          "name": "stdout",
          "output_type": "stream",
          "text": [
            "\u001b[1mbert-base-multilingual-uncased-2-labels-No-Neutrals-N-64-M-64-head+tail\u001b[0m\n",
            "Classification Report Translated Test Set\n",
            "+----------+-------------+----------+------------+-----------+\n",
            "| Class    |   Precision |   Recall |   F1-Score |   Support |\n",
            "|----------+-------------+----------+------------+-----------|\n",
            "| Negative |      0.8878 |   0.9232 |     0.9051 |      6000 |\n",
            "| Positive |      0.9200 |   0.8833 |     0.9013 |      6000 |\n",
            "+----------+-------------+----------+------------+-----------+\n",
            "Classification Report Test Set\n",
            "+----------+-------------+----------+------------+-----------+\n",
            "| Class    |   Precision |   Recall |   F1-Score |   Support |\n",
            "|----------+-------------+----------+------------+-----------|\n",
            "| Negative |      0.8955 |   0.9291 |     0.9120 |      8000 |\n",
            "| Positive |      0.9264 |   0.8916 |     0.9087 |      8000 |\n",
            "+----------+-------------+----------+------------+-----------+\n"
          ]
        }
      ],
      "source": [
        "evaluateTranslatedTestSetAndRegularTestSet(bertMultiLingualModelUncased_N_64_M_64, tokenizer, updatedDatasetMulti, translatedTestSet, targetNames, \"bert-base-multilingual-uncased-2-labels-No-Neutrals-N-64-M-64-head+tail\", batch_size=8)"
      ]
    },
    {
      "cell_type": "markdown",
      "metadata": {
        "id": "CcQYuH5ATohg"
      },
      "source": [
        "**Two labels, No Neutrals; N=510, M=0; overall 510 tokens**"
      ]
    },
    {
      "cell_type": "code",
      "execution_count": null,
      "metadata": {
        "execution": {
          "iopub.execute_input": "2023-08-13T09:38:26.903157Z",
          "iopub.status.busy": "2023-08-13T09:38:26.902483Z",
          "iopub.status.idle": "2023-08-13T09:38:26.909151Z",
          "shell.execute_reply": "2023-08-13T09:38:26.908043Z",
          "shell.execute_reply.started": "2023-08-13T09:38:26.903115Z"
        },
        "id": "q0b9FYchTohg",
        "trusted": true
      },
      "outputs": [],
      "source": [
        "N = 510\n",
        "M = 0\n",
        "reviewType = \"review_body\""
      ]
    },
    {
      "cell_type": "code",
      "execution_count": null,
      "metadata": {
        "execution": {
          "iopub.execute_input": "2023-08-13T09:38:26.912515Z",
          "iopub.status.busy": "2023-08-13T09:38:26.911525Z",
          "iopub.status.idle": "2023-08-13T09:38:28.660616Z",
          "shell.execute_reply": "2023-08-13T09:38:28.659698Z",
          "shell.execute_reply.started": "2023-08-13T09:38:26.912475Z"
        },
        "id": "7gX18p-xTohg",
        "outputId": "182db680-7139-4907-e22a-554fd439e739",
        "trusted": true
      },
      "outputs": [
        {
          "name": "stderr",
          "output_type": "stream",
          "text": [
            "Some weights of the model checkpoint at bert-base-multilingual-uncased were not used when initializing BertForSequenceClassification: ['cls.predictions.transform.LayerNorm.weight', 'cls.predictions.transform.dense.bias', 'cls.predictions.bias', 'cls.seq_relationship.weight', 'cls.predictions.transform.dense.weight', 'cls.seq_relationship.bias', 'cls.predictions.transform.LayerNorm.bias']\n",
            "- This IS expected if you are initializing BertForSequenceClassification from the checkpoint of a model trained on another task or with another architecture (e.g. initializing a BertForSequenceClassification model from a BertForPreTraining model).\n",
            "- This IS NOT expected if you are initializing BertForSequenceClassification from the checkpoint of a model that you expect to be exactly identical (initializing a BertForSequenceClassification model from a BertForSequenceClassification model).\n",
            "Some weights of BertForSequenceClassification were not initialized from the model checkpoint at bert-base-multilingual-uncased and are newly initialized: ['classifier.bias', 'classifier.weight']\n",
            "You should probably TRAIN this model on a down-stream task to be able to use it for predictions and inference.\n"
          ]
        }
      ],
      "source": [
        "bertMultiLingualModelUncased_N_510_M_0 = BertForSequenceClassification.from_pretrained(\"bert-base-multilingual-uncased\", num_labels=numLabels)"
      ]
    },
    {
      "cell_type": "code",
      "execution_count": null,
      "metadata": {
        "execution": {
          "iopub.execute_input": "2023-08-13T09:38:28.672928Z",
          "iopub.status.busy": "2023-08-13T09:38:28.670459Z",
          "iopub.status.idle": "2023-08-13T09:38:28.685215Z",
          "shell.execute_reply": "2023-08-13T09:38:28.684194Z",
          "shell.execute_reply.started": "2023-08-13T09:38:28.672890Z"
        },
        "id": "28Wr2UKeTohg",
        "trusted": true
      },
      "outputs": [],
      "source": [
        "training_args = TrainingArguments(output_dir=\"test_trainer\", optim=\"adamw_torch\", warmup_steps=10000, num_train_epochs=1, weight_decay=1e-1, evaluation_strategy=\"epoch\", save_strategy = saveStrategy)"
      ]
    },
    {
      "cell_type": "code",
      "execution_count": null,
      "metadata": {
        "colab": {
          "referenced_widgets": [
            "8119e54bf8174c688954e97db8737e47",
            "c347c0ee76de4e30a374c144203a2642",
            "e94d182d1a9a472cbf2d42eb5bdcc632"
          ]
        },
        "execution": {
          "iopub.execute_input": "2023-08-13T09:38:28.693102Z",
          "iopub.status.busy": "2023-08-13T09:38:28.690312Z",
          "iopub.status.idle": "2023-08-13T11:42:19.700297Z",
          "shell.execute_reply": "2023-08-13T11:42:19.699204Z",
          "shell.execute_reply.started": "2023-08-13T09:38:28.693067Z"
        },
        "id": "4RwmW4BCTohh",
        "outputId": "d85cbddd-deee-42aa-df06-da3f2a3cde94",
        "trusted": true
      },
      "outputs": [
        {
          "data": {
            "application/vnd.jupyter.widget-view+json": {
              "model_id": "8119e54bf8174c688954e97db8737e47",
              "version_major": 2,
              "version_minor": 0
            },
            "text/plain": [
              "  0%|          | 0/640 [00:00<?, ?ba/s]"
            ]
          },
          "metadata": {},
          "output_type": "display_data"
        },
        {
          "data": {
            "application/vnd.jupyter.widget-view+json": {
              "model_id": "c347c0ee76de4e30a374c144203a2642",
              "version_major": 2,
              "version_minor": 0
            },
            "text/plain": [
              "  0%|          | 0/16 [00:00<?, ?ba/s]"
            ]
          },
          "metadata": {},
          "output_type": "display_data"
        },
        {
          "data": {
            "application/vnd.jupyter.widget-view+json": {
              "model_id": "e94d182d1a9a472cbf2d42eb5bdcc632",
              "version_major": 2,
              "version_minor": 0
            },
            "text/plain": [
              "  0%|          | 0/16 [00:00<?, ?ba/s]"
            ]
          },
          "metadata": {},
          "output_type": "display_data"
        },
        {
          "data": {
            "text/html": [
              "\n",
              "    <div>\n",
              "      \n",
              "      <progress value='15000' max='15000' style='width:300px; height:20px; vertical-align: middle;'></progress>\n",
              "      [15000/15000 1:55:06, Epoch 1/1]\n",
              "    </div>\n",
              "    <table border=\"1\" class=\"dataframe\">\n",
              "  <thead>\n",
              " <tr style=\"text-align: left;\">\n",
              "      <th>Epoch</th>\n",
              "      <th>Training Loss</th>\n",
              "      <th>Validation Loss</th>\n",
              "      <th>Accuracy</th>\n",
              "    </tr>\n",
              "  </thead>\n",
              "  <tbody>\n",
              "    <tr>\n",
              "      <td>1</td>\n",
              "      <td>0.309900</td>\n",
              "      <td>0.281954</td>\n",
              "      <td>0.910625</td>\n",
              "    </tr>\n",
              "  </tbody>\n",
              "</table><p>"
            ],
            "text/plain": [
              "<IPython.core.display.HTML object>"
            ]
          },
          "metadata": {},
          "output_type": "display_data"
        }
      ],
      "source": [
        "train(bertMultiLingualModelUncased_N_510_M_0, training_args, updatedDatasetMulti, 120000, \"amazon\")"
      ]
    },
    {
      "cell_type": "code",
      "execution_count": null,
      "metadata": {
        "execution": {
          "iopub.execute_input": "2023-08-13T11:42:19.702674Z",
          "iopub.status.busy": "2023-08-13T11:42:19.702012Z",
          "iopub.status.idle": "2023-08-13T11:50:36.432051Z",
          "shell.execute_reply": "2023-08-13T11:50:36.430947Z",
          "shell.execute_reply.started": "2023-08-13T11:42:19.702625Z"
        },
        "id": "0FEilr-mTohh",
        "outputId": "72d745a9-4706-4135-b37c-442a9b1a1dc2",
        "trusted": true
      },
      "outputs": [
        {
          "name": "stdout",
          "output_type": "stream",
          "text": [
            "\u001b[1mbert-base-multilingual-uncased-2-labels-No-Neutrals-N-510-M-0-head-only\u001b[0m\n",
            "Classification Report Translated Test Set\n",
            "+----------+-------------+----------+------------+-----------+\n",
            "| Class    |   Precision |   Recall |   F1-Score |   Support |\n",
            "|----------+-------------+----------+------------+-----------|\n",
            "| Negative |      0.8925 |   0.9283 |     0.9101 |      6000 |\n",
            "| Positive |      0.9253 |   0.8882 |     0.9064 |      6000 |\n",
            "+----------+-------------+----------+------------+-----------+\n",
            "Classification Report Test Set\n",
            "+----------+-------------+----------+------------+-----------+\n",
            "| Class    |   Precision |   Recall |   F1-Score |   Support |\n",
            "|----------+-------------+----------+------------+-----------|\n",
            "| Negative |      0.8923 |   0.9354 |     0.9133 |      8000 |\n",
            "| Positive |      0.9321 |   0.8871 |     0.9091 |      8000 |\n",
            "+----------+-------------+----------+------------+-----------+\n"
          ]
        }
      ],
      "source": [
        "evaluateTranslatedTestSetAndRegularTestSet(bertMultiLingualModelUncased_N_510_M_0, tokenizer, updatedDatasetMulti, translatedTestSet, targetNames, \"bert-base-multilingual-uncased-2-labels-No-Neutrals-N-510-M-0-head-only\", batch_size=8)"
      ]
    },
    {
      "cell_type": "markdown",
      "metadata": {
        "id": "p8uKOmy5Tohh"
      },
      "source": [
        "**Two labels, No Neutrals; N=0, M=510; overall 510 tokens**"
      ]
    },
    {
      "cell_type": "code",
      "execution_count": null,
      "metadata": {
        "execution": {
          "iopub.execute_input": "2023-08-13T11:50:36.434456Z",
          "iopub.status.busy": "2023-08-13T11:50:36.433754Z",
          "iopub.status.idle": "2023-08-13T11:50:36.442403Z",
          "shell.execute_reply": "2023-08-13T11:50:36.441336Z",
          "shell.execute_reply.started": "2023-08-13T11:50:36.434419Z"
        },
        "id": "wHjH8EfYTohh",
        "trusted": true
      },
      "outputs": [],
      "source": [
        "N = 0\n",
        "M = 510\n",
        "reviewType = \"review_body\""
      ]
    },
    {
      "cell_type": "code",
      "execution_count": null,
      "metadata": {
        "execution": {
          "iopub.execute_input": "2023-08-13T11:50:36.446709Z",
          "iopub.status.busy": "2023-08-13T11:50:36.445968Z",
          "iopub.status.idle": "2023-08-13T11:50:38.149430Z",
          "shell.execute_reply": "2023-08-13T11:50:38.148398Z",
          "shell.execute_reply.started": "2023-08-13T11:50:36.446667Z"
        },
        "id": "OBy5HZ6zTohh",
        "outputId": "4f849e8e-5ed0-4b0d-afe2-e5d4d61c85a9",
        "trusted": true
      },
      "outputs": [
        {
          "name": "stderr",
          "output_type": "stream",
          "text": [
            "Some weights of the model checkpoint at bert-base-multilingual-uncased were not used when initializing BertForSequenceClassification: ['cls.predictions.transform.LayerNorm.weight', 'cls.predictions.transform.dense.bias', 'cls.predictions.bias', 'cls.seq_relationship.weight', 'cls.predictions.transform.dense.weight', 'cls.seq_relationship.bias', 'cls.predictions.transform.LayerNorm.bias']\n",
            "- This IS expected if you are initializing BertForSequenceClassification from the checkpoint of a model trained on another task or with another architecture (e.g. initializing a BertForSequenceClassification model from a BertForPreTraining model).\n",
            "- This IS NOT expected if you are initializing BertForSequenceClassification from the checkpoint of a model that you expect to be exactly identical (initializing a BertForSequenceClassification model from a BertForSequenceClassification model).\n",
            "Some weights of BertForSequenceClassification were not initialized from the model checkpoint at bert-base-multilingual-uncased and are newly initialized: ['classifier.bias', 'classifier.weight']\n",
            "You should probably TRAIN this model on a down-stream task to be able to use it for predictions and inference.\n"
          ]
        }
      ],
      "source": [
        "bertMultiLingualModelUncased_N_0_M_510 = BertForSequenceClassification.from_pretrained(\"bert-base-multilingual-uncased\", num_labels=numLabels)"
      ]
    },
    {
      "cell_type": "code",
      "execution_count": null,
      "metadata": {
        "execution": {
          "iopub.execute_input": "2023-08-13T11:50:38.151410Z",
          "iopub.status.busy": "2023-08-13T11:50:38.150769Z",
          "iopub.status.idle": "2023-08-13T11:50:38.164712Z",
          "shell.execute_reply": "2023-08-13T11:50:38.163608Z",
          "shell.execute_reply.started": "2023-08-13T11:50:38.151371Z"
        },
        "id": "tlzu1II4Tohh",
        "trusted": true
      },
      "outputs": [],
      "source": [
        "training_args = TrainingArguments(output_dir=\"test_trainer\", optim=\"adamw_torch\", warmup_steps=10000, num_train_epochs=1, weight_decay=1e-1, evaluation_strategy=\"epoch\", save_strategy = saveStrategy)"
      ]
    },
    {
      "cell_type": "code",
      "execution_count": null,
      "metadata": {
        "colab": {
          "referenced_widgets": [
            "918197610015402e9f17e0801c769a1d",
            "b0dd03bdd70141aa83bbdbd5503cbc6d",
            "9dd8d04d180d4b71b9028f30b26942ee"
          ]
        },
        "execution": {
          "iopub.execute_input": "2023-08-13T11:50:38.166608Z",
          "iopub.status.busy": "2023-08-13T11:50:38.166004Z",
          "iopub.status.idle": "2023-08-13T13:54:25.907719Z",
          "shell.execute_reply": "2023-08-13T13:54:25.906258Z",
          "shell.execute_reply.started": "2023-08-13T11:50:38.166575Z"
        },
        "id": "K7fZVeE0Tohh",
        "outputId": "4da80d9d-c916-4f4b-e8e9-de2bf96cd9b9",
        "trusted": true
      },
      "outputs": [
        {
          "data": {
            "application/vnd.jupyter.widget-view+json": {
              "model_id": "918197610015402e9f17e0801c769a1d",
              "version_major": 2,
              "version_minor": 0
            },
            "text/plain": [
              "  0%|          | 0/640 [00:00<?, ?ba/s]"
            ]
          },
          "metadata": {},
          "output_type": "display_data"
        },
        {
          "data": {
            "application/vnd.jupyter.widget-view+json": {
              "model_id": "b0dd03bdd70141aa83bbdbd5503cbc6d",
              "version_major": 2,
              "version_minor": 0
            },
            "text/plain": [
              "  0%|          | 0/16 [00:00<?, ?ba/s]"
            ]
          },
          "metadata": {},
          "output_type": "display_data"
        },
        {
          "data": {
            "application/vnd.jupyter.widget-view+json": {
              "model_id": "9dd8d04d180d4b71b9028f30b26942ee",
              "version_major": 2,
              "version_minor": 0
            },
            "text/plain": [
              "  0%|          | 0/16 [00:00<?, ?ba/s]"
            ]
          },
          "metadata": {},
          "output_type": "display_data"
        },
        {
          "data": {
            "text/html": [
              "\n",
              "    <div>\n",
              "      \n",
              "      <progress value='15000' max='15000' style='width:300px; height:20px; vertical-align: middle;'></progress>\n",
              "      [15000/15000 1:55:08, Epoch 1/1]\n",
              "    </div>\n",
              "    <table border=\"1\" class=\"dataframe\">\n",
              "  <thead>\n",
              " <tr style=\"text-align: left;\">\n",
              "      <th>Epoch</th>\n",
              "      <th>Training Loss</th>\n",
              "      <th>Validation Loss</th>\n",
              "      <th>Accuracy</th>\n",
              "    </tr>\n",
              "  </thead>\n",
              "  <tbody>\n",
              "    <tr>\n",
              "      <td>1</td>\n",
              "      <td>0.309100</td>\n",
              "      <td>0.279787</td>\n",
              "      <td>0.909937</td>\n",
              "    </tr>\n",
              "  </tbody>\n",
              "</table><p>"
            ],
            "text/plain": [
              "<IPython.core.display.HTML object>"
            ]
          },
          "metadata": {},
          "output_type": "display_data"
        }
      ],
      "source": [
        "train(bertMultiLingualModelUncased_N_0_M_510, training_args, updatedDatasetMulti, 120000, \"amazon\")"
      ]
    },
    {
      "cell_type": "code",
      "execution_count": null,
      "metadata": {
        "execution": {
          "iopub.execute_input": "2023-08-13T13:54:25.910086Z",
          "iopub.status.busy": "2023-08-13T13:54:25.909443Z",
          "iopub.status.idle": "2023-08-13T14:02:43.604214Z",
          "shell.execute_reply": "2023-08-13T14:02:43.603148Z",
          "shell.execute_reply.started": "2023-08-13T13:54:25.910044Z"
        },
        "id": "qORg2avMTohi",
        "outputId": "7ec439db-e40d-44b9-af6e-dac0c71f4c1a",
        "trusted": true
      },
      "outputs": [
        {
          "name": "stdout",
          "output_type": "stream",
          "text": [
            "\u001b[1mbert-base-multilingual-uncased-2-labels-No-Neutrals-N-0-M-510-tail-only\u001b[0m\n",
            "Classification Report Translated Test Set\n",
            "+----------+-------------+----------+------------+-----------+\n",
            "| Class    |   Precision |   Recall |   F1-Score |   Support |\n",
            "|----------+-------------+----------+------------+-----------|\n",
            "| Negative |      0.8965 |   0.9257 |     0.9109 |      6000 |\n",
            "| Positive |      0.9232 |   0.8932 |     0.9079 |      6000 |\n",
            "+----------+-------------+----------+------------+-----------+\n",
            "Classification Report Test Set\n",
            "+----------+-------------+----------+------------+-----------+\n",
            "| Class    |   Precision |   Recall |   F1-Score |   Support |\n",
            "|----------+-------------+----------+------------+-----------|\n",
            "| Negative |      0.8985 |   0.9290 |     0.9135 |      8000 |\n",
            "| Positive |      0.9265 |   0.8950 |     0.9105 |      8000 |\n",
            "+----------+-------------+----------+------------+-----------+\n"
          ]
        }
      ],
      "source": [
        "evaluateTranslatedTestSetAndRegularTestSet(bertMultiLingualModelUncased_N_0_M_510, tokenizer, updatedDatasetMulti, translatedTestSet, targetNames, \"bert-base-multilingual-uncased-2-labels-No-Neutrals-N-0-M-510-tail-only\", batch_size=8)"
      ]
    }
  ],
  "metadata": {
    "colab": {
      "provenance": []
    },
    "kernelspec": {
      "display_name": "Python 3",
      "language": "python",
      "name": "python3"
    },
    "language_info": {
      "codemirror_mode": {
        "name": "ipython",
        "version": 3
      },
      "file_extension": ".py",
      "mimetype": "text/x-python",
      "name": "python",
      "nbconvert_exporter": "python",
      "pygments_lexer": "ipython3",
      "version": "3.10.12"
    }
  },
  "nbformat": 4,
  "nbformat_minor": 0
}
