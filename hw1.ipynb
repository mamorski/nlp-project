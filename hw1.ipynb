{
 "cells": [
  {
   "cell_type": "code",
   "execution_count": 1,
   "metadata": {},
   "outputs": [],
   "source": [
    "!pip install --q mmh3\n",
    "!pip install --q git+https://github.com/zivido/ember-3.9.git\n",
    "!pip install --q lief"
   ]
  },
  {
   "cell_type": "code",
   "execution_count": 2,
   "metadata": {},
   "outputs": [],
   "source": [
    "import os\n",
    "import mmh3\n",
    "import json\n",
    "import lief\n",
    "import ember\n",
    "import pickle\n",
    "import shutil\n",
    "import tarfile\n",
    "import hashlib\n",
    "import logging\n",
    "import numpy as np\n",
    "import pandas as pd\n",
    "import urllib.request\n",
    "import xgboost as xgb\n",
    "from tabulate import tabulate\n",
    "import matplotlib.pyplot as plt\n",
    "from sklearn.model_selection import train_test_split\n",
    "from sklearn.metrics import accuracy_score, classification_report, roc_curve, auc, confusion_matrix, ConfusionMatrixDisplay\n",
    "%matplotlib inline"
   ]
  },
  {
   "attachments": {},
   "cell_type": "markdown",
   "metadata": {},
   "source": [
    "### Data Preprocessing\n",
    "---\n",
    "\n",
    "As the report explains, we're using raw features instead of vectorized ones.  \n",
    "We're reading all training files reformating them to the desired structure, and saving them into the `ember2018_extracted` folder."
   ]
  },
  {
   "cell_type": "code",
   "execution_count": 3,
   "metadata": {},
   "outputs": [],
   "source": [
    "def download_dataset():\n",
    "    url = \"https://ember.elastic.co/ember_dataset_2018_2.tar.bz2\"\n",
    "    file_path = './ember_dataset_2018_2.tar.bz2'\n",
    "\n",
    "    if not os.path.exists(file_path):\n",
    "        print(\"Downloading the dataset, this might take a while...\")\n",
    "        urllib.request.urlretrieve(url, file_path)\n",
    "        print(\"Downloaded the dataset!\")\n",
    "\n",
    "def extract_dataset():\n",
    "    file_path='./ember_dataset_2018_2.tar.bz2'\n",
    "    print(\"Extracting the dataset, this might take a while...\")\n",
    "    with tarfile.open(file_path, 'r:bz2') as tar:\n",
    "        tar.extractall()\n",
    "    print(\"Extracted the dataset!\")\n",
    "\n",
    "def read_json_file(file_path, n_lines, columns_to_keep_as_is):\n",
    "    with open(file_path, \"r\") as f:\n",
    "        json_data = []\n",
    "        for i, line in enumerate(f):\n",
    "            if i >= n_lines > 0:\n",
    "                break\n",
    "            row = json.loads(line)\n",
    "            for col in columns_to_keep_as_is:\n",
    "                if col in row:\n",
    "                    row[col] = str(row[col])\n",
    "            json_data.append(row)\n",
    "    df = pd.json_normalize(json_data)\n",
    "    return df"
   ]
  },
  {
   "cell_type": "code",
   "execution_count": 4,
   "metadata": {},
   "outputs": [
    {
     "name": "stdout",
     "output_type": "stream",
     "text": [
      "Dataset found!\n"
     ]
    }
   ],
   "source": [
    "# Check and download the dataset if needed\n",
    "data_dir = \"ember2018\" # Change this to where you downloaded the data\n",
    "extracted_features_dir = \"ember2018_extracted\" # Change this to where you want the extracted features to be stored\n",
    "\n",
    "if not os.path.exists(data_dir):\n",
    "    print(\"Dataset not found, downloading...\")\n",
    "    download_dataset()\n",
    "    extract_dataset()\n",
    "    print(\"Done!\")\n",
    "else:\n",
    "    print(\"Dataset found!\")"
   ]
  },
  {
   "cell_type": "code",
   "execution_count": 5,
   "metadata": {},
   "outputs": [],
   "source": [
    "# Extract the features from the dataset\n",
    "collumns_to_keep_as_is = ['section', 'imports', 'exports']\n",
    "\n",
    "if not os.path.exists(extracted_features_dir):\n",
    "    os.mkdir(extracted_features_dir)\n",
    "    print(\"Extracting features...\")\n",
    "    i = 0\n",
    "    for f in os.listdir(data_dir):\n",
    "        if f.startswith('train_features_') and f.endswith('.jsonl'):\n",
    "            df = read_json_file(os.path.join(data_dir, f), -1, ['section', 'imports', 'exports'])\n",
    "            df = df[df.label != -1]\n",
    "            df['section_len'] = df['section'].apply(len)\n",
    "            df['imports_len'] = df['imports'].apply(len)\n",
    "            df['exports_len'] = df['exports'].apply(len)\n",
    "            df.to_csv(f\"{extracted_features_dir}/train_features_{i}_extracted.csv\", index=False)\n",
    "            i += 1\n",
    "            df = None\n",
    "    print(\"Extracted features!\")"
   ]
  },
  {
   "cell_type": "code",
   "execution_count": 6,
   "metadata": {},
   "outputs": [],
   "source": [
    "class Model:\n",
    "    def __init__(self,\n",
    "                pretrained_model_path=None,\n",
    "                precision=0.6,\n",
    "                seed=42,\n",
    "                lr=0.1,\n",
    "                n_estimators=300,\n",
    "                max_depth=6,\n",
    "                objective='multi:softprob',\n",
    "                num_class=2,\n",
    "                nthread=4,\n",
    "                extracted_data_dir='data_extracted_features',\n",
    "                log_lvl=logging.INFO):\n",
    "\n",
    "        self.logger = logging.getLogger(__name__)\n",
    "        self.logger.setLevel(log_lvl)\n",
    "        formatter = logging.Formatter('%(asctime)s - %(name)s - %(levelname)s - %(message)s')\n",
    "        stream_handler = logging.StreamHandler()\n",
    "        stream_handler.setFormatter(formatter)\n",
    "        self.logger.addHandler(stream_handler)\n",
    "        self.pretrained_model_path = pretrained_model_path\n",
    "        self.precision = precision\n",
    "        self.seed = seed\n",
    "        np.random.seed(seed)\n",
    "        self.model = None\n",
    "        self.lr = lr\n",
    "        self.n_estimators = n_estimators\n",
    "        self.max_depth = max_depth\n",
    "        self.objective = objective\n",
    "        self.num_class = num_class\n",
    "        self.nthread = nthread\n",
    "        self.target_names = ['Benign', 'Malicious']\n",
    "        self.X_train = None\n",
    "        self.X_val = None\n",
    "        self.y_train = None\n",
    "        self.y_val = None\n",
    "        self.extracted_data_dir = extracted_data_dir\n",
    "        self.collumns = ['exports_len', 'imports_len', 'section_len', 'strings.numstrings', 'strings.avlength', 'strings.printables', 'strings.entropy', 'strings.paths', 'strings.urls', 'strings.registry', 'strings.MZ', 'general.size', 'general.vsize', 'general.has_debug', 'general.exports', 'general.imports', 'general.has_relocations', 'general.has_resources', 'general.has_signature', 'general.has_tls', 'general.symbols', 'header.coff.timestamp', 'header.optional.major_image_version', 'header.optional.minor_image_version', 'header.optional.major_linker_version', 'header.optional.minor_linker_version', 'header.optional.major_operating_system_version', 'header.optional.minor_operating_system_version', 'header.optional.major_subsystem_version', 'header.optional.minor_subsystem_version', 'header.optional.sizeof_code', 'header.optional.sizeof_headers', 'header.optional.sizeof_heap_commit']\n",
    "\n",
    "    def __read_extracted_data(self):\n",
    "        df_model = pd.DataFrame()\n",
    "        if not os.path.exists(self.extracted_data_dir):\n",
    "            self.logger.error('Extracted data does not exist, cannot train model')\n",
    "            return None\n",
    "\n",
    "        for i, f in enumerate(os.listdir(self.extracted_data_dir)):\n",
    "            self.logger.debug(f'Reading extracted data from {f}')\n",
    "            df_model = pd.concat([df_model, pd.read_csv(os.path.join(self.extracted_data_dir, f))])\n",
    "\n",
    "        df_model['label_plot'] = 0\n",
    "        df_model_c = df_model.select_dtypes(include='number')\n",
    "        return df_model_c\n",
    "\n",
    "    def __train(self):\n",
    "        df_model_c = self.__read_extracted_data()\n",
    "        if df_model_c is None:\n",
    "            return None\n",
    "\n",
    "        self.model = xgb.XGBClassifier(\n",
    "            learning_rate=self.lr,\n",
    "            n_estimators=self.n_estimators,\n",
    "            max_depth=self.max_depth,\n",
    "            objective=self.objective,\n",
    "            num_class=self.num_class,\n",
    "            nthread=self.nthread,\n",
    "            seed=self.seed\n",
    "        )\n",
    "\n",
    "        X = df_model_c.reindex(columns=self.collumns)\n",
    "        X = X.drop(columns=[col for col in X.columns if col not in self.collumns])\n",
    "        y = df_model_c[\"label\"]\n",
    "        self.X_train, self.X_val, self.y_train, self.y_val = train_test_split(X, y, test_size=0.2, random_state=0)\n",
    "        self.model.fit(self.X_train, self.y_train)\n",
    "\n",
    "    def load_model(self):\n",
    "        if self.pretrained_model_path is None:\n",
    "            self.__train()\n",
    "        else:\n",
    "            with open(self.pretrained_model_path, 'rb') as f:\n",
    "                self.model = pickle.load(f)\n",
    "\n",
    "    def save_model(self, model_path):\n",
    "        if self.model is None:\n",
    "            self.logger.error('Model is not trained, cannot save')\n",
    "            return\n",
    "\n",
    "        with open(model_path, 'wb') as f:\n",
    "            pickle.dump(self.model, f)\n",
    "\n",
    "    def predict(self, X):\n",
    "        if self.model is None:\n",
    "            self.logger.error('Model is not trained, cannot predict')\n",
    "            return None\n",
    "\n",
    "        X = X.reindex(columns=self.collumns)\n",
    "        X = X.drop(columns=[col for col in X.columns if col not in self.collumns])\n",
    "        return self.model.predict_proba(X)[:, 1] >= self.precision\n"
   ]
  },
  {
   "attachments": {},
   "cell_type": "markdown",
   "metadata": {},
   "source": [
    "### Model\n",
    "---\n",
    "\n",
    "We're using [XGBoost](https://xgboost.readthedocs.io/en/stable/).  \n",
    "The following section will create a model, it assumes that the features are already extracted, so make sure to run the data preprocessing before."
   ]
  },
  {
   "cell_type": "code",
   "execution_count": 7,
   "metadata": {},
   "outputs": [],
   "source": [
    "m = Model(extracted_data_dir=extracted_features_dir, log_lvl=logging.DEBUG)"
   ]
  },
  {
   "cell_type": "code",
   "execution_count": 8,
   "metadata": {},
   "outputs": [
    {
     "name": "stderr",
     "output_type": "stream",
     "text": [
      "2023-06-01 08:23:52,636 - __main__ - DEBUG - Reading extracted data from train_features_0_extracted.csv\n",
      "2023-06-01 08:23:57,058 - __main__ - DEBUG - Reading extracted data from train_features_1_extracted.csv\n",
      "2023-06-01 08:24:05,940 - __main__ - DEBUG - Reading extracted data from train_features_2_extracted.csv\n",
      "2023-06-01 08:24:12,693 - __main__ - DEBUG - Reading extracted data from train_features_3_extracted.csv\n",
      "2023-06-01 08:24:19,876 - __main__ - DEBUG - Reading extracted data from train_features_4_extracted.csv\n",
      "2023-06-01 08:24:26,701 - __main__ - DEBUG - Reading extracted data from train_features_5_extracted.csv\n"
     ]
    }
   ],
   "source": [
    "m.load_model()"
   ]
  },
  {
   "attachments": {},
   "cell_type": "markdown",
   "metadata": {},
   "source": [
    "Save trained model to pickle file, it will be used in the antivirus"
   ]
  },
  {
   "cell_type": "code",
   "execution_count": 9,
   "metadata": {},
   "outputs": [],
   "source": [
    "model_update_file = 'model.pickle'\n",
    "m.save_model(model_update_file)"
   ]
  },
  {
   "attachments": {},
   "cell_type": "markdown",
   "metadata": {},
   "source": [
    "Check prediction accuracy using the testing set"
   ]
  },
  {
   "cell_type": "code",
   "execution_count": 10,
   "metadata": {},
   "outputs": [
    {
     "name": "stdout",
     "output_type": "stream",
     "text": [
      "Formatting test file...\n",
      "Predicting test file...\n"
     ]
    }
   ],
   "source": [
    "# Parse test file\n",
    "test_file = os.path.join(data_dir, 'test_features.jsonl')\n",
    "lines = []\n",
    "prediction = None\n",
    "\n",
    "if os.path.exists(test_file):\n",
    "    df = read_json_file(test_file, -1, collumns_to_keep_as_is)\n",
    "\n",
    "    print(\"Formatting test file...\")\n",
    "    df = df[df.label != -1]\n",
    "    df['section_len'] = df['section'].apply(len)\n",
    "    df['imports_len'] = df['imports'].apply(len)\n",
    "    df['exports_len'] = df['exports'].apply(len)\n",
    "\n",
    "    print(\"Predicting test file...\")\n",
    "    prediction = m.predict(df)\n"
   ]
  },
  {
   "cell_type": "code",
   "execution_count": 11,
   "metadata": {},
   "outputs": [
    {
     "name": "stdout",
     "output_type": "stream",
     "text": [
      "Test set accuracy: 92.62%\n"
     ]
    }
   ],
   "source": [
    "prediction = prediction.astype(int)\n",
    "accuracy = accuracy_score(df['label'], prediction)\n",
    "print(f'Test set accuracy: {accuracy * 100:.2f}%')"
   ]
  },
  {
   "attachments": {},
   "cell_type": "markdown",
   "metadata": {},
   "source": [
    "Statistics using the validation set from the model"
   ]
  },
  {
   "cell_type": "code",
   "execution_count": 12,
   "metadata": {},
   "outputs": [],
   "source": [
    "X_val = m.X_val\n",
    "y_val = m.y_val\n",
    "\n",
    "y_pred = m.model.predict_proba(X_val)\n",
    "fpr, tpr, _ = roc_curve(y_val, y_pred[:, 1])\n",
    "roc_auc = auc(fpr, tpr)"
   ]
  },
  {
   "cell_type": "code",
   "execution_count": 13,
   "metadata": {},
   "outputs": [
    {
     "data": {
      "image/png": "[encoded data removed]",
      "text/plain": [
       "<Figure size 640x480 with 1 Axes>"
      ]
     },
     "metadata": {},
     "output_type": "display_data"
    }
   ],
   "source": [
    "plt.figure()\n",
    "plt.plot(fpr, tpr, color='darkorange', lw=2, label='ROC curve (area = {:.2f})'.format(roc_auc))\n",
    "plt.plot([0, 1], [0, 1], color='navy', lw=2, linestyle='--')\n",
    "plt.xlabel('False Positive Rate')\n",
    "plt.ylabel('True Positive Rate')\n",
    "plt.title('Receiver operating characteristic curve')\n",
    "plt.legend(loc=\"lower right\")\n",
    "plt.show()"
   ]
  },
  {
   "cell_type": "code",
   "execution_count": 14,
   "metadata": {},
   "outputs": [
    {
     "data": {
      "text/plain": [
       "<sklearn.metrics._plot.confusion_matrix.ConfusionMatrixDisplay at 0x2dda88014c0>"
      ]
     },
     "execution_count": 14,
     "metadata": {},
     "output_type": "execute_result"
    },
    {
     "data": {
      "image/png": "[encoded data removed]",
      "text/plain": [
       "<Figure size 640x480 with 2 Axes>"
      ]
     },
     "metadata": {},
     "output_type": "display_data"
    }
   ],
   "source": [
    "cm = confusion_matrix(y_val, y_pred[:, 1] > 0.6)\n",
    "disp = ConfusionMatrixDisplay(confusion_matrix=cm, display_labels=['Benign', 'Malicious'])\n",
    "disp.plot()"
   ]
  },
  {
   "cell_type": "code",
   "execution_count": 15,
   "metadata": {},
   "outputs": [
    {
     "name": "stdout",
     "output_type": "stream",
     "text": [
      "+--------------+-------------+----------+------------+---------------+\n",
      "|              |   precision |   recall |   f1-score |       support |\n",
      "|--------------+-------------+----------+------------+---------------|\n",
      "| Benign       |    0.925397 | 0.961213 |   0.942965 |  60175        |\n",
      "| Malicious    |    0.959406 | 0.922056 |   0.94036  |  59825        |\n",
      "| accuracy     |    0.941692 | 0.941692 |   0.941692 |      0.941692 |\n",
      "| macro avg    |    0.942401 | 0.941635 |   0.941663 | 120000        |\n",
      "| weighted avg |    0.942352 | 0.941692 |   0.941666 | 120000        |\n",
      "+--------------+-------------+----------+------------+---------------+\n"
     ]
    }
   ],
   "source": [
    "report = classification_report(y_val, y_pred[:, 1] >= 0.6, target_names=['Benign', 'Malicious'], output_dict=True)\n",
    "df = pd.DataFrame(report).transpose()\n",
    "print(tabulate(df, headers='keys', tablefmt='psql'))"
   ]
  },
  {
   "attachments": {},
   "cell_type": "markdown",
   "metadata": {},
   "source": [
    "### Bloom Filter\n",
    "---\n",
    "\n",
    "Our bloom filter uses the MMH3 hash function.  \n",
    "It stores the bitmask to the numpy array using a boolean type, in such way, we are saving a lot of memory.  \n",
    "The filter calculates by itself the size of the bitmask and the number of hash functions.  \n",
    "The filter can save the bitmask and the metadata to a backup file and load it if needed.  \n",
    "We're using loading from the file in the antivirus class."
   ]
  },
  {
   "cell_type": "code",
   "execution_count": 16,
   "metadata": {},
   "outputs": [],
   "source": [
    "class BloomFilter:\n",
    "\n",
    "    def __init__(self, size=400000, eps=0.01, seed=42, file_path=None):\n",
    "        if file_path is not None:\n",
    "            self.load_filter_from_file(file_path)\n",
    "        else:\n",
    "            self.eps = eps\n",
    "            self.size = size\n",
    "            self.seed = seed\n",
    "            self.m = self.__get_size_of_bitmask()\n",
    "            self.k = self.__get_number_of_hash_functions()\n",
    "            self.bitmask = np.zeros(self.m, dtype=bool)\n",
    "            np.random.seed(self.seed)\n",
    "            self.random_seeds = np.random.choice(range(0, 1000), size=self.k, replace=False)\n",
    "            self.__generate_hash_function()\n",
    "\n",
    "    def __get_number_of_hash_functions(self):\n",
    "        return -int(np.ceil(np.log2(self.eps)))\n",
    "\n",
    "    def __get_size_of_bitmask(self):\n",
    "        return -int(np.ceil(self.size * np.log(self.eps) / np.log(2) ** 2))\n",
    "\n",
    "    def __generate_hash_function(self):\n",
    "        self.hash_functions = [lambda x, seed=self.random_seeds[i]: mmh3.hash(x, seed) for i in range(self.k)]\n",
    "\n",
    "    def add(self, input_str):\n",
    "        for hash_function in self.hash_functions:\n",
    "            hash_val = hash_function(input_str)\n",
    "            self.bitmask[hash_val % self.m] = True\n",
    "\n",
    "    def add_from_file(self, file_path):\n",
    "        with open(file_path, 'r') as file:\n",
    "            for line in file:\n",
    "                if line.strip():\n",
    "                    self.add(line.strip())\n",
    "\n",
    "    def check(self, input_str):\n",
    "        for hash_function in self.hash_functions:\n",
    "            hash_val = hash_function(input_str)\n",
    "            if not self.bitmask[hash_val % self.m]:\n",
    "                return False\n",
    "\n",
    "        return True\n",
    "\n",
    "    def get_bitmask(self):\n",
    "        return self.bitmask\n",
    "\n",
    "    def load_filter_from_file(self, file_path):\n",
    "        try:\n",
    "            file = tarfile.open(file_path, 'r:gz')\n",
    "            file.extractall('./tmp')\n",
    "            file.close()\n",
    "            self.bitmask = np.load('./tmp/bitmask.npy')\n",
    "            with open('./tmp/metadata.json', 'r') as f:\n",
    "                meta = json.load(f)\n",
    "                self.size = meta['size']\n",
    "                self.eps = meta['eps']\n",
    "                self.seed = meta['seed']\n",
    "                self.m = meta['m']\n",
    "                self.k = meta['k']\n",
    "                self.random_seeds = np.array(meta['seeds'])\n",
    "\n",
    "            self.__generate_hash_function()\n",
    "            shutil.rmtree('./tmp')\n",
    "        except Exception as e:\n",
    "            print(e)\n",
    "\n",
    "    def save_filter_to_file(self):\n",
    "        np.save('bitmask.npy', self.bitmask)\n",
    "        meta = {\n",
    "            'size': self.size,\n",
    "            'eps': self.eps,\n",
    "            'seed': self.seed,\n",
    "            'm': self.m,\n",
    "            'k': self.k,\n",
    "            'seeds': self.random_seeds.tolist()\n",
    "        }\n",
    "        with open('metadata.json', 'w') as f:\n",
    "            json.dump(meta, f)\n",
    "\n",
    "        with tarfile.open('filter.tgz', 'w:gz') as tar:\n",
    "            tar.add('bitmask.npy')\n",
    "            tar.add('metadata.json')\n",
    "\n",
    "        os.remove('bitmask.npy')\n",
    "        os.remove('metadata.json')"
   ]
  },
  {
   "attachments": {},
   "cell_type": "markdown",
   "metadata": {},
   "source": [
    "Create a filter.  \n",
    "Make sure that you have the `task1_malicious_sha256_ember.txt` file before running."
   ]
  },
  {
   "cell_type": "code",
   "execution_count": 17,
   "metadata": {},
   "outputs": [],
   "source": [
    "# Create the bloom filter\n",
    "\n",
    "filename = \"task1_malicious_sha256_ember.txt\"\n",
    "c = 0\n",
    "eps = 0.01\n",
    "with open(filename, \"r\") as f:\n",
    "    c = sum(1 for line in f if line.strip())\n",
    "\n",
    "bloom_filter = BloomFilter(c, eps)\n",
    "bloom_filter.add_from_file(filename)"
   ]
  },
  {
   "cell_type": "code",
   "execution_count": 18,
   "metadata": {},
   "outputs": [],
   "source": [
    "# Save to file for later use in the AntiVirus\n",
    "bloom_filter.save_filter_to_file()"
   ]
  },
  {
   "cell_type": "code",
   "execution_count": 19,
   "metadata": {},
   "outputs": [
    {
     "name": "stdout",
     "output_type": "stream",
     "text": [
      "Bitmask memory usage: 3.66 MB\n"
     ]
    }
   ],
   "source": [
    "# Bitmask memory usage\n",
    "print(f'Bitmask memory usage: {bloom_filter.get_bitmask().nbytes / 1024 / 1024:.2f} MB')"
   ]
  },
  {
   "attachments": {},
   "cell_type": "markdown",
   "metadata": {},
   "source": [
    "### Feature extractor\n",
    "---\n",
    "\n",
    "We're using the Ember's feature extractor to parse files for the AntiVirus.  \n",
    "Since Ember has a lot of bugs, sometimes it fails to parse files when running on windows machine, when running in Colab it works well."
   ]
  },
  {
   "cell_type": "code",
   "execution_count": 20,
   "metadata": {},
   "outputs": [],
   "source": [
    "class FeatureExtractor(ember.PEFeatureExtractor):\n",
    "    def raw_features(self, bytez):\n",
    "        try:\n",
    "            lief_binary = lief.PE.parse(list(bytez))\n",
    "        except Exception as e:\n",
    "            print(\"lief error: \", str(e))\n",
    "            raise e\n",
    "\n",
    "        features = {\"sha256\": hashlib.sha256(bytez).hexdigest()}\n",
    "        features.update({fe.name: fe.raw_features(bytez, lief_binary) for fe in self.features})\n",
    "        return features"
   ]
  },
  {
   "attachments": {},
   "cell_type": "markdown",
   "metadata": {},
   "source": [
    "### AntiVirus Class\n",
    "---\n",
    "\n",
    "The AntiVirus receives the model and filters the backup file in the constructor.  \n",
    "The function that should be called to start the antivirus is `start()`.  \n",
    "If one of the backup files does not exist, it will raise an Exception, so make sure to run all previous cells.\n",
    "The antivirus has two check functions, one receives a row with features, and the second `check_exe` receives a path to the file that should be checked (Note: as explained in the feature extractor section - this option can crush the kernel, Ember fix needed).  "
   ]
  },
  {
   "cell_type": "code",
   "execution_count": 21,
   "metadata": {},
   "outputs": [],
   "source": [
    "class AntiVirus:\n",
    "    def __init__(self, filter_update_file='filter.tgz', pretrained_model_path='model.pickle', precision=0.6, model_log_lvl=logging.INFO):\n",
    "        self.pretrained_model_path = pretrained_model_path\n",
    "        self.precision = precision\n",
    "        self.model = None\n",
    "        self.filter = None\n",
    "        self.model_log_lvl = model_log_lvl\n",
    "        self.filter_update_file = filter_update_file\n",
    "        self.extractor = FeatureExtractor()\n",
    "\n",
    "    def __preprocess(self, X):\n",
    "        df = pd.json_normalize(X)\n",
    "        df.insert(len(df), 'section_len', [len(str(X['section']))])\n",
    "        df.insert(len(df), 'imports_len', [len(str(X['imports']))])\n",
    "        df.insert(len(df), 'exports_len', [len(str(X['exports']))])\n",
    "        return df\n",
    "\n",
    "    def start(self):\n",
    "        if os.path.exists(self.pretrained_model_path) and os.path.exists(self.filter_update_file):\n",
    "            self.model = Model(pretrained_model_path=self.pretrained_model_path, precision=self.precision, log_lvl=self.model_log_lvl)\n",
    "            self.model.load_model()\n",
    "            self.filter = BloomFilter(file_path=self.filter_update_file)\n",
    "        else:\n",
    "            raise ValueError(\"pretrained_model_path and filter_update_file must be provided\")\n",
    "\n",
    "    def check(self, X):\n",
    "        X_preprocessed = self.__preprocess(X)\n",
    "        result = self.model.predict(X_preprocessed)\n",
    "        if result:\n",
    "            return True\n",
    "        else:\n",
    "            return self.filter.check(X[\"sha256\"])\n",
    "\n",
    "    def check_exe(self, path):\n",
    "        binary = open(path, \"rb\").read()\n",
    "        features = self.extractor.raw_features(binary)\n",
    "        return self.check(features)"
   ]
  },
  {
   "cell_type": "code",
   "execution_count": 22,
   "metadata": {},
   "outputs": [
    {
     "name": "stdout",
     "output_type": "stream",
     "text": [
      "WARNING: EMBER feature version 2 were computed using lief version 0.9.0-\n",
      "WARNING:   lief version 0.13.1-b9a5f970 found instead. There may be slight inconsistencies\n",
      "WARNING:   in the feature calculations.\n"
     ]
    }
   ],
   "source": [
    "av = AntiVirus(filter_update_file=\"filter.tgz\", precision=0.8, pretrained_model_path=\"model.pickle\")"
   ]
  },
  {
   "cell_type": "code",
   "execution_count": 23,
   "metadata": {},
   "outputs": [],
   "source": [
    "av.start()"
   ]
  },
  {
   "attachments": {},
   "cell_type": "markdown",
   "metadata": {},
   "source": [
    "#### Test some random rows from the test file"
   ]
  },
  {
   "cell_type": "code",
   "execution_count": 24,
   "metadata": {},
   "outputs": [
    {
     "name": "stdout",
     "output_type": "stream",
     "text": [
      "Checking fc6b6bc15e9dedab5ca2a1cc8e82fd19dd18fe85f8efd82a356343cc59cb4f98...\n",
      "Is file malicious: False, real label: Benign\n",
      "\n",
      "Checking 4bdc63196651f7355d381bdbd52481f73b3b763e48d97846115716a7602d44d9...\n",
      "Is file malicious: True, real label: Malicious\n",
      "\n",
      "Checking ece760dcb429084c2ac75f7cd00fdd362025e15f17e53e181a8a1ee5d51b3608...\n",
      "Is file malicious: False, real label: Benign\n",
      "\n",
      "Checking 805617cbc13d195b2f05dc6f271b1d957b485faab33ae9bc64b5b1370180d548...\n",
      "Is file malicious: False, real label: Benign\n",
      "\n",
      "Checking ed58e2de1edb31725ab7b8618b8fe5e1dfa0e5a3603f2fc3bc6a9b93cd93e7d8...\n",
      "Is file malicious: True, real label: Malicious\n",
      "\n",
      "Checking af8faafe3a39b0073745d29d5697a795eb93d9ba1d45d7765b598bce0fb8d2d1...\n",
      "Is file malicious: True, real label: Malicious\n",
      "\n",
      "Checking 4412d24dbe034ad4d94d9e6285bf5899c7d2f3d2a55d11db62c71e0d98271d20...\n",
      "Is file malicious: True, real label: Malicious\n",
      "\n",
      "Checking 89a7132b0a2b211b79db7ffac063033d7234462e710ee59a01d144fa032ed582...\n",
      "Is file malicious: True, real label: Malicious\n",
      "\n",
      "Checking f23848eb8815435826e15ccf0fd1521e7b46065d495bb0ac1643a89c7adfa565...\n",
      "Is file malicious: True, real label: Malicious\n",
      "\n",
      "Checking 308de0cef6683b75f04f442b4612d24813a5090d5ac1cdd44c13225871648d29...\n",
      "Is file malicious: False, real label: Benign\n",
      "\n",
      "Average time per check: 4.12 ms\n"
     ]
    }
   ],
   "source": [
    "import time\n",
    "times = []\n",
    "\n",
    "test_file = os.path.join(data_dir, 'test_features.jsonl')\n",
    "lines = []\n",
    "prediction = None\n",
    "labels = ['Benign', 'Malicious']\n",
    "\n",
    "if os.path.exists(test_file):\n",
    "    with open(test_file, \"r\") as f:\n",
    "        for line in f:\n",
    "            data = json.loads(line)\n",
    "            lines.append(data)\n",
    "\n",
    "# Selecting random 10 samples\n",
    "lines = np.random.choice(lines, 10, replace=False)\n",
    "for l in lines:\n",
    "    print(f\"Checking {l['sha256']}...\")\n",
    "    start = time.time()\n",
    "    result = av.check(l)\n",
    "    end = time.time()\n",
    "    times.append(end - start)\n",
    "    print(f\"Is file malicious: {result}, real label: {labels[l['label']]}\")\n",
    "    print()\n",
    "\n",
    "print(f\"Average time per check: {np.mean(times) * 1000:.2f} ms\")"
   ]
  }
 ],
 "metadata": {
  "kernelspec": {
   "display_name": "cs_and_ai",
   "language": "python",
   "name": "python3"
  },
  "language_info": {
   "codemirror_mode": {
    "name": "ipython",
    "version": 3
   },
   "file_extension": ".py",
   "mimetype": "text/x-python",
   "name": "python",
   "nbconvert_exporter": "python",
   "pygments_lexer": "ipython3",
   "version": "3.9.16"
  },
  "orig_nbformat": 4
 },
 "nbformat": 4,
 "nbformat_minor": 2
}
